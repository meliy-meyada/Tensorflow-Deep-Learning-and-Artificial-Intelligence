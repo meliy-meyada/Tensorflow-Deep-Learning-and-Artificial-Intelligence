{
  "nbformat": 4,
  "nbformat_minor": 0,
  "metadata": {
    "colab": {
      "name": "TF2.0 SimpleRNN Sine.ipynb",
      "provenance": [],
      "machine_shape": "hm",
      "authorship_tag": "ABX9TyOEcDh6N0PJi9m+F2nV7RKh",
      "include_colab_link": true
    },
    "kernelspec": {
      "name": "python3",
      "display_name": "Python 3"
    },
    "language_info": {
      "name": "python"
    },
    "accelerator": "GPU",
    "gpuClass": "standard"
  },
  "cells": [
    {
      "cell_type": "markdown",
      "metadata": {
        "id": "view-in-github",
        "colab_type": "text"
      },
      "source": [
        "<a href=\"https://colab.research.google.com/github/meliy-meyada/Tensorflow-Deep-Learning-and-Artificial-Intelligence/blob/main/TF2_0_SimpleRNN_Sine.ipynb\" target=\"_parent\"><img src=\"https://colab.research.google.com/assets/colab-badge.svg\" alt=\"Open In Colab\"/></a>"
      ]
    },
    {
      "cell_type": "code",
      "execution_count": 1,
      "metadata": {
        "colab": {
          "base_uri": "https://localhost:8080/"
        },
        "id": "QSNVprqWDDww",
        "outputId": "24d128ff-a31e-4665-aeb7-be80eb1dac09"
      },
      "outputs": [
        {
          "output_type": "stream",
          "name": "stdout",
          "text": [
            "2.8.2\n"
          ]
        }
      ],
      "source": [
        "# Install Tensorflow\n",
        "!pip install -q tensorflow\n",
        "import tensorflow as tf\n",
        "print(tf.__version__)"
      ]
    },
    {
      "cell_type": "code",
      "source": [
        "# Additional imports\n",
        "\n",
        "from tensorflow.keras.layers import Input, SimpleRNN, Dense, Flatten\n",
        "from tensorflow.keras.models import Model\n",
        "from tensorflow.keras.optimizers import SGD, Adam\n",
        "\n",
        "import numpy as np\n",
        "import pandas as pd\n",
        "import matplotlib.pyplot as plt"
      ],
      "metadata": {
        "id": "TR7ee83bDVep"
      },
      "execution_count": 2,
      "outputs": []
    },
    {
      "cell_type": "code",
      "source": [
        "# Make the original data\n",
        "\n",
        "series = np.sin(0.1*np.arange(200)) + np.random.randn(200)*0.1\n",
        "\n",
        "# Plot it\n",
        "plt.plot(series)\n",
        "plt.show()"
      ],
      "metadata": {
        "colab": {
          "base_uri": "https://localhost:8080/",
          "height": 265
        },
        "id": "2krNvJPfECoD",
        "outputId": "bf42ab8c-2630-421b-ca33-ac555b88bdd8"
      },
      "execution_count": 3,
      "outputs": [
        {
          "output_type": "display_data",
          "data": {
            "text/plain": [
              "<Figure size 432x288 with 1 Axes>"
            ],
            "image/png": "[encoded data removed]"
          },
          "metadata": {
            "needs_background": "light"
          }
        }
      ]
    },
    {
      "cell_type": "code",
      "source": [
        "# Build the datasets\n",
        "T = 10\n",
        "D = 1\n",
        "X = []\n",
        "Y = []\n",
        "for t in range(len(series) - T):\n",
        "  x = series[t:t+T]\n",
        "  X.append(x)\n",
        "  y = series[t+T]\n",
        "  Y.append(y)\n",
        "\n",
        "X = np.array(X).reshape(-1, T, 1) # Now the data should be N x T x D\n",
        "Y = np.array(Y)\n",
        "N = len(X)\n",
        "print(\"X.shape \", X.shape, \"Y.shape \", Y.shape)"
      ],
      "metadata": {
        "colab": {
          "base_uri": "https://localhost:8080/"
        },
        "id": "aNXAZNXYECNN",
        "outputId": "29cd9af2-c2f1-47b4-bfd8-773b9d763571"
      },
      "execution_count": 4,
      "outputs": [
        {
          "output_type": "stream",
          "name": "stdout",
          "text": [
            "X.shape  (190, 10, 1) Y.shape  (190,)\n"
          ]
        }
      ]
    },
    {
      "cell_type": "code",
      "source": [
        "# Autoregressive RNN model\n",
        "\n",
        "i = Input(shape=(T, 1))\n",
        "x = SimpleRNN(5)(i)\n",
        "x = Dense(1)(x)\n",
        "model = Model(i, x)\n",
        "model.compile(\n",
        "    loss='mse',\n",
        "    optimizer=Adam(lr=0.1),\n",
        ")\n",
        "\n",
        "# Train the RNN\n",
        "r = model.fit(\n",
        "    X[:-N//2], Y[:-N//2],\n",
        "    epochs=80,\n",
        "    validation_data=(X[-N//2:], Y[-N//2:]),\n",
        ")"
      ],
      "metadata": {
        "colab": {
          "base_uri": "https://localhost:8080/"
        },
        "id": "0oU1xwY9OUc-",
        "outputId": "0101be2c-867e-49fa-d91b-e5594a5a58f2"
      },
      "execution_count": 5,
      "outputs": [
        {
          "output_type": "stream",
          "name": "stdout",
          "text": [
            "Epoch 1/80\n"
          ]
        },
        {
          "output_type": "stream",
          "name": "stderr",
          "text": [
            "/usr/local/lib/python3.7/dist-packages/keras/optimizer_v2/adam.py:105: UserWarning: The `lr` argument is deprecated, use `learning_rate` instead.\n",
            "  super(Adam, self).__init__(name, **kwargs)\n"
          ]
        },
        {
          "output_type": "stream",
          "name": "stdout",
          "text": [
            "3/3 [==============================] - 2s 120ms/step - loss: 2.1160 - val_loss: 0.4659\n",
            "Epoch 2/80\n",
            "3/3 [==============================] - 0s 21ms/step - loss: 0.3903 - val_loss: 0.3252\n",
            "Epoch 3/80\n",
            "3/3 [==============================] - 0s 19ms/step - loss: 0.3116 - val_loss: 0.2540\n",
            "Epoch 4/80\n",
            "3/3 [==============================] - 0s 20ms/step - loss: 0.2256 - val_loss: 0.2363\n",
            "Epoch 5/80\n",
            "3/3 [==============================] - 0s 21ms/step - loss: 0.1960 - val_loss: 0.1417\n",
            "Epoch 6/80\n",
            "3/3 [==============================] - 0s 20ms/step - loss: 0.1093 - val_loss: 0.1045\n",
            "Epoch 7/80\n",
            "3/3 [==============================] - 0s 20ms/step - loss: 0.0705 - val_loss: 0.0621\n",
            "Epoch 8/80\n",
            "3/3 [==============================] - 0s 20ms/step - loss: 0.0382 - val_loss: 0.0417\n",
            "Epoch 9/80\n",
            "3/3 [==============================] - 0s 22ms/step - loss: 0.0443 - val_loss: 0.0373\n",
            "Epoch 10/80\n",
            "3/3 [==============================] - 0s 23ms/step - loss: 0.0354 - val_loss: 0.0303\n",
            "Epoch 11/80\n",
            "3/3 [==============================] - 0s 20ms/step - loss: 0.0270 - val_loss: 0.0276\n",
            "Epoch 12/80\n",
            "3/3 [==============================] - 0s 20ms/step - loss: 0.0282 - val_loss: 0.0339\n",
            "Epoch 13/80\n",
            "3/3 [==============================] - 0s 23ms/step - loss: 0.0298 - val_loss: 0.0267\n",
            "Epoch 14/80\n",
            "3/3 [==============================] - 0s 20ms/step - loss: 0.0266 - val_loss: 0.0244\n",
            "Epoch 15/80\n",
            "3/3 [==============================] - 0s 20ms/step - loss: 0.0260 - val_loss: 0.0243\n",
            "Epoch 16/80\n",
            "3/3 [==============================] - 0s 20ms/step - loss: 0.0258 - val_loss: 0.0248\n",
            "Epoch 17/80\n",
            "3/3 [==============================] - 0s 23ms/step - loss: 0.0256 - val_loss: 0.0246\n",
            "Epoch 18/80\n",
            "3/3 [==============================] - 0s 23ms/step - loss: 0.0251 - val_loss: 0.0245\n",
            "Epoch 19/80\n",
            "3/3 [==============================] - 0s 23ms/step - loss: 0.0243 - val_loss: 0.0239\n",
            "Epoch 20/80\n",
            "3/3 [==============================] - 0s 21ms/step - loss: 0.0245 - val_loss: 0.0238\n",
            "Epoch 21/80\n",
            "3/3 [==============================] - 0s 22ms/step - loss: 0.0242 - val_loss: 0.0236\n",
            "Epoch 22/80\n",
            "3/3 [==============================] - 0s 20ms/step - loss: 0.0241 - val_loss: 0.0233\n",
            "Epoch 23/80\n",
            "3/3 [==============================] - 0s 20ms/step - loss: 0.0250 - val_loss: 0.0239\n",
            "Epoch 24/80\n",
            "3/3 [==============================] - 0s 20ms/step - loss: 0.0236 - val_loss: 0.0232\n",
            "Epoch 25/80\n",
            "3/3 [==============================] - 0s 20ms/step - loss: 0.0239 - val_loss: 0.0230\n",
            "Epoch 26/80\n",
            "3/3 [==============================] - 0s 20ms/step - loss: 0.0244 - val_loss: 0.0229\n",
            "Epoch 27/80\n",
            "3/3 [==============================] - 0s 20ms/step - loss: 0.0247 - val_loss: 0.0226\n",
            "Epoch 28/80\n",
            "3/3 [==============================] - 0s 20ms/step - loss: 0.0230 - val_loss: 0.0228\n",
            "Epoch 29/80\n",
            "3/3 [==============================] - 0s 20ms/step - loss: 0.0229 - val_loss: 0.0215\n",
            "Epoch 30/80\n",
            "3/3 [==============================] - 0s 20ms/step - loss: 0.0234 - val_loss: 0.0211\n",
            "Epoch 31/80\n",
            "3/3 [==============================] - 0s 21ms/step - loss: 0.0216 - val_loss: 0.0226\n",
            "Epoch 32/80\n",
            "3/3 [==============================] - 0s 21ms/step - loss: 0.0235 - val_loss: 0.0206\n",
            "Epoch 33/80\n",
            "3/3 [==============================] - 0s 20ms/step - loss: 0.0235 - val_loss: 0.0206\n",
            "Epoch 34/80\n",
            "3/3 [==============================] - 0s 20ms/step - loss: 0.0214 - val_loss: 0.0211\n",
            "Epoch 35/80\n",
            "3/3 [==============================] - 0s 20ms/step - loss: 0.0218 - val_loss: 0.0205\n",
            "Epoch 36/80\n",
            "3/3 [==============================] - 0s 20ms/step - loss: 0.0215 - val_loss: 0.0200\n",
            "Epoch 37/80\n",
            "3/3 [==============================] - 0s 24ms/step - loss: 0.0230 - val_loss: 0.0199\n",
            "Epoch 38/80\n",
            "3/3 [==============================] - 0s 21ms/step - loss: 0.0247 - val_loss: 0.0213\n",
            "Epoch 39/80\n",
            "3/3 [==============================] - 0s 21ms/step - loss: 0.0226 - val_loss: 0.0235\n",
            "Epoch 40/80\n",
            "3/3 [==============================] - 0s 22ms/step - loss: 0.0218 - val_loss: 0.0218\n",
            "Epoch 41/80\n",
            "3/3 [==============================] - 0s 20ms/step - loss: 0.0219 - val_loss: 0.0198\n",
            "Epoch 42/80\n",
            "3/3 [==============================] - 0s 21ms/step - loss: 0.0208 - val_loss: 0.0196\n",
            "Epoch 43/80\n",
            "3/3 [==============================] - 0s 20ms/step - loss: 0.0202 - val_loss: 0.0200\n",
            "Epoch 44/80\n",
            "3/3 [==============================] - 0s 20ms/step - loss: 0.0200 - val_loss: 0.0194\n",
            "Epoch 45/80\n",
            "3/3 [==============================] - 0s 20ms/step - loss: 0.0206 - val_loss: 0.0192\n",
            "Epoch 46/80\n",
            "3/3 [==============================] - 0s 21ms/step - loss: 0.0197 - val_loss: 0.0207\n",
            "Epoch 47/80\n",
            "3/3 [==============================] - 0s 20ms/step - loss: 0.0200 - val_loss: 0.0191\n",
            "Epoch 48/80\n",
            "3/3 [==============================] - 0s 20ms/step - loss: 0.0194 - val_loss: 0.0193\n",
            "Epoch 49/80\n",
            "3/3 [==============================] - 0s 22ms/step - loss: 0.0196 - val_loss: 0.0195\n",
            "Epoch 50/80\n",
            "3/3 [==============================] - 0s 21ms/step - loss: 0.0192 - val_loss: 0.0194\n",
            "Epoch 51/80\n",
            "3/3 [==============================] - 0s 20ms/step - loss: 0.0198 - val_loss: 0.0194\n",
            "Epoch 52/80\n",
            "3/3 [==============================] - 0s 20ms/step - loss: 0.0188 - val_loss: 0.0199\n",
            "Epoch 53/80\n",
            "3/3 [==============================] - 0s 20ms/step - loss: 0.0207 - val_loss: 0.0200\n",
            "Epoch 54/80\n",
            "3/3 [==============================] - 0s 20ms/step - loss: 0.0196 - val_loss: 0.0193\n",
            "Epoch 55/80\n",
            "3/3 [==============================] - 0s 22ms/step - loss: 0.0187 - val_loss: 0.0201\n",
            "Epoch 56/80\n",
            "3/3 [==============================] - 0s 20ms/step - loss: 0.0199 - val_loss: 0.0190\n",
            "Epoch 57/80\n",
            "3/3 [==============================] - 0s 21ms/step - loss: 0.0189 - val_loss: 0.0191\n",
            "Epoch 58/80\n",
            "3/3 [==============================] - 0s 20ms/step - loss: 0.0193 - val_loss: 0.0197\n",
            "Epoch 59/80\n",
            "3/3 [==============================] - 0s 20ms/step - loss: 0.0191 - val_loss: 0.0189\n",
            "Epoch 60/80\n",
            "3/3 [==============================] - 0s 21ms/step - loss: 0.0188 - val_loss: 0.0202\n",
            "Epoch 61/80\n",
            "3/3 [==============================] - 0s 20ms/step - loss: 0.0179 - val_loss: 0.0189\n",
            "Epoch 62/80\n",
            "3/3 [==============================] - 0s 19ms/step - loss: 0.0188 - val_loss: 0.0191\n",
            "Epoch 63/80\n",
            "3/3 [==============================] - 0s 20ms/step - loss: 0.0180 - val_loss: 0.0187\n",
            "Epoch 64/80\n",
            "3/3 [==============================] - 0s 20ms/step - loss: 0.0181 - val_loss: 0.0190\n",
            "Epoch 65/80\n",
            "3/3 [==============================] - 0s 20ms/step - loss: 0.0176 - val_loss: 0.0190\n",
            "Epoch 66/80\n",
            "3/3 [==============================] - 0s 21ms/step - loss: 0.0183 - val_loss: 0.0191\n",
            "Epoch 67/80\n",
            "3/3 [==============================] - 0s 21ms/step - loss: 0.0177 - val_loss: 0.0190\n",
            "Epoch 68/80\n",
            "3/3 [==============================] - 0s 22ms/step - loss: 0.0182 - val_loss: 0.0185\n",
            "Epoch 69/80\n",
            "3/3 [==============================] - 0s 20ms/step - loss: 0.0184 - val_loss: 0.0184\n",
            "Epoch 70/80\n",
            "3/3 [==============================] - 0s 21ms/step - loss: 0.0172 - val_loss: 0.0185\n",
            "Epoch 71/80\n",
            "3/3 [==============================] - 0s 21ms/step - loss: 0.0173 - val_loss: 0.0183\n",
            "Epoch 72/80\n",
            "3/3 [==============================] - 0s 20ms/step - loss: 0.0173 - val_loss: 0.0181\n",
            "Epoch 73/80\n",
            "3/3 [==============================] - 0s 20ms/step - loss: 0.0169 - val_loss: 0.0177\n",
            "Epoch 74/80\n",
            "3/3 [==============================] - 0s 21ms/step - loss: 0.0165 - val_loss: 0.0181\n",
            "Epoch 75/80\n",
            "3/3 [==============================] - 0s 38ms/step - loss: 0.0174 - val_loss: 0.0187\n",
            "Epoch 76/80\n",
            "3/3 [==============================] - 0s 24ms/step - loss: 0.0177 - val_loss: 0.0186\n",
            "Epoch 77/80\n",
            "3/3 [==============================] - 0s 30ms/step - loss: 0.0168 - val_loss: 0.0172\n",
            "Epoch 78/80\n",
            "3/3 [==============================] - 0s 25ms/step - loss: 0.0173 - val_loss: 0.0171\n",
            "Epoch 79/80\n",
            "3/3 [==============================] - 0s 27ms/step - loss: 0.0168 - val_loss: 0.0176\n",
            "Epoch 80/80\n",
            "3/3 [==============================] - 0s 29ms/step - loss: 0.0163 - val_loss: 0.0201\n"
          ]
        }
      ]
    },
    {
      "cell_type": "code",
      "source": [
        "# Plot loss per ieration\n",
        "import matplotlib.pyplot as plt\n",
        "\n",
        "plt.plot(r.history['loss'], label='loss')\n",
        "plt.plot(r.history['val_loss'], label='val_loss')\n",
        "plt.legend()"
      ],
      "metadata": {
        "colab": {
          "base_uri": "https://localhost:8080/",
          "height": 283
        },
        "id": "wmG4HgUJP2w2",
        "outputId": "1c6207a7-6471-4f90-dc67-25d5d5db7c1d"
      },
      "execution_count": 6,
      "outputs": [
        {
          "output_type": "execute_result",
          "data": {
            "text/plain": [
              "<matplotlib.legend.Legend at 0x7fe5ee350490>"
            ]
          },
          "metadata": {},
          "execution_count": 6
        },
        {
          "output_type": "display_data",
          "data": {
            "text/plain": [
              "<Figure size 432x288 with 1 Axes>"
            ],
            "image/png": "[encoded data removed]"
          },
          "metadata": {
            "needs_background": "light"
          }
        }
      ]
    },
    {
      "cell_type": "code",
      "source": [
        "# \"Wrong\" forecast using true targets\n",
        "\n",
        "validation_target = Y[-N//2:]\n",
        "validation_predictions = []\n",
        "\n",
        "# Index of list validation input\n",
        "i = N//2\n",
        "\n",
        "while len(validation_predictions) < len(validation_target):\n",
        "  p = model.predict(X[i].reshape(1, -1, 1))[0,0] # 1x1 array -> scalar\n",
        "  i += 1\n",
        "\n",
        "  # Update the predictions list\n",
        "  validation_predictions.append(p)"
      ],
      "metadata": {
        "id": "4a9FeHT1RdVK"
      },
      "execution_count": 7,
      "outputs": []
    },
    {
      "cell_type": "code",
      "source": [
        "plt.plot(validation_target, label='forecast target')\n",
        "plt.plot(validation_predictions, label='forecast prediction')\n",
        "plt.legend()"
      ],
      "metadata": {
        "colab": {
          "base_uri": "https://localhost:8080/",
          "height": 283
        },
        "id": "qv0B5q4USvOz",
        "outputId": "f5642c5e-3421-40fc-f3b8-de7f23d20e61"
      },
      "execution_count": 8,
      "outputs": [
        {
          "output_type": "execute_result",
          "data": {
            "text/plain": [
              "<matplotlib.legend.Legend at 0x7fe5ee3580d0>"
            ]
          },
          "metadata": {},
          "execution_count": 8
        },
        {
          "output_type": "display_data",
          "data": {
            "text/plain": [
              "<Figure size 432x288 with 1 Axes>"
            ],
            "image/png": "[encoded data removed]"
          },
          "metadata": {
            "needs_background": "light"
          }
        }
      ]
    },
    {
      "cell_type": "code",
      "source": [
        "# Forecast future values \n",
        "\n",
        "validation_target = Y[-N//2:]\n",
        "validation_predictions = []\n",
        "\n",
        "# Last train input\n",
        "last_x = X[-N//2] # 1xD array of length T\n",
        "\n",
        "while len(validation_predictions) < len(validation_target):\n",
        "  p = model.predict(last_x.reshape(1, -1, 1))[0,0] # 1x1 array -> scalar\n",
        "\n",
        "  # Update the prediction list\n",
        "  validation_predictions.append(p)\n",
        "\n",
        "  # Make the new input\n",
        "  last_x = np.roll(last_x, -1)\n",
        "  last_x[-1] = p"
      ],
      "metadata": {
        "id": "sajWMhMGTKvc"
      },
      "execution_count": 9,
      "outputs": []
    },
    {
      "cell_type": "code",
      "source": [
        "plt.plot(validation_target, label='forecast target')\n",
        "plt.plot(validation_predictions, label='forecast prediction')\n",
        "plt.legend()"
      ],
      "metadata": {
        "colab": {
          "base_uri": "https://localhost:8080/",
          "height": 283
        },
        "id": "SvRB1Pi4UcxA",
        "outputId": "844976b8-9797-4e41-86fb-3d54d839be46"
      },
      "execution_count": 10,
      "outputs": [
        {
          "output_type": "execute_result",
          "data": {
            "text/plain": [
              "<matplotlib.legend.Legend at 0x7fe5d86a79d0>"
            ]
          },
          "metadata": {},
          "execution_count": 10
        },
        {
          "output_type": "display_data",
          "data": {
            "text/plain": [
              "<Figure size 432x288 with 1 Axes>"
            ],
            "image/png": "[encoded data removed]"
          },
          "metadata": {
            "needs_background": "light"
          }
        }
      ]
    },
    {
      "cell_type": "code",
      "source": [
        ""
      ],
      "metadata": {
        "id": "iEWTPmylUxm5"
      },
      "execution_count": 10,
      "outputs": []
    }
  ]
}