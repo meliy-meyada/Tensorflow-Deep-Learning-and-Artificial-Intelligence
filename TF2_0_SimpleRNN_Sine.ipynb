{
  "nbformat": 4,
  "nbformat_minor": 0,
  "metadata": {
    "colab": {
      "name": "TF2.0 SimpleRNN Sine.ipynb",
      "provenance": [],
      "machine_shape": "hm",
      "authorship_tag": "ABX9TyNfpraeOohi9l0MMV925CzB",
      "include_colab_link": true
    },
    "kernelspec": {
      "name": "python3",
      "display_name": "Python 3"
    },
    "language_info": {
      "name": "python"
    },
    "accelerator": "GPU",
    "gpuClass": "standard"
  },
  "cells": [
    {
      "cell_type": "markdown",
      "metadata": {
        "id": "view-in-github",
        "colab_type": "text"
      },
      "source": [
        "<a href=\"https://colab.research.google.com/github/meliy-meyada/Tensorflow-Deep-Learning-and-Artificial-Intelligence/blob/main/TF2_0_SimpleRNN_Sine.ipynb\" target=\"_parent\"><img src=\"https://colab.research.google.com/assets/colab-badge.svg\" alt=\"Open In Colab\"/></a>"
      ]
    },
    {
      "cell_type": "code",
      "execution_count": 11,
      "metadata": {
        "colab": {
          "base_uri": "https://localhost:8080/"
        },
        "id": "QSNVprqWDDww",
        "outputId": "84ec0d7d-4a29-4177-be37-3166abaf40bd"
      },
      "outputs": [
        {
          "output_type": "stream",
          "name": "stdout",
          "text": [
            "2.8.2\n"
          ]
        }
      ],
      "source": [
        "# Install Tensorflow\n",
        "!pip install -q tensorflow\n",
        "import tensorflow as tf\n",
        "print(tf.__version__)"
      ]
    },
    {
      "cell_type": "code",
      "source": [
        "# Additional imports\n",
        "\n",
        "from tensorflow.keras.layers import Input, SimpleRNN, Dense, Flatten\n",
        "from tensorflow.keras.models import Model\n",
        "from tensorflow.keras.optimizers import SGD, Adam\n",
        "\n",
        "import numpy as np\n",
        "import pandas as pd\n",
        "import matplotlib.pyplot as plt"
      ],
      "metadata": {
        "id": "TR7ee83bDVep"
      },
      "execution_count": 12,
      "outputs": []
    },
    {
      "cell_type": "code",
      "source": [
        "# Make the original data\n",
        "\n",
        "series = np.sin(0.1*np.arange(200)) # + np.random.randn(200)*0.1\n",
        "\n",
        "# Plot it\n",
        "plt.plot(series)\n",
        "plt.show()"
      ],
      "metadata": {
        "colab": {
          "base_uri": "https://localhost:8080/",
          "height": 265
        },
        "id": "2krNvJPfECoD",
        "outputId": "9e59e214-034e-498c-b37a-61a9420954fb"
      },
      "execution_count": 13,
      "outputs": [
        {
          "output_type": "display_data",
          "data": {
            "text/plain": [
              "<Figure size 432x288 with 1 Axes>"
            ],
            "image/png": "[encoded data removed]"
          },
          "metadata": {
            "needs_background": "light"
          }
        }
      ]
    },
    {
      "cell_type": "code",
      "source": [
        "# Build the datasets\n",
        "T = 10\n",
        "D = 1\n",
        "X = []\n",
        "Y = []\n",
        "for t in range(len(series) - T):\n",
        "  x = series[t:t+T]\n",
        "  X.append(x)\n",
        "  y = series[t+T]\n",
        "  Y.append(y)\n",
        "\n",
        "X = np.array(X).reshape(-1, T, 1) # Now the data should be N x T x D\n",
        "Y = np.array(Y)\n",
        "N = len(X)\n",
        "print(\"X.shape \", X.shape, \"Y.shape \", Y.shape)"
      ],
      "metadata": {
        "colab": {
          "base_uri": "https://localhost:8080/"
        },
        "id": "aNXAZNXYECNN",
        "outputId": "ac11b549-4865-4b20-97df-b42061e69d44"
      },
      "execution_count": 14,
      "outputs": [
        {
          "output_type": "stream",
          "name": "stdout",
          "text": [
            "X.shape  (190, 10, 1) Y.shape  (190,)\n"
          ]
        }
      ]
    },
    {
      "cell_type": "code",
      "source": [
        "# Autoregressive RNN model\n",
        "\n",
        "i = Input(shape=(T, 1))\n",
        "x = SimpleRNN(5, activation=None)(i)\n",
        "x = Dense(1)(x)\n",
        "model = Model(i, x)\n",
        "model.compile(\n",
        "    loss='mse',\n",
        "    optimizer=Adam(learning_rate=0.1),\n",
        ")\n",
        "\n",
        "# Train the RNN\n",
        "r = model.fit(\n",
        "    X[:-N//2], Y[:-N//2],\n",
        "    epochs=80,\n",
        "    validation_data=(X[-N//2:], Y[-N//2:]),\n",
        ")"
      ],
      "metadata": {
        "colab": {
          "base_uri": "https://localhost:8080/"
        },
        "id": "0oU1xwY9OUc-",
        "outputId": "3b140330-22ff-4dd6-be61-6e8748779321"
      },
      "execution_count": 15,
      "outputs": [
        {
          "output_type": "stream",
          "name": "stdout",
          "text": [
            "Epoch 1/80\n",
            "3/3 [==============================] - 1s 111ms/step - loss: 6.4364 - val_loss: 0.2515\n",
            "Epoch 2/80\n",
            "3/3 [==============================] - 0s 20ms/step - loss: 0.4263 - val_loss: 0.5213\n",
            "Epoch 3/80\n",
            "3/3 [==============================] - 0s 20ms/step - loss: 0.6268 - val_loss: 1.2425\n",
            "Epoch 4/80\n",
            "3/3 [==============================] - 0s 20ms/step - loss: 0.6936 - val_loss: 1.5833\n",
            "Epoch 5/80\n",
            "3/3 [==============================] - 0s 21ms/step - loss: 1.0072 - val_loss: 0.6369\n",
            "Epoch 6/80\n",
            "3/3 [==============================] - 0s 20ms/step - loss: 0.6029 - val_loss: 0.4368\n",
            "Epoch 7/80\n",
            "3/3 [==============================] - 0s 22ms/step - loss: 0.4686 - val_loss: 0.3842\n",
            "Epoch 8/80\n",
            "3/3 [==============================] - 0s 20ms/step - loss: 0.3764 - val_loss: 0.3427\n",
            "Epoch 9/80\n",
            "3/3 [==============================] - 0s 20ms/step - loss: 0.3359 - val_loss: 0.3361\n",
            "Epoch 10/80\n",
            "3/3 [==============================] - 0s 24ms/step - loss: 0.3154 - val_loss: 0.2863\n",
            "Epoch 11/80\n",
            "3/3 [==============================] - 0s 23ms/step - loss: 0.2484 - val_loss: 0.2116\n",
            "Epoch 12/80\n",
            "3/3 [==============================] - 0s 22ms/step - loss: 0.1763 - val_loss: 0.1363\n",
            "Epoch 13/80\n",
            "3/3 [==============================] - 0s 19ms/step - loss: 0.1122 - val_loss: 0.0709\n",
            "Epoch 14/80\n",
            "3/3 [==============================] - 0s 20ms/step - loss: 0.0557 - val_loss: 0.0290\n",
            "Epoch 15/80\n",
            "3/3 [==============================] - 0s 20ms/step - loss: 0.0211 - val_loss: 0.0208\n",
            "Epoch 16/80\n",
            "3/3 [==============================] - 0s 19ms/step - loss: 0.0119 - val_loss: 0.0280\n",
            "Epoch 17/80\n",
            "3/3 [==============================] - 0s 19ms/step - loss: 0.0187 - val_loss: 0.0315\n",
            "Epoch 18/80\n",
            "3/3 [==============================] - 0s 21ms/step - loss: 0.0189 - val_loss: 0.0172\n",
            "Epoch 19/80\n",
            "3/3 [==============================] - 0s 20ms/step - loss: 0.0083 - val_loss: 0.0030\n",
            "Epoch 20/80\n",
            "3/3 [==============================] - 0s 21ms/step - loss: 9.5061e-04 - val_loss: 2.5453e-04\n",
            "Epoch 21/80\n",
            "3/3 [==============================] - 0s 20ms/step - loss: 8.7175e-04 - val_loss: 0.0036\n",
            "Epoch 22/80\n",
            "3/3 [==============================] - 0s 19ms/step - loss: 0.0030 - val_loss: 0.0058\n",
            "Epoch 23/80\n",
            "3/3 [==============================] - 0s 19ms/step - loss: 0.0037 - val_loss: 0.0044\n",
            "Epoch 24/80\n",
            "3/3 [==============================] - 0s 21ms/step - loss: 0.0024 - val_loss: 0.0015\n",
            "Epoch 25/80\n",
            "3/3 [==============================] - 0s 21ms/step - loss: 7.3786e-04 - val_loss: 9.0618e-05\n",
            "Epoch 26/80\n",
            "3/3 [==============================] - 0s 19ms/step - loss: 7.3476e-05 - val_loss: 3.9405e-04\n",
            "Epoch 27/80\n",
            "3/3 [==============================] - 0s 21ms/step - loss: 4.5603e-04 - val_loss: 0.0011\n",
            "Epoch 28/80\n",
            "3/3 [==============================] - 0s 21ms/step - loss: 8.0693e-04 - val_loss: 0.0011\n",
            "Epoch 29/80\n",
            "3/3 [==============================] - 0s 20ms/step - loss: 5.9589e-04 - val_loss: 5.2394e-04\n",
            "Epoch 30/80\n",
            "3/3 [==============================] - 0s 21ms/step - loss: 2.1667e-04 - val_loss: 7.8984e-05\n",
            "Epoch 31/80\n",
            "3/3 [==============================] - 0s 22ms/step - loss: 3.2127e-05 - val_loss: 5.9588e-05\n",
            "Epoch 32/80\n",
            "3/3 [==============================] - 0s 21ms/step - loss: 9.9377e-05 - val_loss: 1.9871e-04\n",
            "Epoch 33/80\n",
            "3/3 [==============================] - 0s 19ms/step - loss: 1.5811e-04 - val_loss: 1.9488e-04\n",
            "Epoch 34/80\n",
            "3/3 [==============================] - 0s 20ms/step - loss: 1.2493e-04 - val_loss: 9.1338e-05\n",
            "Epoch 35/80\n",
            "3/3 [==============================] - 0s 19ms/step - loss: 4.3001e-05 - val_loss: 1.0303e-05\n",
            "Epoch 36/80\n",
            "3/3 [==============================] - 0s 19ms/step - loss: 6.7797e-06 - val_loss: 1.4240e-05\n",
            "Epoch 37/80\n",
            "3/3 [==============================] - 0s 21ms/step - loss: 2.2209e-05 - val_loss: 4.1460e-05\n",
            "Epoch 38/80\n",
            "3/3 [==============================] - 0s 20ms/step - loss: 3.7311e-05 - val_loss: 4.0060e-05\n",
            "Epoch 39/80\n",
            "3/3 [==============================] - 0s 21ms/step - loss: 2.5682e-05 - val_loss: 1.3268e-05\n",
            "Epoch 40/80\n",
            "3/3 [==============================] - 0s 19ms/step - loss: 7.2707e-06 - val_loss: 1.1258e-06\n",
            "Epoch 41/80\n",
            "3/3 [==============================] - 0s 20ms/step - loss: 1.6133e-06 - val_loss: 5.1728e-06\n",
            "Epoch 42/80\n",
            "3/3 [==============================] - 0s 20ms/step - loss: 6.4764e-06 - val_loss: 1.0940e-05\n",
            "Epoch 43/80\n",
            "3/3 [==============================] - 0s 20ms/step - loss: 8.3606e-06 - val_loss: 7.3707e-06\n",
            "Epoch 44/80\n",
            "3/3 [==============================] - 0s 21ms/step - loss: 4.5558e-06 - val_loss: 1.8351e-06\n",
            "Epoch 45/80\n",
            "3/3 [==============================] - 0s 20ms/step - loss: 9.1865e-07 - val_loss: 5.9915e-07\n",
            "Epoch 46/80\n",
            "3/3 [==============================] - 0s 19ms/step - loss: 9.7609e-07 - val_loss: 2.9857e-06\n",
            "Epoch 47/80\n",
            "3/3 [==============================] - 0s 20ms/step - loss: 2.1076e-06 - val_loss: 2.9552e-06\n",
            "Epoch 48/80\n",
            "3/3 [==============================] - 0s 21ms/step - loss: 1.7780e-06 - val_loss: 1.2463e-06\n",
            "Epoch 49/80\n",
            "3/3 [==============================] - 0s 19ms/step - loss: 5.4464e-07 - val_loss: 4.4675e-08\n",
            "Epoch 50/80\n",
            "3/3 [==============================] - 0s 24ms/step - loss: 1.1981e-07 - val_loss: 4.0868e-07\n",
            "Epoch 51/80\n",
            "3/3 [==============================] - 0s 23ms/step - loss: 4.1149e-07 - val_loss: 9.2234e-07\n",
            "Epoch 52/80\n",
            "3/3 [==============================] - 0s 26ms/step - loss: 5.8432e-07 - val_loss: 6.8633e-07\n",
            "Epoch 53/80\n",
            "3/3 [==============================] - 0s 21ms/step - loss: 3.0983e-07 - val_loss: 1.1801e-07\n",
            "Epoch 54/80\n",
            "3/3 [==============================] - 0s 20ms/step - loss: 5.5798e-08 - val_loss: 3.0483e-08\n",
            "Epoch 55/80\n",
            "3/3 [==============================] - 0s 20ms/step - loss: 6.4072e-08 - val_loss: 1.7383e-07\n",
            "Epoch 56/80\n",
            "3/3 [==============================] - 0s 20ms/step - loss: 1.4719e-07 - val_loss: 1.8795e-07\n",
            "Epoch 57/80\n",
            "3/3 [==============================] - 0s 20ms/step - loss: 9.6836e-08 - val_loss: 6.1939e-08\n",
            "Epoch 58/80\n",
            "3/3 [==============================] - 0s 22ms/step - loss: 2.2698e-08 - val_loss: 6.2608e-09\n",
            "Epoch 59/80\n",
            "3/3 [==============================] - 0s 20ms/step - loss: 1.1846e-08 - val_loss: 3.7849e-08\n",
            "Epoch 60/80\n",
            "3/3 [==============================] - 0s 19ms/step - loss: 3.8155e-08 - val_loss: 5.0986e-08\n",
            "Epoch 61/80\n",
            "3/3 [==============================] - 0s 19ms/step - loss: 3.1067e-08 - val_loss: 1.8689e-08\n",
            "Epoch 62/80\n",
            "3/3 [==============================] - 0s 21ms/step - loss: 7.6996e-09 - val_loss: 4.0375e-10\n",
            "Epoch 63/80\n",
            "3/3 [==============================] - 0s 19ms/step - loss: 1.9054e-09 - val_loss: 7.6758e-09\n",
            "Epoch 64/80\n",
            "3/3 [==============================] - 0s 20ms/step - loss: 8.8027e-09 - val_loss: 1.2283e-08\n",
            "Epoch 65/80\n",
            "3/3 [==============================] - 0s 20ms/step - loss: 9.0146e-09 - val_loss: 6.9113e-09\n",
            "Epoch 66/80\n",
            "3/3 [==============================] - 0s 20ms/step - loss: 3.5967e-09 - val_loss: 2.8729e-10\n",
            "Epoch 67/80\n",
            "3/3 [==============================] - 0s 19ms/step - loss: 6.0635e-10 - val_loss: 2.3309e-09\n",
            "Epoch 68/80\n",
            "3/3 [==============================] - 0s 20ms/step - loss: 2.2674e-09 - val_loss: 4.0267e-09\n",
            "Epoch 69/80\n",
            "3/3 [==============================] - 0s 20ms/step - loss: 3.1166e-09 - val_loss: 2.2035e-09\n",
            "Epoch 70/80\n",
            "3/3 [==============================] - 0s 20ms/step - loss: 1.2083e-09 - val_loss: 2.5053e-10\n",
            "Epoch 71/80\n",
            "3/3 [==============================] - 0s 20ms/step - loss: 3.2914e-10 - val_loss: 6.5236e-10\n",
            "Epoch 72/80\n",
            "3/3 [==============================] - 0s 20ms/step - loss: 6.8720e-10 - val_loss: 1.5097e-09\n",
            "Epoch 73/80\n",
            "3/3 [==============================] - 0s 22ms/step - loss: 8.8145e-10 - val_loss: 6.9254e-10\n",
            "Epoch 74/80\n",
            "3/3 [==============================] - 0s 19ms/step - loss: 3.8502e-10 - val_loss: 5.4585e-11\n",
            "Epoch 75/80\n",
            "3/3 [==============================] - 0s 20ms/step - loss: 4.3652e-11 - val_loss: 1.9856e-10\n",
            "Epoch 76/80\n",
            "3/3 [==============================] - 0s 20ms/step - loss: 2.2991e-10 - val_loss: 4.0212e-10\n",
            "Epoch 77/80\n",
            "3/3 [==============================] - 0s 21ms/step - loss: 2.5851e-10 - val_loss: 2.8820e-10\n",
            "Epoch 78/80\n",
            "3/3 [==============================] - 0s 20ms/step - loss: 1.2269e-10 - val_loss: 1.4948e-11\n",
            "Epoch 79/80\n",
            "3/3 [==============================] - 0s 19ms/step - loss: 2.9995e-11 - val_loss: 6.4815e-11\n",
            "Epoch 80/80\n",
            "3/3 [==============================] - 0s 20ms/step - loss: 6.9005e-11 - val_loss: 1.2091e-10\n"
          ]
        }
      ]
    },
    {
      "cell_type": "code",
      "source": [
        "# Plot loss per ieration\n",
        "import matplotlib.pyplot as plt\n",
        "\n",
        "plt.plot(r.history['loss'], label='loss')\n",
        "plt.plot(r.history['val_loss'], label='val_loss')\n",
        "plt.legend()"
      ],
      "metadata": {
        "colab": {
          "base_uri": "https://localhost:8080/",
          "height": 283
        },
        "id": "wmG4HgUJP2w2",
        "outputId": "e927e48b-9bce-4b45-b2eb-48b98a4c1569"
      },
      "execution_count": 16,
      "outputs": [
        {
          "output_type": "execute_result",
          "data": {
            "text/plain": [
              "<matplotlib.legend.Legend at 0x7f44a43dda10>"
            ]
          },
          "metadata": {},
          "execution_count": 16
        },
        {
          "output_type": "display_data",
          "data": {
            "text/plain": [
              "<Figure size 432x288 with 1 Axes>"
            ],
            "image/png": "[encoded data removed]"
          },
          "metadata": {
            "needs_background": "light"
          }
        }
      ]
    },
    {
      "cell_type": "code",
      "source": [
        "# \"Wrong\" forecast using true targets\n",
        "\n",
        "validation_target = Y[-N//2:]\n",
        "validation_predictions = []\n",
        "\n",
        "# Index of list validation input\n",
        "i = N//2\n",
        "\n",
        "while len(validation_predictions) < len(validation_target):\n",
        "  p = model.predict(X[i].reshape(1, -1, 1))[0,0] # 1x1 array -> scalar\n",
        "  i += 1\n",
        "\n",
        "  # Update the predictions list\n",
        "  validation_predictions.append(p)"
      ],
      "metadata": {
        "id": "4a9FeHT1RdVK"
      },
      "execution_count": 17,
      "outputs": []
    },
    {
      "cell_type": "code",
      "source": [
        "plt.plot(validation_target, label='forecast target')\n",
        "plt.plot(validation_predictions, label='forecast prediction')\n",
        "plt.legend()"
      ],
      "metadata": {
        "colab": {
          "base_uri": "https://localhost:8080/",
          "height": 283
        },
        "id": "qv0B5q4USvOz",
        "outputId": "d666504c-466c-486e-836d-2258e1bc91ad"
      },
      "execution_count": 18,
      "outputs": [
        {
          "output_type": "execute_result",
          "data": {
            "text/plain": [
              "<matplotlib.legend.Legend at 0x7f448e7463d0>"
            ]
          },
          "metadata": {},
          "execution_count": 18
        },
        {
          "output_type": "display_data",
          "data": {
            "text/plain": [
              "<Figure size 432x288 with 1 Axes>"
            ],
            "image/png": "[encoded data removed]"
          },
          "metadata": {
            "needs_background": "light"
          }
        }
      ]
    },
    {
      "cell_type": "code",
      "source": [
        "# Forecast future values \n",
        "\n",
        "validation_target = Y[-N//2:]\n",
        "validation_predictions = []\n",
        "\n",
        "# Last train input\n",
        "last_x = X[-N//2] # 1xD array of length T\n",
        "\n",
        "while len(validation_predictions) < len(validation_target):\n",
        "  p = model.predict(last_x.reshape(1, -1, 1))[0,0] # 1x1 array -> scalar\n",
        "\n",
        "  # Update the prediction list\n",
        "  validation_predictions.append(p)\n",
        "\n",
        "  # Make the new input\n",
        "  last_x = np.roll(last_x, -1)\n",
        "  last_x[-1] = p"
      ],
      "metadata": {
        "id": "sajWMhMGTKvc"
      },
      "execution_count": 19,
      "outputs": []
    },
    {
      "cell_type": "code",
      "source": [
        "plt.plot(validation_target, label='forecast target')\n",
        "plt.plot(validation_predictions, label='forecast prediction')\n",
        "plt.legend()"
      ],
      "metadata": {
        "colab": {
          "base_uri": "https://localhost:8080/",
          "height": 283
        },
        "id": "SvRB1Pi4UcxA",
        "outputId": "adfc6a19-7744-44ae-b5a2-9db28e4e2395"
      },
      "execution_count": 20,
      "outputs": [
        {
          "output_type": "execute_result",
          "data": {
            "text/plain": [
              "<matplotlib.legend.Legend at 0x7f448e7c5ad0>"
            ]
          },
          "metadata": {},
          "execution_count": 20
        },
        {
          "output_type": "display_data",
          "data": {
            "text/plain": [
              "<Figure size 432x288 with 1 Axes>"
            ],
            "image/png": "[encoded data removed]"
          },
          "metadata": {
            "needs_background": "light"
          }
        }
      ]
    },
    {
      "cell_type": "code",
      "source": [
        ""
      ],
      "metadata": {
        "id": "iEWTPmylUxm5"
      },
      "execution_count": 20,
      "outputs": []
    }
  ]
}