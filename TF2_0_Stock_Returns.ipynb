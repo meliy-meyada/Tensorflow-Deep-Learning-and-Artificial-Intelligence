{
  "nbformat": 4,
  "nbformat_minor": 0,
  "metadata": {
    "colab": {
      "name": "TF2.0 Stock Returns.ipynb",
      "provenance": [],
      "machine_shape": "hm",
      "authorship_tag": "ABX9TyMXjA5MxqETQ8vOwCDvWn7T",
      "include_colab_link": true
    },
    "kernelspec": {
      "name": "python3",
      "display_name": "Python 3"
    },
    "language_info": {
      "name": "python"
    },
    "accelerator": "GPU",
    "gpuClass": "standard"
  },
  "cells": [
    {
      "cell_type": "markdown",
      "metadata": {
        "id": "view-in-github",
        "colab_type": "text"
      },
      "source": [
        "<a href=\"https://colab.research.google.com/github/meliy-meyada/Tensorflow-Deep-Learning-and-Artificial-Intelligence/blob/main/TF2_0_Stock_Returns.ipynb\" target=\"_parent\"><img src=\"https://colab.research.google.com/assets/colab-badge.svg\" alt=\"Open In Colab\"/></a>"
      ]
    },
    {
      "cell_type": "code",
      "execution_count": 1,
      "metadata": {
        "colab": {
          "base_uri": "https://localhost:8080/"
        },
        "id": "qORAX9TY69s2",
        "outputId": "3c61440d-8c35-4b58-8ca0-2c5d3f5d21a3"
      },
      "outputs": [
        {
          "output_type": "stream",
          "name": "stdout",
          "text": [
            "2.8.2\n"
          ]
        }
      ],
      "source": [
        "# Install Tensorflow\n",
        "!pip install -q tensorflow\n",
        "import tensorflow as tf\n",
        "print(tf.__version__)"
      ]
    },
    {
      "cell_type": "code",
      "source": [
        "# Additional imports\n",
        "\n",
        "from tensorflow.keras.layers import Input, SimpleRNN, GRU, LSTM, Dense, Flatten, GlobalMaxPool1D\n",
        "from tensorflow.keras.models import Model\n",
        "from tensorflow.keras.optimizers import SGD, Adam\n",
        "\n",
        "import numpy as np\n",
        "import pandas as pd\n",
        "import matplotlib.pyplot as plt\n",
        "from sklearn.preprocessing import StandardScaler"
      ],
      "metadata": {
        "id": "vWW85iLT7QXp"
      },
      "execution_count": 2,
      "outputs": []
    },
    {
      "cell_type": "code",
      "source": [
        "df = pd.read_csv('https://raw.githubusercontent.com/lazyprogrammer/machine_learning_examples/master/tf2.0/sbux.csv')"
      ],
      "metadata": {
        "id": "4L7addFv7pEm"
      },
      "execution_count": 3,
      "outputs": []
    },
    {
      "cell_type": "code",
      "source": [
        "df.head()"
      ],
      "metadata": {
        "colab": {
          "base_uri": "https://localhost:8080/",
          "height": 206
        },
        "id": "YHyknDls7o8_",
        "outputId": "fa985e92-8278-444c-f550-52fd198183f8"
      },
      "execution_count": 4,
      "outputs": [
        {
          "output_type": "execute_result",
          "data": {
            "text/plain": [
              "         date    open    high     low   close   volume  Name\n",
              "0  2013-02-08  27.920  28.325  27.920  28.185  7146296  SBUX\n",
              "1  2013-02-11  28.260  28.260  27.930  28.070  5457354  SBUX\n",
              "2  2013-02-12  28.000  28.275  27.975  28.130  8665592  SBUX\n",
              "3  2013-02-13  28.230  28.230  27.750  27.915  7022056  SBUX\n",
              "4  2013-02-14  27.765  27.905  27.675  27.775  8899188  SBUX"
            ],
            "text/html": [
              "\n",
              "  <div id=\"df-4ea341e6-7ac3-4493-9c96-f557486f03bb\">\n",
              "    <div class=\"colab-df-container\">\n",
              "      <div>\n",
              "<style scoped>\n",
              "    .dataframe tbody tr th:only-of-type {\n",
              "        vertical-align: middle;\n",
              "    }\n",
              "\n",
              "    .dataframe tbody tr th {\n",
              "        vertical-align: top;\n",
              "    }\n",
              "\n",
              "    .dataframe thead th {\n",
              "        text-align: right;\n",
              "    }\n",
              "</style>\n",
              "<table border=\"1\" class=\"dataframe\">\n",
              "  <thead>\n",
              "    <tr style=\"text-align: right;\">\n",
              "      <th></th>\n",
              "      <th>date</th>\n",
              "      <th>open</th>\n",
              "      <th>high</th>\n",
              "      <th>low</th>\n",
              "      <th>close</th>\n",
              "      <th>volume</th>\n",
              "      <th>Name</th>\n",
              "    </tr>\n",
              "  </thead>\n",
              "  <tbody>\n",
              "    <tr>\n",
              "      <th>0</th>\n",
              "      <td>2013-02-08</td>\n",
              "      <td>27.920</td>\n",
              "      <td>28.325</td>\n",
              "      <td>27.920</td>\n",
              "      <td>28.185</td>\n",
              "      <td>7146296</td>\n",
              "      <td>SBUX</td>\n",
              "    </tr>\n",
              "    <tr>\n",
              "      <th>1</th>\n",
              "      <td>2013-02-11</td>\n",
              "      <td>28.260</td>\n",
              "      <td>28.260</td>\n",
              "      <td>27.930</td>\n",
              "      <td>28.070</td>\n",
              "      <td>5457354</td>\n",
              "      <td>SBUX</td>\n",
              "    </tr>\n",
              "    <tr>\n",
              "      <th>2</th>\n",
              "      <td>2013-02-12</td>\n",
              "      <td>28.000</td>\n",
              "      <td>28.275</td>\n",
              "      <td>27.975</td>\n",
              "      <td>28.130</td>\n",
              "      <td>8665592</td>\n",
              "      <td>SBUX</td>\n",
              "    </tr>\n",
              "    <tr>\n",
              "      <th>3</th>\n",
              "      <td>2013-02-13</td>\n",
              "      <td>28.230</td>\n",
              "      <td>28.230</td>\n",
              "      <td>27.750</td>\n",
              "      <td>27.915</td>\n",
              "      <td>7022056</td>\n",
              "      <td>SBUX</td>\n",
              "    </tr>\n",
              "    <tr>\n",
              "      <th>4</th>\n",
              "      <td>2013-02-14</td>\n",
              "      <td>27.765</td>\n",
              "      <td>27.905</td>\n",
              "      <td>27.675</td>\n",
              "      <td>27.775</td>\n",
              "      <td>8899188</td>\n",
              "      <td>SBUX</td>\n",
              "    </tr>\n",
              "  </tbody>\n",
              "</table>\n",
              "</div>\n",
              "      <button class=\"colab-df-convert\" onclick=\"convertToInteractive('df-4ea341e6-7ac3-4493-9c96-f557486f03bb')\"\n",
              "              title=\"Convert this dataframe to an interactive table.\"\n",
              "              style=\"display:none;\">\n",
              "        \n",
              "  <svg xmlns=\"http://www.w3.org/2000/svg\" height=\"24px\"viewBox=\"0 0 24 24\"\n",
              "       width=\"24px\">\n",
              "    <path d=\"M0 0h24v24H0V0z\" fill=\"none\"/>\n",
              "    <path d=\"M18.56 5.44l.94 2.06.94-2.06 2.06-.94-2.06-.94-.94-2.06-.94 2.06-2.06.94zm-11 1L8.5 8.5l.94-2.06 2.06-.94-2.06-.94L8.5 2.5l-.94 2.06-2.06.94zm10 10l.94 2.06.94-2.06 2.06-.94-2.06-.94-.94-2.06-.94 2.06-2.06.94z\"/><path d=\"M17.41 7.96l-1.37-1.37c-.4-.4-.92-.59-1.43-.59-.52 0-1.04.2-1.43.59L10.3 9.45l-7.72 7.72c-.78.78-.78 2.05 0 2.83L4 21.41c.39.39.9.59 1.41.59.51 0 1.02-.2 1.41-.59l7.78-7.78 2.81-2.81c.8-.78.8-2.07 0-2.86zM5.41 20L4 18.59l7.72-7.72 1.47 1.35L5.41 20z\"/>\n",
              "  </svg>\n",
              "      </button>\n",
              "      \n",
              "  <style>\n",
              "    .colab-df-container {\n",
              "      display:flex;\n",
              "      flex-wrap:wrap;\n",
              "      gap: 12px;\n",
              "    }\n",
              "\n",
              "    .colab-df-convert {\n",
              "      background-color: #E8F0FE;\n",
              "      border: none;\n",
              "      border-radius: 50%;\n",
              "      cursor: pointer;\n",
              "      display: none;\n",
              "      fill: #1967D2;\n",
              "      height: 32px;\n",
              "      padding: 0 0 0 0;\n",
              "      width: 32px;\n",
              "    }\n",
              "\n",
              "    .colab-df-convert:hover {\n",
              "      background-color: #E2EBFA;\n",
              "      box-shadow: 0px 1px 2px rgba(60, 64, 67, 0.3), 0px 1px 3px 1px rgba(60, 64, 67, 0.15);\n",
              "      fill: #174EA6;\n",
              "    }\n",
              "\n",
              "    [theme=dark] .colab-df-convert {\n",
              "      background-color: #3B4455;\n",
              "      fill: #D2E3FC;\n",
              "    }\n",
              "\n",
              "    [theme=dark] .colab-df-convert:hover {\n",
              "      background-color: #434B5C;\n",
              "      box-shadow: 0px 1px 3px 1px rgba(0, 0, 0, 0.15);\n",
              "      filter: drop-shadow(0px 1px 2px rgba(0, 0, 0, 0.3));\n",
              "      fill: #FFFFFF;\n",
              "    }\n",
              "  </style>\n",
              "\n",
              "      <script>\n",
              "        const buttonEl =\n",
              "          document.querySelector('#df-4ea341e6-7ac3-4493-9c96-f557486f03bb button.colab-df-convert');\n",
              "        buttonEl.style.display =\n",
              "          google.colab.kernel.accessAllowed ? 'block' : 'none';\n",
              "\n",
              "        async function convertToInteractive(key) {\n",
              "          const element = document.querySelector('#df-4ea341e6-7ac3-4493-9c96-f557486f03bb');\n",
              "          const dataTable =\n",
              "            await google.colab.kernel.invokeFunction('convertToInteractive',\n",
              "                                                     [key], {});\n",
              "          if (!dataTable) return;\n",
              "\n",
              "          const docLinkHtml = 'Like what you see? Visit the ' +\n",
              "            '<a target=\"_blank\" href=https://colab.research.google.com/notebooks/data_table.ipynb>data table notebook</a>'\n",
              "            + ' to learn more about interactive tables.';\n",
              "          element.innerHTML = '';\n",
              "          dataTable['output_type'] = 'display_data';\n",
              "          await google.colab.output.renderOutput(dataTable, element);\n",
              "          const docLink = document.createElement('div');\n",
              "          docLink.innerHTML = docLinkHtml;\n",
              "          element.appendChild(docLink);\n",
              "        }\n",
              "      </script>\n",
              "    </div>\n",
              "  </div>\n",
              "  "
            ]
          },
          "metadata": {},
          "execution_count": 4
        }
      ]
    },
    {
      "cell_type": "code",
      "source": [
        "df.tail()"
      ],
      "metadata": {
        "colab": {
          "base_uri": "https://localhost:8080/",
          "height": 206
        },
        "id": "yyI3NDtw7o5p",
        "outputId": "be53eb43-4634-48c7-f334-de235d644f7a"
      },
      "execution_count": 5,
      "outputs": [
        {
          "output_type": "execute_result",
          "data": {
            "text/plain": [
              "            date    open   high    low  close    volume  Name\n",
              "1254  2018-02-01  56.280  56.42  55.89  56.00  14690146  SBUX\n",
              "1255  2018-02-02  55.900  56.32  55.70  55.77  15358909  SBUX\n",
              "1256  2018-02-05  55.530  56.26  54.57  54.69  16059955  SBUX\n",
              "1257  2018-02-06  53.685  56.06  53.56  55.61  17415065  SBUX\n",
              "1258  2018-02-07  55.080  55.43  54.44  54.46  13927022  SBUX"
            ],
            "text/html": [
              "\n",
              "  <div id=\"df-48091d69-085c-4ab4-8d3c-4c4706c21837\">\n",
              "    <div class=\"colab-df-container\">\n",
              "      <div>\n",
              "<style scoped>\n",
              "    .dataframe tbody tr th:only-of-type {\n",
              "        vertical-align: middle;\n",
              "    }\n",
              "\n",
              "    .dataframe tbody tr th {\n",
              "        vertical-align: top;\n",
              "    }\n",
              "\n",
              "    .dataframe thead th {\n",
              "        text-align: right;\n",
              "    }\n",
              "</style>\n",
              "<table border=\"1\" class=\"dataframe\">\n",
              "  <thead>\n",
              "    <tr style=\"text-align: right;\">\n",
              "      <th></th>\n",
              "      <th>date</th>\n",
              "      <th>open</th>\n",
              "      <th>high</th>\n",
              "      <th>low</th>\n",
              "      <th>close</th>\n",
              "      <th>volume</th>\n",
              "      <th>Name</th>\n",
              "    </tr>\n",
              "  </thead>\n",
              "  <tbody>\n",
              "    <tr>\n",
              "      <th>1254</th>\n",
              "      <td>2018-02-01</td>\n",
              "      <td>56.280</td>\n",
              "      <td>56.42</td>\n",
              "      <td>55.89</td>\n",
              "      <td>56.00</td>\n",
              "      <td>14690146</td>\n",
              "      <td>SBUX</td>\n",
              "    </tr>\n",
              "    <tr>\n",
              "      <th>1255</th>\n",
              "      <td>2018-02-02</td>\n",
              "      <td>55.900</td>\n",
              "      <td>56.32</td>\n",
              "      <td>55.70</td>\n",
              "      <td>55.77</td>\n",
              "      <td>15358909</td>\n",
              "      <td>SBUX</td>\n",
              "    </tr>\n",
              "    <tr>\n",
              "      <th>1256</th>\n",
              "      <td>2018-02-05</td>\n",
              "      <td>55.530</td>\n",
              "      <td>56.26</td>\n",
              "      <td>54.57</td>\n",
              "      <td>54.69</td>\n",
              "      <td>16059955</td>\n",
              "      <td>SBUX</td>\n",
              "    </tr>\n",
              "    <tr>\n",
              "      <th>1257</th>\n",
              "      <td>2018-02-06</td>\n",
              "      <td>53.685</td>\n",
              "      <td>56.06</td>\n",
              "      <td>53.56</td>\n",
              "      <td>55.61</td>\n",
              "      <td>17415065</td>\n",
              "      <td>SBUX</td>\n",
              "    </tr>\n",
              "    <tr>\n",
              "      <th>1258</th>\n",
              "      <td>2018-02-07</td>\n",
              "      <td>55.080</td>\n",
              "      <td>55.43</td>\n",
              "      <td>54.44</td>\n",
              "      <td>54.46</td>\n",
              "      <td>13927022</td>\n",
              "      <td>SBUX</td>\n",
              "    </tr>\n",
              "  </tbody>\n",
              "</table>\n",
              "</div>\n",
              "      <button class=\"colab-df-convert\" onclick=\"convertToInteractive('df-48091d69-085c-4ab4-8d3c-4c4706c21837')\"\n",
              "              title=\"Convert this dataframe to an interactive table.\"\n",
              "              style=\"display:none;\">\n",
              "        \n",
              "  <svg xmlns=\"http://www.w3.org/2000/svg\" height=\"24px\"viewBox=\"0 0 24 24\"\n",
              "       width=\"24px\">\n",
              "    <path d=\"M0 0h24v24H0V0z\" fill=\"none\"/>\n",
              "    <path d=\"M18.56 5.44l.94 2.06.94-2.06 2.06-.94-2.06-.94-.94-2.06-.94 2.06-2.06.94zm-11 1L8.5 8.5l.94-2.06 2.06-.94-2.06-.94L8.5 2.5l-.94 2.06-2.06.94zm10 10l.94 2.06.94-2.06 2.06-.94-2.06-.94-.94-2.06-.94 2.06-2.06.94z\"/><path d=\"M17.41 7.96l-1.37-1.37c-.4-.4-.92-.59-1.43-.59-.52 0-1.04.2-1.43.59L10.3 9.45l-7.72 7.72c-.78.78-.78 2.05 0 2.83L4 21.41c.39.39.9.59 1.41.59.51 0 1.02-.2 1.41-.59l7.78-7.78 2.81-2.81c.8-.78.8-2.07 0-2.86zM5.41 20L4 18.59l7.72-7.72 1.47 1.35L5.41 20z\"/>\n",
              "  </svg>\n",
              "      </button>\n",
              "      \n",
              "  <style>\n",
              "    .colab-df-container {\n",
              "      display:flex;\n",
              "      flex-wrap:wrap;\n",
              "      gap: 12px;\n",
              "    }\n",
              "\n",
              "    .colab-df-convert {\n",
              "      background-color: #E8F0FE;\n",
              "      border: none;\n",
              "      border-radius: 50%;\n",
              "      cursor: pointer;\n",
              "      display: none;\n",
              "      fill: #1967D2;\n",
              "      height: 32px;\n",
              "      padding: 0 0 0 0;\n",
              "      width: 32px;\n",
              "    }\n",
              "\n",
              "    .colab-df-convert:hover {\n",
              "      background-color: #E2EBFA;\n",
              "      box-shadow: 0px 1px 2px rgba(60, 64, 67, 0.3), 0px 1px 3px 1px rgba(60, 64, 67, 0.15);\n",
              "      fill: #174EA6;\n",
              "    }\n",
              "\n",
              "    [theme=dark] .colab-df-convert {\n",
              "      background-color: #3B4455;\n",
              "      fill: #D2E3FC;\n",
              "    }\n",
              "\n",
              "    [theme=dark] .colab-df-convert:hover {\n",
              "      background-color: #434B5C;\n",
              "      box-shadow: 0px 1px 3px 1px rgba(0, 0, 0, 0.15);\n",
              "      filter: drop-shadow(0px 1px 2px rgba(0, 0, 0, 0.3));\n",
              "      fill: #FFFFFF;\n",
              "    }\n",
              "  </style>\n",
              "\n",
              "      <script>\n",
              "        const buttonEl =\n",
              "          document.querySelector('#df-48091d69-085c-4ab4-8d3c-4c4706c21837 button.colab-df-convert');\n",
              "        buttonEl.style.display =\n",
              "          google.colab.kernel.accessAllowed ? 'block' : 'none';\n",
              "\n",
              "        async function convertToInteractive(key) {\n",
              "          const element = document.querySelector('#df-48091d69-085c-4ab4-8d3c-4c4706c21837');\n",
              "          const dataTable =\n",
              "            await google.colab.kernel.invokeFunction('convertToInteractive',\n",
              "                                                     [key], {});\n",
              "          if (!dataTable) return;\n",
              "\n",
              "          const docLinkHtml = 'Like what you see? Visit the ' +\n",
              "            '<a target=\"_blank\" href=https://colab.research.google.com/notebooks/data_table.ipynb>data table notebook</a>'\n",
              "            + ' to learn more about interactive tables.';\n",
              "          element.innerHTML = '';\n",
              "          dataTable['output_type'] = 'display_data';\n",
              "          await google.colab.output.renderOutput(dataTable, element);\n",
              "          const docLink = document.createElement('div');\n",
              "          docLink.innerHTML = docLinkHtml;\n",
              "          element.appendChild(docLink);\n",
              "        }\n",
              "      </script>\n",
              "    </div>\n",
              "  </div>\n",
              "  "
            ]
          },
          "metadata": {},
          "execution_count": 5
        }
      ]
    },
    {
      "cell_type": "code",
      "source": [
        "series = df['close'].values.reshape(-1, 1)"
      ],
      "metadata": {
        "id": "8NsT8KwR7oyE"
      },
      "execution_count": 6,
      "outputs": []
    },
    {
      "cell_type": "code",
      "source": [
        "# Normalize the data\n",
        "scaler = StandardScaler()\n",
        "scaler.fit(series[:len(series) // 2])\n",
        "series = scaler.transform(series).flatten()"
      ],
      "metadata": {
        "id": "HSZhr6YX7ona"
      },
      "execution_count": 7,
      "outputs": []
    },
    {
      "cell_type": "code",
      "source": [
        "# Build the dataset\n",
        "\n",
        "T = 10\n",
        "D = 1\n",
        "X = []\n",
        "Y = []\n",
        "for t in range(len(series) - T):\n",
        "  x = series[t:t+T]\n",
        "  X.append(x)\n",
        "  y = series[t+T]\n",
        "  Y.append(y)\n",
        "\n",
        "X = np.array(X).reshape(-1, T, 1) # Now the data should be N x T X D\n",
        "Y = np.array(Y)\n",
        "N = len(X)\n",
        "print(\"X.shape \", X.shape, \"Y.shape \", Y.shape)"
      ],
      "metadata": {
        "colab": {
          "base_uri": "https://localhost:8080/"
        },
        "id": "WPMnkc9g_XsV",
        "outputId": "35ca68b8-e8be-4e04-cbfc-c1d20aa4fab1"
      },
      "execution_count": 8,
      "outputs": [
        {
          "output_type": "stream",
          "name": "stdout",
          "text": [
            "X.shape  (1249, 10, 1) Y.shape  (1249,)\n"
          ]
        }
      ]
    },
    {
      "cell_type": "code",
      "source": [
        "# Autoregressive RNN model\n",
        "i = Input(shape=(T, 1))\n",
        "x = LSTM(5)(i)\n",
        "x = Dense(1)(x)\n",
        "model = Model(i, x)\n",
        "model.compile(\n",
        "    loss='mse',\n",
        "    optimizer=Adam(lr=0.1),\n",
        ")\n",
        "\n",
        "# Train RNN\n",
        "r = model.fit(\n",
        "    X[:-N//2], Y[:-N//2],\n",
        "    epochs=80,\n",
        "    validation_data=(X[-N//2:], Y[-N//2:]),\n",
        "\n",
        ")"
      ],
      "metadata": {
        "colab": {
          "base_uri": "https://localhost:8080/"
        },
        "id": "aVBhNP6-BXGc",
        "outputId": "be87e23a-293f-4c80-d5b4-d877e445cd24"
      },
      "execution_count": 9,
      "outputs": [
        {
          "output_type": "stream",
          "name": "stdout",
          "text": [
            "Epoch 1/80\n"
          ]
        },
        {
          "output_type": "stream",
          "name": "stderr",
          "text": [
            "/usr/local/lib/python3.7/dist-packages/keras/optimizer_v2/adam.py:105: UserWarning: The `lr` argument is deprecated, use `learning_rate` instead.\n",
            "  super(Adam, self).__init__(name, **kwargs)\n"
          ]
        },
        {
          "output_type": "stream",
          "name": "stdout",
          "text": [
            "20/20 [==============================] - 3s 31ms/step - loss: 0.0941 - val_loss: 0.0669\n",
            "Epoch 2/80\n",
            "20/20 [==============================] - 0s 8ms/step - loss: 0.0111 - val_loss: 0.0348\n",
            "Epoch 3/80\n",
            "20/20 [==============================] - 0s 9ms/step - loss: 0.0078 - val_loss: 0.0298\n",
            "Epoch 4/80\n",
            "20/20 [==============================] - 0s 10ms/step - loss: 0.0062 - val_loss: 0.0239\n",
            "Epoch 5/80\n",
            "20/20 [==============================] - 0s 10ms/step - loss: 0.0061 - val_loss: 0.0225\n",
            "Epoch 6/80\n",
            "20/20 [==============================] - 0s 9ms/step - loss: 0.0068 - val_loss: 0.0297\n",
            "Epoch 7/80\n",
            "20/20 [==============================] - 0s 8ms/step - loss: 0.0071 - val_loss: 0.0238\n",
            "Epoch 8/80\n",
            "20/20 [==============================] - 0s 9ms/step - loss: 0.0060 - val_loss: 0.0275\n",
            "Epoch 9/80\n",
            "20/20 [==============================] - 0s 7ms/step - loss: 0.0069 - val_loss: 0.0412\n",
            "Epoch 10/80\n",
            "20/20 [==============================] - 0s 7ms/step - loss: 0.0069 - val_loss: 0.0442\n",
            "Epoch 11/80\n",
            "20/20 [==============================] - 0s 7ms/step - loss: 0.0059 - val_loss: 0.0179\n",
            "Epoch 12/80\n",
            "20/20 [==============================] - 0s 7ms/step - loss: 0.0057 - val_loss: 0.0230\n",
            "Epoch 13/80\n",
            "20/20 [==============================] - 0s 7ms/step - loss: 0.0063 - val_loss: 0.0338\n",
            "Epoch 14/80\n",
            "20/20 [==============================] - 0s 7ms/step - loss: 0.0061 - val_loss: 0.0424\n",
            "Epoch 15/80\n",
            "20/20 [==============================] - 0s 8ms/step - loss: 0.0064 - val_loss: 0.0474\n",
            "Epoch 16/80\n",
            "20/20 [==============================] - 0s 7ms/step - loss: 0.0056 - val_loss: 0.0535\n",
            "Epoch 17/80\n",
            "20/20 [==============================] - 0s 11ms/step - loss: 0.0070 - val_loss: 0.0229\n",
            "Epoch 18/80\n",
            "20/20 [==============================] - 0s 11ms/step - loss: 0.0074 - val_loss: 0.0218\n",
            "Epoch 19/80\n",
            "20/20 [==============================] - 0s 9ms/step - loss: 0.0077 - val_loss: 0.0829\n",
            "Epoch 20/80\n",
            "20/20 [==============================] - 0s 11ms/step - loss: 0.0062 - val_loss: 0.0177\n",
            "Epoch 21/80\n",
            "20/20 [==============================] - 0s 10ms/step - loss: 0.0086 - val_loss: 0.0208\n",
            "Epoch 22/80\n",
            "20/20 [==============================] - 0s 11ms/step - loss: 0.0064 - val_loss: 0.0203\n",
            "Epoch 23/80\n",
            "20/20 [==============================] - 0s 11ms/step - loss: 0.0053 - val_loss: 0.0247\n",
            "Epoch 24/80\n",
            "20/20 [==============================] - 0s 15ms/step - loss: 0.0062 - val_loss: 0.0222\n",
            "Epoch 25/80\n",
            "20/20 [==============================] - 0s 13ms/step - loss: 0.0075 - val_loss: 0.0583\n",
            "Epoch 26/80\n",
            "20/20 [==============================] - 0s 12ms/step - loss: 0.0069 - val_loss: 0.0240\n",
            "Epoch 27/80\n",
            "20/20 [==============================] - 0s 10ms/step - loss: 0.0062 - val_loss: 0.0392\n",
            "Epoch 28/80\n",
            "20/20 [==============================] - 0s 10ms/step - loss: 0.0086 - val_loss: 0.0280\n",
            "Epoch 29/80\n",
            "20/20 [==============================] - 0s 10ms/step - loss: 0.0083 - val_loss: 0.0371\n",
            "Epoch 30/80\n",
            "20/20 [==============================] - 0s 11ms/step - loss: 0.0078 - val_loss: 0.0231\n",
            "Epoch 31/80\n",
            "20/20 [==============================] - 0s 10ms/step - loss: 0.0064 - val_loss: 0.0200\n",
            "Epoch 32/80\n",
            "20/20 [==============================] - 0s 11ms/step - loss: 0.0062 - val_loss: 0.0199\n",
            "Epoch 33/80\n",
            "20/20 [==============================] - 0s 11ms/step - loss: 0.0063 - val_loss: 0.0233\n",
            "Epoch 34/80\n",
            "20/20 [==============================] - 0s 11ms/step - loss: 0.0077 - val_loss: 0.0309\n",
            "Epoch 35/80\n",
            "20/20 [==============================] - 0s 12ms/step - loss: 0.0062 - val_loss: 0.0182\n",
            "Epoch 36/80\n",
            "20/20 [==============================] - 0s 10ms/step - loss: 0.0068 - val_loss: 0.0345\n",
            "Epoch 37/80\n",
            "20/20 [==============================] - 0s 10ms/step - loss: 0.0055 - val_loss: 0.0402\n",
            "Epoch 38/80\n",
            "20/20 [==============================] - 0s 11ms/step - loss: 0.0063 - val_loss: 0.0207\n",
            "Epoch 39/80\n",
            "20/20 [==============================] - 0s 10ms/step - loss: 0.0063 - val_loss: 0.0219\n",
            "Epoch 40/80\n",
            "20/20 [==============================] - 0s 12ms/step - loss: 0.0058 - val_loss: 0.0242\n",
            "Epoch 41/80\n",
            "20/20 [==============================] - 0s 10ms/step - loss: 0.0059 - val_loss: 0.0203\n",
            "Epoch 42/80\n",
            "20/20 [==============================] - 0s 11ms/step - loss: 0.0062 - val_loss: 0.0515\n",
            "Epoch 43/80\n",
            "20/20 [==============================] - 0s 10ms/step - loss: 0.0068 - val_loss: 0.0446\n",
            "Epoch 44/80\n",
            "20/20 [==============================] - 0s 12ms/step - loss: 0.0072 - val_loss: 0.0213\n",
            "Epoch 45/80\n",
            "20/20 [==============================] - 0s 11ms/step - loss: 0.0056 - val_loss: 0.0312\n",
            "Epoch 46/80\n",
            "20/20 [==============================] - 0s 13ms/step - loss: 0.0051 - val_loss: 0.0182\n",
            "Epoch 47/80\n",
            "20/20 [==============================] - 0s 17ms/step - loss: 0.0058 - val_loss: 0.0269\n",
            "Epoch 48/80\n",
            "20/20 [==============================] - 0s 10ms/step - loss: 0.0067 - val_loss: 0.0242\n",
            "Epoch 49/80\n",
            "20/20 [==============================] - 0s 10ms/step - loss: 0.0053 - val_loss: 0.0158\n",
            "Epoch 50/80\n",
            "20/20 [==============================] - 0s 10ms/step - loss: 0.0062 - val_loss: 0.0449\n",
            "Epoch 51/80\n",
            "20/20 [==============================] - 0s 15ms/step - loss: 0.0078 - val_loss: 0.0260\n",
            "Epoch 52/80\n",
            "20/20 [==============================] - 0s 10ms/step - loss: 0.0073 - val_loss: 0.0190\n",
            "Epoch 53/80\n",
            "20/20 [==============================] - 0s 14ms/step - loss: 0.0054 - val_loss: 0.0181\n",
            "Epoch 54/80\n",
            "20/20 [==============================] - 0s 9ms/step - loss: 0.0055 - val_loss: 0.0171\n",
            "Epoch 55/80\n",
            "20/20 [==============================] - 0s 10ms/step - loss: 0.0063 - val_loss: 0.0318\n",
            "Epoch 56/80\n",
            "20/20 [==============================] - 0s 14ms/step - loss: 0.0088 - val_loss: 0.0197\n",
            "Epoch 57/80\n",
            "20/20 [==============================] - 0s 10ms/step - loss: 0.0060 - val_loss: 0.0254\n",
            "Epoch 58/80\n",
            "20/20 [==============================] - 0s 13ms/step - loss: 0.0051 - val_loss: 0.0210\n",
            "Epoch 59/80\n",
            "20/20 [==============================] - 0s 9ms/step - loss: 0.0056 - val_loss: 0.0196\n",
            "Epoch 60/80\n",
            "20/20 [==============================] - 0s 11ms/step - loss: 0.0062 - val_loss: 0.0187\n",
            "Epoch 61/80\n",
            "20/20 [==============================] - 0s 9ms/step - loss: 0.0070 - val_loss: 0.0203\n",
            "Epoch 62/80\n",
            "20/20 [==============================] - 0s 11ms/step - loss: 0.0059 - val_loss: 0.0281\n",
            "Epoch 63/80\n",
            "20/20 [==============================] - 0s 8ms/step - loss: 0.0065 - val_loss: 0.0260\n",
            "Epoch 64/80\n",
            "20/20 [==============================] - 0s 9ms/step - loss: 0.0056 - val_loss: 0.0170\n",
            "Epoch 65/80\n",
            "20/20 [==============================] - 0s 15ms/step - loss: 0.0066 - val_loss: 0.0170\n",
            "Epoch 66/80\n",
            "20/20 [==============================] - 0s 11ms/step - loss: 0.0069 - val_loss: 0.0162\n",
            "Epoch 67/80\n",
            "20/20 [==============================] - 0s 11ms/step - loss: 0.0062 - val_loss: 0.0150\n",
            "Epoch 68/80\n",
            "20/20 [==============================] - 0s 11ms/step - loss: 0.0057 - val_loss: 0.0472\n",
            "Epoch 69/80\n",
            "20/20 [==============================] - 0s 12ms/step - loss: 0.0076 - val_loss: 0.0168\n",
            "Epoch 70/80\n",
            "20/20 [==============================] - 0s 12ms/step - loss: 0.0062 - val_loss: 0.0206\n",
            "Epoch 71/80\n",
            "20/20 [==============================] - 0s 12ms/step - loss: 0.0059 - val_loss: 0.0228\n",
            "Epoch 72/80\n",
            "20/20 [==============================] - 0s 12ms/step - loss: 0.0059 - val_loss: 0.0238\n",
            "Epoch 73/80\n",
            "20/20 [==============================] - 0s 12ms/step - loss: 0.0059 - val_loss: 0.0176\n",
            "Epoch 74/80\n",
            "20/20 [==============================] - 0s 9ms/step - loss: 0.0060 - val_loss: 0.0175\n",
            "Epoch 75/80\n",
            "20/20 [==============================] - 0s 7ms/step - loss: 0.0053 - val_loss: 0.0159\n",
            "Epoch 76/80\n",
            "20/20 [==============================] - 0s 7ms/step - loss: 0.0051 - val_loss: 0.0148\n",
            "Epoch 77/80\n",
            "20/20 [==============================] - 0s 7ms/step - loss: 0.0064 - val_loss: 0.0135\n",
            "Epoch 78/80\n",
            "20/20 [==============================] - 0s 7ms/step - loss: 0.0057 - val_loss: 0.0401\n",
            "Epoch 79/80\n",
            "20/20 [==============================] - 0s 7ms/step - loss: 0.0067 - val_loss: 0.0321\n",
            "Epoch 80/80\n",
            "20/20 [==============================] - 0s 7ms/step - loss: 0.0067 - val_loss: 0.0178\n"
          ]
        }
      ]
    },
    {
      "cell_type": "code",
      "source": [
        "# Plot loss per iteration\n",
        "import matplotlib.pyplot as plt\n",
        "plt.plot(r.history['loss'], label='loss')\n",
        "plt.plot(r.history['val_loss'], label='val_loss')\n",
        "plt.legend()"
      ],
      "metadata": {
        "colab": {
          "base_uri": "https://localhost:8080/",
          "height": 283
        },
        "id": "oSdjq-2hBW9G",
        "outputId": "5a2c3e91-11f0-4c71-f5a2-43df7da032cc"
      },
      "execution_count": 10,
      "outputs": [
        {
          "output_type": "execute_result",
          "data": {
            "text/plain": [
              "<matplotlib.legend.Legend at 0x7f2d1b7812d0>"
            ]
          },
          "metadata": {},
          "execution_count": 10
        },
        {
          "output_type": "display_data",
          "data": {
            "text/plain": [
              "<Figure size 432x288 with 1 Axes>"
            ],
            "image/png": "[encoded data removed]"
          },
          "metadata": {
            "needs_background": "light"
          }
        }
      ]
    },
    {
      "cell_type": "code",
      "source": [
        "# One-step forecast using true target\n",
        "outputs = model.predict(X)\n",
        "print(outputs.shape)\n",
        "predictions = outputs[:,0]\n",
        "\n",
        "plt.plot(Y, label='targets')\n",
        "plt.plot(predictions, label='predictions')\n",
        "plt.legend()\n",
        "plt.show()"
      ],
      "metadata": {
        "colab": {
          "base_uri": "https://localhost:8080/",
          "height": 283
        },
        "id": "EA61qNUGEHfg",
        "outputId": "66e0be2e-7599-483d-e924-eb0c3eea020b"
      },
      "execution_count": 11,
      "outputs": [
        {
          "output_type": "stream",
          "name": "stdout",
          "text": [
            "(1249, 1)\n"
          ]
        },
        {
          "output_type": "display_data",
          "data": {
            "text/plain": [
              "<Figure size 432x288 with 1 Axes>"
            ],
            "image/png": "[encoded data removed]"
          },
          "metadata": {
            "needs_background": "light"
          }
        }
      ]
    },
    {
      "cell_type": "code",
      "source": [
        "# Multi-step forecast\n",
        "\n",
        "validation_target = Y[-N//2:]\n",
        "validation_predictions = []\n",
        "\n",
        "# Last train input\n",
        "last_x = X[-N//2] # 1-D array of lenght T\n",
        "\n",
        "while len(validation_predictions) < len(validation_target):\n",
        "  p = model.predict(last_x.reshape(1, T, 1))[0,0] # 1x1 array -> scalar\n",
        "  \n",
        "  # Update the predictions list\n",
        "  validation_predictions.append(p)\n",
        "\n",
        "  # Make the new input\n",
        "  last_x = np.roll(last_x, -1)\n",
        "  last_x[-1] = p\n",
        "\n",
        "plt.plot(validation_target, label='forecast targets')\n",
        "plt.plot(validation_predictions, label='forecast predictions')\n",
        "plt.legend()"
      ],
      "metadata": {
        "colab": {
          "base_uri": "https://localhost:8080/",
          "height": 283
        },
        "id": "CF65a-6mEOCJ",
        "outputId": "3a695cef-8c3b-4df9-9c18-a64739cae244"
      },
      "execution_count": 12,
      "outputs": [
        {
          "output_type": "execute_result",
          "data": {
            "text/plain": [
              "<matplotlib.legend.Legend at 0x7f2d1a3a3610>"
            ]
          },
          "metadata": {},
          "execution_count": 12
        },
        {
          "output_type": "display_data",
          "data": {
            "text/plain": [
              "<Figure size 432x288 with 1 Axes>"
            ],
            "image/png": "[encoded data removed]"
          },
          "metadata": {
            "needs_background": "light"
          }
        }
      ]
    },
    {
      "cell_type": "code",
      "source": [
        "# Calculate returns by first shifting thr data\n",
        "df['PrevClose'] = df['close'].shift(1) # Move everything up 1\n",
        "\n",
        "# close / prev close\n",
        "# X[2] X[1]\n",
        "# X[3] X[2]\n",
        "# X[4] X[3]\n",
        "# ...\n",
        "# X[t] X[t-1]"
      ],
      "metadata": {
        "id": "Y_vUbhFXJHsp"
      },
      "execution_count": 13,
      "outputs": []
    },
    {
      "cell_type": "code",
      "source": [
        "df.head()"
      ],
      "metadata": {
        "colab": {
          "base_uri": "https://localhost:8080/",
          "height": 206
        },
        "id": "iM4cerH1JHpE",
        "outputId": "8c8b7e9a-a64d-4a1c-fd01-35e32731aefd"
      },
      "execution_count": 14,
      "outputs": [
        {
          "output_type": "execute_result",
          "data": {
            "text/plain": [
              "         date    open    high     low   close   volume  Name  PrevClose\n",
              "0  2013-02-08  27.920  28.325  27.920  28.185  7146296  SBUX        NaN\n",
              "1  2013-02-11  28.260  28.260  27.930  28.070  5457354  SBUX     28.185\n",
              "2  2013-02-12  28.000  28.275  27.975  28.130  8665592  SBUX     28.070\n",
              "3  2013-02-13  28.230  28.230  27.750  27.915  7022056  SBUX     28.130\n",
              "4  2013-02-14  27.765  27.905  27.675  27.775  8899188  SBUX     27.915"
            ],
            "text/html": [
              "\n",
              "  <div id=\"df-f417eadd-913e-4f9c-b753-8ddba679ab59\">\n",
              "    <div class=\"colab-df-container\">\n",
              "      <div>\n",
              "<style scoped>\n",
              "    .dataframe tbody tr th:only-of-type {\n",
              "        vertical-align: middle;\n",
              "    }\n",
              "\n",
              "    .dataframe tbody tr th {\n",
              "        vertical-align: top;\n",
              "    }\n",
              "\n",
              "    .dataframe thead th {\n",
              "        text-align: right;\n",
              "    }\n",
              "</style>\n",
              "<table border=\"1\" class=\"dataframe\">\n",
              "  <thead>\n",
              "    <tr style=\"text-align: right;\">\n",
              "      <th></th>\n",
              "      <th>date</th>\n",
              "      <th>open</th>\n",
              "      <th>high</th>\n",
              "      <th>low</th>\n",
              "      <th>close</th>\n",
              "      <th>volume</th>\n",
              "      <th>Name</th>\n",
              "      <th>PrevClose</th>\n",
              "    </tr>\n",
              "  </thead>\n",
              "  <tbody>\n",
              "    <tr>\n",
              "      <th>0</th>\n",
              "      <td>2013-02-08</td>\n",
              "      <td>27.920</td>\n",
              "      <td>28.325</td>\n",
              "      <td>27.920</td>\n",
              "      <td>28.185</td>\n",
              "      <td>7146296</td>\n",
              "      <td>SBUX</td>\n",
              "      <td>NaN</td>\n",
              "    </tr>\n",
              "    <tr>\n",
              "      <th>1</th>\n",
              "      <td>2013-02-11</td>\n",
              "      <td>28.260</td>\n",
              "      <td>28.260</td>\n",
              "      <td>27.930</td>\n",
              "      <td>28.070</td>\n",
              "      <td>5457354</td>\n",
              "      <td>SBUX</td>\n",
              "      <td>28.185</td>\n",
              "    </tr>\n",
              "    <tr>\n",
              "      <th>2</th>\n",
              "      <td>2013-02-12</td>\n",
              "      <td>28.000</td>\n",
              "      <td>28.275</td>\n",
              "      <td>27.975</td>\n",
              "      <td>28.130</td>\n",
              "      <td>8665592</td>\n",
              "      <td>SBUX</td>\n",
              "      <td>28.070</td>\n",
              "    </tr>\n",
              "    <tr>\n",
              "      <th>3</th>\n",
              "      <td>2013-02-13</td>\n",
              "      <td>28.230</td>\n",
              "      <td>28.230</td>\n",
              "      <td>27.750</td>\n",
              "      <td>27.915</td>\n",
              "      <td>7022056</td>\n",
              "      <td>SBUX</td>\n",
              "      <td>28.130</td>\n",
              "    </tr>\n",
              "    <tr>\n",
              "      <th>4</th>\n",
              "      <td>2013-02-14</td>\n",
              "      <td>27.765</td>\n",
              "      <td>27.905</td>\n",
              "      <td>27.675</td>\n",
              "      <td>27.775</td>\n",
              "      <td>8899188</td>\n",
              "      <td>SBUX</td>\n",
              "      <td>27.915</td>\n",
              "    </tr>\n",
              "  </tbody>\n",
              "</table>\n",
              "</div>\n",
              "      <button class=\"colab-df-convert\" onclick=\"convertToInteractive('df-f417eadd-913e-4f9c-b753-8ddba679ab59')\"\n",
              "              title=\"Convert this dataframe to an interactive table.\"\n",
              "              style=\"display:none;\">\n",
              "        \n",
              "  <svg xmlns=\"http://www.w3.org/2000/svg\" height=\"24px\"viewBox=\"0 0 24 24\"\n",
              "       width=\"24px\">\n",
              "    <path d=\"M0 0h24v24H0V0z\" fill=\"none\"/>\n",
              "    <path d=\"M18.56 5.44l.94 2.06.94-2.06 2.06-.94-2.06-.94-.94-2.06-.94 2.06-2.06.94zm-11 1L8.5 8.5l.94-2.06 2.06-.94-2.06-.94L8.5 2.5l-.94 2.06-2.06.94zm10 10l.94 2.06.94-2.06 2.06-.94-2.06-.94-.94-2.06-.94 2.06-2.06.94z\"/><path d=\"M17.41 7.96l-1.37-1.37c-.4-.4-.92-.59-1.43-.59-.52 0-1.04.2-1.43.59L10.3 9.45l-7.72 7.72c-.78.78-.78 2.05 0 2.83L4 21.41c.39.39.9.59 1.41.59.51 0 1.02-.2 1.41-.59l7.78-7.78 2.81-2.81c.8-.78.8-2.07 0-2.86zM5.41 20L4 18.59l7.72-7.72 1.47 1.35L5.41 20z\"/>\n",
              "  </svg>\n",
              "      </button>\n",
              "      \n",
              "  <style>\n",
              "    .colab-df-container {\n",
              "      display:flex;\n",
              "      flex-wrap:wrap;\n",
              "      gap: 12px;\n",
              "    }\n",
              "\n",
              "    .colab-df-convert {\n",
              "      background-color: #E8F0FE;\n",
              "      border: none;\n",
              "      border-radius: 50%;\n",
              "      cursor: pointer;\n",
              "      display: none;\n",
              "      fill: #1967D2;\n",
              "      height: 32px;\n",
              "      padding: 0 0 0 0;\n",
              "      width: 32px;\n",
              "    }\n",
              "\n",
              "    .colab-df-convert:hover {\n",
              "      background-color: #E2EBFA;\n",
              "      box-shadow: 0px 1px 2px rgba(60, 64, 67, 0.3), 0px 1px 3px 1px rgba(60, 64, 67, 0.15);\n",
              "      fill: #174EA6;\n",
              "    }\n",
              "\n",
              "    [theme=dark] .colab-df-convert {\n",
              "      background-color: #3B4455;\n",
              "      fill: #D2E3FC;\n",
              "    }\n",
              "\n",
              "    [theme=dark] .colab-df-convert:hover {\n",
              "      background-color: #434B5C;\n",
              "      box-shadow: 0px 1px 3px 1px rgba(0, 0, 0, 0.15);\n",
              "      filter: drop-shadow(0px 1px 2px rgba(0, 0, 0, 0.3));\n",
              "      fill: #FFFFFF;\n",
              "    }\n",
              "  </style>\n",
              "\n",
              "      <script>\n",
              "        const buttonEl =\n",
              "          document.querySelector('#df-f417eadd-913e-4f9c-b753-8ddba679ab59 button.colab-df-convert');\n",
              "        buttonEl.style.display =\n",
              "          google.colab.kernel.accessAllowed ? 'block' : 'none';\n",
              "\n",
              "        async function convertToInteractive(key) {\n",
              "          const element = document.querySelector('#df-f417eadd-913e-4f9c-b753-8ddba679ab59');\n",
              "          const dataTable =\n",
              "            await google.colab.kernel.invokeFunction('convertToInteractive',\n",
              "                                                     [key], {});\n",
              "          if (!dataTable) return;\n",
              "\n",
              "          const docLinkHtml = 'Like what you see? Visit the ' +\n",
              "            '<a target=\"_blank\" href=https://colab.research.google.com/notebooks/data_table.ipynb>data table notebook</a>'\n",
              "            + ' to learn more about interactive tables.';\n",
              "          element.innerHTML = '';\n",
              "          dataTable['output_type'] = 'display_data';\n",
              "          await google.colab.output.renderOutput(dataTable, element);\n",
              "          const docLink = document.createElement('div');\n",
              "          docLink.innerHTML = docLinkHtml;\n",
              "          element.appendChild(docLink);\n",
              "        }\n",
              "      </script>\n",
              "    </div>\n",
              "  </div>\n",
              "  "
            ]
          },
          "metadata": {},
          "execution_count": 14
        }
      ]
    },
    {
      "cell_type": "code",
      "source": [
        "# Then the returns is\n",
        "# (X[t] - X[t-1]) / X[t-1]\n",
        "df['Return'] = (df['close'] - df['PrevClose']) / df['PrevClose']"
      ],
      "metadata": {
        "id": "061Yy-ruJHe8"
      },
      "execution_count": 15,
      "outputs": []
    },
    {
      "cell_type": "code",
      "source": [
        "df.head()"
      ],
      "metadata": {
        "colab": {
          "base_uri": "https://localhost:8080/",
          "height": 206
        },
        "id": "Z7uSrvHpKJqx",
        "outputId": "64078bd4-9cf5-4eab-b836-970ce2c616af"
      },
      "execution_count": 16,
      "outputs": [
        {
          "output_type": "execute_result",
          "data": {
            "text/plain": [
              "         date    open    high     low   close   volume  Name  PrevClose  \\\n",
              "0  2013-02-08  27.920  28.325  27.920  28.185  7146296  SBUX        NaN   \n",
              "1  2013-02-11  28.260  28.260  27.930  28.070  5457354  SBUX     28.185   \n",
              "2  2013-02-12  28.000  28.275  27.975  28.130  8665592  SBUX     28.070   \n",
              "3  2013-02-13  28.230  28.230  27.750  27.915  7022056  SBUX     28.130   \n",
              "4  2013-02-14  27.765  27.905  27.675  27.775  8899188  SBUX     27.915   \n",
              "\n",
              "     Return  \n",
              "0       NaN  \n",
              "1 -0.004080  \n",
              "2  0.002138  \n",
              "3 -0.007643  \n",
              "4 -0.005015  "
            ],
            "text/html": [
              "\n",
              "  <div id=\"df-d0e6e2dc-69ed-4ce9-918e-2d67df64f38f\">\n",
              "    <div class=\"colab-df-container\">\n",
              "      <div>\n",
              "<style scoped>\n",
              "    .dataframe tbody tr th:only-of-type {\n",
              "        vertical-align: middle;\n",
              "    }\n",
              "\n",
              "    .dataframe tbody tr th {\n",
              "        vertical-align: top;\n",
              "    }\n",
              "\n",
              "    .dataframe thead th {\n",
              "        text-align: right;\n",
              "    }\n",
              "</style>\n",
              "<table border=\"1\" class=\"dataframe\">\n",
              "  <thead>\n",
              "    <tr style=\"text-align: right;\">\n",
              "      <th></th>\n",
              "      <th>date</th>\n",
              "      <th>open</th>\n",
              "      <th>high</th>\n",
              "      <th>low</th>\n",
              "      <th>close</th>\n",
              "      <th>volume</th>\n",
              "      <th>Name</th>\n",
              "      <th>PrevClose</th>\n",
              "      <th>Return</th>\n",
              "    </tr>\n",
              "  </thead>\n",
              "  <tbody>\n",
              "    <tr>\n",
              "      <th>0</th>\n",
              "      <td>2013-02-08</td>\n",
              "      <td>27.920</td>\n",
              "      <td>28.325</td>\n",
              "      <td>27.920</td>\n",
              "      <td>28.185</td>\n",
              "      <td>7146296</td>\n",
              "      <td>SBUX</td>\n",
              "      <td>NaN</td>\n",
              "      <td>NaN</td>\n",
              "    </tr>\n",
              "    <tr>\n",
              "      <th>1</th>\n",
              "      <td>2013-02-11</td>\n",
              "      <td>28.260</td>\n",
              "      <td>28.260</td>\n",
              "      <td>27.930</td>\n",
              "      <td>28.070</td>\n",
              "      <td>5457354</td>\n",
              "      <td>SBUX</td>\n",
              "      <td>28.185</td>\n",
              "      <td>-0.004080</td>\n",
              "    </tr>\n",
              "    <tr>\n",
              "      <th>2</th>\n",
              "      <td>2013-02-12</td>\n",
              "      <td>28.000</td>\n",
              "      <td>28.275</td>\n",
              "      <td>27.975</td>\n",
              "      <td>28.130</td>\n",
              "      <td>8665592</td>\n",
              "      <td>SBUX</td>\n",
              "      <td>28.070</td>\n",
              "      <td>0.002138</td>\n",
              "    </tr>\n",
              "    <tr>\n",
              "      <th>3</th>\n",
              "      <td>2013-02-13</td>\n",
              "      <td>28.230</td>\n",
              "      <td>28.230</td>\n",
              "      <td>27.750</td>\n",
              "      <td>27.915</td>\n",
              "      <td>7022056</td>\n",
              "      <td>SBUX</td>\n",
              "      <td>28.130</td>\n",
              "      <td>-0.007643</td>\n",
              "    </tr>\n",
              "    <tr>\n",
              "      <th>4</th>\n",
              "      <td>2013-02-14</td>\n",
              "      <td>27.765</td>\n",
              "      <td>27.905</td>\n",
              "      <td>27.675</td>\n",
              "      <td>27.775</td>\n",
              "      <td>8899188</td>\n",
              "      <td>SBUX</td>\n",
              "      <td>27.915</td>\n",
              "      <td>-0.005015</td>\n",
              "    </tr>\n",
              "  </tbody>\n",
              "</table>\n",
              "</div>\n",
              "      <button class=\"colab-df-convert\" onclick=\"convertToInteractive('df-d0e6e2dc-69ed-4ce9-918e-2d67df64f38f')\"\n",
              "              title=\"Convert this dataframe to an interactive table.\"\n",
              "              style=\"display:none;\">\n",
              "        \n",
              "  <svg xmlns=\"http://www.w3.org/2000/svg\" height=\"24px\"viewBox=\"0 0 24 24\"\n",
              "       width=\"24px\">\n",
              "    <path d=\"M0 0h24v24H0V0z\" fill=\"none\"/>\n",
              "    <path d=\"M18.56 5.44l.94 2.06.94-2.06 2.06-.94-2.06-.94-.94-2.06-.94 2.06-2.06.94zm-11 1L8.5 8.5l.94-2.06 2.06-.94-2.06-.94L8.5 2.5l-.94 2.06-2.06.94zm10 10l.94 2.06.94-2.06 2.06-.94-2.06-.94-.94-2.06-.94 2.06-2.06.94z\"/><path d=\"M17.41 7.96l-1.37-1.37c-.4-.4-.92-.59-1.43-.59-.52 0-1.04.2-1.43.59L10.3 9.45l-7.72 7.72c-.78.78-.78 2.05 0 2.83L4 21.41c.39.39.9.59 1.41.59.51 0 1.02-.2 1.41-.59l7.78-7.78 2.81-2.81c.8-.78.8-2.07 0-2.86zM5.41 20L4 18.59l7.72-7.72 1.47 1.35L5.41 20z\"/>\n",
              "  </svg>\n",
              "      </button>\n",
              "      \n",
              "  <style>\n",
              "    .colab-df-container {\n",
              "      display:flex;\n",
              "      flex-wrap:wrap;\n",
              "      gap: 12px;\n",
              "    }\n",
              "\n",
              "    .colab-df-convert {\n",
              "      background-color: #E8F0FE;\n",
              "      border: none;\n",
              "      border-radius: 50%;\n",
              "      cursor: pointer;\n",
              "      display: none;\n",
              "      fill: #1967D2;\n",
              "      height: 32px;\n",
              "      padding: 0 0 0 0;\n",
              "      width: 32px;\n",
              "    }\n",
              "\n",
              "    .colab-df-convert:hover {\n",
              "      background-color: #E2EBFA;\n",
              "      box-shadow: 0px 1px 2px rgba(60, 64, 67, 0.3), 0px 1px 3px 1px rgba(60, 64, 67, 0.15);\n",
              "      fill: #174EA6;\n",
              "    }\n",
              "\n",
              "    [theme=dark] .colab-df-convert {\n",
              "      background-color: #3B4455;\n",
              "      fill: #D2E3FC;\n",
              "    }\n",
              "\n",
              "    [theme=dark] .colab-df-convert:hover {\n",
              "      background-color: #434B5C;\n",
              "      box-shadow: 0px 1px 3px 1px rgba(0, 0, 0, 0.15);\n",
              "      filter: drop-shadow(0px 1px 2px rgba(0, 0, 0, 0.3));\n",
              "      fill: #FFFFFF;\n",
              "    }\n",
              "  </style>\n",
              "\n",
              "      <script>\n",
              "        const buttonEl =\n",
              "          document.querySelector('#df-d0e6e2dc-69ed-4ce9-918e-2d67df64f38f button.colab-df-convert');\n",
              "        buttonEl.style.display =\n",
              "          google.colab.kernel.accessAllowed ? 'block' : 'none';\n",
              "\n",
              "        async function convertToInteractive(key) {\n",
              "          const element = document.querySelector('#df-d0e6e2dc-69ed-4ce9-918e-2d67df64f38f');\n",
              "          const dataTable =\n",
              "            await google.colab.kernel.invokeFunction('convertToInteractive',\n",
              "                                                     [key], {});\n",
              "          if (!dataTable) return;\n",
              "\n",
              "          const docLinkHtml = 'Like what you see? Visit the ' +\n",
              "            '<a target=\"_blank\" href=https://colab.research.google.com/notebooks/data_table.ipynb>data table notebook</a>'\n",
              "            + ' to learn more about interactive tables.';\n",
              "          element.innerHTML = '';\n",
              "          dataTable['output_type'] = 'display_data';\n",
              "          await google.colab.output.renderOutput(dataTable, element);\n",
              "          const docLink = document.createElement('div');\n",
              "          docLink.innerHTML = docLinkHtml;\n",
              "          element.appendChild(docLink);\n",
              "        }\n",
              "      </script>\n",
              "    </div>\n",
              "  </div>\n",
              "  "
            ]
          },
          "metadata": {},
          "execution_count": 16
        }
      ]
    },
    {
      "cell_type": "code",
      "source": [
        "df['Return'].hist()"
      ],
      "metadata": {
        "colab": {
          "base_uri": "https://localhost:8080/",
          "height": 283
        },
        "id": "zAl7UCnNKJl4",
        "outputId": "cf15c3ec-862b-4e4e-c473-79f5cad44086"
      },
      "execution_count": 17,
      "outputs": [
        {
          "output_type": "execute_result",
          "data": {
            "text/plain": [
              "<matplotlib.axes._subplots.AxesSubplot at 0x7f2ce3320410>"
            ]
          },
          "metadata": {},
          "execution_count": 17
        },
        {
          "output_type": "display_data",
          "data": {
            "text/plain": [
              "<Figure size 432x288 with 1 Axes>"
            ],
            "image/png": "[encoded data removed]"
          },
          "metadata": {
            "needs_background": "light"
          }
        }
      ]
    },
    {
      "cell_type": "code",
      "source": [
        "series = df['Return'].values[1:].reshape(-1, 1)\n",
        "\n",
        "# Normalize the data\n",
        "scaler = StandardScaler()\n",
        "scaler.fit(series[:len(series) // 2])\n",
        "series = scaler.transform(series).flatten()"
      ],
      "metadata": {
        "id": "b-JpmXU0KJi_"
      },
      "execution_count": 18,
      "outputs": []
    },
    {
      "cell_type": "code",
      "source": [
        "# Build the dataset\n",
        "\n",
        "T = 10\n",
        "D = 1\n",
        "X = []\n",
        "Y = []\n",
        "for t in range(len(series) - T):\n",
        "  x = series[t:t+T]\n",
        "  X.append(x)\n",
        "  y = series[t+T]\n",
        "  Y.append(y)\n",
        "\n",
        "X = np.array(X).reshape(-1, T, 1) # Now the data should be N x T X D\n",
        "Y = np.array(Y)\n",
        "N = len(X)\n",
        "print(\"X.shape \", X.shape, \"Y.shape \", Y.shape)"
      ],
      "metadata": {
        "colab": {
          "base_uri": "https://localhost:8080/"
        },
        "id": "XbD3DxS4L_4-",
        "outputId": "cc83ab19-f998-41a0-a2a4-7af54dc33ea1"
      },
      "execution_count": 19,
      "outputs": [
        {
          "output_type": "stream",
          "name": "stdout",
          "text": [
            "X.shape  (1248, 10, 1) Y.shape  (1248,)\n"
          ]
        }
      ]
    },
    {
      "cell_type": "code",
      "source": [
        "# Autoregressive RNN model\n",
        "i = Input(shape=(T, 1))\n",
        "x = LSTM(5)(i)\n",
        "x = Dense(1)(x)\n",
        "model = Model(i, x)\n",
        "model.compile(\n",
        "    loss='mse',\n",
        "    optimizer=Adam(lr=0.01),\n",
        ")\n",
        "\n",
        "# Train RNN\n",
        "r = model.fit(\n",
        "    X[:-N//2], Y[:-N//2],\n",
        "    epochs=80,\n",
        "    validation_data=(X[-N//2:], Y[-N//2:]),\n",
        "\n",
        ")"
      ],
      "metadata": {
        "colab": {
          "base_uri": "https://localhost:8080/"
        },
        "id": "sRRoTD6VMPfJ",
        "outputId": "e926c060-cb2d-427b-a610-f0a87175fe91"
      },
      "execution_count": 20,
      "outputs": [
        {
          "output_type": "stream",
          "name": "stdout",
          "text": [
            "Epoch 1/80\n"
          ]
        },
        {
          "output_type": "stream",
          "name": "stderr",
          "text": [
            "/usr/local/lib/python3.7/dist-packages/keras/optimizer_v2/adam.py:105: UserWarning: The `lr` argument is deprecated, use `learning_rate` instead.\n",
            "  super(Adam, self).__init__(name, **kwargs)\n"
          ]
        },
        {
          "output_type": "stream",
          "name": "stdout",
          "text": [
            "20/20 [==============================] - 3s 30ms/step - loss: 0.9977 - val_loss: 1.1477\n",
            "Epoch 2/80\n",
            "20/20 [==============================] - 0s 7ms/step - loss: 0.9862 - val_loss: 1.1449\n",
            "Epoch 3/80\n",
            "20/20 [==============================] - 0s 7ms/step - loss: 0.9825 - val_loss: 1.1642\n",
            "Epoch 4/80\n",
            "20/20 [==============================] - 0s 7ms/step - loss: 0.9847 - val_loss: 1.1480\n",
            "Epoch 5/80\n",
            "20/20 [==============================] - 0s 8ms/step - loss: 0.9798 - val_loss: 1.1519\n",
            "Epoch 6/80\n",
            "20/20 [==============================] - 0s 7ms/step - loss: 0.9806 - val_loss: 1.1553\n",
            "Epoch 7/80\n",
            "20/20 [==============================] - 0s 7ms/step - loss: 0.9777 - val_loss: 1.1430\n",
            "Epoch 8/80\n",
            "20/20 [==============================] - 0s 7ms/step - loss: 0.9843 - val_loss: 1.1596\n",
            "Epoch 9/80\n",
            "20/20 [==============================] - 0s 7ms/step - loss: 0.9782 - val_loss: 1.1418\n",
            "Epoch 10/80\n",
            "20/20 [==============================] - 0s 7ms/step - loss: 0.9780 - val_loss: 1.1516\n",
            "Epoch 11/80\n",
            "20/20 [==============================] - 0s 7ms/step - loss: 0.9743 - val_loss: 1.1442\n",
            "Epoch 12/80\n",
            "20/20 [==============================] - 0s 7ms/step - loss: 0.9738 - val_loss: 1.1548\n",
            "Epoch 13/80\n",
            "20/20 [==============================] - 0s 7ms/step - loss: 0.9707 - val_loss: 1.1502\n",
            "Epoch 14/80\n",
            "20/20 [==============================] - 0s 7ms/step - loss: 0.9747 - val_loss: 1.1550\n",
            "Epoch 15/80\n",
            "20/20 [==============================] - 0s 7ms/step - loss: 0.9757 - val_loss: 1.1568\n",
            "Epoch 16/80\n",
            "20/20 [==============================] - 0s 7ms/step - loss: 0.9717 - val_loss: 1.1509\n",
            "Epoch 17/80\n",
            "20/20 [==============================] - 0s 7ms/step - loss: 0.9663 - val_loss: 1.1559\n",
            "Epoch 18/80\n",
            "20/20 [==============================] - 0s 7ms/step - loss: 0.9618 - val_loss: 1.1683\n",
            "Epoch 19/80\n",
            "20/20 [==============================] - 0s 7ms/step - loss: 0.9609 - val_loss: 1.1645\n",
            "Epoch 20/80\n",
            "20/20 [==============================] - 0s 7ms/step - loss: 0.9566 - val_loss: 1.1660\n",
            "Epoch 21/80\n",
            "20/20 [==============================] - 0s 7ms/step - loss: 0.9520 - val_loss: 1.1759\n",
            "Epoch 22/80\n",
            "20/20 [==============================] - 0s 7ms/step - loss: 0.9562 - val_loss: 1.1764\n",
            "Epoch 23/80\n",
            "20/20 [==============================] - 0s 7ms/step - loss: 0.9458 - val_loss: 1.1964\n",
            "Epoch 24/80\n",
            "20/20 [==============================] - 0s 7ms/step - loss: 0.9493 - val_loss: 1.1796\n",
            "Epoch 25/80\n",
            "20/20 [==============================] - 0s 7ms/step - loss: 0.9367 - val_loss: 1.2019\n",
            "Epoch 26/80\n",
            "20/20 [==============================] - 0s 7ms/step - loss: 0.9301 - val_loss: 1.2241\n",
            "Epoch 27/80\n",
            "20/20 [==============================] - 0s 7ms/step - loss: 0.9271 - val_loss: 1.2555\n",
            "Epoch 28/80\n",
            "20/20 [==============================] - 0s 7ms/step - loss: 0.9219 - val_loss: 1.2092\n",
            "Epoch 29/80\n",
            "20/20 [==============================] - 0s 7ms/step - loss: 0.9276 - val_loss: 1.2408\n",
            "Epoch 30/80\n",
            "20/20 [==============================] - 0s 7ms/step - loss: 0.9265 - val_loss: 1.2751\n",
            "Epoch 31/80\n",
            "20/20 [==============================] - 0s 7ms/step - loss: 0.9104 - val_loss: 1.2982\n",
            "Epoch 32/80\n",
            "20/20 [==============================] - 0s 7ms/step - loss: 0.9064 - val_loss: 1.2852\n",
            "Epoch 33/80\n",
            "20/20 [==============================] - 0s 7ms/step - loss: 0.8930 - val_loss: 1.2909\n",
            "Epoch 34/80\n",
            "20/20 [==============================] - 0s 8ms/step - loss: 0.8949 - val_loss: 1.3382\n",
            "Epoch 35/80\n",
            "20/20 [==============================] - 0s 7ms/step - loss: 0.8962 - val_loss: 1.3152\n",
            "Epoch 36/80\n",
            "20/20 [==============================] - 0s 7ms/step - loss: 0.8992 - val_loss: 1.3039\n",
            "Epoch 37/80\n",
            "20/20 [==============================] - 0s 7ms/step - loss: 0.8944 - val_loss: 1.3334\n",
            "Epoch 38/80\n",
            "20/20 [==============================] - 0s 7ms/step - loss: 0.8790 - val_loss: 1.3903\n",
            "Epoch 39/80\n",
            "20/20 [==============================] - 0s 7ms/step - loss: 0.8758 - val_loss: 1.3607\n",
            "Epoch 40/80\n",
            "20/20 [==============================] - 0s 7ms/step - loss: 0.8721 - val_loss: 1.3793\n",
            "Epoch 41/80\n",
            "20/20 [==============================] - 0s 7ms/step - loss: 0.8676 - val_loss: 1.4599\n",
            "Epoch 42/80\n",
            "20/20 [==============================] - 0s 8ms/step - loss: 0.8622 - val_loss: 1.4038\n",
            "Epoch 43/80\n",
            "20/20 [==============================] - 0s 8ms/step - loss: 0.8700 - val_loss: 1.4229\n",
            "Epoch 44/80\n",
            "20/20 [==============================] - 0s 8ms/step - loss: 0.8694 - val_loss: 1.4292\n",
            "Epoch 45/80\n",
            "20/20 [==============================] - 0s 9ms/step - loss: 0.8626 - val_loss: 1.4500\n",
            "Epoch 46/80\n",
            "20/20 [==============================] - 0s 9ms/step - loss: 0.8606 - val_loss: 1.4251\n",
            "Epoch 47/80\n",
            "20/20 [==============================] - 0s 8ms/step - loss: 0.8525 - val_loss: 1.3917\n",
            "Epoch 48/80\n",
            "20/20 [==============================] - 0s 8ms/step - loss: 0.8673 - val_loss: 1.4349\n",
            "Epoch 49/80\n",
            "20/20 [==============================] - 0s 8ms/step - loss: 0.8531 - val_loss: 1.4295\n",
            "Epoch 50/80\n",
            "20/20 [==============================] - 0s 9ms/step - loss: 0.8537 - val_loss: 1.4638\n",
            "Epoch 51/80\n",
            "20/20 [==============================] - 0s 8ms/step - loss: 0.8569 - val_loss: 1.5399\n",
            "Epoch 52/80\n",
            "20/20 [==============================] - 0s 7ms/step - loss: 0.8428 - val_loss: 1.4657\n",
            "Epoch 53/80\n",
            "20/20 [==============================] - 0s 7ms/step - loss: 0.8443 - val_loss: 1.5434\n",
            "Epoch 54/80\n",
            "20/20 [==============================] - 0s 7ms/step - loss: 0.8381 - val_loss: 1.4979\n",
            "Epoch 55/80\n",
            "20/20 [==============================] - 0s 7ms/step - loss: 0.8392 - val_loss: 1.5042\n",
            "Epoch 56/80\n",
            "20/20 [==============================] - 0s 10ms/step - loss: 0.8375 - val_loss: 1.5409\n",
            "Epoch 57/80\n",
            "20/20 [==============================] - 0s 9ms/step - loss: 0.8404 - val_loss: 1.5339\n",
            "Epoch 58/80\n",
            "20/20 [==============================] - 0s 8ms/step - loss: 0.8328 - val_loss: 1.4804\n",
            "Epoch 59/80\n",
            "20/20 [==============================] - 0s 8ms/step - loss: 0.8307 - val_loss: 1.5389\n",
            "Epoch 60/80\n",
            "20/20 [==============================] - 0s 7ms/step - loss: 0.8311 - val_loss: 1.4994\n",
            "Epoch 61/80\n",
            "20/20 [==============================] - 0s 8ms/step - loss: 0.8277 - val_loss: 1.5401\n",
            "Epoch 62/80\n",
            "20/20 [==============================] - 0s 7ms/step - loss: 0.8217 - val_loss: 1.4792\n",
            "Epoch 63/80\n",
            "20/20 [==============================] - 0s 7ms/step - loss: 0.8232 - val_loss: 1.5291\n",
            "Epoch 64/80\n",
            "20/20 [==============================] - 0s 7ms/step - loss: 0.8243 - val_loss: 1.5048\n",
            "Epoch 65/80\n",
            "20/20 [==============================] - 0s 7ms/step - loss: 0.8097 - val_loss: 1.5469\n",
            "Epoch 66/80\n",
            "20/20 [==============================] - 0s 7ms/step - loss: 0.8121 - val_loss: 1.5265\n",
            "Epoch 67/80\n",
            "20/20 [==============================] - 0s 7ms/step - loss: 0.8070 - val_loss: 1.4963\n",
            "Epoch 68/80\n",
            "20/20 [==============================] - 0s 7ms/step - loss: 0.8224 - val_loss: 1.5616\n",
            "Epoch 69/80\n",
            "20/20 [==============================] - 0s 7ms/step - loss: 0.8143 - val_loss: 1.5545\n",
            "Epoch 70/80\n",
            "20/20 [==============================] - 0s 7ms/step - loss: 0.8148 - val_loss: 1.5239\n",
            "Epoch 71/80\n",
            "20/20 [==============================] - 0s 7ms/step - loss: 0.8131 - val_loss: 1.5367\n",
            "Epoch 72/80\n",
            "20/20 [==============================] - 0s 7ms/step - loss: 0.8018 - val_loss: 1.5813\n",
            "Epoch 73/80\n",
            "20/20 [==============================] - 0s 7ms/step - loss: 0.8028 - val_loss: 1.5530\n",
            "Epoch 74/80\n",
            "20/20 [==============================] - 0s 7ms/step - loss: 0.8027 - val_loss: 1.5555\n",
            "Epoch 75/80\n",
            "20/20 [==============================] - 0s 7ms/step - loss: 0.7909 - val_loss: 1.5883\n",
            "Epoch 76/80\n",
            "20/20 [==============================] - 0s 7ms/step - loss: 0.8026 - val_loss: 1.5521\n",
            "Epoch 77/80\n",
            "20/20 [==============================] - 0s 7ms/step - loss: 0.7919 - val_loss: 1.5969\n",
            "Epoch 78/80\n",
            "20/20 [==============================] - 0s 9ms/step - loss: 0.7902 - val_loss: 1.5643\n",
            "Epoch 79/80\n",
            "20/20 [==============================] - 0s 9ms/step - loss: 0.7868 - val_loss: 1.5943\n",
            "Epoch 80/80\n",
            "20/20 [==============================] - 0s 8ms/step - loss: 0.7933 - val_loss: 1.6050\n"
          ]
        }
      ]
    },
    {
      "cell_type": "code",
      "source": [
        "# Plot loss per iteration\n",
        "import matplotlib.pyplot as plt\n",
        "plt.plot(r.history['loss'], label='loss')\n",
        "plt.plot(r.history['val_loss'], label='val_loss')\n",
        "plt.legend()"
      ],
      "metadata": {
        "colab": {
          "base_uri": "https://localhost:8080/",
          "height": 283
        },
        "id": "L39tt3xeMmUl",
        "outputId": "2eda7cc4-e27a-442f-f5a4-6e8fdc376f27"
      },
      "execution_count": 21,
      "outputs": [
        {
          "output_type": "execute_result",
          "data": {
            "text/plain": [
              "<matplotlib.legend.Legend at 0x7f2ce2ed2c50>"
            ]
          },
          "metadata": {},
          "execution_count": 21
        },
        {
          "output_type": "display_data",
          "data": {
            "text/plain": [
              "<Figure size 432x288 with 1 Axes>"
            ],
            "image/png": "[encoded data removed]"
          },
          "metadata": {
            "needs_background": "light"
          }
        }
      ]
    },
    {
      "cell_type": "code",
      "source": [
        "# One-step forecast using true target\n",
        "outputs = model.predict(X)\n",
        "print(outputs.shape)\n",
        "predictions = outputs[:,0]\n",
        "\n",
        "plt.plot(Y, label='targets')\n",
        "plt.plot(predictions, label='predictions')\n",
        "plt.legend()\n",
        "plt.show()"
      ],
      "metadata": {
        "colab": {
          "base_uri": "https://localhost:8080/",
          "height": 283
        },
        "id": "EOqjFyupMsru",
        "outputId": "c59173b0-4b56-4bb9-ab91-d180e1db9401"
      },
      "execution_count": 22,
      "outputs": [
        {
          "output_type": "stream",
          "name": "stdout",
          "text": [
            "(1248, 1)\n"
          ]
        },
        {
          "output_type": "display_data",
          "data": {
            "text/plain": [
              "<Figure size 432x288 with 1 Axes>"
            ],
            "image/png": "[encoded data removed]"
          },
          "metadata": {
            "needs_background": "light"
          }
        }
      ]
    },
    {
      "cell_type": "code",
      "source": [
        "# Multi-step forecast\n",
        "\n",
        "validation_target = Y[-N//2:]\n",
        "validation_predictions = []\n",
        "\n",
        "# Last train input\n",
        "last_x = X[-N//2] # 1-D array of lenght T\n",
        "\n",
        "while len(validation_predictions) < len(validation_target):\n",
        "  p = model.predict(last_x.reshape(1, T, 1))[0,0] # 1x1 array -> scalar\n",
        "  \n",
        "  # Update the predictions list\n",
        "  validation_predictions.append(p)\n",
        "\n",
        "  # Make the new input\n",
        "  last_x = np.roll(last_x, -1)\n",
        "  last_x[-1] = p\n",
        "\n",
        "plt.plot(validation_target, label='forecast targets')\n",
        "plt.plot(validation_predictions, label='forecast predictions')\n",
        "plt.legend()"
      ],
      "metadata": {
        "colab": {
          "base_uri": "https://localhost:8080/",
          "height": 283
        },
        "id": "39XYPEYaM6Qt",
        "outputId": "404e01a6-3f99-4b8a-8449-e28fade23235"
      },
      "execution_count": 23,
      "outputs": [
        {
          "output_type": "execute_result",
          "data": {
            "text/plain": [
              "<matplotlib.legend.Legend at 0x7f2d3205ebd0>"
            ]
          },
          "metadata": {},
          "execution_count": 23
        },
        {
          "output_type": "display_data",
          "data": {
            "text/plain": [
              "<Figure size 432x288 with 1 Axes>"
            ],
            "image/png": "[encoded data removed]"
          },
          "metadata": {
            "needs_background": "light"
          }
        }
      ]
    },
    {
      "cell_type": "code",
      "source": [
        ""
      ],
      "metadata": {
        "id": "u-aB8DTLPKHf"
      },
      "execution_count": null,
      "outputs": []
    }
  ]
}