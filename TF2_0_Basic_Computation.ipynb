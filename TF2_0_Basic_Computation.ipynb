{
  "nbformat": 4,
  "nbformat_minor": 0,
  "metadata": {
    "colab": {
      "provenance": [],
      "machine_shape": "hm",
      "authorship_tag": "ABX9TyN1+KZYAcKU62n1vdnACByw",
      "include_colab_link": true
    },
    "kernelspec": {
      "name": "python3",
      "display_name": "Python 3"
    },
    "language_info": {
      "name": "python"
    },
    "accelerator": "GPU",
    "gpuClass": "standard"
  },
  "cells": [
    {
      "cell_type": "markdown",
      "metadata": {
        "id": "view-in-github",
        "colab_type": "text"
      },
      "source": [
        "<a href=\"https://colab.research.google.com/github/meliy-meyada/Tensorflow-Deep-Learning-and-Artificial-Intelligence/blob/main/TF2_0_Basic_Computation.ipynb\" target=\"_parent\"><img src=\"https://colab.research.google.com/assets/colab-badge.svg\" alt=\"Open In Colab\"/></a>"
      ]
    },
    {
      "cell_type": "code",
      "execution_count": 1,
      "metadata": {
        "colab": {
          "base_uri": "https://localhost:8080/"
        },
        "id": "zd7BwXycjvPa",
        "outputId": "721bac66-dd07-43ee-e59d-766185345be2"
      },
      "outputs": [
        {
          "output_type": "stream",
          "name": "stdout",
          "text": [
            "Colab only includes TensorFlow 2.x; %tensorflow_version has no effect.\n",
            "2.8.2\n"
          ]
        }
      ],
      "source": [
        "# Install Tensorflow\n",
        "# !pip install -q tensorflow\n",
        "try:\n",
        "  %tensorflow_version 2.x #Colab only.\n",
        "except Exception:\n",
        "  pass\n",
        "\n",
        "import tensorflow as tf\n",
        "print(tf.__version__)"
      ]
    },
    {
      "cell_type": "code",
      "source": [
        "a = tf.constant(3.0)\n",
        "b = tf.constant(4.0)\n",
        "c = tf.sqrt(a**2 + b**2)\n",
        "print(\"c: \", c)\n",
        "print(f\"c: {c}\")"
      ],
      "metadata": {
        "colab": {
          "base_uri": "https://localhost:8080/"
        },
        "id": "58TUU6FwkLSF",
        "outputId": "2f9031b7-37be-4f89-9e29-fd37de23264d"
      },
      "execution_count": 3,
      "outputs": [
        {
          "output_type": "stream",
          "name": "stdout",
          "text": [
            "c:  tf.Tensor(5.0, shape=(), dtype=float32)\n",
            "c: 5.0\n"
          ]
        }
      ]
    },
    {
      "cell_type": "code",
      "source": [
        "c.numpy()"
      ],
      "metadata": {
        "colab": {
          "base_uri": "https://localhost:8080/"
        },
        "id": "bSa8GdEXkLPE",
        "outputId": "54d0a540-bd87-485d-f2ad-730305eea4b2"
      },
      "execution_count": 4,
      "outputs": [
        {
          "output_type": "execute_result",
          "data": {
            "text/plain": [
              "5.0"
            ]
          },
          "metadata": {},
          "execution_count": 4
        }
      ]
    },
    {
      "cell_type": "code",
      "source": [
        "type(c.numpy())"
      ],
      "metadata": {
        "colab": {
          "base_uri": "https://localhost:8080/"
        },
        "id": "CL-bAnFukLMT",
        "outputId": "a4252ddd-9f45-452a-b252-08abd2409c4e"
      },
      "execution_count": 5,
      "outputs": [
        {
          "output_type": "execute_result",
          "data": {
            "text/plain": [
              "numpy.float32"
            ]
          },
          "metadata": {},
          "execution_count": 5
        }
      ]
    },
    {
      "cell_type": "code",
      "source": [
        "a = tf.constant([1,2,3])\n",
        "b = tf.constant([4,5,6])\n",
        "c = tf.tensordot(a, b, axes=[0,0])\n",
        "print(f\"c: {c}\")"
      ],
      "metadata": {
        "colab": {
          "base_uri": "https://localhost:8080/"
        },
        "id": "ksQMgqLvkLJi",
        "outputId": "385aa636-324b-4735-cbd6-174703cc198c"
      },
      "execution_count": 8,
      "outputs": [
        {
          "output_type": "stream",
          "name": "stdout",
          "text": [
            "c: 32\n"
          ]
        }
      ]
    },
    {
      "cell_type": "code",
      "source": [
        "a.numpy().dot(b.numpy())"
      ],
      "metadata": {
        "colab": {
          "base_uri": "https://localhost:8080/"
        },
        "id": "a8pAUbr6kLGk",
        "outputId": "6a0c0e20-f1e9-4fec-f3e4-3424b4aa62ae"
      },
      "execution_count": 9,
      "outputs": [
        {
          "output_type": "execute_result",
          "data": {
            "text/plain": [
              "32"
            ]
          },
          "metadata": {},
          "execution_count": 9
        }
      ]
    },
    {
      "cell_type": "code",
      "source": [
        "import numpy as np\n",
        "A0 = np.random.randn(3,3)\n",
        "b0 = np.random.randn(3,1)\n",
        "c0 = A0.dot(b0)\n",
        "print(f\"c0: {c0}\")"
      ],
      "metadata": {
        "colab": {
          "base_uri": "https://localhost:8080/"
        },
        "id": "XHBVYJZ5kLDT",
        "outputId": "b2cbc903-2dbe-4f8f-b24f-523ab4841f95"
      },
      "execution_count": 12,
      "outputs": [
        {
          "output_type": "stream",
          "name": "stdout",
          "text": [
            "c0: [[ 0.41393624]\n",
            " [ 0.23708846]\n",
            " [-0.86575593]]\n"
          ]
        }
      ]
    },
    {
      "cell_type": "code",
      "source": [
        "A = tf.constant(A0)\n",
        "b = tf.constant(b0)\n",
        "c = tf.matmul(A, b)\n",
        "\n",
        "print(f\"c: {c}\")"
      ],
      "metadata": {
        "colab": {
          "base_uri": "https://localhost:8080/"
        },
        "id": "APfptcPLmae5",
        "outputId": "7b68d777-74b6-4f6d-fc67-faa2c530e99b"
      },
      "execution_count": 13,
      "outputs": [
        {
          "output_type": "stream",
          "name": "stdout",
          "text": [
            "c: [[ 0.41393624]\n",
            " [ 0.23708846]\n",
            " [-0.86575593]]\n"
          ]
        }
      ]
    },
    {
      "cell_type": "code",
      "source": [
        "A = tf.constant([[1,2], [3, 4]])\n",
        "b = tf.constant(10)\n",
        "c = A + b\n",
        "print(f\"c: {c}\")"
      ],
      "metadata": {
        "colab": {
          "base_uri": "https://localhost:8080/"
        },
        "id": "1SqEjQqOm_x6",
        "outputId": "eddf1efe-849d-448e-d05c-f48b37301e2e"
      },
      "execution_count": 15,
      "outputs": [
        {
          "output_type": "stream",
          "name": "stdout",
          "text": [
            "c: [[11 12]\n",
            " [13 14]]\n"
          ]
        }
      ]
    },
    {
      "cell_type": "code",
      "source": [
        "A = tf.constant([[1,2], [3,4]])\n",
        "B = tf.constant([[2,3], [4,5]])\n",
        "C = A * B\n",
        "print(f\"C: {C}\")"
      ],
      "metadata": {
        "colab": {
          "base_uri": "https://localhost:8080/"
        },
        "id": "ogRYtvaOnbt1",
        "outputId": "f3051438-30da-4fc7-95b2-02925d4fbc13"
      },
      "execution_count": 17,
      "outputs": [
        {
          "output_type": "stream",
          "name": "stdout",
          "text": [
            "C: [[ 2  6]\n",
            " [12 20]]\n"
          ]
        }
      ]
    }
  ]
}