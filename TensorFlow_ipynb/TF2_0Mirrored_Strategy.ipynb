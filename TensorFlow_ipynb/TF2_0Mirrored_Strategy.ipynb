{
  "nbformat": 4,
  "nbformat_minor": 0,
  "metadata": {
    "colab": {
      "provenance": [],
      "machine_shape": "hm",
      "authorship_tag": "ABX9TyO1XFOBA0tl+QrlL0f0X387",
      "include_colab_link": true
    },
    "kernelspec": {
      "name": "python3",
      "display_name": "Python 3"
    },
    "language_info": {
      "name": "python"
    },
    "accelerator": "GPU",
    "gpuClass": "standard"
  },
  "cells": [
    {
      "cell_type": "markdown",
      "metadata": {
        "id": "view-in-github",
        "colab_type": "text"
      },
      "source": [
        "<a href=\"https://colab.research.google.com/github/meliy-meyada/Tensorflow-Deep-Learning-and-Artificial-Intelligence/blob/main/TF2_0Mirrored_Strategy.ipynb\" target=\"_parent\"><img src=\"https://colab.research.google.com/assets/colab-badge.svg\" alt=\"Open In Colab\"/></a>"
      ]
    },
    {
      "cell_type": "code",
      "execution_count": 1,
      "metadata": {
        "colab": {
          "base_uri": "https://localhost:8080/"
        },
        "id": "sKLr7S5hIgBV",
        "outputId": "d35aa760-5414-4ce8-ae8d-3ba97138510b"
      },
      "outputs": [
        {
          "output_type": "stream",
          "name": "stdout",
          "text": [
            "Colab only includes TensorFlow 2.x; %tensorflow_version has no effect.\n",
            "2.8.2\n"
          ]
        }
      ],
      "source": [
        "try:\n",
        "  %tensorflow_version 2.x #Colab only.\n",
        "except Exception:\n",
        "  pass\n",
        "\n",
        "import tensorflow as tf\n",
        "\n",
        "print(tf.__version__)"
      ]
    },
    {
      "cell_type": "code",
      "source": [
        "# More additional imports\n",
        "\n",
        "import numpy as np\n",
        "import matplotlib.pyplot as plt\n",
        "from tensorflow.keras.layers import Input, Conv2D, Dense, Flatten, Dropout, GlobalMaxPool2D, MaxPooling2D, BatchNormalization\n",
        "from tensorflow.keras.models import Model"
      ],
      "metadata": {
        "id": "tDWd5M2CMIvW"
      },
      "execution_count": 2,
      "outputs": []
    },
    {
      "cell_type": "code",
      "source": [
        "# Load in the data\n",
        "cifar10 = tf.keras.datasets.cifar10\n",
        "\n",
        "(x_train, y_train), (x_test, y_test) = cifar10.load_data()\n",
        "x_train, x_test = x_train / 255.0, x_test / 255.0\n",
        "y_train, y_test = y_train.flatten(), y_test.flatten()\n",
        "print(\"x_train.shape: \", x_train.shape)\n",
        "print(\"y_train.shape: \", y_train.shape)"
      ],
      "metadata": {
        "colab": {
          "base_uri": "https://localhost:8080/"
        },
        "id": "I2utPormNKLC",
        "outputId": "67a4eb1b-c5e6-4564-96c2-2a1cb51092ea"
      },
      "execution_count": 3,
      "outputs": [
        {
          "output_type": "stream",
          "name": "stdout",
          "text": [
            "Downloading data from https://www.cs.toronto.edu/~kriz/cifar-10-python.tar.gz\n",
            "170500096/170498071 [==============================] - 3s 0us/step\n",
            "170508288/170498071 [==============================] - 3s 0us/step\n",
            "x_train.shape:  (50000, 32, 32, 3)\n",
            "y_train.shape:  (50000,)\n"
          ]
        }
      ]
    },
    {
      "cell_type": "code",
      "source": [
        "# number of classes\n",
        "K = len(set(y_train))\n",
        "print(\"number of classes: \", K)"
      ],
      "metadata": {
        "colab": {
          "base_uri": "https://localhost:8080/"
        },
        "id": "-1r4k_l5Ob2d",
        "outputId": "8533d1b1-5995-4931-8367-dfea16f600aa"
      },
      "execution_count": 5,
      "outputs": [
        {
          "output_type": "stream",
          "name": "stdout",
          "text": [
            "number of classes:  10\n"
          ]
        }
      ]
    },
    {
      "cell_type": "code",
      "source": [
        "# Build the model using the functional API\n",
        "def create_model():\n",
        "  i = Input(shape=x_train[0].shape)\n",
        "\n",
        "  x = Conv2D(32, (3, 3), activation='relu', padding='same')(i)\n",
        "  x = BatchNormalization()(x)\n",
        "  x = Conv2D(32, (3, 3), activation='relu', padding='same')(x)\n",
        "  x = BatchNormalization()(x)\n",
        "  x = MaxPooling2D((2, 2))(x)\n",
        "  x = Conv2D(64, (3, 3), activation='relu', padding='same')(x)\n",
        "  x = BatchNormalization()(x)\n",
        "  x = Conv2D(64, (3, 3), activation='relu', padding='same')(x)\n",
        "  x = BatchNormalization()(x)\n",
        "  x = MaxPooling2D((2, 2))(x)\n",
        "  x = Conv2D(128, (3, 3), activation='relu', padding='same')(x)\n",
        "  x = BatchNormalization()(x)\n",
        "  x = Conv2D(128, (3, 3), activation='relu', padding='same')(x)\n",
        "  x = BatchNormalization()(x)\n",
        "  x = MaxPooling2D((2, 2))(x)\n",
        "\n",
        "  x = Flatten()(x)\n",
        "  x = Dropout(0.2)(x)\n",
        "  x = Dense(1024, activation='relu')(x)\n",
        "  x = Dropout(0.2)(x)\n",
        "  x = Dense(K, activation='softmax')(x)\n",
        "\n",
        "  model = Model(i, x)\n",
        "  return model"
      ],
      "metadata": {
        "id": "Uof6oflMOxsY"
      },
      "execution_count": 6,
      "outputs": []
    },
    {
      "cell_type": "code",
      "source": [
        "strategy = tf.distribute.MirroredStrategy()\n",
        "# strategy = tf.distribute.experimental.CentralStorageStrategy()"
      ],
      "metadata": {
        "id": "C1RG76gZR68c"
      },
      "execution_count": 7,
      "outputs": []
    },
    {
      "cell_type": "code",
      "source": [
        "print(f\"Number of devices: {strategy.num_replicas_in_sync}\")"
      ],
      "metadata": {
        "colab": {
          "base_uri": "https://localhost:8080/"
        },
        "id": "ZikiQHEOSagz",
        "outputId": "ebdaff06-62b1-4d88-aa23-37a17960effc"
      },
      "execution_count": 8,
      "outputs": [
        {
          "output_type": "stream",
          "name": "stdout",
          "text": [
            "Number of devices: 1\n"
          ]
        }
      ]
    },
    {
      "cell_type": "code",
      "source": [
        "with strategy.scope():\n",
        "  model = create_model()\n",
        "\n",
        "  model.compile(loss='sparse_categorical_crossentropy',\n",
        "                optimizer='adam',\n",
        "                metrics=['accuracy'])"
      ],
      "metadata": {
        "id": "3RozQm-qSadx"
      },
      "execution_count": 9,
      "outputs": []
    },
    {
      "cell_type": "code",
      "source": [
        "# Fit\n",
        "r = model.fit(x_train, y_train, validation_data=(x_test, y_test), batch_size=128, epochs=15)"
      ],
      "metadata": {
        "colab": {
          "base_uri": "https://localhost:8080/"
        },
        "id": "kOli7s1pSaaz",
        "outputId": "27b7b615-aa7a-48b9-fde5-c5e3c62eda3a"
      },
      "execution_count": 10,
      "outputs": [
        {
          "output_type": "stream",
          "name": "stdout",
          "text": [
            "Epoch 1/15\n",
            "391/391 [==============================] - 23s 20ms/step - loss: 1.4722 - accuracy: 0.5052 - val_loss: 2.0573 - val_accuracy: 0.3222\n",
            "Epoch 2/15\n",
            "391/391 [==============================] - 6s 15ms/step - loss: 0.8636 - accuracy: 0.6936 - val_loss: 0.8161 - val_accuracy: 0.7129\n",
            "Epoch 3/15\n",
            "391/391 [==============================] - 6s 15ms/step - loss: 0.6738 - accuracy: 0.7648 - val_loss: 0.7135 - val_accuracy: 0.7551\n",
            "Epoch 4/15\n",
            "391/391 [==============================] - 6s 15ms/step - loss: 0.5467 - accuracy: 0.8085 - val_loss: 0.7161 - val_accuracy: 0.7616\n",
            "Epoch 5/15\n",
            "391/391 [==============================] - 6s 15ms/step - loss: 0.4631 - accuracy: 0.8374 - val_loss: 0.8125 - val_accuracy: 0.7356\n",
            "Epoch 6/15\n",
            "391/391 [==============================] - 6s 15ms/step - loss: 0.3764 - accuracy: 0.8669 - val_loss: 0.6123 - val_accuracy: 0.8025\n",
            "Epoch 7/15\n",
            "391/391 [==============================] - 6s 15ms/step - loss: 0.3050 - accuracy: 0.8918 - val_loss: 0.7434 - val_accuracy: 0.7744\n",
            "Epoch 8/15\n",
            "391/391 [==============================] - 6s 15ms/step - loss: 0.2541 - accuracy: 0.9107 - val_loss: 0.6187 - val_accuracy: 0.8170\n",
            "Epoch 9/15\n",
            "391/391 [==============================] - 6s 15ms/step - loss: 0.2096 - accuracy: 0.9263 - val_loss: 0.6596 - val_accuracy: 0.8077\n",
            "Epoch 10/15\n",
            "391/391 [==============================] - 6s 15ms/step - loss: 0.1828 - accuracy: 0.9355 - val_loss: 0.7118 - val_accuracy: 0.8125\n",
            "Epoch 11/15\n",
            "391/391 [==============================] - 6s 15ms/step - loss: 0.1596 - accuracy: 0.9441 - val_loss: 0.6996 - val_accuracy: 0.8162\n",
            "Epoch 12/15\n",
            "391/391 [==============================] - 6s 15ms/step - loss: 0.1390 - accuracy: 0.9518 - val_loss: 0.8555 - val_accuracy: 0.7912\n",
            "Epoch 13/15\n",
            "391/391 [==============================] - 6s 15ms/step - loss: 0.1265 - accuracy: 0.9558 - val_loss: 0.8294 - val_accuracy: 0.8004\n",
            "Epoch 14/15\n",
            "391/391 [==============================] - 6s 15ms/step - loss: 0.1192 - accuracy: 0.9590 - val_loss: 0.8094 - val_accuracy: 0.8137\n",
            "Epoch 15/15\n",
            "391/391 [==============================] - 6s 15ms/step - loss: 0.1132 - accuracy: 0.9606 - val_loss: 0.7673 - val_accuracy: 0.8236\n"
          ]
        }
      ]
    },
    {
      "cell_type": "code",
      "source": [
        "50000/391"
      ],
      "metadata": {
        "colab": {
          "base_uri": "https://localhost:8080/"
        },
        "id": "MLlxqsRRT2QH",
        "outputId": "3ffff505-6ad7-47d0-fe0a-ee028d176f9d"
      },
      "execution_count": 11,
      "outputs": [
        {
          "output_type": "execute_result",
          "data": {
            "text/plain": [
              "127.8772378516624"
            ]
          },
          "metadata": {},
          "execution_count": 11
        }
      ]
    },
    {
      "cell_type": "code",
      "source": [
        "10000/79"
      ],
      "metadata": {
        "colab": {
          "base_uri": "https://localhost:8080/"
        },
        "id": "4Pse-AagT2Nl",
        "outputId": "8316db56-97f5-4c75-f1db-05a7b040fa39"
      },
      "execution_count": 12,
      "outputs": [
        {
          "output_type": "execute_result",
          "data": {
            "text/plain": [
              "126.58227848101266"
            ]
          },
          "metadata": {},
          "execution_count": 12
        }
      ]
    },
    {
      "cell_type": "code",
      "source": [
        "model2 = create_model()\n",
        "\n",
        "model2.compile(loss='sparse_categorical_crossentropy',\n",
        "              optimizer='adam',\n",
        "              metrics=['accuracy'])\n",
        "r = model2.fit(x_train, y_train, validation_data=(x_test, y_test), batch_size=128, epochs=5)"
      ],
      "metadata": {
        "colab": {
          "base_uri": "https://localhost:8080/"
        },
        "id": "A7qfqGxXT2LO",
        "outputId": "88ff6f3a-bcad-48bf-fd6e-933b15ed7832"
      },
      "execution_count": 13,
      "outputs": [
        {
          "output_type": "stream",
          "name": "stdout",
          "text": [
            "Epoch 1/5\n",
            "391/391 [==============================] - 6s 13ms/step - loss: 1.4175 - accuracy: 0.5240 - val_loss: 2.2556 - val_accuracy: 0.2866\n",
            "Epoch 2/5\n",
            "391/391 [==============================] - 5s 12ms/step - loss: 0.8598 - accuracy: 0.6973 - val_loss: 0.8727 - val_accuracy: 0.6939\n",
            "Epoch 3/5\n",
            "391/391 [==============================] - 5s 12ms/step - loss: 0.6630 - accuracy: 0.7664 - val_loss: 0.7318 - val_accuracy: 0.7496\n",
            "Epoch 4/5\n",
            "391/391 [==============================] - 5s 12ms/step - loss: 0.5432 - accuracy: 0.8104 - val_loss: 0.7873 - val_accuracy: 0.7310\n",
            "Epoch 5/5\n",
            "391/391 [==============================] - 5s 12ms/step - loss: 0.4555 - accuracy: 0.8410 - val_loss: 0.6120 - val_accuracy: 0.7929\n"
          ]
        }
      ]
    },
    {
      "cell_type": "code",
      "source": [],
      "metadata": {
        "id": "Cj46IOk5T2Io"
      },
      "execution_count": null,
      "outputs": []
    }
  ]
}