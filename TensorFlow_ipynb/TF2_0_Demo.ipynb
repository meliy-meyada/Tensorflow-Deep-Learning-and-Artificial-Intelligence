{
  "nbformat": 4,
  "nbformat_minor": 0,
  "metadata": {
    "colab": {
      "name": "TF2.0 Demo.ipynb",
      "provenance": [],
      "authorship_tag": "ABX9TyPiRmwMkODlH1Otxwtg0Z1P",
      "include_colab_link": true
    },
    "kernelspec": {
      "name": "python3",
      "display_name": "Python 3"
    },
    "language_info": {
      "name": "python"
    },
    "accelerator": "GPU",
    "gpuClass": "standard"
  },
  "cells": [
    {
      "cell_type": "markdown",
      "metadata": {
        "id": "view-in-github",
        "colab_type": "text"
      },
      "source": [
        "<a href=\"https://colab.research.google.com/github/meliy-meyada/Tensorflow-Deep-Learning-and-Artificial-Intelligence/blob/main/TF2_0_Demo.ipynb\" target=\"_parent\"><img src=\"https://colab.research.google.com/assets/colab-badge.svg\" alt=\"Open In Colab\"/></a>"
      ]
    },
    {
      "cell_type": "code",
      "execution_count": 1,
      "metadata": {
        "colab": {
          "base_uri": "https://localhost:8080/"
        },
        "id": "NAiVyHbskYm_",
        "outputId": "df4f635a-f3e3-411e-b822-401934739a42"
      },
      "outputs": [
        {
          "output_type": "stream",
          "name": "stdout",
          "text": [
            "sklearn 1.0.2\n",
            "numpy 1.21.6\n",
            "scipy 1.4.1\n",
            "pandas 1.3.5\n",
            "seaborn 0.11.2\n",
            "wordcloud 1.5.0\n",
            "bs4 4.6.3\n",
            "requests 2.23.0\n",
            "theano 1.1.2\n",
            "networkx 2.6.3\n",
            "cv2 4.1.2\n",
            "gym 0.17.3\n"
          ]
        }
      ],
      "source": [
        "import sklearn\n",
        "print(\"sklearn \" + sklearn.__version__)\n",
        "\n",
        "import numpy\n",
        "print(\"numpy \" + numpy.__version__)\n",
        "\n",
        "import scipy\n",
        "print(\"scipy \" + scipy.__version__)\n",
        "\n",
        "import pandas\n",
        "print(\"pandas \" + pandas.__version__)\n",
        "\n",
        "import seaborn\n",
        "print(\"seaborn \" + seaborn.__version__)\n",
        "\n",
        "import wordcloud\n",
        "print(\"wordcloud \" + wordcloud.__version__)\n",
        "\n",
        "import bs4\n",
        "print(\"bs4 \" + bs4.__version__)\n",
        "\n",
        "import requests\n",
        "print(\"requests \" + requests.__version__)\n",
        "\n",
        "import theano\n",
        "print(\"theano \" + theano.__version__)\n",
        "\n",
        "import networkx\n",
        "print(\"networkx \" + networkx.__version__)\n",
        "\n",
        "import cv2\n",
        "print(\"cv2 \" + cv2.__version__)\n",
        "\n",
        "import gym\n",
        "print(\"gym \" + gym.__version__)\n"
      ]
    }
  ]
}