{
  "nbformat": 4,
  "nbformat_minor": 0,
  "metadata": {
    "colab": {
      "provenance": [],
      "machine_shape": "hm",
      "authorship_tag": "ABX9TyOGTwT+F+v/sekA/ytW4WPp",
      "include_colab_link": true
    },
    "kernelspec": {
      "name": "python3",
      "display_name": "Python 3"
    },
    "language_info": {
      "name": "python"
    },
    "accelerator": "TPU",
    "gpuClass": "standard"
  },
  "cells": [
    {
      "cell_type": "markdown",
      "metadata": {
        "id": "view-in-github",
        "colab_type": "text"
      },
      "source": [
        "<a href=\"https://colab.research.google.com/github/meliy-meyada/Tensorflow-Deep-Learning-and-Artificial-Intelligence/blob/main/TPU.ipynb\" target=\"_parent\"><img src=\"https://colab.research.google.com/assets/colab-badge.svg\" alt=\"Open In Colab\"/></a>"
      ]
    },
    {
      "cell_type": "code",
      "execution_count": 2,
      "metadata": {
        "id": "Eb7BSTNIYKOd"
      },
      "outputs": [],
      "source": [
        "import tensorflow as tf\n",
        "import numpy as np\n",
        "import pandas as pd\n",
        "\n",
        "from tensorflow.keras.layers import Input, Conv2D, Dense, Flatten, Dropout, GlobalMaxPooling2D, MaxPooling2D, BatchNormalization\n",
        "from tensorflow.keras.models import Model"
      ]
    },
    {
      "cell_type": "code",
      "source": [
        "resolver = tf.distribute.cluster_resolver.TPUClusterResolver(tpu='')\n",
        "tf.config.experimental_connect_to_cluster(resolver)\n",
        "tf.tpu.experimental.initialize_tpu_system(resolver)\n",
        "print(\"All devices: \", tf.config.list_logical_devices('TPU'))"
      ],
      "metadata": {
        "colab": {
          "base_uri": "https://localhost:8080/"
        },
        "id": "PeAJDSceZCzu",
        "outputId": "226550ef-1967-4a8b-d09c-1cff67460b28"
      },
      "execution_count": 3,
      "outputs": [
        {
          "output_type": "stream",
          "name": "stdout",
          "text": [
            "All devices:  [LogicalDevice(name='/job:worker/replica:0/task:0/device:TPU:0', device_type='TPU'), LogicalDevice(name='/job:worker/replica:0/task:0/device:TPU:1', device_type='TPU'), LogicalDevice(name='/job:worker/replica:0/task:0/device:TPU:2', device_type='TPU'), LogicalDevice(name='/job:worker/replica:0/task:0/device:TPU:3', device_type='TPU'), LogicalDevice(name='/job:worker/replica:0/task:0/device:TPU:4', device_type='TPU'), LogicalDevice(name='/job:worker/replica:0/task:0/device:TPU:5', device_type='TPU'), LogicalDevice(name='/job:worker/replica:0/task:0/device:TPU:6', device_type='TPU'), LogicalDevice(name='/job:worker/replica:0/task:0/device:TPU:7', device_type='TPU')]\n"
          ]
        }
      ]
    },
    {
      "cell_type": "code",
      "source": [
        "strategy = tf.distribute.TPUStrategy(resolver)"
      ],
      "metadata": {
        "id": "1MK7me5fZFRg"
      },
      "execution_count": 4,
      "outputs": []
    },
    {
      "cell_type": "code",
      "source": [
        "def create_model():\n",
        "  i = Input(shape=(32, 32, 3))\n",
        "\n",
        "  x = Conv2D(32, (3, 3), activation='relu', padding='same')(i)\n",
        "  x = BatchNormalization()(x)\n",
        "  x = Conv2D(32, (3, 3), activation='relu', padding='same')(x)\n",
        "  x = BatchNormalization()(x)\n",
        "  x = MaxPooling2D((2, 2))(x)\n",
        "  x = Conv2D(64, (3, 3), activation='relu', padding='same')(x)\n",
        "  x = BatchNormalization()(x)\n",
        "  x = Conv2D(64, (3, 3), activation='relu', padding='same')(x)\n",
        "  x = BatchNormalization()(x)\n",
        "  x = MaxPooling2D((2, 2))(x)\n",
        "  x = Conv2D(128, (3, 3), activation='relu', padding='same')(x)\n",
        "  x = BatchNormalization()(x)\n",
        "  x = Conv2D(128, (3, 3), activation='relu', padding='same')(x)\n",
        "  x = BatchNormalization()(x)\n",
        "  x = MaxPooling2D((2, 2))(x)\n",
        "\n",
        "  x = Flatten()(x)\n",
        "  x = Dropout(0.2)(x)\n",
        "  x = Dense(1024, activation='relu')(x)\n",
        "  x = Dropout(0.2)(x)\n",
        "  x = Dense(10)(x)\n",
        "\n",
        "  model = Model(i, x)\n",
        "  return model"
      ],
      "metadata": {
        "id": "-1grhMEHZFFz"
      },
      "execution_count": 5,
      "outputs": []
    },
    {
      "cell_type": "code",
      "source": [
        "# Load in the data\n",
        "cifar10 = tf.keras.datasets.cifar10\n",
        "\n",
        "(x_train, y_train), (x_test, y_test) = cifar10.load_data()\n",
        "x_train, x_test = x_train / 255.0, x_test / 255.0\n",
        "y_train, y_test = y_train.flatten(), y_test.flatten()\n",
        "print(\"x_train.shape: \", x_train.shape)\n",
        "print(\"y_train.shape: \", y_train.shape)"
      ],
      "metadata": {
        "colab": {
          "base_uri": "https://localhost:8080/"
        },
        "id": "Loid0V7sZEuT",
        "outputId": "cf0e6e79-74ed-44af-b38c-95d1dc69ef13"
      },
      "execution_count": 6,
      "outputs": [
        {
          "output_type": "stream",
          "name": "stdout",
          "text": [
            "Downloading data from https://www.cs.toronto.edu/~kriz/cifar-10-python.tar.gz\n",
            "170500096/170498071 [==============================] - 2s 0us/step\n",
            "170508288/170498071 [==============================] - 2s 0us/step\n",
            "x_train.shape:  (50000, 32, 32, 3)\n",
            "y_train.shape:  (50000,)\n"
          ]
        }
      ]
    },
    {
      "cell_type": "code",
      "source": [
        "train_dataset = tf.data.Dataset.from_tensor_slices((x_train, y_train))\n",
        "test_dataset = tf.data.Dataset.from_tensor_slices((x_test, y_test))"
      ],
      "metadata": {
        "id": "glcD23k6ccQj"
      },
      "execution_count": 8,
      "outputs": []
    },
    {
      "cell_type": "code",
      "source": [
        "with strategy.scope():\n",
        "  model = create_model()\n",
        "\n",
        "  model.compile(optimizer='adam',\n",
        "                loss= tf.keras.losses.SparseCategoricalCrossentropy(from_logits=True),\n",
        "                metrics=['sparse_categorical_accuracy'])\n",
        "batch_size = 256\n",
        "\n",
        "# reshuffle_each_iteration=None is default but is later set to True id None\n",
        "# thus \"True\" is the actual default\n",
        "train_dataset = train_dataset.shuffle(1000).batch(batch_size)\n",
        "test_dataset = test_dataset.batch(batch_size)\n"
      ],
      "metadata": {
        "id": "2cXs7cDaccN0"
      },
      "execution_count": 9,
      "outputs": []
    },
    {
      "cell_type": "code",
      "source": [
        "model.fit(\n",
        "    train_dataset,\n",
        "    epochs=5,\n",
        "    validation_data=test_dataset)"
      ],
      "metadata": {
        "colab": {
          "base_uri": "https://localhost:8080/"
        },
        "id": "l7PJiNUXdkn-",
        "outputId": "13f27e27-a111-49a6-ef5b-dd41bd3a9d24"
      },
      "execution_count": 10,
      "outputs": [
        {
          "output_type": "stream",
          "name": "stdout",
          "text": [
            "Epoch 1/5\n",
            "196/196 [==============================] - 23s 72ms/step - loss: 1.6100 - sparse_categorical_accuracy: 0.4838 - val_loss: 3.5262 - val_sparse_categorical_accuracy: 0.1024\n",
            "Epoch 2/5\n",
            "196/196 [==============================] - 8s 40ms/step - loss: 0.9384 - sparse_categorical_accuracy: 0.6694 - val_loss: 2.3600 - val_sparse_categorical_accuracy: 0.3515\n",
            "Epoch 3/5\n",
            "196/196 [==============================] - 8s 40ms/step - loss: 0.7236 - sparse_categorical_accuracy: 0.7456 - val_loss: 0.8231 - val_sparse_categorical_accuracy: 0.7117\n",
            "Epoch 4/5\n",
            "196/196 [==============================] - 8s 41ms/step - loss: 0.6028 - sparse_categorical_accuracy: 0.7866 - val_loss: 0.7350 - val_sparse_categorical_accuracy: 0.7538\n",
            "Epoch 5/5\n",
            "196/196 [==============================] - 8s 42ms/step - loss: 0.5075 - sparse_categorical_accuracy: 0.8218 - val_loss: 0.8420 - val_sparse_categorical_accuracy: 0.7356\n"
          ]
        },
        {
          "output_type": "execute_result",
          "data": {
            "text/plain": [
              "<keras.callbacks.History at 0x7f4d14eea210>"
            ]
          },
          "metadata": {},
          "execution_count": 10
        }
      ]
    },
    {
      "cell_type": "code",
      "source": [
        "model.save('mymodel.h5')"
      ],
      "metadata": {
        "id": "qTcGVh5yccKT"
      },
      "execution_count": 12,
      "outputs": []
    },
    {
      "cell_type": "code",
      "source": [
        "with strategy.scope():\n",
        "  model = tf.keras.models.load_model('mymodel.h5')\n",
        "  out = model.predict(x_test[:1])\n",
        "  print(out)"
      ],
      "metadata": {
        "colab": {
          "base_uri": "https://localhost:8080/"
        },
        "id": "pOXO5L_eccFC",
        "outputId": "23b13481-05ea-4ee0-9f2a-0545150d866b"
      },
      "execution_count": 13,
      "outputs": [
        {
          "output_type": "stream",
          "name": "stdout",
          "text": [
            "[[-1.7441525   1.5347801   1.0338403   6.6908464  -4.898866    6.260519\n",
            "   0.23360309 -2.9189515  -2.5866344  -1.7244076 ]]\n"
          ]
        }
      ]
    }
  ]
}