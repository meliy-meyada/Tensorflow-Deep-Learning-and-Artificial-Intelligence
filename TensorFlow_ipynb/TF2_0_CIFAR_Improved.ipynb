{
  "cells": [
    {
      "cell_type": "markdown",
      "metadata": {
        "id": "view-in-github",
        "colab_type": "text"
      },
      "source": [
        "<a href=\"https://colab.research.google.com/github/meliy-meyada/Tensorflow-Deep-Learning-and-Artificial-Intelligence/blob/main/TF2_0_CIFAR_Improved.ipynb\" target=\"_parent\"><img src=\"https://colab.research.google.com/assets/colab-badge.svg\" alt=\"Open In Colab\"/></a>"
      ]
    },
    {
      "cell_type": "code",
      "execution_count": 1,
      "metadata": {
        "colab": {
          "base_uri": "https://localhost:8080/"
        },
        "id": "_Nqt3Otnt13u",
        "outputId": "baa3ac8f-49eb-4c51-be9d-1280d6f42e16"
      },
      "outputs": [
        {
          "output_type": "stream",
          "name": "stdout",
          "text": [
            "\u001b[K     |████████████████████████████████| 5.8 MB 4.3 MB/s \n",
            "\u001b[K     |████████████████████████████████| 1.4 MB 62.0 MB/s \n",
            "\u001b[K     |████████████████████████████████| 462 kB 84.9 MB/s \n",
            "\u001b[31mERROR: pip's dependency resolver does not currently take into account all the packages that are installed. This behaviour is the source of the following dependency conflicts.\n",
            "tensorflow 2.9.1 requires keras<2.10.0,>=2.9.0rc0, but you have keras 2.8.0 which is incompatible.\n",
            "tensorflow 2.9.1 requires tensorboard<2.10,>=2.9, but you have tensorboard 2.8.0 which is incompatible.\n",
            "tensorflow 2.9.1 requires tensorflow-estimator<2.10.0,>=2.9.0rc0, but you have tensorflow-estimator 2.8.0 which is incompatible.\u001b[0m\n",
            "\u001b[?25h2.9.1\n"
          ]
        }
      ],
      "source": [
        "# Install Tensorflow\n",
        "!pip install -q tensorflow-gpu\n",
        "import tensorflow as tf\n",
        "print(tf.__version__)"
      ]
    },
    {
      "cell_type": "code",
      "execution_count": 2,
      "metadata": {
        "id": "gkT7uCVquJoA"
      },
      "outputs": [],
      "source": [
        "# Additional imports\n",
        "\n",
        "import numpy as np\n",
        "import matplotlib.pyplot as plt\n",
        "from tensorflow.keras.layers import Input, Conv2D, Dense, Flatten, Dropout, GlobalAveragePooling2D, MaxPooling2D, BatchNormalization\n",
        "from tensorflow.keras.models import Model"
      ]
    },
    {
      "cell_type": "code",
      "execution_count": 3,
      "metadata": {
        "colab": {
          "base_uri": "https://localhost:8080/"
        },
        "id": "R50SKeg2u8w3",
        "outputId": "6a7a5bc6-f619-45d8-8d07-ef13388ed934"
      },
      "outputs": [
        {
          "output_type": "stream",
          "name": "stdout",
          "text": [
            "x_train.shape:  (50000, 32, 32, 3)\n",
            "y_train.shape:  (50000,)\n"
          ]
        }
      ],
      "source": [
        "# Load in the data\n",
        "cifar10 = tf.keras.datasets.cifar10\n",
        "\n",
        "(x_train, y_train), (x_test, y_test) = cifar10.load_data()\n",
        "x_train, x_test = x_train / 255.0, x_test / 255.0\n",
        "y_train, y_test = y_train.flatten(), y_test.flatten()\n",
        "print(\"x_train.shape: \", x_train.shape)\n",
        "print(\"y_train.shape: \", y_train.shape)"
      ]
    },
    {
      "cell_type": "code",
      "execution_count": 4,
      "metadata": {
        "colab": {
          "base_uri": "https://localhost:8080/"
        },
        "id": "qY_aOmZKvfa-",
        "outputId": "864fa226-0a4d-488d-a3b4-dd05c3d26218"
      },
      "outputs": [
        {
          "output_type": "stream",
          "name": "stdout",
          "text": [
            "Number of classes:  10\n"
          ]
        }
      ],
      "source": [
        "# Number of classes\n",
        "K = len(set(y_train))\n",
        "print(\"Number of classes: \", K)"
      ]
    },
    {
      "cell_type": "code",
      "execution_count": 5,
      "metadata": {
        "id": "nJayuTinvoTD"
      },
      "outputs": [],
      "source": [
        "# Build th model using the functional API\n",
        "\n",
        "i = Input(shape=x_train[0].shape)\n",
        "# x = Conv2D(32, (3, 3), strides=2, activation='relu')(i)\n",
        "# x = Conv2D(64, (3, 3), strides=2, activation='relu')(x)\n",
        "# x = Conv2D(128, (3, 3), strides=2, activation='relu')(x)\n",
        "\n",
        "x = Conv2D(32, (3, 3), activation='relu', padding='same')(i)\n",
        "x = BatchNormalization()(x)\n",
        "x = Conv2D(32, (3, 3), activation='relu', padding='same')(x)\n",
        "x = BatchNormalization()(x)\n",
        "x = MaxPooling2D((2, 2))(x)\n",
        "# x = Dropout(0.2)(x)\n",
        "x = Conv2D(64, (3, 3), activation='relu', padding='same')(x)\n",
        "x = BatchNormalization()(x)\n",
        "x = Conv2D(64, (3, 3), activation='relu', padding='same')(x)\n",
        "x = BatchNormalization()(x)\n",
        "x = MaxPooling2D((2, 2))(x)\n",
        "# x = Dropout(0.2)(x)\n",
        "x = Conv2D(128, (3, 3), activation='relu', padding='same')(x)\n",
        "x = BatchNormalization()(x)\n",
        "x = Conv2D(128, (3, 3), activation='relu', padding='same')(x)\n",
        "x = BatchNormalization()(x)\n",
        "x = MaxPooling2D((2, 2))(x)\n",
        "# x = Dropout(0.2)(x)\n",
        "\n",
        "# x = GlobalMaxPooling2D()(x)\n",
        "x = Flatten()(x)\n",
        "x = Dropout(0.2)(x)\n",
        "x = Dense(1024, activation='relu')(x)\n",
        "x = Dropout(0.2)(x)\n",
        "x = Dense(K, activation='softmax')(x)\n",
        "\n",
        "model = Model(i, x)"
      ]
    },
    {
      "cell_type": "code",
      "execution_count": 6,
      "metadata": {
        "id": "zuvv-eoZza2U"
      },
      "outputs": [],
      "source": [
        "# Compile \n",
        "model.compile(optimizer='adam',\n",
        "              loss='sparse_categorical_crossentropy',\n",
        "              metrics=['accuracy'])"
      ]
    },
    {
      "cell_type": "code",
      "source": [
        "# Fit\n",
        "r = model.fit(x_train, y_train, validation_data=(x_test, y_test), epochs=50)"
      ],
      "metadata": {
        "colab": {
          "base_uri": "https://localhost:8080/"
        },
        "id": "oOg2ygiOTecp",
        "outputId": "f87264e2-5157-4d3b-863e-ae1c0adc7612"
      },
      "execution_count": 7,
      "outputs": [
        {
          "output_type": "stream",
          "name": "stdout",
          "text": [
            "Epoch 1/50\n",
            "1563/1563 [==============================] - 15s 8ms/step - loss: 1.3144 - accuracy: 0.5478 - val_loss: 1.0793 - val_accuracy: 0.6329\n",
            "Epoch 2/50\n",
            "1563/1563 [==============================] - 10s 6ms/step - loss: 0.8419 - accuracy: 0.7070 - val_loss: 0.8012 - val_accuracy: 0.7236\n",
            "Epoch 3/50\n",
            "1563/1563 [==============================] - 10s 6ms/step - loss: 0.6905 - accuracy: 0.7624 - val_loss: 0.7528 - val_accuracy: 0.7450\n",
            "Epoch 4/50\n",
            "1563/1563 [==============================] - 10s 6ms/step - loss: 0.5859 - accuracy: 0.7988 - val_loss: 0.6898 - val_accuracy: 0.7647\n",
            "Epoch 5/50\n",
            "1563/1563 [==============================] - 10s 6ms/step - loss: 0.4972 - accuracy: 0.8314 - val_loss: 0.6650 - val_accuracy: 0.7852\n",
            "Epoch 6/50\n",
            "1563/1563 [==============================] - 10s 7ms/step - loss: 0.4215 - accuracy: 0.8555 - val_loss: 0.6499 - val_accuracy: 0.7898\n",
            "Epoch 7/50\n",
            "1563/1563 [==============================] - 10s 6ms/step - loss: 0.3540 - accuracy: 0.8771 - val_loss: 0.6412 - val_accuracy: 0.8067\n",
            "Epoch 8/50\n",
            "1563/1563 [==============================] - 10s 6ms/step - loss: 0.3022 - accuracy: 0.8940 - val_loss: 0.6645 - val_accuracy: 0.8127\n",
            "Epoch 9/50\n",
            "1563/1563 [==============================] - 10s 6ms/step - loss: 0.2575 - accuracy: 0.9120 - val_loss: 0.6927 - val_accuracy: 0.8074\n",
            "Epoch 10/50\n",
            "1563/1563 [==============================] - 10s 6ms/step - loss: 0.2166 - accuracy: 0.9251 - val_loss: 0.6657 - val_accuracy: 0.8178\n",
            "Epoch 11/50\n",
            "1563/1563 [==============================] - 10s 6ms/step - loss: 0.1948 - accuracy: 0.9335 - val_loss: 0.8201 - val_accuracy: 0.7936\n",
            "Epoch 12/50\n",
            "1563/1563 [==============================] - 10s 6ms/step - loss: 0.1817 - accuracy: 0.9379 - val_loss: 0.7134 - val_accuracy: 0.8246\n",
            "Epoch 13/50\n",
            "1563/1563 [==============================] - 10s 6ms/step - loss: 0.1601 - accuracy: 0.9452 - val_loss: 0.6385 - val_accuracy: 0.8348\n",
            "Epoch 14/50\n",
            "1563/1563 [==============================] - 10s 6ms/step - loss: 0.1400 - accuracy: 0.9527 - val_loss: 0.7116 - val_accuracy: 0.8293\n",
            "Epoch 15/50\n",
            "1563/1563 [==============================] - 10s 6ms/step - loss: 0.1336 - accuracy: 0.9553 - val_loss: 0.7674 - val_accuracy: 0.8284\n",
            "Epoch 16/50\n",
            "1563/1563 [==============================] - 10s 6ms/step - loss: 0.1248 - accuracy: 0.9576 - val_loss: 0.8003 - val_accuracy: 0.8203\n",
            "Epoch 17/50\n",
            "1563/1563 [==============================] - 10s 6ms/step - loss: 0.1198 - accuracy: 0.9604 - val_loss: 0.7767 - val_accuracy: 0.8304\n",
            "Epoch 18/50\n",
            "1563/1563 [==============================] - 10s 6ms/step - loss: 0.1098 - accuracy: 0.9640 - val_loss: 0.7889 - val_accuracy: 0.8170\n",
            "Epoch 19/50\n",
            "1563/1563 [==============================] - 10s 6ms/step - loss: 0.1021 - accuracy: 0.9664 - val_loss: 0.7709 - val_accuracy: 0.8295\n",
            "Epoch 20/50\n",
            "1563/1563 [==============================] - 10s 6ms/step - loss: 0.0926 - accuracy: 0.9693 - val_loss: 0.8392 - val_accuracy: 0.8307\n",
            "Epoch 21/50\n",
            "1563/1563 [==============================] - 10s 6ms/step - loss: 0.0975 - accuracy: 0.9684 - val_loss: 0.7371 - val_accuracy: 0.8321\n",
            "Epoch 22/50\n",
            "1563/1563 [==============================] - 10s 6ms/step - loss: 0.0851 - accuracy: 0.9720 - val_loss: 0.8421 - val_accuracy: 0.8295\n",
            "Epoch 23/50\n",
            "1563/1563 [==============================] - 10s 6ms/step - loss: 0.0863 - accuracy: 0.9711 - val_loss: 0.7360 - val_accuracy: 0.8300\n",
            "Epoch 24/50\n",
            "1563/1563 [==============================] - 10s 6ms/step - loss: 0.0740 - accuracy: 0.9749 - val_loss: 0.7532 - val_accuracy: 0.8384\n",
            "Epoch 25/50\n",
            "1563/1563 [==============================] - 10s 6ms/step - loss: 0.0775 - accuracy: 0.9748 - val_loss: 0.7959 - val_accuracy: 0.8320\n",
            "Epoch 26/50\n",
            "1563/1563 [==============================] - 10s 6ms/step - loss: 0.0769 - accuracy: 0.9748 - val_loss: 0.7372 - val_accuracy: 0.8389\n",
            "Epoch 27/50\n",
            "1563/1563 [==============================] - 10s 6ms/step - loss: 0.0737 - accuracy: 0.9763 - val_loss: 0.7715 - val_accuracy: 0.8377\n",
            "Epoch 28/50\n",
            "1563/1563 [==============================] - 10s 6ms/step - loss: 0.0619 - accuracy: 0.9791 - val_loss: 0.7833 - val_accuracy: 0.8405\n",
            "Epoch 29/50\n",
            "1563/1563 [==============================] - 10s 6ms/step - loss: 0.0611 - accuracy: 0.9802 - val_loss: 0.8741 - val_accuracy: 0.8330\n",
            "Epoch 30/50\n",
            "1563/1563 [==============================] - 10s 6ms/step - loss: 0.0652 - accuracy: 0.9795 - val_loss: 0.8524 - val_accuracy: 0.8359\n",
            "Epoch 31/50\n",
            "1563/1563 [==============================] - 10s 6ms/step - loss: 0.0599 - accuracy: 0.9808 - val_loss: 0.8284 - val_accuracy: 0.8391\n",
            "Epoch 32/50\n",
            "1563/1563 [==============================] - 10s 6ms/step - loss: 0.0614 - accuracy: 0.9796 - val_loss: 0.8259 - val_accuracy: 0.8387\n",
            "Epoch 33/50\n",
            "1563/1563 [==============================] - 10s 6ms/step - loss: 0.0641 - accuracy: 0.9796 - val_loss: 0.7574 - val_accuracy: 0.8421\n",
            "Epoch 34/50\n",
            "1563/1563 [==============================] - 10s 6ms/step - loss: 0.0573 - accuracy: 0.9813 - val_loss: 0.7534 - val_accuracy: 0.8402\n",
            "Epoch 35/50\n",
            "1563/1563 [==============================] - 10s 6ms/step - loss: 0.0542 - accuracy: 0.9822 - val_loss: 0.8598 - val_accuracy: 0.8391\n",
            "Epoch 36/50\n",
            "1563/1563 [==============================] - 10s 6ms/step - loss: 0.0568 - accuracy: 0.9807 - val_loss: 0.7652 - val_accuracy: 0.8426\n",
            "Epoch 37/50\n",
            "1563/1563 [==============================] - 10s 6ms/step - loss: 0.0475 - accuracy: 0.9849 - val_loss: 0.8407 - val_accuracy: 0.8404\n",
            "Epoch 38/50\n",
            "1563/1563 [==============================] - 10s 6ms/step - loss: 0.0521 - accuracy: 0.9832 - val_loss: 0.8349 - val_accuracy: 0.8403\n",
            "Epoch 39/50\n",
            "1563/1563 [==============================] - 10s 6ms/step - loss: 0.0508 - accuracy: 0.9840 - val_loss: 0.9609 - val_accuracy: 0.8288\n",
            "Epoch 40/50\n",
            "1563/1563 [==============================] - 10s 6ms/step - loss: 0.0457 - accuracy: 0.9851 - val_loss: 0.8511 - val_accuracy: 0.8387\n",
            "Epoch 41/50\n",
            "1563/1563 [==============================] - 10s 6ms/step - loss: 0.0470 - accuracy: 0.9847 - val_loss: 0.8494 - val_accuracy: 0.8343\n",
            "Epoch 42/50\n",
            "1563/1563 [==============================] - 10s 6ms/step - loss: 0.0498 - accuracy: 0.9843 - val_loss: 0.7971 - val_accuracy: 0.8445\n",
            "Epoch 43/50\n",
            "1563/1563 [==============================] - 10s 6ms/step - loss: 0.0447 - accuracy: 0.9857 - val_loss: 0.8110 - val_accuracy: 0.8454\n",
            "Epoch 44/50\n",
            "1563/1563 [==============================] - 10s 6ms/step - loss: 0.0459 - accuracy: 0.9852 - val_loss: 0.8864 - val_accuracy: 0.8324\n",
            "Epoch 45/50\n",
            "1563/1563 [==============================] - 10s 6ms/step - loss: 0.0416 - accuracy: 0.9866 - val_loss: 0.8453 - val_accuracy: 0.8381\n",
            "Epoch 46/50\n",
            "1563/1563 [==============================] - 10s 6ms/step - loss: 0.0476 - accuracy: 0.9851 - val_loss: 0.8505 - val_accuracy: 0.8290\n",
            "Epoch 47/50\n",
            "1563/1563 [==============================] - 10s 6ms/step - loss: 0.0415 - accuracy: 0.9864 - val_loss: 0.9979 - val_accuracy: 0.8246\n",
            "Epoch 48/50\n",
            "1563/1563 [==============================] - 10s 6ms/step - loss: 0.0415 - accuracy: 0.9866 - val_loss: 0.8746 - val_accuracy: 0.8393\n",
            "Epoch 49/50\n",
            "1563/1563 [==============================] - 10s 6ms/step - loss: 0.0413 - accuracy: 0.9870 - val_loss: 0.9084 - val_accuracy: 0.8443\n",
            "Epoch 50/50\n",
            "1563/1563 [==============================] - 10s 6ms/step - loss: 0.0418 - accuracy: 0.9865 - val_loss: 0.9571 - val_accuracy: 0.8366\n"
          ]
        }
      ]
    },
    {
      "cell_type": "code",
      "execution_count": 8,
      "metadata": {
        "id": "NocWxylH4Wqi",
        "colab": {
          "base_uri": "https://localhost:8080/"
        },
        "outputId": "24b1af0c-31ab-4346-b1ad-afd156b6e6be"
      },
      "outputs": [
        {
          "output_type": "stream",
          "name": "stdout",
          "text": [
            "Epoch 1/50\n"
          ]
        },
        {
          "output_type": "stream",
          "name": "stderr",
          "text": [
            "/usr/local/lib/python3.7/dist-packages/ipykernel_launcher.py:7: UserWarning: `Model.fit_generator` is deprecated and will be removed in a future version. Please use `Model.fit`, which supports generators.\n",
            "  import sys\n"
          ]
        },
        {
          "output_type": "stream",
          "name": "stdout",
          "text": [
            "1562/1562 [==============================] - 26s 17ms/step - loss: 0.5519 - accuracy: 0.8238 - val_loss: 0.4969 - val_accuracy: 0.8404\n",
            "Epoch 2/50\n",
            "1562/1562 [==============================] - 23s 15ms/step - loss: 0.4405 - accuracy: 0.8560 - val_loss: 0.4786 - val_accuracy: 0.8443\n",
            "Epoch 3/50\n",
            "1562/1562 [==============================] - 23s 15ms/step - loss: 0.3981 - accuracy: 0.8671 - val_loss: 0.4720 - val_accuracy: 0.8461\n",
            "Epoch 4/50\n",
            "1562/1562 [==============================] - 23s 15ms/step - loss: 0.3792 - accuracy: 0.8739 - val_loss: 0.4468 - val_accuracy: 0.8570\n",
            "Epoch 5/50\n",
            "1562/1562 [==============================] - 23s 15ms/step - loss: 0.3592 - accuracy: 0.8813 - val_loss: 0.4456 - val_accuracy: 0.8585\n",
            "Epoch 6/50\n",
            "1562/1562 [==============================] - 23s 15ms/step - loss: 0.3457 - accuracy: 0.8834 - val_loss: 0.4316 - val_accuracy: 0.8600\n",
            "Epoch 7/50\n",
            "1562/1562 [==============================] - 23s 15ms/step - loss: 0.3399 - accuracy: 0.8866 - val_loss: 0.4359 - val_accuracy: 0.8631\n",
            "Epoch 8/50\n",
            "1562/1562 [==============================] - 23s 15ms/step - loss: 0.3243 - accuracy: 0.8911 - val_loss: 0.4664 - val_accuracy: 0.8595\n",
            "Epoch 9/50\n",
            "1562/1562 [==============================] - 23s 15ms/step - loss: 0.3111 - accuracy: 0.8944 - val_loss: 0.4259 - val_accuracy: 0.8612\n",
            "Epoch 10/50\n",
            "1562/1562 [==============================] - 23s 15ms/step - loss: 0.3043 - accuracy: 0.8969 - val_loss: 0.4208 - val_accuracy: 0.8641\n",
            "Epoch 11/50\n",
            "1562/1562 [==============================] - 23s 15ms/step - loss: 0.2887 - accuracy: 0.9013 - val_loss: 0.4119 - val_accuracy: 0.8659\n",
            "Epoch 12/50\n",
            "1562/1562 [==============================] - 23s 15ms/step - loss: 0.2892 - accuracy: 0.9015 - val_loss: 0.4081 - val_accuracy: 0.8662\n",
            "Epoch 13/50\n",
            "1562/1562 [==============================] - 23s 15ms/step - loss: 0.2768 - accuracy: 0.9053 - val_loss: 0.3785 - val_accuracy: 0.8799\n",
            "Epoch 14/50\n",
            "1562/1562 [==============================] - 23s 15ms/step - loss: 0.2734 - accuracy: 0.9081 - val_loss: 0.3939 - val_accuracy: 0.8730\n",
            "Epoch 15/50\n",
            "1562/1562 [==============================] - 23s 15ms/step - loss: 0.2639 - accuracy: 0.9102 - val_loss: 0.4137 - val_accuracy: 0.8769\n",
            "Epoch 16/50\n",
            "1562/1562 [==============================] - 23s 15ms/step - loss: 0.2649 - accuracy: 0.9099 - val_loss: 0.4161 - val_accuracy: 0.8698\n",
            "Epoch 17/50\n",
            "1562/1562 [==============================] - 23s 15ms/step - loss: 0.2593 - accuracy: 0.9122 - val_loss: 0.4412 - val_accuracy: 0.8615\n",
            "Epoch 18/50\n",
            "1562/1562 [==============================] - 23s 15ms/step - loss: 0.2517 - accuracy: 0.9134 - val_loss: 0.4029 - val_accuracy: 0.8696\n",
            "Epoch 19/50\n",
            "1562/1562 [==============================] - 23s 15ms/step - loss: 0.2434 - accuracy: 0.9171 - val_loss: 0.4129 - val_accuracy: 0.8682\n",
            "Epoch 20/50\n",
            "1562/1562 [==============================] - 23s 15ms/step - loss: 0.2379 - accuracy: 0.9191 - val_loss: 0.4227 - val_accuracy: 0.8737\n",
            "Epoch 21/50\n",
            "1562/1562 [==============================] - 23s 15ms/step - loss: 0.2345 - accuracy: 0.9221 - val_loss: 0.4123 - val_accuracy: 0.8764\n",
            "Epoch 22/50\n",
            "1562/1562 [==============================] - 23s 15ms/step - loss: 0.2336 - accuracy: 0.9207 - val_loss: 0.4206 - val_accuracy: 0.8790\n",
            "Epoch 23/50\n",
            "1562/1562 [==============================] - 23s 15ms/step - loss: 0.2321 - accuracy: 0.9210 - val_loss: 0.4034 - val_accuracy: 0.8819\n",
            "Epoch 24/50\n",
            "1562/1562 [==============================] - 23s 15ms/step - loss: 0.2243 - accuracy: 0.9243 - val_loss: 0.3719 - val_accuracy: 0.8864\n",
            "Epoch 25/50\n",
            "1562/1562 [==============================] - 23s 15ms/step - loss: 0.2219 - accuracy: 0.9252 - val_loss: 0.4537 - val_accuracy: 0.8743\n",
            "Epoch 26/50\n",
            "1562/1562 [==============================] - 23s 15ms/step - loss: 0.2230 - accuracy: 0.9241 - val_loss: 0.4062 - val_accuracy: 0.8719\n",
            "Epoch 27/50\n",
            "1562/1562 [==============================] - 23s 15ms/step - loss: 0.2127 - accuracy: 0.9279 - val_loss: 0.4131 - val_accuracy: 0.8794\n",
            "Epoch 28/50\n",
            "1562/1562 [==============================] - 23s 15ms/step - loss: 0.2095 - accuracy: 0.9283 - val_loss: 0.4161 - val_accuracy: 0.8696\n",
            "Epoch 29/50\n",
            "1562/1562 [==============================] - 23s 15ms/step - loss: 0.2049 - accuracy: 0.9298 - val_loss: 0.4079 - val_accuracy: 0.8778\n",
            "Epoch 30/50\n",
            "1562/1562 [==============================] - 23s 15ms/step - loss: 0.2060 - accuracy: 0.9301 - val_loss: 0.3925 - val_accuracy: 0.8829\n",
            "Epoch 31/50\n",
            "1562/1562 [==============================] - 23s 15ms/step - loss: 0.2036 - accuracy: 0.9304 - val_loss: 0.4217 - val_accuracy: 0.8807\n",
            "Epoch 32/50\n",
            "1562/1562 [==============================] - 23s 15ms/step - loss: 0.1948 - accuracy: 0.9333 - val_loss: 0.4189 - val_accuracy: 0.8751\n",
            "Epoch 33/50\n",
            "1562/1562 [==============================] - 23s 15ms/step - loss: 0.1939 - accuracy: 0.9347 - val_loss: 0.4087 - val_accuracy: 0.8781\n",
            "Epoch 34/50\n",
            "1562/1562 [==============================] - 23s 15ms/step - loss: 0.1978 - accuracy: 0.9324 - val_loss: 0.4165 - val_accuracy: 0.8751\n",
            "Epoch 35/50\n",
            "1562/1562 [==============================] - 23s 15ms/step - loss: 0.1903 - accuracy: 0.9359 - val_loss: 0.4197 - val_accuracy: 0.8822\n",
            "Epoch 36/50\n",
            "1562/1562 [==============================] - 23s 15ms/step - loss: 0.1927 - accuracy: 0.9345 - val_loss: 0.3857 - val_accuracy: 0.8820\n",
            "Epoch 37/50\n",
            "1562/1562 [==============================] - 23s 15ms/step - loss: 0.1885 - accuracy: 0.9353 - val_loss: 0.4491 - val_accuracy: 0.8757\n",
            "Epoch 38/50\n",
            "1562/1562 [==============================] - 23s 15ms/step - loss: 0.1898 - accuracy: 0.9354 - val_loss: 0.4278 - val_accuracy: 0.8792\n",
            "Epoch 39/50\n",
            "1562/1562 [==============================] - 23s 15ms/step - loss: 0.1840 - accuracy: 0.9379 - val_loss: 0.4323 - val_accuracy: 0.8805\n",
            "Epoch 40/50\n",
            "1562/1562 [==============================] - 23s 15ms/step - loss: 0.1825 - accuracy: 0.9373 - val_loss: 0.4417 - val_accuracy: 0.8736\n",
            "Epoch 41/50\n",
            "1562/1562 [==============================] - 23s 15ms/step - loss: 0.1780 - accuracy: 0.9404 - val_loss: 0.4010 - val_accuracy: 0.8848\n",
            "Epoch 42/50\n",
            "1562/1562 [==============================] - 23s 15ms/step - loss: 0.1712 - accuracy: 0.9422 - val_loss: 0.4100 - val_accuracy: 0.8810\n",
            "Epoch 43/50\n",
            "1562/1562 [==============================] - 23s 15ms/step - loss: 0.1754 - accuracy: 0.9397 - val_loss: 0.3896 - val_accuracy: 0.8844\n",
            "Epoch 44/50\n",
            "1562/1562 [==============================] - 23s 15ms/step - loss: 0.1707 - accuracy: 0.9429 - val_loss: 0.3936 - val_accuracy: 0.8825\n",
            "Epoch 45/50\n",
            "1562/1562 [==============================] - 23s 15ms/step - loss: 0.1710 - accuracy: 0.9430 - val_loss: 0.3997 - val_accuracy: 0.8808\n",
            "Epoch 46/50\n",
            "1562/1562 [==============================] - 23s 15ms/step - loss: 0.1689 - accuracy: 0.9431 - val_loss: 0.4035 - val_accuracy: 0.8861\n",
            "Epoch 47/50\n",
            "1562/1562 [==============================] - 23s 15ms/step - loss: 0.1693 - accuracy: 0.9424 - val_loss: 0.4182 - val_accuracy: 0.8863\n",
            "Epoch 48/50\n",
            "1562/1562 [==============================] - 23s 15ms/step - loss: 0.1658 - accuracy: 0.9432 - val_loss: 0.4178 - val_accuracy: 0.8823\n",
            "Epoch 49/50\n",
            "1562/1562 [==============================] - 23s 15ms/step - loss: 0.1658 - accuracy: 0.9448 - val_loss: 0.4431 - val_accuracy: 0.8730\n",
            "Epoch 50/50\n",
            "1562/1562 [==============================] - 23s 15ms/step - loss: 0.1633 - accuracy: 0.9457 - val_loss: 0.4683 - val_accuracy: 0.8757\n"
          ]
        }
      ],
      "source": [
        "# Fit with data augmentation\n",
        "\n",
        "batch_size = 32\n",
        "data_generator = tf.keras.preprocessing.image.ImageDataGenerator(width_shift_range=0.1, height_shift_range=0.1, horizontal_flip=True)\n",
        "train_generator = data_generator.flow(x_train, y_train, batch_size)\n",
        "steps_per_epoch = x_train.shape[0] // batch_size\n",
        "r = model.fit_generator(train_generator, validation_data=(x_test, y_test), steps_per_epoch=steps_per_epoch, epochs=50)"
      ]
    },
    {
      "cell_type": "code",
      "source": [
        "# Plot loss per iteration\n",
        "import matplotlib.pyplot as plt\n",
        "plt.plot(r.history['loss'], label='loss')\n",
        "plt.plot(r.history['val_loss'], label='val_loss')\n",
        "plt.legend()"
      ],
      "metadata": {
        "colab": {
          "base_uri": "https://localhost:8080/",
          "height": 283
        },
        "id": "TiKO5pc7pIk3",
        "outputId": "e2597607-c5e0-42c1-86ab-cd15319907da"
      },
      "execution_count": 9,
      "outputs": [
        {
          "output_type": "execute_result",
          "data": {
            "text/plain": [
              "<matplotlib.legend.Legend at 0x7fb240030c90>"
            ]
          },
          "metadata": {},
          "execution_count": 9
        },
        {
          "output_type": "display_data",
          "data": {
            "text/plain": [
              "<Figure size 432x288 with 1 Axes>"
            ],
            "image/png": "[encoded data removed]"
          },
          "metadata": {
            "needs_background": "light"
          }
        }
      ]
    },
    {
      "cell_type": "code",
      "source": [
        "# Plot accuracy per iteration\n",
        "plt.plot(r.history['accuracy'], label='acc')\n",
        "plt.plot(r.history['val_accuracy'], label='val_acc')\n",
        "plt.legend()"
      ],
      "metadata": {
        "colab": {
          "base_uri": "https://localhost:8080/",
          "height": 283
        },
        "id": "YKxa_qBXtgn2",
        "outputId": "5eb7a614-f1a4-4867-9978-44ee3c6d109c"
      },
      "execution_count": 10,
      "outputs": [
        {
          "output_type": "execute_result",
          "data": {
            "text/plain": [
              "<matplotlib.legend.Legend at 0x7fb1b3737090>"
            ]
          },
          "metadata": {},
          "execution_count": 10
        },
        {
          "output_type": "display_data",
          "data": {
            "text/plain": [
              "<Figure size 432x288 with 1 Axes>"
            ],
            "image/png": "[encoded data removed]"
          },
          "metadata": {
            "needs_background": "light"
          }
        }
      ]
    },
    {
      "cell_type": "code",
      "source": [
        "# Plot confusion matrix\n",
        "from sklearn.metrics import confusion_matrix\n",
        "import itertools\n",
        "\n",
        "def plot_confusion_matrix(cm, classes,\n",
        "                          normalize=False,\n",
        "                          title=\"Confusion matrix\",\n",
        "                          cmap=plt.cm.Blues):\n",
        "  \"\"\"\n",
        "  This function prints and plots the confusion matrix.\n",
        "  Normalization can be applied by setting normalize=True \n",
        "  \"\"\"\n",
        "  if normalize:\n",
        "    cm = cm.astype('float') / cm.sum(axis=1)[:, np.newaxis]\n",
        "    print(\"Normalized confusion matrix\")\n",
        "  else:\n",
        "    print(\"Confusion matrix, without normalization\")\n",
        "  \n",
        "  print(cm)\n",
        "\n",
        "  plt.imshow(cm, interpolation='nearest', cmap=cmap)\n",
        "  plt.title(title)\n",
        "  plt.colorbar()\n",
        "  tick_marks = np.arange(len(classes))\n",
        "  plt.xticks(tick_marks, classes, rotation=45)\n",
        "  plt.yticks(tick_marks, classes)\n",
        "  \n",
        "  fmt = '.2f' if normalize else 'd'\n",
        "  thresh = cm.max() / 2\n",
        "  for i, j in itertools.product(range(cm.shape[0]), range(cm.shape[1])):\n",
        "    plt.text(j, i, format(cm[i, j], fmt),\n",
        "             horizontalalignment=\"center\",\n",
        "             color=\"white\" if cm[i, j] > thresh else \"black\")\n",
        "  plt.tight_layout()\n",
        "  plt.ylabel('True label')\n",
        "  plt.xlabel('Predicted label')\n",
        "  plt.show()\n",
        "\n",
        "p_test = model.predict(x_test).argmax(axis=1)\n",
        "cm = confusion_matrix(y_test, p_test)\n",
        "plot_confusion_matrix(cm, list(range(10)))"
      ],
      "metadata": {
        "colab": {
          "base_uri": "https://localhost:8080/",
          "height": 512
        },
        "id": "D60HvAMsuLiR",
        "outputId": "04607394-dd4a-48ad-b017-8147c829ac21"
      },
      "execution_count": 11,
      "outputs": [
        {
          "output_type": "stream",
          "name": "stdout",
          "text": [
            "Confusion matrix, without normalization\n",
            "[[906  12  26   5   4   0   6   6  24  11]\n",
            " [  4 971   0   0   1   0   0   0   7  17]\n",
            " [ 28   3 838  18  43  17  35  11   4   3]\n",
            " [ 22   8  58 651  51  94  68  32   8   8]\n",
            " [ 11   1  20   6 898  13  22  28   0   1]\n",
            " [ 11   6  26  61  34 786  29  44   2   1]\n",
            " [  5   5  21   7   9   3 944   3   2   1]\n",
            " [  5   1   9   8  21  11   3 939   1   2]\n",
            " [ 36  27   5   0   5   0   4   2 901  20]\n",
            " [ 10  51   1   3   2   0   1   3   6 923]]\n"
          ]
        },
        {
          "output_type": "display_data",
          "data": {
            "text/plain": [
              "<Figure size 432x288 with 2 Axes>"
            ],
            "image/png": "[encoded data removed]"
          },
          "metadata": {
            "needs_background": "light"
          }
        }
      ]
    },
    {
      "cell_type": "code",
      "source": [
        "# Labels mapping\n",
        "labels = '''airplane\n",
        "automobile\n",
        "bird\n",
        "cat\n",
        "deer\n",
        "dog\n",
        "frong\n",
        "horse\n",
        "ship\n",
        "truck'''.split()"
      ],
      "metadata": {
        "id": "3zZbReM2ukNL"
      },
      "execution_count": 12,
      "outputs": []
    },
    {
      "cell_type": "code",
      "source": [
        "# Show some misclassified \n",
        "misclassified_idx = np.where(p_test != y_test)[0]\n",
        "i = np.random.choice(misclassified_idx)\n",
        "plt.imshow(x_test[i], cmap='gray')\n",
        "plt.title(\"True label: %s Predicted: %s \" % (labels[y_test[i]], labels[p_test[i]]));"
      ],
      "metadata": {
        "colab": {
          "base_uri": "https://localhost:8080/",
          "height": 281
        },
        "id": "bSiei8OMunuY",
        "outputId": "8169a0df-370d-4c86-b403-e81795b4a18a"
      },
      "execution_count": 14,
      "outputs": [
        {
          "output_type": "display_data",
          "data": {
            "text/plain": [
              "<Figure size 432x288 with 1 Axes>"
            ],
            "image/png": "[encoded data removed]"
          },
          "metadata": {
            "needs_background": "light"
          }
        }
      ]
    },
    {
      "cell_type": "code",
      "source": [
        "model.summary()"
      ],
      "metadata": {
        "colab": {
          "base_uri": "https://localhost:8080/"
        },
        "id": "MhUQcV7u1rFp",
        "outputId": "c17b9947-d3b9-4174-cc87-8a9b29d3f54b"
      },
      "execution_count": 15,
      "outputs": [
        {
          "output_type": "stream",
          "name": "stdout",
          "text": [
            "Model: \"model\"\n",
            "_________________________________________________________________\n",
            " Layer (type)                Output Shape              Param #   \n",
            "=================================================================\n",
            " input_1 (InputLayer)        [(None, 32, 32, 3)]       0         \n",
            "                                                                 \n",
            " conv2d (Conv2D)             (None, 32, 32, 32)        896       \n",
            "                                                                 \n",
            " batch_normalization (BatchN  (None, 32, 32, 32)       128       \n",
            " ormalization)                                                   \n",
            "                                                                 \n",
            " conv2d_1 (Conv2D)           (None, 32, 32, 32)        9248      \n",
            "                                                                 \n",
            " batch_normalization_1 (Batc  (None, 32, 32, 32)       128       \n",
            " hNormalization)                                                 \n",
            "                                                                 \n",
            " max_pooling2d (MaxPooling2D  (None, 16, 16, 32)       0         \n",
            " )                                                               \n",
            "                                                                 \n",
            " conv2d_2 (Conv2D)           (None, 16, 16, 64)        18496     \n",
            "                                                                 \n",
            " batch_normalization_2 (Batc  (None, 16, 16, 64)       256       \n",
            " hNormalization)                                                 \n",
            "                                                                 \n",
            " conv2d_3 (Conv2D)           (None, 16, 16, 64)        36928     \n",
            "                                                                 \n",
            " batch_normalization_3 (Batc  (None, 16, 16, 64)       256       \n",
            " hNormalization)                                                 \n",
            "                                                                 \n",
            " max_pooling2d_1 (MaxPooling  (None, 8, 8, 64)         0         \n",
            " 2D)                                                             \n",
            "                                                                 \n",
            " conv2d_4 (Conv2D)           (None, 8, 8, 128)         73856     \n",
            "                                                                 \n",
            " batch_normalization_4 (Batc  (None, 8, 8, 128)        512       \n",
            " hNormalization)                                                 \n",
            "                                                                 \n",
            " conv2d_5 (Conv2D)           (None, 8, 8, 128)         147584    \n",
            "                                                                 \n",
            " batch_normalization_5 (Batc  (None, 8, 8, 128)        512       \n",
            " hNormalization)                                                 \n",
            "                                                                 \n",
            " max_pooling2d_2 (MaxPooling  (None, 4, 4, 128)        0         \n",
            " 2D)                                                             \n",
            "                                                                 \n",
            " flatten (Flatten)           (None, 2048)              0         \n",
            "                                                                 \n",
            " dropout (Dropout)           (None, 2048)              0         \n",
            "                                                                 \n",
            " dense (Dense)               (None, 1024)              2098176   \n",
            "                                                                 \n",
            " dropout_1 (Dropout)         (None, 1024)              0         \n",
            "                                                                 \n",
            " dense_1 (Dense)             (None, 10)                10250     \n",
            "                                                                 \n",
            "=================================================================\n",
            "Total params: 2,397,226\n",
            "Trainable params: 2,396,330\n",
            "Non-trainable params: 896\n",
            "_________________________________________________________________\n"
          ]
        }
      ]
    },
    {
      "cell_type": "code",
      "source": [
        ""
      ],
      "metadata": {
        "id": "UJeofVMa1voB"
      },
      "execution_count": null,
      "outputs": []
    }
  ],
  "metadata": {
    "accelerator": "GPU",
    "colab": {
      "collapsed_sections": [],
      "name": "TF2.0 CIFAR Improved.ipynb",
      "provenance": [],
      "machine_shape": "hm",
      "authorship_tag": "ABX9TyPGHzH8BV5wMZRf03NkIErB",
      "include_colab_link": true
    },
    "gpuClass": "standard",
    "kernelspec": {
      "display_name": "Python 3",
      "name": "python3"
    },
    "language_info": {
      "name": "python"
    }
  },
  "nbformat": 4,
  "nbformat_minor": 0
}