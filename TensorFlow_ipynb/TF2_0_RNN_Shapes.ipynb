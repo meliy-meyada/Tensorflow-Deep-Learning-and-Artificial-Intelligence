{
  "nbformat": 4,
  "nbformat_minor": 0,
  "metadata": {
    "colab": {
      "name": "TF2.0 RNN Shapes.ipynb",
      "provenance": [],
      "machine_shape": "hm",
      "authorship_tag": "ABX9TyMqmNFvUggl4qAE++jqQ9VH",
      "include_colab_link": true
    },
    "kernelspec": {
      "name": "python3",
      "display_name": "Python 3"
    },
    "language_info": {
      "name": "python"
    },
    "accelerator": "GPU",
    "gpuClass": "standard"
  },
  "cells": [
    {
      "cell_type": "markdown",
      "metadata": {
        "id": "view-in-github",
        "colab_type": "text"
      },
      "source": [
        "<a href=\"https://colab.research.google.com/github/meliy-meyada/Tensorflow-Deep-Learning-and-Artificial-Intelligence/blob/main/TF2_0_RNN_Shapes.ipynb\" target=\"_parent\"><img src=\"https://colab.research.google.com/assets/colab-badge.svg\" alt=\"Open In Colab\"/></a>"
      ]
    },
    {
      "cell_type": "code",
      "execution_count": 49,
      "metadata": {
        "colab": {
          "base_uri": "https://localhost:8080/"
        },
        "id": "QSNVprqWDDww",
        "outputId": "07cad64f-9d9a-4790-a6c2-2b13cc7dbb3e"
      },
      "outputs": [
        {
          "output_type": "stream",
          "name": "stdout",
          "text": [
            "2.8.2\n"
          ]
        }
      ],
      "source": [
        "# Install Tensorflow\n",
        "!pip install -q tensorflow\n",
        "import tensorflow as tf\n",
        "print(tf.__version__)"
      ]
    },
    {
      "cell_type": "code",
      "source": [
        "# Additional imports\n",
        "\n",
        "from tensorflow.keras.layers import Input, SimpleRNN, Dense, Flatten\n",
        "from tensorflow.keras.models import Model\n",
        "from tensorflow.keras.optimizers import SGD, Adam\n",
        "\n",
        "import numpy as np\n",
        "import pandas as pd\n",
        "import matplotlib.pyplot as plt"
      ],
      "metadata": {
        "id": "TR7ee83bDVep"
      },
      "execution_count": 50,
      "outputs": []
    },
    {
      "cell_type": "code",
      "source": [
        "# N = number of samples\n",
        "# T = sequence length \n",
        "# D = number of input features\n",
        "# M = number of hidden units\n",
        "# K = number of output units"
      ],
      "metadata": {
        "id": "R9VrQECdcPPY"
      },
      "execution_count": 51,
      "outputs": []
    },
    {
      "cell_type": "code",
      "source": [
        "# Make Some data\n",
        "\n",
        "N = 1 \n",
        "T = 10\n",
        "D = 3\n",
        "K = 2 \n",
        "X = np.random.randn(N, T, D)"
      ],
      "metadata": {
        "id": "2krNvJPfECoD"
      },
      "execution_count": 52,
      "outputs": []
    },
    {
      "cell_type": "code",
      "source": [
        "# Make an RNN\n",
        "M = 5 # number of hidden units\n",
        "i = Input(shape=(T, D))\n",
        "x = SimpleRNN(M)(i)\n",
        "x = Dense(K)(x)\n",
        "\n",
        "model = Model(i, x)"
      ],
      "metadata": {
        "id": "7bPPmnYJdJ0K"
      },
      "execution_count": 53,
      "outputs": []
    },
    {
      "cell_type": "code",
      "source": [
        "# Get the output\n",
        "Yhat = model.predict(X)\n",
        "print(Yhat)"
      ],
      "metadata": {
        "colab": {
          "base_uri": "https://localhost:8080/"
        },
        "id": "bWdPmIP6dzTm",
        "outputId": "bd91070c-56c4-4e12-fe21-2f4ecf50960c"
      },
      "execution_count": 54,
      "outputs": [
        {
          "output_type": "stream",
          "name": "stdout",
          "text": [
            "[[ 0.49660066 -1.3750131 ]]\n"
          ]
        }
      ]
    },
    {
      "cell_type": "code",
      "source": [
        "# Get the weight first\n",
        "model.summary()"
      ],
      "metadata": {
        "colab": {
          "base_uri": "https://localhost:8080/"
        },
        "id": "e0iJlEA3dJj-",
        "outputId": "bddebc61-b41d-4cf8-b215-a5d0de7ff35b"
      },
      "execution_count": 55,
      "outputs": [
        {
          "output_type": "stream",
          "name": "stdout",
          "text": [
            "Model: \"model_3\"\n",
            "_________________________________________________________________\n",
            " Layer (type)                Output Shape              Param #   \n",
            "=================================================================\n",
            " input_5 (InputLayer)        [(None, 10, 3)]           0         \n",
            "                                                                 \n",
            " simple_rnn_4 (SimpleRNN)    (None, 5)                 45        \n",
            "                                                                 \n",
            " dense_4 (Dense)             (None, 2)                 12        \n",
            "                                                                 \n",
            "=================================================================\n",
            "Total params: 57\n",
            "Trainable params: 57\n",
            "Non-trainable params: 0\n",
            "_________________________________________________________________\n"
          ]
        }
      ]
    },
    {
      "cell_type": "code",
      "source": [
        "# See What's returned\n",
        "model.layers[1].get_weights()"
      ],
      "metadata": {
        "colab": {
          "base_uri": "https://localhost:8080/"
        },
        "id": "4miuJUZoeEfW",
        "outputId": "2b9dd5e9-6f81-4691-c054-f8a5b46a50ae"
      },
      "execution_count": 56,
      "outputs": [
        {
          "output_type": "execute_result",
          "data": {
            "text/plain": [
              "[array([[ 0.7493449 , -0.67510724, -0.19201845, -0.53013265, -0.10090923],\n",
              "        [-0.36399955, -0.16047442, -0.46934596, -0.6543093 , -0.8224423 ],\n",
              "        [ 0.58853906,  0.1610418 , -0.00689799, -0.7242679 ,  0.36061794]],\n",
              "       dtype=float32),\n",
              " array([[-0.15333891,  0.43208724, -0.8405738 ,  0.2289385 , -0.17552933],\n",
              "        [ 0.11705398, -0.6635053 , -0.51817673, -0.5229535 ,  0.06380995],\n",
              "        [-0.56759566, -0.46012098, -0.05962554,  0.5624739 ,  0.38235033],\n",
              "        [-0.11657576,  0.39136985, -0.05212452, -0.36934415,  0.8331313 ],\n",
              "        [ 0.7918528 , -0.09044194, -0.13658816,  0.47044116,  0.35329622]],\n",
              "       dtype=float32),\n",
              " array([0., 0., 0., 0., 0.], dtype=float32)]"
            ]
          },
          "metadata": {},
          "execution_count": 56
        }
      ]
    },
    {
      "cell_type": "code",
      "source": [
        "# Check their shapes\n",
        "# Should make sense\n",
        "# Friet output is input > hidden\n",
        "# Second output is hidden > hidden\n",
        "# Third output id bias term (vector of lenght M)\n",
        "a, b, c = model.layers[1].get_weights()\n",
        "print(a.shape, b.shape, c.shape)"
      ],
      "metadata": {
        "colab": {
          "base_uri": "https://localhost:8080/"
        },
        "id": "Ea-0btJ9eo7E",
        "outputId": "692505b9-b14a-42e9-e901-e64a1586bb8a"
      },
      "execution_count": 57,
      "outputs": [
        {
          "output_type": "stream",
          "name": "stdout",
          "text": [
            "(3, 5) (5, 5) (5,)\n"
          ]
        }
      ]
    },
    {
      "cell_type": "code",
      "source": [
        "Wx, Wh, bh = model.layers[1].get_weights()\n",
        "Wo, bo = model.layers[2].get_weights()"
      ],
      "metadata": {
        "id": "gNy385iqeouq"
      },
      "execution_count": 58,
      "outputs": []
    },
    {
      "cell_type": "code",
      "source": [
        "for n in range(N):\n",
        "  h_last = np.zeros(M) # initial hidden state\n",
        "  x = X[n] # The one and only sample\n",
        "  Yhats = [] # Where we store the outputs\n",
        "\n",
        "  for t in range(T):\n",
        "\n",
        "    h = np.tanh(x[t].dot(Wx) + h_last.dot(Wh) + bh)\n",
        "    y = h.dot(Wo) + bo # We only care about this value on the last iteration\n",
        "    Yhats.append(y)\n",
        "\n",
        "    # Important: assign h to h_last\n",
        "    h_last = h\n",
        "# Print the final output\n",
        "  print(Yhats[-1])"
      ],
      "metadata": {
        "colab": {
          "base_uri": "https://localhost:8080/"
        },
        "id": "0K3olCvJeESW",
        "outputId": "9037c70a-4cdc-43ed-92c6-0f40cd6f5713"
      },
      "execution_count": 61,
      "outputs": [
        {
          "output_type": "stream",
          "name": "stdout",
          "text": [
            "[ 0.49660063 -1.37501312]\n"
          ]
        }
      ]
    }
  ]
}