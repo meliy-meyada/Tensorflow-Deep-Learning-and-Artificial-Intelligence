{
  "nbformat": 4,
  "nbformat_minor": 0,
  "metadata": {
    "colab": {
      "name": "TF2.0 Recommender System.ipynb",
      "provenance": [],
      "machine_shape": "hm",
      "authorship_tag": "ABX9TyNf6x7qFLvRCYhFegFiiazX",
      "include_colab_link": true
    },
    "kernelspec": {
      "name": "python3",
      "display_name": "Python 3"
    },
    "language_info": {
      "name": "python"
    },
    "accelerator": "GPU",
    "gpuClass": "standard"
  },
  "cells": [
    {
      "cell_type": "markdown",
      "metadata": {
        "id": "view-in-github",
        "colab_type": "text"
      },
      "source": [
        "<a href=\"https://colab.research.google.com/github/meliy-meyada/Tensorflow-Deep-Learning-and-Artificial-Intelligence/blob/main/TF2_0_Recommender_System.ipynb\" target=\"_parent\"><img src=\"https://colab.research.google.com/assets/colab-badge.svg\" alt=\"Open In Colab\"/></a>"
      ]
    },
    {
      "cell_type": "code",
      "execution_count": 1,
      "metadata": {
        "colab": {
          "base_uri": "https://localhost:8080/"
        },
        "id": "3f-ZtZmU-RyM",
        "outputId": "c3cd1ccb-f673-4234-f29a-3f58dbecf9b9"
      },
      "outputs": [
        {
          "output_type": "stream",
          "name": "stdout",
          "text": [
            "`%tensorflow_version` only switches the major version: 1.x or 2.x.\n",
            "You set: `2.x # Colab only.`. This will be interpreted as: `2.x`.\n",
            "\n",
            "\n",
            "TensorFlow 2.x selected.\n",
            "2.8.2\n"
          ]
        }
      ],
      "source": [
        "# Install Tensorflow\n",
        "# !pip install -q tensorflow\n",
        "try: \n",
        "  %tensorflow_version 2.x # Colab only.\n",
        "except Exception:\n",
        "  pass\n",
        "\n",
        "import tensorflow as tf\n",
        "print(tf.__version__)"
      ]
    },
    {
      "cell_type": "code",
      "source": [
        "# More imports\n",
        "from tensorflow.keras.layers import Input, Dense, Embedding, Flatten, Concatenate\n",
        "from tensorflow.keras.models import Model\n",
        "from tensorflow.keras.optimizers import SGD, Adam\n",
        "from sklearn.utils import shuffle\n",
        "\n",
        "import numpy as np\n",
        "import pandas as pd\n",
        "import matplotlib.pyplot as plt"
      ],
      "metadata": {
        "id": "rdc-PRrk-kFA"
      },
      "execution_count": 2,
      "outputs": []
    },
    {
      "cell_type": "code",
      "source": [
        "!wget -nc http://files.grouplens.org/datasets/movielens/ml-20m.zip"
      ],
      "metadata": {
        "colab": {
          "base_uri": "https://localhost:8080/"
        },
        "id": "dRMDvQjn_kT_",
        "outputId": "69a86f29-4faf-4293-c916-d33bb3657fb7"
      },
      "execution_count": 3,
      "outputs": [
        {
          "output_type": "stream",
          "name": "stdout",
          "text": [
            "--2022-07-25 06:16:35--  http://files.grouplens.org/datasets/movielens/ml-20m.zip\n",
            "Resolving files.grouplens.org (files.grouplens.org)... 128.101.65.152\n",
            "Connecting to files.grouplens.org (files.grouplens.org)|128.101.65.152|:80... connected.\n",
            "HTTP request sent, awaiting response... 200 OK\n",
            "Length: 198702078 (189M) [application/zip]\n",
            "Saving to: ‘ml-20m.zip’\n",
            "\n",
            "ml-20m.zip          100%[===================>] 189.50M  27.1MB/s    in 7.7s    \n",
            "\n",
            "2022-07-25 06:16:43 (24.6 MB/s) - ‘ml-20m.zip’ saved [198702078/198702078]\n",
            "\n"
          ]
        }
      ]
    },
    {
      "cell_type": "code",
      "source": [
        "!unzip -n ml-20m.zip"
      ],
      "metadata": {
        "colab": {
          "base_uri": "https://localhost:8080/"
        },
        "id": "DOfYHMNpAAmL",
        "outputId": "ba0d2715-352e-4109-ee7d-59a08cf34867"
      },
      "execution_count": 4,
      "outputs": [
        {
          "output_type": "stream",
          "name": "stdout",
          "text": [
            "Archive:  ml-20m.zip\n",
            "   creating: ml-20m/\n",
            "  inflating: ml-20m/genome-scores.csv  \n",
            "  inflating: ml-20m/genome-tags.csv  \n",
            "  inflating: ml-20m/links.csv        \n",
            "  inflating: ml-20m/movies.csv       \n",
            "  inflating: ml-20m/ratings.csv      \n",
            "  inflating: ml-20m/README.txt       \n",
            "  inflating: ml-20m/tags.csv         \n"
          ]
        }
      ]
    },
    {
      "cell_type": "code",
      "source": [
        "!ls"
      ],
      "metadata": {
        "colab": {
          "base_uri": "https://localhost:8080/"
        },
        "id": "Z-9wQcESAPtC",
        "outputId": "cca5e57f-9ec8-496c-83ea-afabb5169e73"
      },
      "execution_count": 5,
      "outputs": [
        {
          "output_type": "stream",
          "name": "stdout",
          "text": [
            "ml-20m\tml-20m.zip  sample_data\n"
          ]
        }
      ]
    },
    {
      "cell_type": "code",
      "source": [
        "df = pd.read_csv('ml-20m/ratings.csv')\n",
        "df.head()"
      ],
      "metadata": {
        "colab": {
          "base_uri": "https://localhost:8080/",
          "height": 206
        },
        "id": "uMGy-0YnAUYh",
        "outputId": "6b572ec8-a920-4565-d81a-67157e31492a"
      },
      "execution_count": 6,
      "outputs": [
        {
          "output_type": "execute_result",
          "data": {
            "text/plain": [
              "   userId  movieId  rating   timestamp\n",
              "0       1        2     3.5  1112486027\n",
              "1       1       29     3.5  1112484676\n",
              "2       1       32     3.5  1112484819\n",
              "3       1       47     3.5  1112484727\n",
              "4       1       50     3.5  1112484580"
            ],
            "text/html": [
              "\n",
              "  <div id=\"df-4f480611-d559-4edc-a07d-cf53e7d62e47\">\n",
              "    <div class=\"colab-df-container\">\n",
              "      <div>\n",
              "<style scoped>\n",
              "    .dataframe tbody tr th:only-of-type {\n",
              "        vertical-align: middle;\n",
              "    }\n",
              "\n",
              "    .dataframe tbody tr th {\n",
              "        vertical-align: top;\n",
              "    }\n",
              "\n",
              "    .dataframe thead th {\n",
              "        text-align: right;\n",
              "    }\n",
              "</style>\n",
              "<table border=\"1\" class=\"dataframe\">\n",
              "  <thead>\n",
              "    <tr style=\"text-align: right;\">\n",
              "      <th></th>\n",
              "      <th>userId</th>\n",
              "      <th>movieId</th>\n",
              "      <th>rating</th>\n",
              "      <th>timestamp</th>\n",
              "    </tr>\n",
              "  </thead>\n",
              "  <tbody>\n",
              "    <tr>\n",
              "      <th>0</th>\n",
              "      <td>1</td>\n",
              "      <td>2</td>\n",
              "      <td>3.5</td>\n",
              "      <td>1112486027</td>\n",
              "    </tr>\n",
              "    <tr>\n",
              "      <th>1</th>\n",
              "      <td>1</td>\n",
              "      <td>29</td>\n",
              "      <td>3.5</td>\n",
              "      <td>1112484676</td>\n",
              "    </tr>\n",
              "    <tr>\n",
              "      <th>2</th>\n",
              "      <td>1</td>\n",
              "      <td>32</td>\n",
              "      <td>3.5</td>\n",
              "      <td>1112484819</td>\n",
              "    </tr>\n",
              "    <tr>\n",
              "      <th>3</th>\n",
              "      <td>1</td>\n",
              "      <td>47</td>\n",
              "      <td>3.5</td>\n",
              "      <td>1112484727</td>\n",
              "    </tr>\n",
              "    <tr>\n",
              "      <th>4</th>\n",
              "      <td>1</td>\n",
              "      <td>50</td>\n",
              "      <td>3.5</td>\n",
              "      <td>1112484580</td>\n",
              "    </tr>\n",
              "  </tbody>\n",
              "</table>\n",
              "</div>\n",
              "      <button class=\"colab-df-convert\" onclick=\"convertToInteractive('df-4f480611-d559-4edc-a07d-cf53e7d62e47')\"\n",
              "              title=\"Convert this dataframe to an interactive table.\"\n",
              "              style=\"display:none;\">\n",
              "        \n",
              "  <svg xmlns=\"http://www.w3.org/2000/svg\" height=\"24px\"viewBox=\"0 0 24 24\"\n",
              "       width=\"24px\">\n",
              "    <path d=\"M0 0h24v24H0V0z\" fill=\"none\"/>\n",
              "    <path d=\"M18.56 5.44l.94 2.06.94-2.06 2.06-.94-2.06-.94-.94-2.06-.94 2.06-2.06.94zm-11 1L8.5 8.5l.94-2.06 2.06-.94-2.06-.94L8.5 2.5l-.94 2.06-2.06.94zm10 10l.94 2.06.94-2.06 2.06-.94-2.06-.94-.94-2.06-.94 2.06-2.06.94z\"/><path d=\"M17.41 7.96l-1.37-1.37c-.4-.4-.92-.59-1.43-.59-.52 0-1.04.2-1.43.59L10.3 9.45l-7.72 7.72c-.78.78-.78 2.05 0 2.83L4 21.41c.39.39.9.59 1.41.59.51 0 1.02-.2 1.41-.59l7.78-7.78 2.81-2.81c.8-.78.8-2.07 0-2.86zM5.41 20L4 18.59l7.72-7.72 1.47 1.35L5.41 20z\"/>\n",
              "  </svg>\n",
              "      </button>\n",
              "      \n",
              "  <style>\n",
              "    .colab-df-container {\n",
              "      display:flex;\n",
              "      flex-wrap:wrap;\n",
              "      gap: 12px;\n",
              "    }\n",
              "\n",
              "    .colab-df-convert {\n",
              "      background-color: #E8F0FE;\n",
              "      border: none;\n",
              "      border-radius: 50%;\n",
              "      cursor: pointer;\n",
              "      display: none;\n",
              "      fill: #1967D2;\n",
              "      height: 32px;\n",
              "      padding: 0 0 0 0;\n",
              "      width: 32px;\n",
              "    }\n",
              "\n",
              "    .colab-df-convert:hover {\n",
              "      background-color: #E2EBFA;\n",
              "      box-shadow: 0px 1px 2px rgba(60, 64, 67, 0.3), 0px 1px 3px 1px rgba(60, 64, 67, 0.15);\n",
              "      fill: #174EA6;\n",
              "    }\n",
              "\n",
              "    [theme=dark] .colab-df-convert {\n",
              "      background-color: #3B4455;\n",
              "      fill: #D2E3FC;\n",
              "    }\n",
              "\n",
              "    [theme=dark] .colab-df-convert:hover {\n",
              "      background-color: #434B5C;\n",
              "      box-shadow: 0px 1px 3px 1px rgba(0, 0, 0, 0.15);\n",
              "      filter: drop-shadow(0px 1px 2px rgba(0, 0, 0, 0.3));\n",
              "      fill: #FFFFFF;\n",
              "    }\n",
              "  </style>\n",
              "\n",
              "      <script>\n",
              "        const buttonEl =\n",
              "          document.querySelector('#df-4f480611-d559-4edc-a07d-cf53e7d62e47 button.colab-df-convert');\n",
              "        buttonEl.style.display =\n",
              "          google.colab.kernel.accessAllowed ? 'block' : 'none';\n",
              "\n",
              "        async function convertToInteractive(key) {\n",
              "          const element = document.querySelector('#df-4f480611-d559-4edc-a07d-cf53e7d62e47');\n",
              "          const dataTable =\n",
              "            await google.colab.kernel.invokeFunction('convertToInteractive',\n",
              "                                                     [key], {});\n",
              "          if (!dataTable) return;\n",
              "\n",
              "          const docLinkHtml = 'Like what you see? Visit the ' +\n",
              "            '<a target=\"_blank\" href=https://colab.research.google.com/notebooks/data_table.ipynb>data table notebook</a>'\n",
              "            + ' to learn more about interactive tables.';\n",
              "          element.innerHTML = '';\n",
              "          dataTable['output_type'] = 'display_data';\n",
              "          await google.colab.output.renderOutput(dataTable, element);\n",
              "          const docLink = document.createElement('div');\n",
              "          docLink.innerHTML = docLinkHtml;\n",
              "          element.appendChild(docLink);\n",
              "        }\n",
              "      </script>\n",
              "    </div>\n",
              "  </div>\n",
              "  "
            ]
          },
          "metadata": {},
          "execution_count": 6
        }
      ]
    },
    {
      "cell_type": "code",
      "source": [
        "# The userId and movieId to be numbered 0...N-1\n",
        "\n",
        "# current_user_id = 0\n",
        "# custom_user_map = {} # old user id > new user id\n",
        "# def map_user_id(row):\n",
        "#   global current_user_id, custom_user_map\n",
        "#   old_user_id = row['userId']\n",
        "#   if old_user_id not in custom_user_map:\n",
        "#     custom_user_map[old_user_id] = current_user_id\n",
        "#     current_user_id += 1\n",
        "#   return custom_user_map[old_user_id]\n",
        "# df['new_user_id'] = df.apply(map_user_id, axis=1)\n",
        "\n",
        "df.userId = pd.Categorical(df.userId)\n",
        "df['new_user_id'] = df.userId.cat.codes"
      ],
      "metadata": {
        "id": "V1oqI2wCAlyi"
      },
      "execution_count": 7,
      "outputs": []
    },
    {
      "cell_type": "code",
      "source": [
        "# Now do same things for movie ids\n",
        "\n",
        "# current_user_id = 0\n",
        "# custom_user_map = {} # old user id > new user id\n",
        "# def map_user_id(row):\n",
        "#   global current_user_id, custom_user_map\n",
        "#   old_user_id = row['userId']\n",
        "#   if old_user_id not in custom_user_map:\n",
        "#     custom_user_map[old_user_id] = current_user_id\n",
        "#     current_user_id += 1\n",
        "#   return custom_user_map[old_user_id]\n",
        "# df['new_user_id'] = df.apply(map_user_id, axis=1)\n",
        "\n",
        "df.movieId = pd.Categorical(df.movieId)\n",
        "df['new_movie_id'] = df.movieId.cat.codes"
      ],
      "metadata": {
        "id": "BhdGqh0BCt0z"
      },
      "execution_count": 8,
      "outputs": []
    },
    {
      "cell_type": "code",
      "source": [
        "# Get user IDs, movie IDs and ratings as separate arrays\n",
        "user_ids = df['new_user_id'].values\n",
        "movie_ids = df['new_movie_id'].values\n",
        "ratings = df['rating'].values"
      ],
      "metadata": {
        "id": "tyFy4j-tKy3B"
      },
      "execution_count": 9,
      "outputs": []
    },
    {
      "cell_type": "code",
      "source": [
        "# Get number of users and number of movies\n",
        "N = len(set(user_ids))\n",
        "M = len(set(movie_ids))\n",
        "\n",
        "# Set embedding dimension\n",
        "K = 10"
      ],
      "metadata": {
        "id": "OIANe_zqLV7J"
      },
      "execution_count": 10,
      "outputs": []
    },
    {
      "cell_type": "code",
      "source": [
        "# Make a neural network\n",
        "\n",
        "# User input\n",
        "u = Input(shape=(1,))\n",
        "\n",
        "# Movie input\n",
        "m = Input(shape=(1,))\n",
        "\n",
        "# User embedding\n",
        "u_emb = Embedding(N, K)(u) # Output is (num_samples, 1, K)\n",
        "\n",
        "# Movie embedding\n",
        "m_emb = Embedding(M, K)(m) # Output is (num_samples, 1, K)\n",
        "\n",
        "# Flatten both embeddings\n",
        "u_emb = Flatten()(u_emb) # Now it's (num_samples, K)\n",
        "m_emb = Flatten()(m_emb) # Now it's (num_samples, K)\n",
        "\n",
        "# Concatenate user-movie embeddings into a feature vector\n",
        "x = Concatenate()([u_emb, m_emb]) # Now it's (num_samples, 2K)\n",
        "\n",
        "# Feature vector regular ANN\n",
        "x = Dense(1024, activation='relu')(x)\n",
        "# x = Dense(400, activation='relu')(x)\n",
        "# x = Dense(400, activation='relu')(x)\n",
        "x = Dense(1)(x)"
      ],
      "metadata": {
        "id": "7ERlLTJULzQQ"
      },
      "execution_count": 11,
      "outputs": []
    },
    {
      "cell_type": "code",
      "source": [
        "# Build the model and compile\n",
        "model = Model(inputs=[u, m], outputs=x)\n",
        "model.compile(\n",
        "    loss='mse',\n",
        "    optimizer=SGD(lr=0.08, momentum=0.9),\n",
        ")"
      ],
      "metadata": {
        "colab": {
          "base_uri": "https://localhost:8080/"
        },
        "id": "ekqe4cwsQEC7",
        "outputId": "d4d7c2b5-01bd-4a65-88cd-76f2072fd275"
      },
      "execution_count": 12,
      "outputs": [
        {
          "output_type": "stream",
          "name": "stderr",
          "text": [
            "/usr/local/lib/python3.7/dist-packages/keras/optimizer_v2/gradient_descent.py:102: UserWarning: The `lr` argument is deprecated, use `learning_rate` instead.\n",
            "  super(SGD, self).__init__(name, **kwargs)\n"
          ]
        }
      ]
    },
    {
      "cell_type": "code",
      "source": [
        "# Split the data\n",
        "user_ids, movie_ids, ratings = shuffle(user_ids, movie_ids, ratings)\n",
        "Ntrain = int(0.8 * len(ratings))\n",
        "train_user = user_ids[:Ntrain]\n",
        "train_movie = movie_ids[:Ntrain]\n",
        "train_ratings = ratings[:Ntrain]\n",
        "\n",
        "test_user = user_ids[:Ntrain]\n",
        "test_movie = movie_ids[:Ntrain]\n",
        "test_ratings = ratings[:Ntrain]\n",
        "\n",
        "# Center the ratings\n",
        "avg_rating = train_ratings.mean()\n",
        "train_ratings = train_ratings - avg_rating\n",
        "test_ratings = test_ratings - avg_rating"
      ],
      "metadata": {
        "id": "FRSgiXdEQ17M"
      },
      "execution_count": 13,
      "outputs": []
    },
    {
      "cell_type": "code",
      "source": [
        "r = model.fit(\n",
        "    x = [train_user, train_movie],\n",
        "    y = [train_ratings],\n",
        "    epochs=25,\n",
        "    batch_size = 1024,\n",
        "    verbose=2,\n",
        "    validation_data=([test_user, test_movie], test_ratings),\n",
        ")"
      ],
      "metadata": {
        "colab": {
          "base_uri": "https://localhost:8080/"
        },
        "id": "JjG7E3LRSUwp",
        "outputId": "7da2423c-2c97-4d25-e4af-ef930e301fba"
      },
      "execution_count": 14,
      "outputs": [
        {
          "output_type": "stream",
          "name": "stdout",
          "text": [
            "Epoch 1/25\n",
            "15626/15626 - 70s - loss: 0.7755 - val_loss: 0.7067 - 70s/epoch - 4ms/step\n",
            "Epoch 2/25\n",
            "15626/15626 - 66s - loss: 0.7005 - val_loss: 0.6763 - 66s/epoch - 4ms/step\n",
            "Epoch 3/25\n",
            "15626/15626 - 66s - loss: 0.6780 - val_loss: 0.6551 - 66s/epoch - 4ms/step\n",
            "Epoch 4/25\n",
            "15626/15626 - 65s - loss: 0.6629 - val_loss: 0.6467 - 65s/epoch - 4ms/step\n",
            "Epoch 5/25\n",
            "15626/15626 - 65s - loss: 0.6528 - val_loss: 0.6338 - 65s/epoch - 4ms/step\n",
            "Epoch 6/25\n",
            "15626/15626 - 65s - loss: 0.6400 - val_loss: 0.6170 - 65s/epoch - 4ms/step\n",
            "Epoch 7/25\n",
            "15626/15626 - 65s - loss: 0.6223 - val_loss: 0.5974 - 65s/epoch - 4ms/step\n",
            "Epoch 8/25\n",
            "15626/15626 - 66s - loss: 0.6094 - val_loss: 0.5867 - 66s/epoch - 4ms/step\n",
            "Epoch 9/25\n",
            "15626/15626 - 65s - loss: 0.5997 - val_loss: 0.5786 - 65s/epoch - 4ms/step\n",
            "Epoch 10/25\n",
            "15626/15626 - 65s - loss: 0.5914 - val_loss: 0.5704 - 65s/epoch - 4ms/step\n",
            "Epoch 11/25\n",
            "15626/15626 - 65s - loss: 0.5842 - val_loss: 0.5638 - 65s/epoch - 4ms/step\n",
            "Epoch 12/25\n",
            "15626/15626 - 65s - loss: 0.5775 - val_loss: 0.5593 - 65s/epoch - 4ms/step\n",
            "Epoch 13/25\n",
            "15626/15626 - 65s - loss: 0.5714 - val_loss: 0.5493 - 65s/epoch - 4ms/step\n",
            "Epoch 14/25\n",
            "15626/15626 - 65s - loss: 0.5660 - val_loss: 0.5537 - 65s/epoch - 4ms/step\n",
            "Epoch 15/25\n",
            "15626/15626 - 62s - loss: 0.5611 - val_loss: 0.5404 - 62s/epoch - 4ms/step\n",
            "Epoch 16/25\n",
            "15626/15626 - 61s - loss: 0.5568 - val_loss: 0.5365 - 61s/epoch - 4ms/step\n",
            "Epoch 17/25\n",
            "15626/15626 - 61s - loss: 0.5530 - val_loss: 0.5326 - 61s/epoch - 4ms/step\n",
            "Epoch 18/25\n",
            "15626/15626 - 62s - loss: 0.5494 - val_loss: 0.5287 - 62s/epoch - 4ms/step\n",
            "Epoch 19/25\n",
            "15626/15626 - 63s - loss: 0.5462 - val_loss: 0.5267 - 63s/epoch - 4ms/step\n",
            "Epoch 20/25\n",
            "15626/15626 - 61s - loss: 0.5434 - val_loss: 0.5257 - 61s/epoch - 4ms/step\n",
            "Epoch 21/25\n",
            "15626/15626 - 61s - loss: 0.5409 - val_loss: 0.5238 - 61s/epoch - 4ms/step\n",
            "Epoch 22/25\n",
            "15626/15626 - 64s - loss: 0.5387 - val_loss: 0.5248 - 64s/epoch - 4ms/step\n",
            "Epoch 23/25\n",
            "15626/15626 - 63s - loss: 0.5366 - val_loss: 0.5191 - 63s/epoch - 4ms/step\n",
            "Epoch 24/25\n",
            "15626/15626 - 60s - loss: 0.5348 - val_loss: 0.5176 - 60s/epoch - 4ms/step\n",
            "Epoch 25/25\n",
            "15626/15626 - 60s - loss: 0.5330 - val_loss: 0.5170 - 60s/epoch - 4ms/step\n"
          ]
        }
      ]
    },
    {
      "cell_type": "code",
      "source": [
        "# Plot losses\n",
        "plt.plot(r.history['loss'], label='train_loss')\n",
        "plt.plot(r.history['val_loss'], label='val_loss')\n",
        "plt.legend()\n",
        "plt.show()"
      ],
      "metadata": {
        "colab": {
          "base_uri": "https://localhost:8080/",
          "height": 265
        },
        "id": "dnMAuhyuT1sA",
        "outputId": "5ccce047-e1f2-4023-be21-75e3a26c6464"
      },
      "execution_count": 16,
      "outputs": [
        {
          "output_type": "display_data",
          "data": {
            "text/plain": [
              "<Figure size 432x288 with 1 Axes>"
            ],
            "image/png": "[encoded data removed]"
          },
          "metadata": {
            "needs_background": "light"
          }
        }
      ]
    },
    {
      "cell_type": "code",
      "source": [
        "np.sqrt(0.6259)"
      ],
      "metadata": {
        "colab": {
          "base_uri": "https://localhost:8080/"
        },
        "id": "GDM6hSoGarft",
        "outputId": "4c03c242-17bc-4750-bcf1-c010f154f624"
      },
      "execution_count": 17,
      "outputs": [
        {
          "output_type": "execute_result",
          "data": {
            "text/plain": [
              "0.7911384202527394"
            ]
          },
          "metadata": {},
          "execution_count": 17
        }
      ]
    }
  ]
}