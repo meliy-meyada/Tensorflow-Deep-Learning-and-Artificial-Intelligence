{
  "nbformat": 4,
  "nbformat_minor": 0,
  "metadata": {
    "colab": {
      "name": "TF2.0 Autoregressive Model.ipynb",
      "provenance": [],
      "machine_shape": "hm",
      "authorship_tag": "ABX9TyNsK9laan2NS85LIS7w4yOx",
      "include_colab_link": true
    },
    "kernelspec": {
      "name": "python3",
      "display_name": "Python 3"
    },
    "language_info": {
      "name": "python"
    },
    "accelerator": "GPU",
    "gpuClass": "standard"
  },
  "cells": [
    {
      "cell_type": "markdown",
      "metadata": {
        "id": "view-in-github",
        "colab_type": "text"
      },
      "source": [
        "<a href=\"https://colab.research.google.com/github/meliy-meyada/Tensorflow-Deep-Learning-and-Artificial-Intelligence/blob/main/TF2_0_Autoregressive_Model.ipynb\" target=\"_parent\"><img src=\"https://colab.research.google.com/assets/colab-badge.svg\" alt=\"Open In Colab\"/></a>"
      ]
    },
    {
      "cell_type": "code",
      "execution_count": 1,
      "metadata": {
        "colab": {
          "base_uri": "https://localhost:8080/"
        },
        "id": "N1jtsyR272kz",
        "outputId": "71f38db4-5366-4451-fa41-5c828a54c1b9"
      },
      "outputs": [
        {
          "output_type": "stream",
          "name": "stdout",
          "text": [
            "2.8.2\n"
          ]
        }
      ],
      "source": [
        "# Install Tensorflow\n",
        "!pip install -q tensorflow\n",
        "import tensorflow as tf\n",
        "print(tf.__version__)"
      ]
    },
    {
      "cell_type": "code",
      "source": [
        "# Additional imports\n",
        "\n",
        "from tensorflow.keras.layers import Input, Dense\n",
        "from tensorflow.keras.models import Model\n",
        "from tensorflow.keras.optimizers import SGD, Adam\n",
        "\n",
        "import numpy as np\n",
        "import pandas as pd\n",
        "import matplotlib.pyplot as plt\n"
      ],
      "metadata": {
        "id": "JPZT0mal8GV8"
      },
      "execution_count": 2,
      "outputs": []
    },
    {
      "cell_type": "code",
      "source": [
        "# Make the original data\n",
        "series = np.sin(0.1*np.arange(200)) # + np.random.randn(200)*0.1\n",
        "\n",
        "# Plot it\n",
        "plt.plot(series)\n",
        "plt.show()"
      ],
      "metadata": {
        "colab": {
          "base_uri": "https://localhost:8080/",
          "height": 265
        },
        "id": "CJpbrgI48rIC",
        "outputId": "01360cf6-a903-402e-a40a-5459845bdb40"
      },
      "execution_count": 3,
      "outputs": [
        {
          "output_type": "display_data",
          "data": {
            "text/plain": [
              "<Figure size 432x288 with 1 Axes>"
            ],
            "image/png": "[encoded data removed]"
          },
          "metadata": {
            "needs_background": "light"
          }
        }
      ]
    },
    {
      "cell_type": "code",
      "source": [
        "# Build tha dataset\n",
        "\n",
        "T = 10\n",
        "X = []\n",
        "Y = []\n",
        "for t in range(len(series) - T):\n",
        "  x = series[t:t+T]\n",
        "  X.append(x)\n",
        "  y = series[t+T]\n",
        "  Y.append(y)\n",
        "  \n",
        "X = np.array(X).reshape(-1, T)\n",
        "Y = np.array(Y)\n",
        "N = len(X)\n",
        "print(\"X.shape \", X.shape, \"Y.shape \", Y.shape)"
      ],
      "metadata": {
        "colab": {
          "base_uri": "https://localhost:8080/"
        },
        "id": "Wep5UeN5-LOg",
        "outputId": "04dd9cf2-7004-43fe-ffe8-6770ab3d3a82"
      },
      "execution_count": 4,
      "outputs": [
        {
          "output_type": "stream",
          "name": "stdout",
          "text": [
            "X.shape  (190, 10) Y.shape  (190,)\n"
          ]
        }
      ]
    },
    {
      "cell_type": "code",
      "source": [
        "# Autoregressive linear model\n",
        "i = Input(shape=(T,))\n",
        "x = Dense(1)(i)\n",
        "model = Model(i, x)\n",
        "\n",
        "model.compile(\n",
        "    loss='mse',\n",
        "    optimizer=Adam(learning_rate=0.1),\n",
        ")\n",
        "\n",
        "# Train the RNN\n",
        "r = model.fit(\n",
        "    X[:-N//2], Y[:-N//2],\n",
        "    epochs=80,\n",
        "    validation_data=(X[-N//2:], Y[-N//2:]),\n",
        ")"
      ],
      "metadata": {
        "colab": {
          "base_uri": "https://localhost:8080/"
        },
        "id": "LTd5NJ5J_fnO",
        "outputId": "3828863f-bc01-48b7-f028-9ce82e6cea20"
      },
      "execution_count": 5,
      "outputs": [
        {
          "output_type": "stream",
          "name": "stdout",
          "text": [
            "Epoch 1/80\n",
            "3/3 [==============================] - 1s 82ms/step - loss: 0.5060 - val_loss: 0.2335\n",
            "Epoch 2/80\n",
            "3/3 [==============================] - 0s 20ms/step - loss: 0.1408 - val_loss: 0.0617\n",
            "Epoch 3/80\n",
            "3/3 [==============================] - 0s 17ms/step - loss: 0.0264 - val_loss: 0.0619\n",
            "Epoch 4/80\n",
            "3/3 [==============================] - 0s 17ms/step - loss: 0.0642 - val_loss: 0.0825\n",
            "Epoch 5/80\n",
            "3/3 [==============================] - 0s 18ms/step - loss: 0.0842 - val_loss: 0.0793\n",
            "Epoch 6/80\n",
            "3/3 [==============================] - 0s 18ms/step - loss: 0.0626 - val_loss: 0.0510\n",
            "Epoch 7/80\n",
            "3/3 [==============================] - 0s 17ms/step - loss: 0.0329 - val_loss: 0.0113\n",
            "Epoch 8/80\n",
            "3/3 [==============================] - 0s 16ms/step - loss: 0.0113 - val_loss: 0.0044\n",
            "Epoch 9/80\n",
            "3/3 [==============================] - 0s 16ms/step - loss: 0.0054 - val_loss: 0.0153\n",
            "Epoch 10/80\n",
            "3/3 [==============================] - 0s 18ms/step - loss: 0.0143 - val_loss: 0.0155\n",
            "Epoch 11/80\n",
            "3/3 [==============================] - 0s 17ms/step - loss: 0.0166 - val_loss: 0.0101\n",
            "Epoch 12/80\n",
            "3/3 [==============================] - 0s 17ms/step - loss: 0.0091 - val_loss: 0.0056\n",
            "Epoch 13/80\n",
            "3/3 [==============================] - 0s 17ms/step - loss: 0.0032 - val_loss: 0.0026\n",
            "Epoch 14/80\n",
            "3/3 [==============================] - 0s 17ms/step - loss: 0.0016 - val_loss: 0.0014\n",
            "Epoch 15/80\n",
            "3/3 [==============================] - 0s 17ms/step - loss: 0.0024 - val_loss: 0.0035\n",
            "Epoch 16/80\n",
            "3/3 [==============================] - 0s 17ms/step - loss: 0.0031 - val_loss: 0.0031\n",
            "Epoch 17/80\n",
            "3/3 [==============================] - 0s 17ms/step - loss: 0.0022 - val_loss: 0.0015\n",
            "Epoch 18/80\n",
            "3/3 [==============================] - 0s 17ms/step - loss: 6.4972e-04 - val_loss: 2.0952e-04\n",
            "Epoch 19/80\n",
            "3/3 [==============================] - 0s 16ms/step - loss: 2.8931e-04 - val_loss: 3.9498e-04\n",
            "Epoch 20/80\n",
            "3/3 [==============================] - 0s 16ms/step - loss: 6.0482e-04 - val_loss: 6.7569e-04\n",
            "Epoch 21/80\n",
            "3/3 [==============================] - 0s 16ms/step - loss: 6.9868e-04 - val_loss: 5.2735e-04\n",
            "Epoch 22/80\n",
            "3/3 [==============================] - 0s 16ms/step - loss: 3.7580e-04 - val_loss: 3.3071e-04\n",
            "Epoch 23/80\n",
            "3/3 [==============================] - 0s 17ms/step - loss: 1.3470e-04 - val_loss: 1.4709e-04\n",
            "Epoch 24/80\n",
            "3/3 [==============================] - 0s 16ms/step - loss: 1.2014e-04 - val_loss: 1.4936e-04\n",
            "Epoch 25/80\n",
            "3/3 [==============================] - 0s 19ms/step - loss: 2.0064e-04 - val_loss: 1.4939e-04\n",
            "Epoch 26/80\n",
            "3/3 [==============================] - 0s 17ms/step - loss: 1.3227e-04 - val_loss: 8.4635e-05\n",
            "Epoch 27/80\n",
            "3/3 [==============================] - 0s 17ms/step - loss: 5.0836e-05 - val_loss: 1.1330e-05\n",
            "Epoch 28/80\n",
            "3/3 [==============================] - 0s 18ms/step - loss: 1.6337e-05 - val_loss: 2.8230e-05\n",
            "Epoch 29/80\n",
            "3/3 [==============================] - 0s 18ms/step - loss: 3.4575e-05 - val_loss: 5.6464e-05\n",
            "Epoch 30/80\n",
            "3/3 [==============================] - 0s 16ms/step - loss: 4.3342e-05 - val_loss: 3.0280e-05\n",
            "Epoch 31/80\n",
            "3/3 [==============================] - 0s 17ms/step - loss: 1.6533e-05 - val_loss: 9.4992e-06\n",
            "Epoch 32/80\n",
            "3/3 [==============================] - 0s 16ms/step - loss: 5.6759e-06 - val_loss: 7.0214e-06\n",
            "Epoch 33/80\n",
            "3/3 [==============================] - 0s 17ms/step - loss: 7.7875e-06 - val_loss: 1.3780e-05\n",
            "Epoch 34/80\n",
            "3/3 [==============================] - 0s 17ms/step - loss: 1.2867e-05 - val_loss: 1.0362e-05\n",
            "Epoch 35/80\n",
            "3/3 [==============================] - 0s 17ms/step - loss: 6.6590e-06 - val_loss: 3.2096e-06\n",
            "Epoch 36/80\n",
            "3/3 [==============================] - 0s 18ms/step - loss: 1.3800e-06 - val_loss: 1.8437e-06\n",
            "Epoch 37/80\n",
            "3/3 [==============================] - 0s 16ms/step - loss: 2.9434e-06 - val_loss: 3.8618e-06\n",
            "Epoch 38/80\n",
            "3/3 [==============================] - 0s 16ms/step - loss: 3.7405e-06 - val_loss: 5.2673e-06\n",
            "Epoch 39/80\n",
            "3/3 [==============================] - 0s 17ms/step - loss: 2.3595e-06 - val_loss: 5.5696e-07\n",
            "Epoch 40/80\n",
            "3/3 [==============================] - 0s 16ms/step - loss: 6.8821e-07 - val_loss: 9.9622e-07\n",
            "Epoch 41/80\n",
            "3/3 [==============================] - 0s 17ms/step - loss: 1.4800e-06 - val_loss: 2.3889e-06\n",
            "Epoch 42/80\n",
            "3/3 [==============================] - 0s 16ms/step - loss: 1.4481e-06 - val_loss: 9.1063e-07\n",
            "Epoch 43/80\n",
            "3/3 [==============================] - 0s 22ms/step - loss: 6.9970e-07 - val_loss: 3.2520e-07\n",
            "Epoch 44/80\n",
            "3/3 [==============================] - 0s 20ms/step - loss: 3.2211e-07 - val_loss: 4.5772e-07\n",
            "Epoch 45/80\n",
            "3/3 [==============================] - 0s 19ms/step - loss: 5.4930e-07 - val_loss: 6.6605e-07\n",
            "Epoch 46/80\n",
            "3/3 [==============================] - 0s 24ms/step - loss: 4.3159e-07 - val_loss: 3.6299e-07\n",
            "Epoch 47/80\n",
            "3/3 [==============================] - 0s 17ms/step - loss: 1.9616e-07 - val_loss: 1.4389e-07\n",
            "Epoch 48/80\n",
            "3/3 [==============================] - 0s 16ms/step - loss: 1.5922e-07 - val_loss: 2.4826e-07\n",
            "Epoch 49/80\n",
            "3/3 [==============================] - 0s 17ms/step - loss: 2.0628e-07 - val_loss: 3.3245e-07\n",
            "Epoch 50/80\n",
            "3/3 [==============================] - 0s 17ms/step - loss: 1.2553e-07 - val_loss: 8.1416e-08\n",
            "Epoch 51/80\n",
            "3/3 [==============================] - 0s 16ms/step - loss: 4.7153e-08 - val_loss: 4.5071e-08\n",
            "Epoch 52/80\n",
            "3/3 [==============================] - 0s 16ms/step - loss: 5.6048e-08 - val_loss: 9.3365e-08\n",
            "Epoch 53/80\n",
            "3/3 [==============================] - 0s 17ms/step - loss: 6.1107e-08 - val_loss: 7.4713e-08\n",
            "Epoch 54/80\n",
            "3/3 [==============================] - 0s 17ms/step - loss: 4.9017e-08 - val_loss: 1.4868e-08\n",
            "Epoch 55/80\n",
            "3/3 [==============================] - 0s 16ms/step - loss: 3.9856e-08 - val_loss: 1.4782e-08\n",
            "Epoch 56/80\n",
            "3/3 [==============================] - 0s 16ms/step - loss: 4.7814e-08 - val_loss: 7.5569e-09\n",
            "Epoch 57/80\n",
            "3/3 [==============================] - 0s 17ms/step - loss: 2.8813e-08 - val_loss: 1.4288e-08\n",
            "Epoch 58/80\n",
            "3/3 [==============================] - 0s 17ms/step - loss: 2.8139e-08 - val_loss: 4.0362e-08\n",
            "Epoch 59/80\n",
            "3/3 [==============================] - 0s 17ms/step - loss: 2.4227e-08 - val_loss: 4.8206e-08\n",
            "Epoch 60/80\n",
            "3/3 [==============================] - 0s 16ms/step - loss: 2.3264e-08 - val_loss: 1.6257e-08\n",
            "Epoch 61/80\n",
            "3/3 [==============================] - 0s 19ms/step - loss: 1.3518e-08 - val_loss: 5.5823e-09\n",
            "Epoch 62/80\n",
            "3/3 [==============================] - 0s 17ms/step - loss: 1.3699e-08 - val_loss: 3.8566e-09\n",
            "Epoch 63/80\n",
            "3/3 [==============================] - 0s 16ms/step - loss: 9.5947e-09 - val_loss: 3.3177e-09\n",
            "Epoch 64/80\n",
            "3/3 [==============================] - 0s 17ms/step - loss: 1.0457e-08 - val_loss: 1.3153e-08\n",
            "Epoch 65/80\n",
            "3/3 [==============================] - 0s 17ms/step - loss: 7.4908e-09 - val_loss: 2.1204e-08\n",
            "Epoch 66/80\n",
            "3/3 [==============================] - 0s 15ms/step - loss: 1.0989e-08 - val_loss: 1.3342e-08\n",
            "Epoch 67/80\n",
            "3/3 [==============================] - 0s 16ms/step - loss: 1.0395e-08 - val_loss: 6.8556e-09\n",
            "Epoch 68/80\n",
            "3/3 [==============================] - 0s 17ms/step - loss: 8.0561e-09 - val_loss: 4.5274e-09\n",
            "Epoch 69/80\n",
            "3/3 [==============================] - 0s 16ms/step - loss: 5.3383e-09 - val_loss: 1.2100e-09\n",
            "Epoch 70/80\n",
            "3/3 [==============================] - 0s 18ms/step - loss: 4.5651e-09 - val_loss: 3.8491e-09\n",
            "Epoch 71/80\n",
            "3/3 [==============================] - 0s 16ms/step - loss: 3.8408e-09 - val_loss: 1.1046e-08\n",
            "Epoch 72/80\n",
            "3/3 [==============================] - 0s 19ms/step - loss: 5.6798e-09 - val_loss: 6.5220e-09\n",
            "Epoch 73/80\n",
            "3/3 [==============================] - 0s 18ms/step - loss: 4.8775e-09 - val_loss: 1.8144e-09\n",
            "Epoch 74/80\n",
            "3/3 [==============================] - 0s 16ms/step - loss: 2.5372e-09 - val_loss: 1.7197e-10\n",
            "Epoch 75/80\n",
            "3/3 [==============================] - 0s 17ms/step - loss: 1.4728e-09 - val_loss: 5.0345e-10\n",
            "Epoch 76/80\n",
            "3/3 [==============================] - 0s 18ms/step - loss: 1.4770e-09 - val_loss: 2.0344e-09\n",
            "Epoch 77/80\n",
            "3/3 [==============================] - 0s 17ms/step - loss: 1.5683e-09 - val_loss: 2.2533e-09\n",
            "Epoch 78/80\n",
            "3/3 [==============================] - 0s 17ms/step - loss: 1.2200e-09 - val_loss: 7.6684e-10\n",
            "Epoch 79/80\n",
            "3/3 [==============================] - 0s 17ms/step - loss: 8.1652e-10 - val_loss: 8.8730e-11\n",
            "Epoch 80/80\n",
            "3/3 [==============================] - 0s 19ms/step - loss: 3.4903e-10 - val_loss: 4.8424e-10\n"
          ]
        }
      ]
    },
    {
      "cell_type": "code",
      "source": [
        "# Plot loss per iteration\n",
        "\n",
        "import matplotlib.pyplot as plt\n",
        "\n",
        "plt.plot(r.history['loss'], label='loss')\n",
        "plt.plot(r.history['val_loss'], label='val_loss')\n",
        "plt.legend()"
      ],
      "metadata": {
        "colab": {
          "base_uri": "https://localhost:8080/",
          "height": 283
        },
        "id": "MaLI641pEhRy",
        "outputId": "fb741b32-8873-4495-dd6d-a519f40506b2"
      },
      "execution_count": 6,
      "outputs": [
        {
          "output_type": "execute_result",
          "data": {
            "text/plain": [
              "<matplotlib.legend.Legend at 0x7fc9b4482610>"
            ]
          },
          "metadata": {},
          "execution_count": 6
        },
        {
          "output_type": "display_data",
          "data": {
            "text/plain": [
              "<Figure size 432x288 with 1 Axes>"
            ],
            "image/png": "[encoded data removed]"
          },
          "metadata": {
            "needs_background": "light"
          }
        }
      ]
    },
    {
      "cell_type": "code",
      "source": [
        "# 'Wrong' forecast using true targets\n",
        "\n",
        "validation_target = Y[-N//2:]\n",
        "validation_predictions = []\n",
        "\n",
        "# index of first validation input\n",
        "i = -N//2\n",
        "\n",
        "while len(validation_predictions) < len(validation_target):\n",
        "  p = model.predict(X[i].reshape(1, -1))[0, 0] # 1x1 array -> scalar\n",
        "  i += 1\n",
        "\n",
        "  # Update the predictions list\n",
        "  validation_predictions.append(p)"
      ],
      "metadata": {
        "id": "OeB3dABUFlya"
      },
      "execution_count": 7,
      "outputs": []
    },
    {
      "cell_type": "code",
      "source": [
        "plt.plot(validation_target, label='forecast target')\n",
        "plt.plot(validation_predictions, label='forecast prediction')\n",
        "plt.legend()"
      ],
      "metadata": {
        "colab": {
          "base_uri": "https://localhost:8080/",
          "height": 283
        },
        "id": "8f87JftXHXvr",
        "outputId": "59ab7dc1-0016-4224-d5f9-183bf8a47d46"
      },
      "execution_count": 8,
      "outputs": [
        {
          "output_type": "execute_result",
          "data": {
            "text/plain": [
              "<matplotlib.legend.Legend at 0x7fc9b449c150>"
            ]
          },
          "metadata": {},
          "execution_count": 8
        },
        {
          "output_type": "display_data",
          "data": {
            "text/plain": [
              "<Figure size 432x288 with 1 Axes>"
            ],
            "image/png": "[encoded data removed]"
          },
          "metadata": {
            "needs_background": "light"
          }
        }
      ]
    },
    {
      "cell_type": "code",
      "source": [
        "# Forecast future values \n",
        "validation_target = Y[-N//2:]\n",
        "validation_predictions = []\n",
        "\n",
        "# Last train input\n",
        "last_x = X[-N//2]  # 1-D array of lenght T\n",
        "\n",
        "while len(validation_predictions) < len(validation_target):\n",
        "  p = model.predict(last_x.reshape(1, -1))[0,0] # 1x1 array -> scalar\n",
        "\n",
        "  # Update the predictions list\n",
        "  validation_predictions.append(p)\n",
        "\n",
        "  # Make the new input\n",
        "  last_x = np.roll(last_x, -1)\n",
        "  last_x[-1] = p"
      ],
      "metadata": {
        "id": "LRjFX8yQHsgF"
      },
      "execution_count": 9,
      "outputs": []
    },
    {
      "cell_type": "code",
      "source": [
        "plt.plot(validation_target, label='forecast target')\n",
        "plt.plot(validation_predictions, label='forecast prediction')\n",
        "plt.legend()"
      ],
      "metadata": {
        "colab": {
          "base_uri": "https://localhost:8080/",
          "height": 283
        },
        "id": "gryUTPvoHwDG",
        "outputId": "80578d5b-4410-4798-e0ba-e660de02a44f"
      },
      "execution_count": 10,
      "outputs": [
        {
          "output_type": "execute_result",
          "data": {
            "text/plain": [
              "<matplotlib.legend.Legend at 0x7fc99d679150>"
            ]
          },
          "metadata": {},
          "execution_count": 10
        },
        {
          "output_type": "display_data",
          "data": {
            "text/plain": [
              "<Figure size 432x288 with 1 Axes>"
            ],
            "image/png": "[encoded data removed]"
          },
          "metadata": {
            "needs_background": "light"
          }
        }
      ]
    },
    {
      "cell_type": "code",
      "source": [
        ""
      ],
      "metadata": {
        "id": "bbn4ygIgJfpL"
      },
      "execution_count": null,
      "outputs": []
    }
  ]
}