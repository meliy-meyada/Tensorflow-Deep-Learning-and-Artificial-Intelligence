{
  "nbformat": 4,
  "nbformat_minor": 0,
  "metadata": {
    "colab": {
      "name": "TF2.0 Linear Classification.ipynb",
      "provenance": [],
      "collapsed_sections": [],
      "authorship_tag": "ABX9TyONwsOdj1y8fvZweeQbplcj",
      "include_colab_link": true
    },
    "kernelspec": {
      "name": "python3",
      "display_name": "Python 3"
    },
    "language_info": {
      "name": "python"
    },
    "accelerator": "TPU",
    "gpuClass": "standard"
  },
  "cells": [
    {
      "cell_type": "markdown",
      "metadata": {
        "id": "view-in-github",
        "colab_type": "text"
      },
      "source": [
        "<a href=\"https://colab.research.google.com/github/meliy-meyada/Tensorflow-Deep-Learning-and-Artificial-Intelligence/blob/main/TF2_0_Linear_Classification.ipynb\" target=\"_parent\"><img src=\"https://colab.research.google.com/assets/colab-badge.svg\" alt=\"Open In Colab\"/></a>"
      ]
    },
    {
      "cell_type": "code",
      "execution_count": 22,
      "metadata": {
        "id": "-PmUWj_kU_M2",
        "colab": {
          "base_uri": "https://localhost:8080/"
        },
        "outputId": "92181b5f-1399-4c63-8f35-911294c6929f"
      },
      "outputs": [
        {
          "output_type": "stream",
          "name": "stdout",
          "text": [
            "2.8.2\n"
          ]
        }
      ],
      "source": [
        "# install Tensorflow\n",
        "!pip install -q tensorflow-gpu==2.8.2\n",
        "import tensorflow as tf\n",
        "print(tf.__version__)"
      ]
    },
    {
      "cell_type": "code",
      "source": [
        "# Load in the data\n",
        "from sklearn.datasets import load_breast_cancer"
      ],
      "metadata": {
        "id": "ANqYcUWDFae7"
      },
      "execution_count": 23,
      "outputs": []
    },
    {
      "cell_type": "code",
      "source": [
        "# Load the data\n",
        "data = load_breast_cancer()"
      ],
      "metadata": {
        "id": "gRkIHWCFFtsm"
      },
      "execution_count": 24,
      "outputs": []
    },
    {
      "cell_type": "code",
      "source": [
        "# Check the type of data\n",
        "type(data)"
      ],
      "metadata": {
        "colab": {
          "base_uri": "https://localhost:8080/"
        },
        "id": "-LROLo0iF1vD",
        "outputId": "31bc4056-8eb8-402c-918e-d1e4cb8fe21b"
      },
      "execution_count": 25,
      "outputs": [
        {
          "output_type": "execute_result",
          "data": {
            "text/plain": [
              "sklearn.utils.Bunch"
            ]
          },
          "metadata": {},
          "execution_count": 25
        }
      ]
    },
    {
      "cell_type": "code",
      "source": [
        "# This basically acts like dictionary key like attributes\n",
        "data.keys()"
      ],
      "metadata": {
        "colab": {
          "base_uri": "https://localhost:8080/"
        },
        "id": "GVT4iYs2F-FN",
        "outputId": "f169368b-639b-4f8a-a85b-606c5f0dff94"
      },
      "execution_count": 26,
      "outputs": [
        {
          "output_type": "execute_result",
          "data": {
            "text/plain": [
              "dict_keys(['data', 'target', 'frame', 'target_names', 'DESCR', 'feature_names', 'filename', 'data_module'])"
            ]
          },
          "metadata": {},
          "execution_count": 26
        }
      ]
    },
    {
      "cell_type": "code",
      "source": [
        "# data the attributes means the input data\n",
        "data.data.shape"
      ],
      "metadata": {
        "colab": {
          "base_uri": "https://localhost:8080/"
        },
        "id": "YHfqJ1z1GWzB",
        "outputId": "f7c0ead4-144c-42b4-8425-94e982078f96"
      },
      "execution_count": 27,
      "outputs": [
        {
          "output_type": "execute_result",
          "data": {
            "text/plain": [
              "(569, 30)"
            ]
          },
          "metadata": {},
          "execution_count": 27
        }
      ]
    },
    {
      "cell_type": "code",
      "source": [
        "#  target attributes\n",
        "data.target"
      ],
      "metadata": {
        "colab": {
          "base_uri": "https://localhost:8080/"
        },
        "id": "GigO1N7QG7wM",
        "outputId": "75421c4b-548d-4130-fc41-192cdeda1d7b"
      },
      "execution_count": 28,
      "outputs": [
        {
          "output_type": "execute_result",
          "data": {
            "text/plain": [
              "array([0, 0, 0, 0, 0, 0, 0, 0, 0, 0, 0, 0, 0, 0, 0, 0, 0, 0, 0, 1, 1, 1,\n",
              "       0, 0, 0, 0, 0, 0, 0, 0, 0, 0, 0, 0, 0, 0, 0, 1, 0, 0, 0, 0, 0, 0,\n",
              "       0, 0, 1, 0, 1, 1, 1, 1, 1, 0, 0, 1, 0, 0, 1, 1, 1, 1, 0, 1, 0, 0,\n",
              "       1, 1, 1, 1, 0, 1, 0, 0, 1, 0, 1, 0, 0, 1, 1, 1, 0, 0, 1, 0, 0, 0,\n",
              "       1, 1, 1, 0, 1, 1, 0, 0, 1, 1, 1, 0, 0, 1, 1, 1, 1, 0, 1, 1, 0, 1,\n",
              "       1, 1, 1, 1, 1, 1, 1, 0, 0, 0, 1, 0, 0, 1, 1, 1, 0, 0, 1, 0, 1, 0,\n",
              "       0, 1, 0, 0, 1, 1, 0, 1, 1, 0, 1, 1, 1, 1, 0, 1, 1, 1, 1, 1, 1, 1,\n",
              "       1, 1, 0, 1, 1, 1, 1, 0, 0, 1, 0, 1, 1, 0, 0, 1, 1, 0, 0, 1, 1, 1,\n",
              "       1, 0, 1, 1, 0, 0, 0, 1, 0, 1, 0, 1, 1, 1, 0, 1, 1, 0, 0, 1, 0, 0,\n",
              "       0, 0, 1, 0, 0, 0, 1, 0, 1, 0, 1, 1, 0, 1, 0, 0, 0, 0, 1, 1, 0, 0,\n",
              "       1, 1, 1, 0, 1, 1, 1, 1, 1, 0, 0, 1, 1, 0, 1, 1, 0, 0, 1, 0, 1, 1,\n",
              "       1, 1, 0, 1, 1, 1, 1, 1, 0, 1, 0, 0, 0, 0, 0, 0, 0, 0, 0, 0, 0, 0,\n",
              "       0, 0, 1, 1, 1, 1, 1, 1, 0, 1, 0, 1, 1, 0, 1, 1, 0, 1, 0, 0, 1, 1,\n",
              "       1, 1, 1, 1, 1, 1, 1, 1, 1, 1, 1, 0, 1, 1, 0, 1, 0, 1, 1, 1, 1, 1,\n",
              "       1, 1, 1, 1, 1, 1, 1, 1, 1, 0, 1, 1, 1, 0, 1, 0, 1, 1, 1, 1, 0, 0,\n",
              "       0, 1, 1, 1, 1, 0, 1, 0, 1, 0, 1, 1, 1, 0, 1, 1, 1, 1, 1, 1, 1, 0,\n",
              "       0, 0, 1, 1, 1, 1, 1, 1, 1, 1, 1, 1, 1, 0, 0, 1, 0, 0, 0, 1, 0, 0,\n",
              "       1, 1, 1, 1, 1, 0, 1, 1, 1, 1, 1, 0, 1, 1, 1, 0, 1, 1, 0, 0, 1, 1,\n",
              "       1, 1, 1, 1, 0, 1, 1, 1, 1, 1, 1, 1, 0, 1, 1, 1, 1, 1, 0, 1, 1, 0,\n",
              "       1, 1, 1, 1, 1, 1, 1, 1, 1, 1, 1, 1, 0, 1, 0, 0, 1, 0, 1, 1, 1, 1,\n",
              "       1, 0, 1, 1, 0, 1, 0, 1, 1, 0, 1, 0, 1, 1, 1, 1, 1, 1, 1, 1, 0, 0,\n",
              "       1, 1, 1, 1, 1, 1, 0, 1, 1, 1, 1, 1, 1, 1, 1, 1, 1, 0, 1, 1, 1, 1,\n",
              "       1, 1, 1, 0, 1, 0, 1, 1, 0, 1, 1, 1, 1, 1, 0, 0, 1, 0, 1, 0, 1, 1,\n",
              "       1, 1, 1, 0, 1, 1, 0, 1, 0, 1, 0, 0, 1, 1, 1, 0, 1, 1, 1, 1, 1, 1,\n",
              "       1, 1, 1, 1, 1, 0, 1, 0, 0, 1, 1, 1, 1, 1, 1, 1, 1, 1, 1, 1, 1, 1,\n",
              "       1, 1, 1, 1, 1, 1, 1, 1, 1, 1, 1, 1, 0, 0, 0, 0, 0, 0, 1])"
            ]
          },
          "metadata": {},
          "execution_count": 28
        }
      ]
    },
    {
      "cell_type": "code",
      "source": [
        "# their meaning is not lost\n",
        "data.target_names"
      ],
      "metadata": {
        "colab": {
          "base_uri": "https://localhost:8080/"
        },
        "id": "u9WVR_RdHASU",
        "outputId": "75445854-9ef7-41c3-8a1f-6f3fac0a7916"
      },
      "execution_count": 29,
      "outputs": [
        {
          "output_type": "execute_result",
          "data": {
            "text/plain": [
              "array(['malignant', 'benign'], dtype='<U9')"
            ]
          },
          "metadata": {},
          "execution_count": 29
        }
      ]
    },
    {
      "cell_type": "code",
      "source": [
        "# there are also 569 corresponding target\n",
        "data.target.shape"
      ],
      "metadata": {
        "colab": {
          "base_uri": "https://localhost:8080/"
        },
        "id": "AdNDbdsYHeGy",
        "outputId": "419601ae-4096-4d42-fc58-0c0fdbe73be7"
      },
      "execution_count": 30,
      "outputs": [
        {
          "output_type": "execute_result",
          "data": {
            "text/plain": [
              "(569,)"
            ]
          },
          "metadata": {},
          "execution_count": 30
        }
      ]
    },
    {
      "cell_type": "code",
      "source": [
        "# Determinw meaning of each feature\n",
        "data.feature_names"
      ],
      "metadata": {
        "colab": {
          "base_uri": "https://localhost:8080/"
        },
        "id": "tek8cdh4Hxs_",
        "outputId": "82901f9f-db77-43a3-80bc-5f273e0c7145"
      },
      "execution_count": 31,
      "outputs": [
        {
          "output_type": "execute_result",
          "data": {
            "text/plain": [
              "array(['mean radius', 'mean texture', 'mean perimeter', 'mean area',\n",
              "       'mean smoothness', 'mean compactness', 'mean concavity',\n",
              "       'mean concave points', 'mean symmetry', 'mean fractal dimension',\n",
              "       'radius error', 'texture error', 'perimeter error', 'area error',\n",
              "       'smoothness error', 'compactness error', 'concavity error',\n",
              "       'concave points error', 'symmetry error',\n",
              "       'fractal dimension error', 'worst radius', 'worst texture',\n",
              "       'worst perimeter', 'worst area', 'worst smoothness',\n",
              "       'worst compactness', 'worst concavity', 'worst concave points',\n",
              "       'worst symmetry', 'worst fractal dimension'], dtype='<U23')"
            ]
          },
          "metadata": {},
          "execution_count": 31
        }
      ]
    },
    {
      "cell_type": "code",
      "source": [
        "# Normally put  all import at the top\n",
        "from sklearn.model_selection import train_test_split"
      ],
      "metadata": {
        "id": "ugjJx3PKIB7k"
      },
      "execution_count": 32,
      "outputs": []
    },
    {
      "cell_type": "code",
      "source": [
        "# Split the data intro train and test sets\n",
        "X_train, X_test, y_train, y_test = train_test_split(data.data, data.target, test_size=0.33)\n",
        "N, D = X_train.shape"
      ],
      "metadata": {
        "id": "vvcpkIeMIrUe"
      },
      "execution_count": 33,
      "outputs": []
    },
    {
      "cell_type": "code",
      "source": [
        "# Scale the data\n",
        "from sklearn.preprocessing import StandardScaler"
      ],
      "metadata": {
        "id": "cHP85gyQJhhj"
      },
      "execution_count": 34,
      "outputs": []
    },
    {
      "cell_type": "code",
      "source": [
        "scaler = StandardScaler()\n",
        "X_train = scaler.fit_transform(X_train)\n",
        "X_test = scaler.transform(X_test)"
      ],
      "metadata": {
        "id": "KsQNzsnsKAfb"
      },
      "execution_count": 35,
      "outputs": []
    },
    {
      "cell_type": "code",
      "source": [
        "# Build the model\n",
        "model = tf.keras.models.Sequential([\n",
        "    tf.keras.layers.Input(shape=(D,)),\n",
        "    tf.keras.layers.Dense(1, activation='sigmoid')\n",
        "])\n",
        "\n",
        "# Alternatively, can do:\n",
        "# model = tf.keras.models.Sequential()\n",
        "# model.add(tf.keras.layers.Dense(1, input_shape=(D,), activation='sigmoid'))\n",
        "\n",
        "model.compile(optimizer='adam',\n",
        "              loss = 'binary_crossentropy',\n",
        "              metrics=['accuracy']\n",
        "              )\n",
        "\n",
        "# training the model\n",
        "r = model.fit(X_train, y_train, validation_data=(X_test, y_test), epochs=100)\n",
        "\n",
        "# Evaluate the model - evaluate() returns loss and accuracy\n",
        "print(\"Train score: \", model.evaluate(X_train, y_train))\n",
        "print(\"Test score: \", model.evaluate(X_test, y_test))"
      ],
      "metadata": {
        "colab": {
          "base_uri": "https://localhost:8080/"
        },
        "id": "0GGAoxjXKa2s",
        "outputId": "5f3ba69f-db4b-45e1-8962-fc6cb3ae9b4b"
      },
      "execution_count": 36,
      "outputs": [
        {
          "output_type": "stream",
          "name": "stdout",
          "text": [
            "Epoch 1/100\n",
            "12/12 [==============================] - 1s 19ms/step - loss: 1.3470 - accuracy: 0.1129 - val_loss: 1.2761 - val_accuracy: 0.1383\n",
            "Epoch 2/100\n",
            "12/12 [==============================] - 0s 6ms/step - loss: 1.2260 - accuracy: 0.1365 - val_loss: 1.1552 - val_accuracy: 0.1809\n",
            "Epoch 3/100\n",
            "12/12 [==============================] - 0s 6ms/step - loss: 1.1121 - accuracy: 0.1680 - val_loss: 1.0441 - val_accuracy: 0.2128\n",
            "Epoch 4/100\n",
            "12/12 [==============================] - 0s 5ms/step - loss: 1.0089 - accuracy: 0.2283 - val_loss: 0.9437 - val_accuracy: 0.2713\n",
            "Epoch 5/100\n",
            "12/12 [==============================] - 0s 6ms/step - loss: 0.9147 - accuracy: 0.3202 - val_loss: 0.8548 - val_accuracy: 0.3564\n",
            "Epoch 6/100\n",
            "12/12 [==============================] - 0s 5ms/step - loss: 0.8306 - accuracy: 0.3858 - val_loss: 0.7777 - val_accuracy: 0.4468\n",
            "Epoch 7/100\n",
            "12/12 [==============================] - 0s 5ms/step - loss: 0.7592 - accuracy: 0.4777 - val_loss: 0.7095 - val_accuracy: 0.5691\n",
            "Epoch 8/100\n",
            "12/12 [==============================] - 0s 5ms/step - loss: 0.6963 - accuracy: 0.5801 - val_loss: 0.6506 - val_accuracy: 0.6755\n",
            "Epoch 9/100\n",
            "12/12 [==============================] - 0s 6ms/step - loss: 0.6430 - accuracy: 0.6562 - val_loss: 0.5998 - val_accuracy: 0.7128\n",
            "Epoch 10/100\n",
            "12/12 [==============================] - 0s 5ms/step - loss: 0.5965 - accuracy: 0.7139 - val_loss: 0.5565 - val_accuracy: 0.7553\n",
            "Epoch 11/100\n",
            "12/12 [==============================] - 0s 5ms/step - loss: 0.5560 - accuracy: 0.7507 - val_loss: 0.5198 - val_accuracy: 0.7979\n",
            "Epoch 12/100\n",
            "12/12 [==============================] - 0s 5ms/step - loss: 0.5221 - accuracy: 0.8031 - val_loss: 0.4875 - val_accuracy: 0.8245\n",
            "Epoch 13/100\n",
            "12/12 [==============================] - 0s 6ms/step - loss: 0.4917 - accuracy: 0.8346 - val_loss: 0.4598 - val_accuracy: 0.8617\n",
            "Epoch 14/100\n",
            "12/12 [==============================] - 0s 7ms/step - loss: 0.4653 - accuracy: 0.8451 - val_loss: 0.4356 - val_accuracy: 0.8777\n",
            "Epoch 15/100\n",
            "12/12 [==============================] - 0s 6ms/step - loss: 0.4420 - accuracy: 0.8609 - val_loss: 0.4141 - val_accuracy: 0.8830\n",
            "Epoch 16/100\n",
            "12/12 [==============================] - 0s 6ms/step - loss: 0.4213 - accuracy: 0.8740 - val_loss: 0.3950 - val_accuracy: 0.8830\n",
            "Epoch 17/100\n",
            "12/12 [==============================] - 0s 6ms/step - loss: 0.4024 - accuracy: 0.8819 - val_loss: 0.3780 - val_accuracy: 0.8936\n",
            "Epoch 18/100\n",
            "12/12 [==============================] - 0s 6ms/step - loss: 0.3854 - accuracy: 0.8871 - val_loss: 0.3627 - val_accuracy: 0.9149\n",
            "Epoch 19/100\n",
            "12/12 [==============================] - 0s 8ms/step - loss: 0.3702 - accuracy: 0.9003 - val_loss: 0.3488 - val_accuracy: 0.9202\n",
            "Epoch 20/100\n",
            "12/12 [==============================] - 0s 8ms/step - loss: 0.3562 - accuracy: 0.9029 - val_loss: 0.3360 - val_accuracy: 0.9202\n",
            "Epoch 21/100\n",
            "12/12 [==============================] - 0s 8ms/step - loss: 0.3432 - accuracy: 0.9134 - val_loss: 0.3245 - val_accuracy: 0.9202\n",
            "Epoch 22/100\n",
            "12/12 [==============================] - 0s 8ms/step - loss: 0.3315 - accuracy: 0.9186 - val_loss: 0.3138 - val_accuracy: 0.9255\n",
            "Epoch 23/100\n",
            "12/12 [==============================] - 0s 5ms/step - loss: 0.3208 - accuracy: 0.9213 - val_loss: 0.3041 - val_accuracy: 0.9202\n",
            "Epoch 24/100\n",
            "12/12 [==============================] - 0s 6ms/step - loss: 0.3103 - accuracy: 0.9265 - val_loss: 0.2950 - val_accuracy: 0.9255\n",
            "Epoch 25/100\n",
            "12/12 [==============================] - 0s 5ms/step - loss: 0.3008 - accuracy: 0.9344 - val_loss: 0.2866 - val_accuracy: 0.9415\n",
            "Epoch 26/100\n",
            "12/12 [==============================] - 0s 5ms/step - loss: 0.2920 - accuracy: 0.9344 - val_loss: 0.2788 - val_accuracy: 0.9415\n",
            "Epoch 27/100\n",
            "12/12 [==============================] - 0s 5ms/step - loss: 0.2839 - accuracy: 0.9370 - val_loss: 0.2714 - val_accuracy: 0.9415\n",
            "Epoch 28/100\n",
            "12/12 [==============================] - 0s 7ms/step - loss: 0.2762 - accuracy: 0.9370 - val_loss: 0.2644 - val_accuracy: 0.9415\n",
            "Epoch 29/100\n",
            "12/12 [==============================] - 0s 6ms/step - loss: 0.2688 - accuracy: 0.9370 - val_loss: 0.2580 - val_accuracy: 0.9415\n",
            "Epoch 30/100\n",
            "12/12 [==============================] - 0s 6ms/step - loss: 0.2621 - accuracy: 0.9423 - val_loss: 0.2518 - val_accuracy: 0.9415\n",
            "Epoch 31/100\n",
            "12/12 [==============================] - 0s 5ms/step - loss: 0.2555 - accuracy: 0.9449 - val_loss: 0.2462 - val_accuracy: 0.9415\n",
            "Epoch 32/100\n",
            "12/12 [==============================] - 0s 6ms/step - loss: 0.2494 - accuracy: 0.9475 - val_loss: 0.2409 - val_accuracy: 0.9468\n",
            "Epoch 33/100\n",
            "12/12 [==============================] - 0s 6ms/step - loss: 0.2437 - accuracy: 0.9475 - val_loss: 0.2358 - val_accuracy: 0.9468\n",
            "Epoch 34/100\n",
            "12/12 [==============================] - 0s 5ms/step - loss: 0.2380 - accuracy: 0.9528 - val_loss: 0.2310 - val_accuracy: 0.9468\n",
            "Epoch 35/100\n",
            "12/12 [==============================] - 0s 6ms/step - loss: 0.2329 - accuracy: 0.9528 - val_loss: 0.2264 - val_accuracy: 0.9468\n",
            "Epoch 36/100\n",
            "12/12 [==============================] - 0s 5ms/step - loss: 0.2278 - accuracy: 0.9528 - val_loss: 0.2221 - val_accuracy: 0.9468\n",
            "Epoch 37/100\n",
            "12/12 [==============================] - 0s 5ms/step - loss: 0.2232 - accuracy: 0.9528 - val_loss: 0.2179 - val_accuracy: 0.9521\n",
            "Epoch 38/100\n",
            "12/12 [==============================] - 0s 6ms/step - loss: 0.2186 - accuracy: 0.9528 - val_loss: 0.2139 - val_accuracy: 0.9521\n",
            "Epoch 39/100\n",
            "12/12 [==============================] - 0s 5ms/step - loss: 0.2143 - accuracy: 0.9528 - val_loss: 0.2101 - val_accuracy: 0.9521\n",
            "Epoch 40/100\n",
            "12/12 [==============================] - 0s 5ms/step - loss: 0.2102 - accuracy: 0.9528 - val_loss: 0.2066 - val_accuracy: 0.9521\n",
            "Epoch 41/100\n",
            "12/12 [==============================] - 0s 7ms/step - loss: 0.2062 - accuracy: 0.9554 - val_loss: 0.2032 - val_accuracy: 0.9521\n",
            "Epoch 42/100\n",
            "12/12 [==============================] - 0s 5ms/step - loss: 0.2024 - accuracy: 0.9554 - val_loss: 0.1999 - val_accuracy: 0.9574\n",
            "Epoch 43/100\n",
            "12/12 [==============================] - 0s 5ms/step - loss: 0.1989 - accuracy: 0.9554 - val_loss: 0.1968 - val_accuracy: 0.9574\n",
            "Epoch 44/100\n",
            "12/12 [==============================] - 0s 5ms/step - loss: 0.1952 - accuracy: 0.9580 - val_loss: 0.1938 - val_accuracy: 0.9574\n",
            "Epoch 45/100\n",
            "12/12 [==============================] - 0s 5ms/step - loss: 0.1919 - accuracy: 0.9606 - val_loss: 0.1910 - val_accuracy: 0.9628\n",
            "Epoch 46/100\n",
            "12/12 [==============================] - 0s 6ms/step - loss: 0.1888 - accuracy: 0.9606 - val_loss: 0.1883 - val_accuracy: 0.9628\n",
            "Epoch 47/100\n",
            "12/12 [==============================] - 0s 6ms/step - loss: 0.1856 - accuracy: 0.9606 - val_loss: 0.1856 - val_accuracy: 0.9574\n",
            "Epoch 48/100\n",
            "12/12 [==============================] - 0s 6ms/step - loss: 0.1827 - accuracy: 0.9606 - val_loss: 0.1831 - val_accuracy: 0.9628\n",
            "Epoch 49/100\n",
            "12/12 [==============================] - 0s 6ms/step - loss: 0.1798 - accuracy: 0.9606 - val_loss: 0.1806 - val_accuracy: 0.9628\n",
            "Epoch 50/100\n",
            "12/12 [==============================] - 0s 5ms/step - loss: 0.1770 - accuracy: 0.9606 - val_loss: 0.1783 - val_accuracy: 0.9628\n",
            "Epoch 51/100\n",
            "12/12 [==============================] - 0s 5ms/step - loss: 0.1743 - accuracy: 0.9633 - val_loss: 0.1760 - val_accuracy: 0.9628\n",
            "Epoch 52/100\n",
            "12/12 [==============================] - 0s 12ms/step - loss: 0.1718 - accuracy: 0.9633 - val_loss: 0.1738 - val_accuracy: 0.9628\n",
            "Epoch 53/100\n",
            "12/12 [==============================] - 0s 16ms/step - loss: 0.1693 - accuracy: 0.9659 - val_loss: 0.1718 - val_accuracy: 0.9628\n",
            "Epoch 54/100\n",
            "12/12 [==============================] - 0s 9ms/step - loss: 0.1669 - accuracy: 0.9659 - val_loss: 0.1697 - val_accuracy: 0.9628\n",
            "Epoch 55/100\n",
            "12/12 [==============================] - 0s 11ms/step - loss: 0.1646 - accuracy: 0.9659 - val_loss: 0.1678 - val_accuracy: 0.9628\n",
            "Epoch 56/100\n",
            "12/12 [==============================] - 0s 12ms/step - loss: 0.1624 - accuracy: 0.9659 - val_loss: 0.1659 - val_accuracy: 0.9628\n",
            "Epoch 57/100\n",
            "12/12 [==============================] - 0s 9ms/step - loss: 0.1602 - accuracy: 0.9659 - val_loss: 0.1641 - val_accuracy: 0.9628\n",
            "Epoch 58/100\n",
            "12/12 [==============================] - 0s 8ms/step - loss: 0.1581 - accuracy: 0.9659 - val_loss: 0.1624 - val_accuracy: 0.9628\n",
            "Epoch 59/100\n",
            "12/12 [==============================] - 0s 10ms/step - loss: 0.1561 - accuracy: 0.9659 - val_loss: 0.1607 - val_accuracy: 0.9628\n",
            "Epoch 60/100\n",
            "12/12 [==============================] - 0s 13ms/step - loss: 0.1542 - accuracy: 0.9659 - val_loss: 0.1590 - val_accuracy: 0.9628\n",
            "Epoch 61/100\n",
            "12/12 [==============================] - 0s 12ms/step - loss: 0.1523 - accuracy: 0.9659 - val_loss: 0.1575 - val_accuracy: 0.9628\n",
            "Epoch 62/100\n",
            "12/12 [==============================] - 0s 11ms/step - loss: 0.1505 - accuracy: 0.9659 - val_loss: 0.1559 - val_accuracy: 0.9628\n",
            "Epoch 63/100\n",
            "12/12 [==============================] - 0s 13ms/step - loss: 0.1487 - accuracy: 0.9659 - val_loss: 0.1544 - val_accuracy: 0.9628\n",
            "Epoch 64/100\n",
            "12/12 [==============================] - 0s 13ms/step - loss: 0.1470 - accuracy: 0.9659 - val_loss: 0.1530 - val_accuracy: 0.9628\n",
            "Epoch 65/100\n",
            "12/12 [==============================] - 0s 10ms/step - loss: 0.1453 - accuracy: 0.9659 - val_loss: 0.1516 - val_accuracy: 0.9628\n",
            "Epoch 66/100\n",
            "12/12 [==============================] - 0s 10ms/step - loss: 0.1437 - accuracy: 0.9659 - val_loss: 0.1502 - val_accuracy: 0.9628\n",
            "Epoch 67/100\n",
            "12/12 [==============================] - 0s 9ms/step - loss: 0.1421 - accuracy: 0.9659 - val_loss: 0.1490 - val_accuracy: 0.9681\n",
            "Epoch 68/100\n",
            "12/12 [==============================] - 0s 11ms/step - loss: 0.1407 - accuracy: 0.9685 - val_loss: 0.1476 - val_accuracy: 0.9681\n",
            "Epoch 69/100\n",
            "12/12 [==============================] - 0s 8ms/step - loss: 0.1392 - accuracy: 0.9711 - val_loss: 0.1464 - val_accuracy: 0.9681\n",
            "Epoch 70/100\n",
            "12/12 [==============================] - 0s 8ms/step - loss: 0.1377 - accuracy: 0.9711 - val_loss: 0.1452 - val_accuracy: 0.9681\n",
            "Epoch 71/100\n",
            "12/12 [==============================] - 0s 9ms/step - loss: 0.1364 - accuracy: 0.9711 - val_loss: 0.1441 - val_accuracy: 0.9681\n",
            "Epoch 72/100\n",
            "12/12 [==============================] - 0s 9ms/step - loss: 0.1350 - accuracy: 0.9711 - val_loss: 0.1430 - val_accuracy: 0.9681\n",
            "Epoch 73/100\n",
            "12/12 [==============================] - 0s 8ms/step - loss: 0.1337 - accuracy: 0.9711 - val_loss: 0.1418 - val_accuracy: 0.9681\n",
            "Epoch 74/100\n",
            "12/12 [==============================] - 0s 13ms/step - loss: 0.1324 - accuracy: 0.9711 - val_loss: 0.1408 - val_accuracy: 0.9681\n",
            "Epoch 75/100\n",
            "12/12 [==============================] - 0s 14ms/step - loss: 0.1312 - accuracy: 0.9711 - val_loss: 0.1396 - val_accuracy: 0.9681\n",
            "Epoch 76/100\n",
            "12/12 [==============================] - 0s 13ms/step - loss: 0.1300 - accuracy: 0.9711 - val_loss: 0.1387 - val_accuracy: 0.9681\n",
            "Epoch 77/100\n",
            "12/12 [==============================] - 0s 15ms/step - loss: 0.1288 - accuracy: 0.9711 - val_loss: 0.1378 - val_accuracy: 0.9681\n",
            "Epoch 78/100\n",
            "12/12 [==============================] - 0s 12ms/step - loss: 0.1276 - accuracy: 0.9711 - val_loss: 0.1368 - val_accuracy: 0.9681\n",
            "Epoch 79/100\n",
            "12/12 [==============================] - 0s 11ms/step - loss: 0.1265 - accuracy: 0.9711 - val_loss: 0.1358 - val_accuracy: 0.9681\n",
            "Epoch 80/100\n",
            "12/12 [==============================] - 0s 14ms/step - loss: 0.1254 - accuracy: 0.9738 - val_loss: 0.1349 - val_accuracy: 0.9681\n",
            "Epoch 81/100\n",
            "12/12 [==============================] - 0s 13ms/step - loss: 0.1243 - accuracy: 0.9738 - val_loss: 0.1340 - val_accuracy: 0.9681\n",
            "Epoch 82/100\n",
            "12/12 [==============================] - 0s 8ms/step - loss: 0.1233 - accuracy: 0.9738 - val_loss: 0.1332 - val_accuracy: 0.9681\n",
            "Epoch 83/100\n",
            "12/12 [==============================] - 0s 14ms/step - loss: 0.1223 - accuracy: 0.9738 - val_loss: 0.1324 - val_accuracy: 0.9681\n",
            "Epoch 84/100\n",
            "12/12 [==============================] - 0s 9ms/step - loss: 0.1213 - accuracy: 0.9738 - val_loss: 0.1315 - val_accuracy: 0.9681\n",
            "Epoch 85/100\n",
            "12/12 [==============================] - 0s 11ms/step - loss: 0.1203 - accuracy: 0.9738 - val_loss: 0.1308 - val_accuracy: 0.9681\n",
            "Epoch 86/100\n",
            "12/12 [==============================] - 0s 21ms/step - loss: 0.1194 - accuracy: 0.9738 - val_loss: 0.1300 - val_accuracy: 0.9681\n",
            "Epoch 87/100\n",
            "12/12 [==============================] - 0s 14ms/step - loss: 0.1185 - accuracy: 0.9790 - val_loss: 0.1292 - val_accuracy: 0.9681\n",
            "Epoch 88/100\n",
            "12/12 [==============================] - 0s 16ms/step - loss: 0.1176 - accuracy: 0.9816 - val_loss: 0.1285 - val_accuracy: 0.9681\n",
            "Epoch 89/100\n",
            "12/12 [==============================] - 0s 12ms/step - loss: 0.1167 - accuracy: 0.9816 - val_loss: 0.1278 - val_accuracy: 0.9681\n",
            "Epoch 90/100\n",
            "12/12 [==============================] - 0s 8ms/step - loss: 0.1158 - accuracy: 0.9816 - val_loss: 0.1270 - val_accuracy: 0.9681\n",
            "Epoch 91/100\n",
            "12/12 [==============================] - 0s 8ms/step - loss: 0.1150 - accuracy: 0.9816 - val_loss: 0.1264 - val_accuracy: 0.9681\n",
            "Epoch 92/100\n",
            "12/12 [==============================] - 0s 10ms/step - loss: 0.1142 - accuracy: 0.9843 - val_loss: 0.1257 - val_accuracy: 0.9681\n",
            "Epoch 93/100\n",
            "12/12 [==============================] - 0s 13ms/step - loss: 0.1134 - accuracy: 0.9843 - val_loss: 0.1251 - val_accuracy: 0.9681\n",
            "Epoch 94/100\n",
            "12/12 [==============================] - 0s 7ms/step - loss: 0.1126 - accuracy: 0.9843 - val_loss: 0.1245 - val_accuracy: 0.9681\n",
            "Epoch 95/100\n",
            "12/12 [==============================] - 0s 8ms/step - loss: 0.1118 - accuracy: 0.9843 - val_loss: 0.1239 - val_accuracy: 0.9681\n",
            "Epoch 96/100\n",
            "12/12 [==============================] - 0s 8ms/step - loss: 0.1110 - accuracy: 0.9843 - val_loss: 0.1233 - val_accuracy: 0.9681\n",
            "Epoch 97/100\n",
            "12/12 [==============================] - 0s 9ms/step - loss: 0.1103 - accuracy: 0.9843 - val_loss: 0.1226 - val_accuracy: 0.9681\n",
            "Epoch 98/100\n",
            "12/12 [==============================] - 0s 15ms/step - loss: 0.1096 - accuracy: 0.9843 - val_loss: 0.1221 - val_accuracy: 0.9681\n",
            "Epoch 99/100\n",
            "12/12 [==============================] - 0s 16ms/step - loss: 0.1088 - accuracy: 0.9843 - val_loss: 0.1215 - val_accuracy: 0.9681\n",
            "Epoch 100/100\n",
            "12/12 [==============================] - 0s 10ms/step - loss: 0.1082 - accuracy: 0.9843 - val_loss: 0.1209 - val_accuracy: 0.9681\n",
            "12/12 [==============================] - 0s 4ms/step - loss: 0.1077 - accuracy: 0.9843\n",
            "Train score:  [0.10773267596960068, 0.9842519760131836]\n",
            "6/6 [==============================] - 0s 3ms/step - loss: 0.1209 - accuracy: 0.9681\n",
            "Test score:  [0.12085077911615372, 0.9680851101875305]\n"
          ]
        }
      ]
    },
    {
      "cell_type": "code",
      "source": [
        "# Plot what's returned by model.fit()\n",
        "\n",
        "import matplotlib.pyplot as plt\n",
        "plt.plot(r.history['loss'], label='loss')\n",
        "plt.plot(r.history['val_loss'], label='val_loss')\n",
        "plt.legend()"
      ],
      "metadata": {
        "colab": {
          "base_uri": "https://localhost:8080/",
          "height": 286
        },
        "id": "vw44XD-UPBVj",
        "outputId": "bbf766bc-3839-4a5d-a4e4-af2cacb58ff4"
      },
      "execution_count": 37,
      "outputs": [
        {
          "output_type": "execute_result",
          "data": {
            "text/plain": [
              "<matplotlib.legend.Legend at 0x7f930ee20d90>"
            ]
          },
          "metadata": {},
          "execution_count": 37
        },
        {
          "output_type": "display_data",
          "data": {
            "text/plain": [
              "<Figure size 432x288 with 1 Axes>"
            ],
            "image/png": "[encoded data removed]"
          },
          "metadata": {
            "needs_background": "light"
          }
        }
      ]
    },
    {
      "cell_type": "code",
      "source": [
        "plt.plot(r.history['accuracy'], label='acc')\n",
        "plt.plot(r.history['val_accuracy'], label='val_acc')\n",
        "plt.legend()"
      ],
      "metadata": {
        "colab": {
          "base_uri": "https://localhost:8080/",
          "height": 283
        },
        "id": "NL75dwg_RQSa",
        "outputId": "9149815c-c08c-4e5c-dce7-93342ea13b98"
      },
      "execution_count": 38,
      "outputs": [
        {
          "output_type": "execute_result",
          "data": {
            "text/plain": [
              "<matplotlib.legend.Legend at 0x7f930eed57d0>"
            ]
          },
          "metadata": {},
          "execution_count": 38
        },
        {
          "output_type": "display_data",
          "data": {
            "text/plain": [
              "<Figure size 432x288 with 1 Axes>"
            ],
            "image/png": "[encoded data removed]"
          },
          "metadata": {
            "needs_background": "light"
          }
        }
      ]
    }
  ]
}