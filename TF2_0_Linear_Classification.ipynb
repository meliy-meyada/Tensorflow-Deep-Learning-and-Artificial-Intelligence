{
  "nbformat": 4,
  "nbformat_minor": 0,
  "metadata": {
    "colab": {
      "name": "TF2.0 Linear Classification.ipynb",
      "provenance": [],
      "collapsed_sections": [],
      "authorship_tag": "ABX9TyPuTtKwFhLsEFIXFxFsiBlm",
      "include_colab_link": true
    },
    "kernelspec": {
      "name": "python3",
      "display_name": "Python 3"
    },
    "language_info": {
      "name": "python"
    },
    "accelerator": "GPU",
    "gpuClass": "standard"
  },
  "cells": [
    {
      "cell_type": "markdown",
      "metadata": {
        "id": "view-in-github",
        "colab_type": "text"
      },
      "source": [
        "<a href=\"https://colab.research.google.com/github/meliy-meyada/Tensorflow-Deep-Learning-and-Artificial-Intelligence/blob/main/TF2_0_Linear_Classification.ipynb\" target=\"_parent\"><img src=\"https://colab.research.google.com/assets/colab-badge.svg\" alt=\"Open In Colab\"/></a>"
      ]
    },
    {
      "cell_type": "code",
      "execution_count": 1,
      "metadata": {
        "id": "-PmUWj_kU_M2",
        "colab": {
          "base_uri": "https://localhost:8080/"
        },
        "outputId": "029109f1-032b-400a-9df6-3915dfefe169"
      },
      "outputs": [
        {
          "output_type": "stream",
          "name": "stdout",
          "text": [
            "\u001b[K     |████████████████████████████████| 497.9 MB 15 kB/s \n",
            "\u001b[?25h2.8.2\n"
          ]
        }
      ],
      "source": [
        "# install Tensorflow\n",
        "!pip install -q tensorflow-gpu==2.8.2\n",
        "import tensorflow as tf\n",
        "print(tf.__version__)"
      ]
    },
    {
      "cell_type": "code",
      "source": [
        "# Load in the data\n",
        "from sklearn.datasets import load_breast_cancer"
      ],
      "metadata": {
        "id": "ANqYcUWDFae7"
      },
      "execution_count": 2,
      "outputs": []
    },
    {
      "cell_type": "code",
      "source": [
        "# Load the data\n",
        "data = load_breast_cancer()"
      ],
      "metadata": {
        "id": "gRkIHWCFFtsm"
      },
      "execution_count": 3,
      "outputs": []
    },
    {
      "cell_type": "code",
      "source": [
        "# Check the type of data\n",
        "type(data)"
      ],
      "metadata": {
        "colab": {
          "base_uri": "https://localhost:8080/"
        },
        "id": "-LROLo0iF1vD",
        "outputId": "f7e9cceb-42da-4d3a-fe81-0abdef0eb7f4"
      },
      "execution_count": 4,
      "outputs": [
        {
          "output_type": "execute_result",
          "data": {
            "text/plain": [
              "sklearn.utils.Bunch"
            ]
          },
          "metadata": {},
          "execution_count": 4
        }
      ]
    },
    {
      "cell_type": "code",
      "source": [
        "# This basically acts like dictionary key like attributes\n",
        "data.keys()"
      ],
      "metadata": {
        "colab": {
          "base_uri": "https://localhost:8080/"
        },
        "id": "GVT4iYs2F-FN",
        "outputId": "da5a2c86-3211-45aa-8b2d-94df8f936181"
      },
      "execution_count": 5,
      "outputs": [
        {
          "output_type": "execute_result",
          "data": {
            "text/plain": [
              "dict_keys(['data', 'target', 'frame', 'target_names', 'DESCR', 'feature_names', 'filename', 'data_module'])"
            ]
          },
          "metadata": {},
          "execution_count": 5
        }
      ]
    },
    {
      "cell_type": "code",
      "source": [
        "# data the attributes means the input data\n",
        "data.data.shape"
      ],
      "metadata": {
        "colab": {
          "base_uri": "https://localhost:8080/"
        },
        "id": "YHfqJ1z1GWzB",
        "outputId": "4dac28c4-a3d7-47fb-ba40-f22e7e3b4fa2"
      },
      "execution_count": 6,
      "outputs": [
        {
          "output_type": "execute_result",
          "data": {
            "text/plain": [
              "(569, 30)"
            ]
          },
          "metadata": {},
          "execution_count": 6
        }
      ]
    },
    {
      "cell_type": "code",
      "source": [
        "#  target attributes\n",
        "data.target"
      ],
      "metadata": {
        "colab": {
          "base_uri": "https://localhost:8080/"
        },
        "id": "GigO1N7QG7wM",
        "outputId": "8ac6b8c9-c563-4428-9ec0-c8404c91b121"
      },
      "execution_count": 7,
      "outputs": [
        {
          "output_type": "execute_result",
          "data": {
            "text/plain": [
              "array([0, 0, 0, 0, 0, 0, 0, 0, 0, 0, 0, 0, 0, 0, 0, 0, 0, 0, 0, 1, 1, 1,\n",
              "       0, 0, 0, 0, 0, 0, 0, 0, 0, 0, 0, 0, 0, 0, 0, 1, 0, 0, 0, 0, 0, 0,\n",
              "       0, 0, 1, 0, 1, 1, 1, 1, 1, 0, 0, 1, 0, 0, 1, 1, 1, 1, 0, 1, 0, 0,\n",
              "       1, 1, 1, 1, 0, 1, 0, 0, 1, 0, 1, 0, 0, 1, 1, 1, 0, 0, 1, 0, 0, 0,\n",
              "       1, 1, 1, 0, 1, 1, 0, 0, 1, 1, 1, 0, 0, 1, 1, 1, 1, 0, 1, 1, 0, 1,\n",
              "       1, 1, 1, 1, 1, 1, 1, 0, 0, 0, 1, 0, 0, 1, 1, 1, 0, 0, 1, 0, 1, 0,\n",
              "       0, 1, 0, 0, 1, 1, 0, 1, 1, 0, 1, 1, 1, 1, 0, 1, 1, 1, 1, 1, 1, 1,\n",
              "       1, 1, 0, 1, 1, 1, 1, 0, 0, 1, 0, 1, 1, 0, 0, 1, 1, 0, 0, 1, 1, 1,\n",
              "       1, 0, 1, 1, 0, 0, 0, 1, 0, 1, 0, 1, 1, 1, 0, 1, 1, 0, 0, 1, 0, 0,\n",
              "       0, 0, 1, 0, 0, 0, 1, 0, 1, 0, 1, 1, 0, 1, 0, 0, 0, 0, 1, 1, 0, 0,\n",
              "       1, 1, 1, 0, 1, 1, 1, 1, 1, 0, 0, 1, 1, 0, 1, 1, 0, 0, 1, 0, 1, 1,\n",
              "       1, 1, 0, 1, 1, 1, 1, 1, 0, 1, 0, 0, 0, 0, 0, 0, 0, 0, 0, 0, 0, 0,\n",
              "       0, 0, 1, 1, 1, 1, 1, 1, 0, 1, 0, 1, 1, 0, 1, 1, 0, 1, 0, 0, 1, 1,\n",
              "       1, 1, 1, 1, 1, 1, 1, 1, 1, 1, 1, 0, 1, 1, 0, 1, 0, 1, 1, 1, 1, 1,\n",
              "       1, 1, 1, 1, 1, 1, 1, 1, 1, 0, 1, 1, 1, 0, 1, 0, 1, 1, 1, 1, 0, 0,\n",
              "       0, 1, 1, 1, 1, 0, 1, 0, 1, 0, 1, 1, 1, 0, 1, 1, 1, 1, 1, 1, 1, 0,\n",
              "       0, 0, 1, 1, 1, 1, 1, 1, 1, 1, 1, 1, 1, 0, 0, 1, 0, 0, 0, 1, 0, 0,\n",
              "       1, 1, 1, 1, 1, 0, 1, 1, 1, 1, 1, 0, 1, 1, 1, 0, 1, 1, 0, 0, 1, 1,\n",
              "       1, 1, 1, 1, 0, 1, 1, 1, 1, 1, 1, 1, 0, 1, 1, 1, 1, 1, 0, 1, 1, 0,\n",
              "       1, 1, 1, 1, 1, 1, 1, 1, 1, 1, 1, 1, 0, 1, 0, 0, 1, 0, 1, 1, 1, 1,\n",
              "       1, 0, 1, 1, 0, 1, 0, 1, 1, 0, 1, 0, 1, 1, 1, 1, 1, 1, 1, 1, 0, 0,\n",
              "       1, 1, 1, 1, 1, 1, 0, 1, 1, 1, 1, 1, 1, 1, 1, 1, 1, 0, 1, 1, 1, 1,\n",
              "       1, 1, 1, 0, 1, 0, 1, 1, 0, 1, 1, 1, 1, 1, 0, 0, 1, 0, 1, 0, 1, 1,\n",
              "       1, 1, 1, 0, 1, 1, 0, 1, 0, 1, 0, 0, 1, 1, 1, 0, 1, 1, 1, 1, 1, 1,\n",
              "       1, 1, 1, 1, 1, 0, 1, 0, 0, 1, 1, 1, 1, 1, 1, 1, 1, 1, 1, 1, 1, 1,\n",
              "       1, 1, 1, 1, 1, 1, 1, 1, 1, 1, 1, 1, 0, 0, 0, 0, 0, 0, 1])"
            ]
          },
          "metadata": {},
          "execution_count": 7
        }
      ]
    },
    {
      "cell_type": "code",
      "source": [
        "# their meaning is not lost\n",
        "data.target_names"
      ],
      "metadata": {
        "colab": {
          "base_uri": "https://localhost:8080/"
        },
        "id": "u9WVR_RdHASU",
        "outputId": "f3cc8bff-11a7-4260-85ad-dbc6ffa0ba46"
      },
      "execution_count": 8,
      "outputs": [
        {
          "output_type": "execute_result",
          "data": {
            "text/plain": [
              "array(['malignant', 'benign'], dtype='<U9')"
            ]
          },
          "metadata": {},
          "execution_count": 8
        }
      ]
    },
    {
      "cell_type": "code",
      "source": [
        "# there are also 569 corresponding target\n",
        "data.target.shape"
      ],
      "metadata": {
        "colab": {
          "base_uri": "https://localhost:8080/"
        },
        "id": "AdNDbdsYHeGy",
        "outputId": "e42b1d5b-a491-4c72-a3bc-a41c9d4eae39"
      },
      "execution_count": 9,
      "outputs": [
        {
          "output_type": "execute_result",
          "data": {
            "text/plain": [
              "(569,)"
            ]
          },
          "metadata": {},
          "execution_count": 9
        }
      ]
    },
    {
      "cell_type": "code",
      "source": [
        "# Determinw meaning of each feature\n",
        "data.feature_names"
      ],
      "metadata": {
        "colab": {
          "base_uri": "https://localhost:8080/"
        },
        "id": "tek8cdh4Hxs_",
        "outputId": "60cd4b5b-39fb-4493-fd0d-1683b2e3fa22"
      },
      "execution_count": 10,
      "outputs": [
        {
          "output_type": "execute_result",
          "data": {
            "text/plain": [
              "array(['mean radius', 'mean texture', 'mean perimeter', 'mean area',\n",
              "       'mean smoothness', 'mean compactness', 'mean concavity',\n",
              "       'mean concave points', 'mean symmetry', 'mean fractal dimension',\n",
              "       'radius error', 'texture error', 'perimeter error', 'area error',\n",
              "       'smoothness error', 'compactness error', 'concavity error',\n",
              "       'concave points error', 'symmetry error',\n",
              "       'fractal dimension error', 'worst radius', 'worst texture',\n",
              "       'worst perimeter', 'worst area', 'worst smoothness',\n",
              "       'worst compactness', 'worst concavity', 'worst concave points',\n",
              "       'worst symmetry', 'worst fractal dimension'], dtype='<U23')"
            ]
          },
          "metadata": {},
          "execution_count": 10
        }
      ]
    },
    {
      "cell_type": "code",
      "source": [
        "# Normally put  all import at the top\n",
        "from sklearn.model_selection import train_test_split"
      ],
      "metadata": {
        "id": "ugjJx3PKIB7k"
      },
      "execution_count": 11,
      "outputs": []
    },
    {
      "cell_type": "code",
      "source": [
        "# Split the data intro train and test sets\n",
        "X_train, X_test, y_train, y_test = train_test_split(data.data, data.target, test_size=0.33)\n",
        "N, D = X_train.shape"
      ],
      "metadata": {
        "id": "vvcpkIeMIrUe"
      },
      "execution_count": 12,
      "outputs": []
    },
    {
      "cell_type": "code",
      "source": [
        "# Scale the data\n",
        "from sklearn.preprocessing import StandardScaler"
      ],
      "metadata": {
        "id": "cHP85gyQJhhj"
      },
      "execution_count": 13,
      "outputs": []
    },
    {
      "cell_type": "code",
      "source": [
        "scaler = StandardScaler()\n",
        "X_train = scaler.fit_transform(X_train)\n",
        "X_test = scaler.transform(X_test)"
      ],
      "metadata": {
        "id": "KsQNzsnsKAfb"
      },
      "execution_count": 14,
      "outputs": []
    },
    {
      "cell_type": "code",
      "source": [
        "# Build the model\n",
        "# model = tf.keras.models.Sequential([\n",
        "#     tf.keras.layers.Input(shape=(D,)),\n",
        "#     tf.keras.layers.Dense(1, activation='sigmoid')\n",
        "# ])\n",
        "\n",
        "# Alternatively, can do:\n",
        "model = tf.keras.models.Sequential()\n",
        "model.add(tf.keras.layers.Dense(1, input_shape=(D,), activation='sigmoid'))\n",
        "\n",
        "model.compile(optimizer='adam',\n",
        "              loss = 'binary_crossentropy',\n",
        "              metrics=['accuracy']\n",
        "              )\n",
        "\n",
        "# training the model\n",
        "r = model.fit(X_train, y_train, validation_data=(X_test, y_test), epochs=100)\n",
        "\n",
        "# Evaluate the model - evaluate() returns loss and accuracy\n",
        "print(\"Train score: \", model.evaluate(X_train, y_train))\n",
        "print(\"Test score: \", model.evaluate(X_test, y_test))"
      ],
      "metadata": {
        "colab": {
          "base_uri": "https://localhost:8080/"
        },
        "id": "0GGAoxjXKa2s",
        "outputId": "7f055955-379d-4bd3-af57-5148d3123829"
      },
      "execution_count": 15,
      "outputs": [
        {
          "output_type": "stream",
          "name": "stdout",
          "text": [
            "Epoch 1/100\n",
            "12/12 [==============================] - 2s 16ms/step - loss: 0.7292 - accuracy: 0.5827 - val_loss: 0.6447 - val_accuracy: 0.6330\n",
            "Epoch 2/100\n",
            "12/12 [==============================] - 0s 5ms/step - loss: 0.6482 - accuracy: 0.6352 - val_loss: 0.5764 - val_accuracy: 0.6649\n",
            "Epoch 3/100\n",
            "12/12 [==============================] - 0s 5ms/step - loss: 0.5782 - accuracy: 0.6640 - val_loss: 0.5154 - val_accuracy: 0.7234\n",
            "Epoch 4/100\n",
            "12/12 [==============================] - 0s 5ms/step - loss: 0.5168 - accuracy: 0.7192 - val_loss: 0.4625 - val_accuracy: 0.7660\n",
            "Epoch 5/100\n",
            "12/12 [==============================] - 0s 6ms/step - loss: 0.4637 - accuracy: 0.7612 - val_loss: 0.4179 - val_accuracy: 0.8032\n",
            "Epoch 6/100\n",
            "12/12 [==============================] - 0s 6ms/step - loss: 0.4202 - accuracy: 0.8136 - val_loss: 0.3793 - val_accuracy: 0.8245\n",
            "Epoch 7/100\n",
            "12/12 [==============================] - 0s 5ms/step - loss: 0.3833 - accuracy: 0.8478 - val_loss: 0.3465 - val_accuracy: 0.8511\n",
            "Epoch 8/100\n",
            "12/12 [==============================] - 0s 5ms/step - loss: 0.3520 - accuracy: 0.8819 - val_loss: 0.3188 - val_accuracy: 0.8936\n",
            "Epoch 9/100\n",
            "12/12 [==============================] - 0s 5ms/step - loss: 0.3263 - accuracy: 0.8924 - val_loss: 0.2950 - val_accuracy: 0.9096\n",
            "Epoch 10/100\n",
            "12/12 [==============================] - 0s 6ms/step - loss: 0.3032 - accuracy: 0.9108 - val_loss: 0.2753 - val_accuracy: 0.9149\n",
            "Epoch 11/100\n",
            "12/12 [==============================] - 0s 5ms/step - loss: 0.2841 - accuracy: 0.9318 - val_loss: 0.2584 - val_accuracy: 0.9309\n",
            "Epoch 12/100\n",
            "12/12 [==============================] - 0s 5ms/step - loss: 0.2677 - accuracy: 0.9396 - val_loss: 0.2435 - val_accuracy: 0.9468\n",
            "Epoch 13/100\n",
            "12/12 [==============================] - 0s 6ms/step - loss: 0.2536 - accuracy: 0.9475 - val_loss: 0.2305 - val_accuracy: 0.9628\n",
            "Epoch 14/100\n",
            "12/12 [==============================] - 0s 5ms/step - loss: 0.2409 - accuracy: 0.9580 - val_loss: 0.2193 - val_accuracy: 0.9681\n",
            "Epoch 15/100\n",
            "12/12 [==============================] - 0s 5ms/step - loss: 0.2298 - accuracy: 0.9580 - val_loss: 0.2098 - val_accuracy: 0.9681\n",
            "Epoch 16/100\n",
            "12/12 [==============================] - 0s 6ms/step - loss: 0.2202 - accuracy: 0.9606 - val_loss: 0.2014 - val_accuracy: 0.9787\n",
            "Epoch 17/100\n",
            "12/12 [==============================] - 0s 5ms/step - loss: 0.2119 - accuracy: 0.9659 - val_loss: 0.1938 - val_accuracy: 0.9787\n",
            "Epoch 18/100\n",
            "12/12 [==============================] - 0s 5ms/step - loss: 0.2040 - accuracy: 0.9685 - val_loss: 0.1873 - val_accuracy: 0.9787\n",
            "Epoch 19/100\n",
            "12/12 [==============================] - 0s 6ms/step - loss: 0.1974 - accuracy: 0.9711 - val_loss: 0.1814 - val_accuracy: 0.9787\n",
            "Epoch 20/100\n",
            "12/12 [==============================] - 0s 5ms/step - loss: 0.1914 - accuracy: 0.9764 - val_loss: 0.1760 - val_accuracy: 0.9787\n",
            "Epoch 21/100\n",
            "12/12 [==============================] - 0s 5ms/step - loss: 0.1859 - accuracy: 0.9816 - val_loss: 0.1711 - val_accuracy: 0.9787\n",
            "Epoch 22/100\n",
            "12/12 [==============================] - 0s 5ms/step - loss: 0.1809 - accuracy: 0.9816 - val_loss: 0.1668 - val_accuracy: 0.9787\n",
            "Epoch 23/100\n",
            "12/12 [==============================] - 0s 6ms/step - loss: 0.1764 - accuracy: 0.9843 - val_loss: 0.1629 - val_accuracy: 0.9787\n",
            "Epoch 24/100\n",
            "12/12 [==============================] - 0s 5ms/step - loss: 0.1723 - accuracy: 0.9843 - val_loss: 0.1593 - val_accuracy: 0.9787\n",
            "Epoch 25/100\n",
            "12/12 [==============================] - 0s 6ms/step - loss: 0.1685 - accuracy: 0.9869 - val_loss: 0.1560 - val_accuracy: 0.9787\n",
            "Epoch 26/100\n",
            "12/12 [==============================] - 0s 5ms/step - loss: 0.1650 - accuracy: 0.9843 - val_loss: 0.1529 - val_accuracy: 0.9787\n",
            "Epoch 27/100\n",
            "12/12 [==============================] - 0s 5ms/step - loss: 0.1618 - accuracy: 0.9843 - val_loss: 0.1500 - val_accuracy: 0.9787\n",
            "Epoch 28/100\n",
            "12/12 [==============================] - 0s 5ms/step - loss: 0.1587 - accuracy: 0.9843 - val_loss: 0.1474 - val_accuracy: 0.9734\n",
            "Epoch 29/100\n",
            "12/12 [==============================] - 0s 5ms/step - loss: 0.1560 - accuracy: 0.9843 - val_loss: 0.1449 - val_accuracy: 0.9734\n",
            "Epoch 30/100\n",
            "12/12 [==============================] - 0s 6ms/step - loss: 0.1534 - accuracy: 0.9843 - val_loss: 0.1426 - val_accuracy: 0.9734\n",
            "Epoch 31/100\n",
            "12/12 [==============================] - 0s 5ms/step - loss: 0.1509 - accuracy: 0.9843 - val_loss: 0.1405 - val_accuracy: 0.9734\n",
            "Epoch 32/100\n",
            "12/12 [==============================] - 0s 5ms/step - loss: 0.1486 - accuracy: 0.9843 - val_loss: 0.1385 - val_accuracy: 0.9734\n",
            "Epoch 33/100\n",
            "12/12 [==============================] - 0s 5ms/step - loss: 0.1464 - accuracy: 0.9843 - val_loss: 0.1366 - val_accuracy: 0.9734\n",
            "Epoch 34/100\n",
            "12/12 [==============================] - 0s 5ms/step - loss: 0.1443 - accuracy: 0.9843 - val_loss: 0.1348 - val_accuracy: 0.9734\n",
            "Epoch 35/100\n",
            "12/12 [==============================] - 0s 5ms/step - loss: 0.1424 - accuracy: 0.9843 - val_loss: 0.1331 - val_accuracy: 0.9734\n",
            "Epoch 36/100\n",
            "12/12 [==============================] - 0s 5ms/step - loss: 0.1405 - accuracy: 0.9843 - val_loss: 0.1315 - val_accuracy: 0.9734\n",
            "Epoch 37/100\n",
            "12/12 [==============================] - 0s 5ms/step - loss: 0.1387 - accuracy: 0.9843 - val_loss: 0.1300 - val_accuracy: 0.9734\n",
            "Epoch 38/100\n",
            "12/12 [==============================] - 0s 6ms/step - loss: 0.1371 - accuracy: 0.9843 - val_loss: 0.1285 - val_accuracy: 0.9734\n",
            "Epoch 39/100\n",
            "12/12 [==============================] - 0s 5ms/step - loss: 0.1355 - accuracy: 0.9843 - val_loss: 0.1271 - val_accuracy: 0.9734\n",
            "Epoch 40/100\n",
            "12/12 [==============================] - 0s 6ms/step - loss: 0.1339 - accuracy: 0.9843 - val_loss: 0.1257 - val_accuracy: 0.9734\n",
            "Epoch 41/100\n",
            "12/12 [==============================] - 0s 4ms/step - loss: 0.1324 - accuracy: 0.9843 - val_loss: 0.1244 - val_accuracy: 0.9734\n",
            "Epoch 42/100\n",
            "12/12 [==============================] - 0s 5ms/step - loss: 0.1310 - accuracy: 0.9843 - val_loss: 0.1232 - val_accuracy: 0.9734\n",
            "Epoch 43/100\n",
            "12/12 [==============================] - 0s 5ms/step - loss: 0.1296 - accuracy: 0.9843 - val_loss: 0.1220 - val_accuracy: 0.9734\n",
            "Epoch 44/100\n",
            "12/12 [==============================] - 0s 5ms/step - loss: 0.1283 - accuracy: 0.9843 - val_loss: 0.1208 - val_accuracy: 0.9734\n",
            "Epoch 45/100\n",
            "12/12 [==============================] - 0s 5ms/step - loss: 0.1271 - accuracy: 0.9843 - val_loss: 0.1197 - val_accuracy: 0.9734\n",
            "Epoch 46/100\n",
            "12/12 [==============================] - 0s 5ms/step - loss: 0.1258 - accuracy: 0.9843 - val_loss: 0.1187 - val_accuracy: 0.9734\n",
            "Epoch 47/100\n",
            "12/12 [==============================] - 0s 5ms/step - loss: 0.1247 - accuracy: 0.9843 - val_loss: 0.1177 - val_accuracy: 0.9734\n",
            "Epoch 48/100\n",
            "12/12 [==============================] - 0s 5ms/step - loss: 0.1235 - accuracy: 0.9843 - val_loss: 0.1166 - val_accuracy: 0.9734\n",
            "Epoch 49/100\n",
            "12/12 [==============================] - 0s 5ms/step - loss: 0.1224 - accuracy: 0.9843 - val_loss: 0.1157 - val_accuracy: 0.9734\n",
            "Epoch 50/100\n",
            "12/12 [==============================] - 0s 5ms/step - loss: 0.1214 - accuracy: 0.9843 - val_loss: 0.1148 - val_accuracy: 0.9734\n",
            "Epoch 51/100\n",
            "12/12 [==============================] - 0s 6ms/step - loss: 0.1203 - accuracy: 0.9843 - val_loss: 0.1139 - val_accuracy: 0.9734\n",
            "Epoch 52/100\n",
            "12/12 [==============================] - 0s 6ms/step - loss: 0.1194 - accuracy: 0.9843 - val_loss: 0.1130 - val_accuracy: 0.9734\n",
            "Epoch 53/100\n",
            "12/12 [==============================] - 0s 5ms/step - loss: 0.1184 - accuracy: 0.9843 - val_loss: 0.1121 - val_accuracy: 0.9734\n",
            "Epoch 54/100\n",
            "12/12 [==============================] - 0s 5ms/step - loss: 0.1174 - accuracy: 0.9843 - val_loss: 0.1113 - val_accuracy: 0.9734\n",
            "Epoch 55/100\n",
            "12/12 [==============================] - 0s 5ms/step - loss: 0.1165 - accuracy: 0.9843 - val_loss: 0.1106 - val_accuracy: 0.9734\n",
            "Epoch 56/100\n",
            "12/12 [==============================] - 0s 6ms/step - loss: 0.1156 - accuracy: 0.9843 - val_loss: 0.1098 - val_accuracy: 0.9734\n",
            "Epoch 57/100\n",
            "12/12 [==============================] - 0s 6ms/step - loss: 0.1148 - accuracy: 0.9869 - val_loss: 0.1090 - val_accuracy: 0.9734\n",
            "Epoch 58/100\n",
            "12/12 [==============================] - 0s 5ms/step - loss: 0.1139 - accuracy: 0.9869 - val_loss: 0.1083 - val_accuracy: 0.9734\n",
            "Epoch 59/100\n",
            "12/12 [==============================] - 0s 5ms/step - loss: 0.1131 - accuracy: 0.9869 - val_loss: 0.1076 - val_accuracy: 0.9734\n",
            "Epoch 60/100\n",
            "12/12 [==============================] - 0s 6ms/step - loss: 0.1123 - accuracy: 0.9869 - val_loss: 0.1068 - val_accuracy: 0.9734\n",
            "Epoch 61/100\n",
            "12/12 [==============================] - 0s 6ms/step - loss: 0.1115 - accuracy: 0.9869 - val_loss: 0.1062 - val_accuracy: 0.9734\n",
            "Epoch 62/100\n",
            "12/12 [==============================] - 0s 6ms/step - loss: 0.1108 - accuracy: 0.9869 - val_loss: 0.1055 - val_accuracy: 0.9734\n",
            "Epoch 63/100\n",
            "12/12 [==============================] - 0s 5ms/step - loss: 0.1100 - accuracy: 0.9869 - val_loss: 0.1049 - val_accuracy: 0.9734\n",
            "Epoch 64/100\n",
            "12/12 [==============================] - 0s 5ms/step - loss: 0.1093 - accuracy: 0.9869 - val_loss: 0.1042 - val_accuracy: 0.9734\n",
            "Epoch 65/100\n",
            "12/12 [==============================] - 0s 5ms/step - loss: 0.1086 - accuracy: 0.9869 - val_loss: 0.1036 - val_accuracy: 0.9734\n",
            "Epoch 66/100\n",
            "12/12 [==============================] - 0s 6ms/step - loss: 0.1079 - accuracy: 0.9869 - val_loss: 0.1030 - val_accuracy: 0.9734\n",
            "Epoch 67/100\n",
            "12/12 [==============================] - 0s 5ms/step - loss: 0.1072 - accuracy: 0.9869 - val_loss: 0.1024 - val_accuracy: 0.9734\n",
            "Epoch 68/100\n",
            "12/12 [==============================] - 0s 5ms/step - loss: 0.1066 - accuracy: 0.9869 - val_loss: 0.1019 - val_accuracy: 0.9734\n",
            "Epoch 69/100\n",
            "12/12 [==============================] - 0s 5ms/step - loss: 0.1059 - accuracy: 0.9869 - val_loss: 0.1013 - val_accuracy: 0.9734\n",
            "Epoch 70/100\n",
            "12/12 [==============================] - 0s 5ms/step - loss: 0.1053 - accuracy: 0.9869 - val_loss: 0.1008 - val_accuracy: 0.9734\n",
            "Epoch 71/100\n",
            "12/12 [==============================] - 0s 5ms/step - loss: 0.1048 - accuracy: 0.9869 - val_loss: 0.1002 - val_accuracy: 0.9734\n",
            "Epoch 72/100\n",
            "12/12 [==============================] - 0s 10ms/step - loss: 0.1042 - accuracy: 0.9869 - val_loss: 0.0997 - val_accuracy: 0.9734\n",
            "Epoch 73/100\n",
            "12/12 [==============================] - 0s 11ms/step - loss: 0.1036 - accuracy: 0.9869 - val_loss: 0.0992 - val_accuracy: 0.9734\n",
            "Epoch 74/100\n",
            "12/12 [==============================] - 0s 8ms/step - loss: 0.1030 - accuracy: 0.9869 - val_loss: 0.0987 - val_accuracy: 0.9734\n",
            "Epoch 75/100\n",
            "12/12 [==============================] - 0s 9ms/step - loss: 0.1024 - accuracy: 0.9869 - val_loss: 0.0982 - val_accuracy: 0.9734\n",
            "Epoch 76/100\n",
            "12/12 [==============================] - 0s 16ms/step - loss: 0.1019 - accuracy: 0.9869 - val_loss: 0.0977 - val_accuracy: 0.9734\n",
            "Epoch 77/100\n",
            "12/12 [==============================] - 0s 11ms/step - loss: 0.1014 - accuracy: 0.9869 - val_loss: 0.0972 - val_accuracy: 0.9734\n",
            "Epoch 78/100\n",
            "12/12 [==============================] - 0s 17ms/step - loss: 0.1009 - accuracy: 0.9869 - val_loss: 0.0968 - val_accuracy: 0.9734\n",
            "Epoch 79/100\n",
            "12/12 [==============================] - 0s 7ms/step - loss: 0.1003 - accuracy: 0.9869 - val_loss: 0.0963 - val_accuracy: 0.9734\n",
            "Epoch 80/100\n",
            "12/12 [==============================] - 0s 12ms/step - loss: 0.0998 - accuracy: 0.9869 - val_loss: 0.0959 - val_accuracy: 0.9734\n",
            "Epoch 81/100\n",
            "12/12 [==============================] - 0s 8ms/step - loss: 0.0994 - accuracy: 0.9869 - val_loss: 0.0955 - val_accuracy: 0.9734\n",
            "Epoch 82/100\n",
            "12/12 [==============================] - 0s 14ms/step - loss: 0.0989 - accuracy: 0.9869 - val_loss: 0.0951 - val_accuracy: 0.9734\n",
            "Epoch 83/100\n",
            "12/12 [==============================] - 0s 8ms/step - loss: 0.0984 - accuracy: 0.9869 - val_loss: 0.0946 - val_accuracy: 0.9734\n",
            "Epoch 84/100\n",
            "12/12 [==============================] - 0s 7ms/step - loss: 0.0980 - accuracy: 0.9869 - val_loss: 0.0942 - val_accuracy: 0.9734\n",
            "Epoch 85/100\n",
            "12/12 [==============================] - 0s 7ms/step - loss: 0.0975 - accuracy: 0.9869 - val_loss: 0.0938 - val_accuracy: 0.9734\n",
            "Epoch 86/100\n",
            "12/12 [==============================] - 0s 7ms/step - loss: 0.0971 - accuracy: 0.9869 - val_loss: 0.0934 - val_accuracy: 0.9734\n",
            "Epoch 87/100\n",
            "12/12 [==============================] - 0s 8ms/step - loss: 0.0966 - accuracy: 0.9869 - val_loss: 0.0930 - val_accuracy: 0.9734\n",
            "Epoch 88/100\n",
            "12/12 [==============================] - 0s 8ms/step - loss: 0.0962 - accuracy: 0.9869 - val_loss: 0.0927 - val_accuracy: 0.9734\n",
            "Epoch 89/100\n",
            "12/12 [==============================] - 0s 7ms/step - loss: 0.0958 - accuracy: 0.9869 - val_loss: 0.0923 - val_accuracy: 0.9734\n",
            "Epoch 90/100\n",
            "12/12 [==============================] - 0s 7ms/step - loss: 0.0954 - accuracy: 0.9869 - val_loss: 0.0919 - val_accuracy: 0.9734\n",
            "Epoch 91/100\n",
            "12/12 [==============================] - 0s 7ms/step - loss: 0.0950 - accuracy: 0.9869 - val_loss: 0.0916 - val_accuracy: 0.9734\n",
            "Epoch 92/100\n",
            "12/12 [==============================] - 0s 11ms/step - loss: 0.0945 - accuracy: 0.9869 - val_loss: 0.0912 - val_accuracy: 0.9734\n",
            "Epoch 93/100\n",
            "12/12 [==============================] - 0s 12ms/step - loss: 0.0942 - accuracy: 0.9869 - val_loss: 0.0909 - val_accuracy: 0.9734\n",
            "Epoch 94/100\n",
            "12/12 [==============================] - 0s 14ms/step - loss: 0.0938 - accuracy: 0.9869 - val_loss: 0.0905 - val_accuracy: 0.9734\n",
            "Epoch 95/100\n",
            "12/12 [==============================] - 0s 7ms/step - loss: 0.0934 - accuracy: 0.9869 - val_loss: 0.0902 - val_accuracy: 0.9734\n",
            "Epoch 96/100\n",
            "12/12 [==============================] - 0s 11ms/step - loss: 0.0930 - accuracy: 0.9869 - val_loss: 0.0899 - val_accuracy: 0.9734\n",
            "Epoch 97/100\n",
            "12/12 [==============================] - 0s 9ms/step - loss: 0.0927 - accuracy: 0.9869 - val_loss: 0.0896 - val_accuracy: 0.9734\n",
            "Epoch 98/100\n",
            "12/12 [==============================] - 0s 11ms/step - loss: 0.0924 - accuracy: 0.9869 - val_loss: 0.0892 - val_accuracy: 0.9734\n",
            "Epoch 99/100\n",
            "12/12 [==============================] - 0s 9ms/step - loss: 0.0919 - accuracy: 0.9869 - val_loss: 0.0889 - val_accuracy: 0.9734\n",
            "Epoch 100/100\n",
            "12/12 [==============================] - 0s 9ms/step - loss: 0.0916 - accuracy: 0.9869 - val_loss: 0.0886 - val_accuracy: 0.9734\n",
            "12/12 [==============================] - 0s 3ms/step - loss: 0.0914 - accuracy: 0.9869\n",
            "Train score:  [0.09140484035015106, 0.9868766665458679]\n",
            "6/6 [==============================] - 0s 4ms/step - loss: 0.0886 - accuracy: 0.9734\n",
            "Test score:  [0.08861671388149261, 0.9734042286872864]\n"
          ]
        }
      ]
    },
    {
      "cell_type": "code",
      "source": [
        "# Plot what's returned by model.fit()\n",
        "\n",
        "import matplotlib.pyplot as plt\n",
        "plt.plot(r.history['loss'], label='loss')\n",
        "plt.plot(r.history['val_loss'], label='val_loss')\n",
        "plt.legend()"
      ],
      "metadata": {
        "colab": {
          "base_uri": "https://localhost:8080/",
          "height": 283
        },
        "id": "vw44XD-UPBVj",
        "outputId": "bd38edea-4c1d-454e-a956-b93a6b4daeb2"
      },
      "execution_count": 16,
      "outputs": [
        {
          "output_type": "execute_result",
          "data": {
            "text/plain": [
              "<matplotlib.legend.Legend at 0x7f7c06536210>"
            ]
          },
          "metadata": {},
          "execution_count": 16
        },
        {
          "output_type": "display_data",
          "data": {
            "text/plain": [
              "<Figure size 432x288 with 1 Axes>"
            ],
            "image/png": "[encoded data removed]"
          },
          "metadata": {
            "needs_background": "light"
          }
        }
      ]
    },
    {
      "cell_type": "code",
      "source": [
        "plt.plot(r.history['accuracy'], label='acc')\n",
        "plt.plot(r.history['val_accuracy'], label='val_acc')\n",
        "plt.legend()"
      ],
      "metadata": {
        "colab": {
          "base_uri": "https://localhost:8080/",
          "height": 284
        },
        "id": "NL75dwg_RQSa",
        "outputId": "e577d19f-461f-4aa4-e300-8ad4d1f93c90"
      },
      "execution_count": 17,
      "outputs": [
        {
          "output_type": "execute_result",
          "data": {
            "text/plain": [
              "<matplotlib.legend.Legend at 0x7f7c06536e50>"
            ]
          },
          "metadata": {},
          "execution_count": 17
        },
        {
          "output_type": "display_data",
          "data": {
            "text/plain": [
              "<Figure size 432x288 with 1 Axes>"
            ],
            "image/png": "[encoded data removed]"
          },
          "metadata": {
            "needs_background": "light"
          }
        }
      ]
    },
    {
      "cell_type": "markdown",
      "source": [
        "# Making Predictions"
      ],
      "metadata": {
        "id": "9ux4ruZPJfpF"
      }
    },
    {
      "cell_type": "code",
      "source": [
        "# Make predictions\n",
        "P = model.predict(X_test)\n",
        "print(P) # They are outputs of the sigmoid, interpreted as probabilities p(y =1 | x)"
      ],
      "metadata": {
        "colab": {
          "base_uri": "https://localhost:8080/"
        },
        "id": "sweOX50jJeud",
        "outputId": "2812889b-ac9c-4c77-fbc5-1afb9a59a07c"
      },
      "execution_count": 18,
      "outputs": [
        {
          "output_type": "stream",
          "name": "stdout",
          "text": [
            "[[3.79414439e-01]\n",
            " [8.88618827e-01]\n",
            " [4.97159958e-01]\n",
            " [9.97312546e-01]\n",
            " [5.39825484e-02]\n",
            " [9.57740307e-01]\n",
            " [9.93043423e-01]\n",
            " [9.70491350e-01]\n",
            " [2.01017596e-04]\n",
            " [4.67378087e-02]\n",
            " [3.79875935e-08]\n",
            " [9.75606024e-01]\n",
            " [1.83775090e-03]\n",
            " [9.97616887e-01]\n",
            " [1.27295183e-03]\n",
            " [4.79916543e-01]\n",
            " [9.97798324e-01]\n",
            " [9.21823919e-01]\n",
            " [1.72319741e-08]\n",
            " [9.98473108e-01]\n",
            " [8.98277164e-01]\n",
            " [2.60110293e-02]\n",
            " [9.50984120e-01]\n",
            " [9.96962249e-01]\n",
            " [9.50969681e-02]\n",
            " [8.49695265e-01]\n",
            " [7.36250043e-01]\n",
            " [3.02886183e-04]\n",
            " [9.96783495e-01]\n",
            " [4.79709031e-03]\n",
            " [1.11968382e-06]\n",
            " [3.69257177e-04]\n",
            " [1.81259239e-07]\n",
            " [1.04652729e-03]\n",
            " [9.55932975e-01]\n",
            " [9.20076489e-01]\n",
            " [2.17235982e-04]\n",
            " [8.24750304e-01]\n",
            " [3.98914702e-03]\n",
            " [9.96339560e-01]\n",
            " [9.99635458e-01]\n",
            " [4.34258193e-01]\n",
            " [8.53938103e-01]\n",
            " [9.96671259e-01]\n",
            " [2.50080164e-04]\n",
            " [2.00458348e-01]\n",
            " [1.37480065e-05]\n",
            " [4.51179873e-03]\n",
            " [9.62787628e-01]\n",
            " [9.87323761e-01]\n",
            " [9.70811903e-01]\n",
            " [2.46611759e-02]\n",
            " [9.99475300e-01]\n",
            " [4.81906265e-01]\n",
            " [4.83914046e-04]\n",
            " [8.74754131e-01]\n",
            " [9.92309451e-01]\n",
            " [3.57312092e-06]\n",
            " [9.96981442e-01]\n",
            " [1.05782249e-03]\n",
            " [2.55959003e-06]\n",
            " [9.08795536e-01]\n",
            " [9.98384118e-01]\n",
            " [9.95994806e-01]\n",
            " [4.56835255e-02]\n",
            " [9.82868791e-01]\n",
            " [9.98135209e-01]\n",
            " [1.00825715e-03]\n",
            " [3.35600376e-02]\n",
            " [9.93359864e-01]\n",
            " [7.43493214e-02]\n",
            " [9.78594303e-01]\n",
            " [9.88642514e-01]\n",
            " [4.07026336e-02]\n",
            " [1.26221939e-03]\n",
            " [1.26615435e-01]\n",
            " [8.00592542e-01]\n",
            " [8.61525476e-01]\n",
            " [3.22892338e-01]\n",
            " [9.99271095e-01]\n",
            " [9.99929309e-01]\n",
            " [1.65861566e-04]\n",
            " [9.90901232e-01]\n",
            " [3.02790642e-01]\n",
            " [9.62368488e-01]\n",
            " [9.90395010e-01]\n",
            " [7.08044972e-03]\n",
            " [5.81494998e-04]\n",
            " [5.63058602e-05]\n",
            " [9.99683022e-01]\n",
            " [6.70410154e-05]\n",
            " [9.98995841e-01]\n",
            " [1.61873864e-03]\n",
            " [9.98938978e-01]\n",
            " [9.59905326e-01]\n",
            " [1.59364250e-02]\n",
            " [2.77540972e-03]\n",
            " [2.76047591e-04]\n",
            " [9.61339355e-01]\n",
            " [9.91622388e-01]\n",
            " [1.50103480e-01]\n",
            " [9.92823362e-01]\n",
            " [4.42550257e-02]\n",
            " [9.95674074e-01]\n",
            " [5.30305458e-03]\n",
            " [9.36145902e-01]\n",
            " [9.65318263e-01]\n",
            " [9.76782382e-01]\n",
            " [9.90751088e-01]\n",
            " [7.67181695e-01]\n",
            " [7.41492510e-01]\n",
            " [1.25683621e-02]\n",
            " [6.40201151e-01]\n",
            " [1.03491302e-05]\n",
            " [8.16813231e-01]\n",
            " [9.73922312e-01]\n",
            " [9.99306083e-01]\n",
            " [9.65378940e-01]\n",
            " [3.47830206e-02]\n",
            " [9.90018487e-01]\n",
            " [9.26783562e-01]\n",
            " [2.38485113e-01]\n",
            " [8.52457345e-01]\n",
            " [9.98768508e-01]\n",
            " [2.86563241e-04]\n",
            " [9.45045114e-01]\n",
            " [9.90347087e-01]\n",
            " [9.72825825e-01]\n",
            " [9.55822527e-01]\n",
            " [1.10527679e-01]\n",
            " [2.53541499e-01]\n",
            " [9.90885675e-01]\n",
            " [5.06266765e-02]\n",
            " [9.98223484e-01]\n",
            " [3.82946990e-02]\n",
            " [6.32552981e-01]\n",
            " [9.86495912e-01]\n",
            " [1.00876391e-02]\n",
            " [9.75459576e-01]\n",
            " [5.59594154e-01]\n",
            " [9.99727309e-01]\n",
            " [4.95301694e-01]\n",
            " [9.96849477e-01]\n",
            " [4.12841327e-02]\n",
            " [9.95968580e-01]\n",
            " [1.48325786e-01]\n",
            " [9.99231339e-01]\n",
            " [9.91412044e-01]\n",
            " [9.94010210e-01]\n",
            " [9.97785091e-01]\n",
            " [1.08690463e-01]\n",
            " [9.99900460e-01]\n",
            " [5.15816964e-07]\n",
            " [9.92583036e-01]\n",
            " [3.19467745e-06]\n",
            " [8.78152490e-01]\n",
            " [9.79669452e-01]\n",
            " [8.07945896e-03]\n",
            " [9.75179374e-01]\n",
            " [6.40304446e-01]\n",
            " [9.68058228e-01]\n",
            " [9.92605783e-05]\n",
            " [9.99888301e-01]\n",
            " [9.98694837e-01]\n",
            " [9.48883057e-01]\n",
            " [9.92716610e-01]\n",
            " [9.99516487e-01]\n",
            " [1.85949041e-03]\n",
            " [4.60804813e-06]\n",
            " [2.23845243e-03]\n",
            " [9.94591773e-01]\n",
            " [9.85883772e-01]\n",
            " [9.99820292e-01]\n",
            " [8.36704195e-01]\n",
            " [9.89570498e-01]\n",
            " [9.95783329e-01]\n",
            " [9.81435180e-01]\n",
            " [1.39116449e-02]\n",
            " [9.96775329e-01]\n",
            " [2.93247169e-03]\n",
            " [9.99935031e-01]\n",
            " [8.88053954e-01]\n",
            " [5.17639425e-03]\n",
            " [9.92681682e-01]\n",
            " [9.98335540e-01]\n",
            " [9.13428128e-01]\n",
            " [1.52414621e-04]\n",
            " [9.77041054e-06]]\n"
          ]
        }
      ]
    },
    {
      "cell_type": "code",
      "source": [
        "# Round to get the actual predictions\n",
        "import numpy as np\n",
        "P = np.round(P).flatten()\n",
        "print(P)"
      ],
      "metadata": {
        "colab": {
          "base_uri": "https://localhost:8080/"
        },
        "id": "39hOLdIgKceH",
        "outputId": "28b36e84-1d5d-46c3-be94-bd63657537d4"
      },
      "execution_count": 19,
      "outputs": [
        {
          "output_type": "stream",
          "name": "stdout",
          "text": [
            "[0. 1. 0. 1. 0. 1. 1. 1. 0. 0. 0. 1. 0. 1. 0. 0. 1. 1. 0. 1. 1. 0. 1. 1.\n",
            " 0. 1. 1. 0. 1. 0. 0. 0. 0. 0. 1. 1. 0. 1. 0. 1. 1. 0. 1. 1. 0. 0. 0. 0.\n",
            " 1. 1. 1. 0. 1. 0. 0. 1. 1. 0. 1. 0. 0. 1. 1. 1. 0. 1. 1. 0. 0. 1. 0. 1.\n",
            " 1. 0. 0. 0. 1. 1. 0. 1. 1. 0. 1. 0. 1. 1. 0. 0. 0. 1. 0. 1. 0. 1. 1. 0.\n",
            " 0. 0. 1. 1. 0. 1. 0. 1. 0. 1. 1. 1. 1. 1. 1. 0. 1. 0. 1. 1. 1. 1. 0. 1.\n",
            " 1. 0. 1. 1. 0. 1. 1. 1. 1. 0. 0. 1. 0. 1. 0. 1. 1. 0. 1. 1. 1. 0. 1. 0.\n",
            " 1. 0. 1. 1. 1. 1. 0. 1. 0. 1. 0. 1. 1. 0. 1. 1. 1. 0. 1. 1. 1. 1. 1. 0.\n",
            " 0. 0. 1. 1. 1. 1. 1. 1. 1. 0. 1. 0. 1. 1. 0. 1. 1. 1. 0. 0.]\n"
          ]
        }
      ]
    },
    {
      "cell_type": "code",
      "source": [
        "# Calculate the accuracy, compare it to evaluate() output\n",
        "print(\"Manually calculated accuracy: \", np.mean(P == y_test))\n",
        "print(\"Evaluate output: \", model.evaluate(X_test, y_test))"
      ],
      "metadata": {
        "colab": {
          "base_uri": "https://localhost:8080/"
        },
        "id": "0lqdx74MLntm",
        "outputId": "15207739-735e-43cf-a14d-f7d55f46d42e"
      },
      "execution_count": 20,
      "outputs": [
        {
          "output_type": "stream",
          "name": "stdout",
          "text": [
            "Manually calculated accuracy:  0.973404255319149\n",
            "6/6 [==============================] - 0s 5ms/step - loss: 0.0886 - accuracy: 0.9734\n",
            "Evaluate output:  [0.08861671388149261, 0.9734042286872864]\n"
          ]
        }
      ]
    },
    {
      "cell_type": "markdown",
      "source": [
        "# Saving and Looading a Model"
      ],
      "metadata": {
        "id": "8S_zyePFSv4a"
      }
    },
    {
      "cell_type": "code",
      "source": [
        "# Save model to a file\n",
        "model.save('linearclassifier.h5')"
      ],
      "metadata": {
        "id": "Fcp_TKC7NdH6"
      },
      "execution_count": 21,
      "outputs": []
    },
    {
      "cell_type": "code",
      "source": [
        "# Check that the model file exists\n",
        "!ls -lh"
      ],
      "metadata": {
        "colab": {
          "base_uri": "https://localhost:8080/"
        },
        "id": "QajmDkC8TR_t",
        "outputId": "a6e4cfea-4bec-46e7-c8c7-b3f3a55ce192"
      },
      "execution_count": 22,
      "outputs": [
        {
          "output_type": "stream",
          "name": "stdout",
          "text": [
            "total 24K\n",
            "-rw-r--r-- 1 root root  19K Jul  7 12:06 linearclassifier.h5\n",
            "drwxr-xr-x 1 root root 4.0K Jun 29 13:44 sample_data\n"
          ]
        }
      ]
    },
    {
      "cell_type": "code",
      "source": [
        "model = tf.keras.models.load_model('linearclassifier.h5')\n",
        "print(model.layers)\n",
        "model.evaluate(X_test, y_test)"
      ],
      "metadata": {
        "colab": {
          "base_uri": "https://localhost:8080/"
        },
        "id": "IRUW4zrDTftA",
        "outputId": "d9f2cd95-df95-4b20-cdc1-5ef9483219b6"
      },
      "execution_count": 23,
      "outputs": [
        {
          "output_type": "stream",
          "name": "stdout",
          "text": [
            "[<keras.layers.core.dense.Dense object at 0x7f7bef7f4410>]\n",
            "6/6 [==============================] - 0s 4ms/step - loss: 0.0886 - accuracy: 0.9734\n"
          ]
        },
        {
          "output_type": "execute_result",
          "data": {
            "text/plain": [
              "[0.08861671388149261, 0.9734042286872864]"
            ]
          },
          "metadata": {},
          "execution_count": 23
        }
      ]
    },
    {
      "cell_type": "code",
      "source": [
        "# Download the file - requires Chrome (at this point)\n",
        "from google.colab import files\n",
        "files.download('linearclassifier.h5')"
      ],
      "metadata": {
        "id": "GVCMXrrVUaIN",
        "colab": {
          "base_uri": "https://localhost:8080/",
          "height": 17
        },
        "outputId": "9d561e66-914f-4b4a-b0fc-cc6ba1c53073"
      },
      "execution_count": 24,
      "outputs": [
        {
          "output_type": "display_data",
          "data": {
            "text/plain": [
              "<IPython.core.display.Javascript object>"
            ],
            "application/javascript": [
              "\n",
              "    async function download(id, filename, size) {\n",
              "      if (!google.colab.kernel.accessAllowed) {\n",
              "        return;\n",
              "      }\n",
              "      const div = document.createElement('div');\n",
              "      const label = document.createElement('label');\n",
              "      label.textContent = `Downloading \"${filename}\": `;\n",
              "      div.appendChild(label);\n",
              "      const progress = document.createElement('progress');\n",
              "      progress.max = size;\n",
              "      div.appendChild(progress);\n",
              "      document.body.appendChild(div);\n",
              "\n",
              "      const buffers = [];\n",
              "      let downloaded = 0;\n",
              "\n",
              "      const channel = await google.colab.kernel.comms.open(id);\n",
              "      // Send a message to notify the kernel that we're ready.\n",
              "      channel.send({})\n",
              "\n",
              "      for await (const message of channel.messages) {\n",
              "        // Send a message to notify the kernel that we're ready.\n",
              "        channel.send({})\n",
              "        if (message.buffers) {\n",
              "          for (const buffer of message.buffers) {\n",
              "            buffers.push(buffer);\n",
              "            downloaded += buffer.byteLength;\n",
              "            progress.value = downloaded;\n",
              "          }\n",
              "        }\n",
              "      }\n",
              "      const blob = new Blob(buffers, {type: 'application/binary'});\n",
              "      const a = document.createElement('a');\n",
              "      a.href = window.URL.createObjectURL(blob);\n",
              "      a.download = filename;\n",
              "      div.appendChild(a);\n",
              "      a.click();\n",
              "      div.remove();\n",
              "    }\n",
              "  "
            ]
          },
          "metadata": {}
        },
        {
          "output_type": "display_data",
          "data": {
            "text/plain": [
              "<IPython.core.display.Javascript object>"
            ],
            "application/javascript": [
              "download(\"download_1c195429-8ffe-4a45-b5a5-c0d48d41701c\", \"linearclassifier.h5\", 19312)"
            ]
          },
          "metadata": {}
        }
      ]
    }
  ]
}