{
  "nbformat": 4,
  "nbformat_minor": 0,
  "metadata": {
    "colab": {
      "name": "TF2.0 Linear Classification.ipynb",
      "provenance": [],
      "collapsed_sections": [],
      "authorship_tag": "ABX9TyN+RGNNULM8eyeUESYvWaA8",
      "include_colab_link": true
    },
    "kernelspec": {
      "name": "python3",
      "display_name": "Python 3"
    },
    "language_info": {
      "name": "python"
    },
    "accelerator": "TPU",
    "gpuClass": "standard"
  },
  "cells": [
    {
      "cell_type": "markdown",
      "metadata": {
        "id": "view-in-github",
        "colab_type": "text"
      },
      "source": [
        "<a href=\"https://colab.research.google.com/github/meliy-meyada/Tensorflow-Deep-Learning-and-Artificial-Intelligence/blob/main/TF2_0_Linear_Classification.ipynb\" target=\"_parent\"><img src=\"https://colab.research.google.com/assets/colab-badge.svg\" alt=\"Open In Colab\"/></a>"
      ]
    },
    {
      "cell_type": "code",
      "execution_count": 22,
      "metadata": {
        "id": "-PmUWj_kU_M2",
        "colab": {
          "base_uri": "https://localhost:8080/"
        },
        "outputId": "b61378ba-67aa-4d52-bca7-b50dd63bfabf"
      },
      "outputs": [
        {
          "output_type": "stream",
          "name": "stdout",
          "text": [
            "2.8.2\n"
          ]
        }
      ],
      "source": [
        "# install Tensorflow\n",
        "!pip install -q tensorflow-gpu==2.8.2\n",
        "import tensorflow as tf\n",
        "print(tf.__version__)"
      ]
    },
    {
      "cell_type": "code",
      "source": [
        "# Load in the data\n",
        "from sklearn.datasets import load_breast_cancer"
      ],
      "metadata": {
        "id": "ANqYcUWDFae7"
      },
      "execution_count": 23,
      "outputs": []
    },
    {
      "cell_type": "code",
      "source": [
        "# Load the data\n",
        "data = load_breast_cancer()"
      ],
      "metadata": {
        "id": "gRkIHWCFFtsm"
      },
      "execution_count": 24,
      "outputs": []
    },
    {
      "cell_type": "code",
      "source": [
        "# Check the type of data\n",
        "type(data)"
      ],
      "metadata": {
        "colab": {
          "base_uri": "https://localhost:8080/"
        },
        "id": "-LROLo0iF1vD",
        "outputId": "941df264-a93a-4508-df06-18e95bd5ac52"
      },
      "execution_count": 25,
      "outputs": [
        {
          "output_type": "execute_result",
          "data": {
            "text/plain": [
              "sklearn.utils.Bunch"
            ]
          },
          "metadata": {},
          "execution_count": 25
        }
      ]
    },
    {
      "cell_type": "code",
      "source": [
        "# This basically acts like dictionary key like attributes\n",
        "data.keys()"
      ],
      "metadata": {
        "colab": {
          "base_uri": "https://localhost:8080/"
        },
        "id": "GVT4iYs2F-FN",
        "outputId": "c9faf01c-c0e8-4d95-9ef9-fe720da77028"
      },
      "execution_count": 26,
      "outputs": [
        {
          "output_type": "execute_result",
          "data": {
            "text/plain": [
              "dict_keys(['data', 'target', 'frame', 'target_names', 'DESCR', 'feature_names', 'filename', 'data_module'])"
            ]
          },
          "metadata": {},
          "execution_count": 26
        }
      ]
    },
    {
      "cell_type": "code",
      "source": [
        "# data the attributes means the input data\n",
        "data.data.shape"
      ],
      "metadata": {
        "colab": {
          "base_uri": "https://localhost:8080/"
        },
        "id": "YHfqJ1z1GWzB",
        "outputId": "847592e8-0624-4e2e-9ba0-472e4b6e7ff1"
      },
      "execution_count": 27,
      "outputs": [
        {
          "output_type": "execute_result",
          "data": {
            "text/plain": [
              "(569, 30)"
            ]
          },
          "metadata": {},
          "execution_count": 27
        }
      ]
    },
    {
      "cell_type": "code",
      "source": [
        "#  target attributes\n",
        "data.target"
      ],
      "metadata": {
        "colab": {
          "base_uri": "https://localhost:8080/"
        },
        "id": "GigO1N7QG7wM",
        "outputId": "2e5a49b3-20cb-4f49-9d2f-a3cdf11aa30f"
      },
      "execution_count": 28,
      "outputs": [
        {
          "output_type": "execute_result",
          "data": {
            "text/plain": [
              "array([0, 0, 0, 0, 0, 0, 0, 0, 0, 0, 0, 0, 0, 0, 0, 0, 0, 0, 0, 1, 1, 1,\n",
              "       0, 0, 0, 0, 0, 0, 0, 0, 0, 0, 0, 0, 0, 0, 0, 1, 0, 0, 0, 0, 0, 0,\n",
              "       0, 0, 1, 0, 1, 1, 1, 1, 1, 0, 0, 1, 0, 0, 1, 1, 1, 1, 0, 1, 0, 0,\n",
              "       1, 1, 1, 1, 0, 1, 0, 0, 1, 0, 1, 0, 0, 1, 1, 1, 0, 0, 1, 0, 0, 0,\n",
              "       1, 1, 1, 0, 1, 1, 0, 0, 1, 1, 1, 0, 0, 1, 1, 1, 1, 0, 1, 1, 0, 1,\n",
              "       1, 1, 1, 1, 1, 1, 1, 0, 0, 0, 1, 0, 0, 1, 1, 1, 0, 0, 1, 0, 1, 0,\n",
              "       0, 1, 0, 0, 1, 1, 0, 1, 1, 0, 1, 1, 1, 1, 0, 1, 1, 1, 1, 1, 1, 1,\n",
              "       1, 1, 0, 1, 1, 1, 1, 0, 0, 1, 0, 1, 1, 0, 0, 1, 1, 0, 0, 1, 1, 1,\n",
              "       1, 0, 1, 1, 0, 0, 0, 1, 0, 1, 0, 1, 1, 1, 0, 1, 1, 0, 0, 1, 0, 0,\n",
              "       0, 0, 1, 0, 0, 0, 1, 0, 1, 0, 1, 1, 0, 1, 0, 0, 0, 0, 1, 1, 0, 0,\n",
              "       1, 1, 1, 0, 1, 1, 1, 1, 1, 0, 0, 1, 1, 0, 1, 1, 0, 0, 1, 0, 1, 1,\n",
              "       1, 1, 0, 1, 1, 1, 1, 1, 0, 1, 0, 0, 0, 0, 0, 0, 0, 0, 0, 0, 0, 0,\n",
              "       0, 0, 1, 1, 1, 1, 1, 1, 0, 1, 0, 1, 1, 0, 1, 1, 0, 1, 0, 0, 1, 1,\n",
              "       1, 1, 1, 1, 1, 1, 1, 1, 1, 1, 1, 0, 1, 1, 0, 1, 0, 1, 1, 1, 1, 1,\n",
              "       1, 1, 1, 1, 1, 1, 1, 1, 1, 0, 1, 1, 1, 0, 1, 0, 1, 1, 1, 1, 0, 0,\n",
              "       0, 1, 1, 1, 1, 0, 1, 0, 1, 0, 1, 1, 1, 0, 1, 1, 1, 1, 1, 1, 1, 0,\n",
              "       0, 0, 1, 1, 1, 1, 1, 1, 1, 1, 1, 1, 1, 0, 0, 1, 0, 0, 0, 1, 0, 0,\n",
              "       1, 1, 1, 1, 1, 0, 1, 1, 1, 1, 1, 0, 1, 1, 1, 0, 1, 1, 0, 0, 1, 1,\n",
              "       1, 1, 1, 1, 0, 1, 1, 1, 1, 1, 1, 1, 0, 1, 1, 1, 1, 1, 0, 1, 1, 0,\n",
              "       1, 1, 1, 1, 1, 1, 1, 1, 1, 1, 1, 1, 0, 1, 0, 0, 1, 0, 1, 1, 1, 1,\n",
              "       1, 0, 1, 1, 0, 1, 0, 1, 1, 0, 1, 0, 1, 1, 1, 1, 1, 1, 1, 1, 0, 0,\n",
              "       1, 1, 1, 1, 1, 1, 0, 1, 1, 1, 1, 1, 1, 1, 1, 1, 1, 0, 1, 1, 1, 1,\n",
              "       1, 1, 1, 0, 1, 0, 1, 1, 0, 1, 1, 1, 1, 1, 0, 0, 1, 0, 1, 0, 1, 1,\n",
              "       1, 1, 1, 0, 1, 1, 0, 1, 0, 1, 0, 0, 1, 1, 1, 0, 1, 1, 1, 1, 1, 1,\n",
              "       1, 1, 1, 1, 1, 0, 1, 0, 0, 1, 1, 1, 1, 1, 1, 1, 1, 1, 1, 1, 1, 1,\n",
              "       1, 1, 1, 1, 1, 1, 1, 1, 1, 1, 1, 1, 0, 0, 0, 0, 0, 0, 1])"
            ]
          },
          "metadata": {},
          "execution_count": 28
        }
      ]
    },
    {
      "cell_type": "code",
      "source": [
        "# their meaning is not lost\n",
        "data.target_names"
      ],
      "metadata": {
        "colab": {
          "base_uri": "https://localhost:8080/"
        },
        "id": "u9WVR_RdHASU",
        "outputId": "3f18f242-9b6b-4003-bd53-e2c37f18ad92"
      },
      "execution_count": 29,
      "outputs": [
        {
          "output_type": "execute_result",
          "data": {
            "text/plain": [
              "array(['malignant', 'benign'], dtype='<U9')"
            ]
          },
          "metadata": {},
          "execution_count": 29
        }
      ]
    },
    {
      "cell_type": "code",
      "source": [
        "# there are also 569 corresponding target\n",
        "data.target.shape"
      ],
      "metadata": {
        "colab": {
          "base_uri": "https://localhost:8080/"
        },
        "id": "AdNDbdsYHeGy",
        "outputId": "54e1fff5-4534-4a29-e0ac-6f2d40121b0b"
      },
      "execution_count": 30,
      "outputs": [
        {
          "output_type": "execute_result",
          "data": {
            "text/plain": [
              "(569,)"
            ]
          },
          "metadata": {},
          "execution_count": 30
        }
      ]
    },
    {
      "cell_type": "code",
      "source": [
        "# Determinw meaning of each feature\n",
        "data.feature_names"
      ],
      "metadata": {
        "colab": {
          "base_uri": "https://localhost:8080/"
        },
        "id": "tek8cdh4Hxs_",
        "outputId": "8b1a3ee0-60fe-4007-f390-f7d7af6db670"
      },
      "execution_count": 31,
      "outputs": [
        {
          "output_type": "execute_result",
          "data": {
            "text/plain": [
              "array(['mean radius', 'mean texture', 'mean perimeter', 'mean area',\n",
              "       'mean smoothness', 'mean compactness', 'mean concavity',\n",
              "       'mean concave points', 'mean symmetry', 'mean fractal dimension',\n",
              "       'radius error', 'texture error', 'perimeter error', 'area error',\n",
              "       'smoothness error', 'compactness error', 'concavity error',\n",
              "       'concave points error', 'symmetry error',\n",
              "       'fractal dimension error', 'worst radius', 'worst texture',\n",
              "       'worst perimeter', 'worst area', 'worst smoothness',\n",
              "       'worst compactness', 'worst concavity', 'worst concave points',\n",
              "       'worst symmetry', 'worst fractal dimension'], dtype='<U23')"
            ]
          },
          "metadata": {},
          "execution_count": 31
        }
      ]
    },
    {
      "cell_type": "code",
      "source": [
        "# Normally put  all import at the top\n",
        "from sklearn.model_selection import train_test_split"
      ],
      "metadata": {
        "id": "ugjJx3PKIB7k"
      },
      "execution_count": 32,
      "outputs": []
    },
    {
      "cell_type": "code",
      "source": [
        "# Split the data intro train and test sets\n",
        "X_train, X_test, y_train, y_test = train_test_split(data.data, data.target, test_size=0.33)\n",
        "N, D = X_train.shape"
      ],
      "metadata": {
        "id": "vvcpkIeMIrUe"
      },
      "execution_count": 33,
      "outputs": []
    },
    {
      "cell_type": "code",
      "source": [
        "# Scale the data\n",
        "from sklearn.preprocessing import StandardScaler"
      ],
      "metadata": {
        "id": "cHP85gyQJhhj"
      },
      "execution_count": 34,
      "outputs": []
    },
    {
      "cell_type": "code",
      "source": [
        "scaler = StandardScaler()\n",
        "X_train = scaler.fit_transform(X_train)\n",
        "X_test = scaler.transform(X_test)"
      ],
      "metadata": {
        "id": "KsQNzsnsKAfb"
      },
      "execution_count": 35,
      "outputs": []
    },
    {
      "cell_type": "code",
      "source": [
        "# Build the model\n",
        "model = tf.keras.models.Sequential([\n",
        "    tf.keras.layers.Input(shape=(D,)),\n",
        "    tf.keras.layers.Dense(1, activation='sigmoid')\n",
        "])\n",
        "\n",
        "# Alternatively, can do:\n",
        "# model = tf.keras.models.Sequential()\n",
        "# model.add(tf.keras.layers.Dense(1, input_shape=(D,), activation='sigmoid'))\n",
        "\n",
        "model.compile(optimizer='adam',\n",
        "              loss = 'binary_crossentropy',\n",
        "              metrics=['accuracy']\n",
        "              )\n",
        "\n",
        "# training the model\n",
        "r = model.fit(X_train, y_train, validation_data=(X_test, y_test), epochs=100)\n",
        "\n",
        "# Evaluate the model - evaluate() returns loss and accuracy\n",
        "print(\"Train score: \", model.evaluate(X_train, y_train))\n",
        "print(\"Test score: \", model.evaluate(X_test, y_test))"
      ],
      "metadata": {
        "colab": {
          "base_uri": "https://localhost:8080/"
        },
        "id": "0GGAoxjXKa2s",
        "outputId": "2d87bd1a-2309-4154-f023-d4fdf3314eeb"
      },
      "execution_count": 36,
      "outputs": [
        {
          "output_type": "stream",
          "name": "stdout",
          "text": [
            "Epoch 1/100\n",
            "12/12 [==============================] - 1s 18ms/step - loss: 1.3507 - accuracy: 0.3281 - val_loss: 1.2966 - val_accuracy: 0.3351\n",
            "Epoch 2/100\n",
            "12/12 [==============================] - 0s 5ms/step - loss: 1.2514 - accuracy: 0.3675 - val_loss: 1.2022 - val_accuracy: 0.3670\n",
            "Epoch 3/100\n",
            "12/12 [==============================] - 0s 5ms/step - loss: 1.1612 - accuracy: 0.4094 - val_loss: 1.1137 - val_accuracy: 0.4149\n",
            "Epoch 4/100\n",
            "12/12 [==============================] - 0s 5ms/step - loss: 1.0767 - accuracy: 0.4619 - val_loss: 1.0331 - val_accuracy: 0.4521\n",
            "Epoch 5/100\n",
            "12/12 [==============================] - 0s 6ms/step - loss: 0.9994 - accuracy: 0.5171 - val_loss: 0.9600 - val_accuracy: 0.4787\n",
            "Epoch 6/100\n",
            "12/12 [==============================] - 0s 6ms/step - loss: 0.9322 - accuracy: 0.5459 - val_loss: 0.8921 - val_accuracy: 0.5160\n",
            "Epoch 7/100\n",
            "12/12 [==============================] - 0s 6ms/step - loss: 0.8682 - accuracy: 0.5696 - val_loss: 0.8313 - val_accuracy: 0.5638\n",
            "Epoch 8/100\n",
            "12/12 [==============================] - 0s 6ms/step - loss: 0.8101 - accuracy: 0.6063 - val_loss: 0.7779 - val_accuracy: 0.5798\n",
            "Epoch 9/100\n",
            "12/12 [==============================] - 0s 10ms/step - loss: 0.7594 - accuracy: 0.6352 - val_loss: 0.7289 - val_accuracy: 0.6064\n",
            "Epoch 10/100\n",
            "12/12 [==============================] - 0s 11ms/step - loss: 0.7148 - accuracy: 0.6535 - val_loss: 0.6832 - val_accuracy: 0.6277\n",
            "Epoch 11/100\n",
            "12/12 [==============================] - 0s 8ms/step - loss: 0.6722 - accuracy: 0.6745 - val_loss: 0.6429 - val_accuracy: 0.6489\n",
            "Epoch 12/100\n",
            "12/12 [==============================] - 0s 8ms/step - loss: 0.6350 - accuracy: 0.7008 - val_loss: 0.6062 - val_accuracy: 0.6702\n",
            "Epoch 13/100\n",
            "12/12 [==============================] - 0s 6ms/step - loss: 0.6021 - accuracy: 0.7244 - val_loss: 0.5720 - val_accuracy: 0.6968\n",
            "Epoch 14/100\n",
            "12/12 [==============================] - 0s 5ms/step - loss: 0.5699 - accuracy: 0.7297 - val_loss: 0.5424 - val_accuracy: 0.7340\n",
            "Epoch 15/100\n",
            "12/12 [==============================] - 0s 5ms/step - loss: 0.5414 - accuracy: 0.7507 - val_loss: 0.5153 - val_accuracy: 0.7500\n",
            "Epoch 16/100\n",
            "12/12 [==============================] - 0s 5ms/step - loss: 0.5157 - accuracy: 0.7690 - val_loss: 0.4905 - val_accuracy: 0.7766\n",
            "Epoch 17/100\n",
            "12/12 [==============================] - 0s 5ms/step - loss: 0.4919 - accuracy: 0.7822 - val_loss: 0.4679 - val_accuracy: 0.7979\n",
            "Epoch 18/100\n",
            "12/12 [==============================] - 0s 6ms/step - loss: 0.4698 - accuracy: 0.7927 - val_loss: 0.4470 - val_accuracy: 0.8138\n",
            "Epoch 19/100\n",
            "12/12 [==============================] - 0s 5ms/step - loss: 0.4486 - accuracy: 0.8031 - val_loss: 0.4283 - val_accuracy: 0.8191\n",
            "Epoch 20/100\n",
            "12/12 [==============================] - 0s 7ms/step - loss: 0.4299 - accuracy: 0.8110 - val_loss: 0.4109 - val_accuracy: 0.8191\n",
            "Epoch 21/100\n",
            "12/12 [==============================] - 0s 6ms/step - loss: 0.4126 - accuracy: 0.8241 - val_loss: 0.3949 - val_accuracy: 0.8245\n",
            "Epoch 22/100\n",
            "12/12 [==============================] - 0s 4ms/step - loss: 0.3962 - accuracy: 0.8320 - val_loss: 0.3800 - val_accuracy: 0.8298\n",
            "Epoch 23/100\n",
            "12/12 [==============================] - 0s 4ms/step - loss: 0.3803 - accuracy: 0.8478 - val_loss: 0.3662 - val_accuracy: 0.8564\n",
            "Epoch 24/100\n",
            "12/12 [==============================] - 0s 5ms/step - loss: 0.3660 - accuracy: 0.8583 - val_loss: 0.3537 - val_accuracy: 0.8617\n",
            "Epoch 25/100\n",
            "12/12 [==============================] - 0s 5ms/step - loss: 0.3531 - accuracy: 0.8635 - val_loss: 0.3420 - val_accuracy: 0.8670\n",
            "Epoch 26/100\n",
            "12/12 [==============================] - 0s 5ms/step - loss: 0.3405 - accuracy: 0.8661 - val_loss: 0.3312 - val_accuracy: 0.8830\n",
            "Epoch 27/100\n",
            "12/12 [==============================] - 0s 4ms/step - loss: 0.3293 - accuracy: 0.8740 - val_loss: 0.3212 - val_accuracy: 0.8830\n",
            "Epoch 28/100\n",
            "12/12 [==============================] - 0s 5ms/step - loss: 0.3183 - accuracy: 0.8793 - val_loss: 0.3117 - val_accuracy: 0.8830\n",
            "Epoch 29/100\n",
            "12/12 [==============================] - 0s 4ms/step - loss: 0.3084 - accuracy: 0.8924 - val_loss: 0.3029 - val_accuracy: 0.8883\n",
            "Epoch 30/100\n",
            "12/12 [==============================] - 0s 5ms/step - loss: 0.2993 - accuracy: 0.8924 - val_loss: 0.2945 - val_accuracy: 0.8936\n",
            "Epoch 31/100\n",
            "12/12 [==============================] - 0s 5ms/step - loss: 0.2902 - accuracy: 0.8950 - val_loss: 0.2866 - val_accuracy: 0.9043\n",
            "Epoch 32/100\n",
            "12/12 [==============================] - 0s 5ms/step - loss: 0.2819 - accuracy: 0.9003 - val_loss: 0.2794 - val_accuracy: 0.9043\n",
            "Epoch 33/100\n",
            "12/12 [==============================] - 0s 4ms/step - loss: 0.2745 - accuracy: 0.9029 - val_loss: 0.2724 - val_accuracy: 0.9096\n",
            "Epoch 34/100\n",
            "12/12 [==============================] - 0s 5ms/step - loss: 0.2673 - accuracy: 0.9055 - val_loss: 0.2657 - val_accuracy: 0.9096\n",
            "Epoch 35/100\n",
            "12/12 [==============================] - 0s 6ms/step - loss: 0.2604 - accuracy: 0.9081 - val_loss: 0.2595 - val_accuracy: 0.9096\n",
            "Epoch 36/100\n",
            "12/12 [==============================] - 0s 4ms/step - loss: 0.2541 - accuracy: 0.9081 - val_loss: 0.2536 - val_accuracy: 0.9096\n",
            "Epoch 37/100\n",
            "12/12 [==============================] - 0s 5ms/step - loss: 0.2481 - accuracy: 0.9134 - val_loss: 0.2481 - val_accuracy: 0.9096\n",
            "Epoch 38/100\n",
            "12/12 [==============================] - 0s 6ms/step - loss: 0.2424 - accuracy: 0.9186 - val_loss: 0.2428 - val_accuracy: 0.9149\n",
            "Epoch 39/100\n",
            "12/12 [==============================] - 0s 7ms/step - loss: 0.2371 - accuracy: 0.9213 - val_loss: 0.2377 - val_accuracy: 0.9202\n",
            "Epoch 40/100\n",
            "12/12 [==============================] - 0s 6ms/step - loss: 0.2320 - accuracy: 0.9239 - val_loss: 0.2328 - val_accuracy: 0.9202\n",
            "Epoch 41/100\n",
            "12/12 [==============================] - 0s 8ms/step - loss: 0.2273 - accuracy: 0.9239 - val_loss: 0.2283 - val_accuracy: 0.9202\n",
            "Epoch 42/100\n",
            "12/12 [==============================] - 0s 8ms/step - loss: 0.2227 - accuracy: 0.9239 - val_loss: 0.2239 - val_accuracy: 0.9202\n",
            "Epoch 43/100\n",
            "12/12 [==============================] - 0s 5ms/step - loss: 0.2183 - accuracy: 0.9265 - val_loss: 0.2196 - val_accuracy: 0.9202\n",
            "Epoch 44/100\n",
            "12/12 [==============================] - 0s 6ms/step - loss: 0.2143 - accuracy: 0.9344 - val_loss: 0.2156 - val_accuracy: 0.9255\n",
            "Epoch 45/100\n",
            "12/12 [==============================] - 0s 4ms/step - loss: 0.2103 - accuracy: 0.9396 - val_loss: 0.2118 - val_accuracy: 0.9255\n",
            "Epoch 46/100\n",
            "12/12 [==============================] - 0s 4ms/step - loss: 0.2066 - accuracy: 0.9396 - val_loss: 0.2081 - val_accuracy: 0.9255\n",
            "Epoch 47/100\n",
            "12/12 [==============================] - 0s 4ms/step - loss: 0.2030 - accuracy: 0.9370 - val_loss: 0.2045 - val_accuracy: 0.9255\n",
            "Epoch 48/100\n",
            "12/12 [==============================] - 0s 4ms/step - loss: 0.1996 - accuracy: 0.9396 - val_loss: 0.2012 - val_accuracy: 0.9255\n",
            "Epoch 49/100\n",
            "12/12 [==============================] - 0s 4ms/step - loss: 0.1964 - accuracy: 0.9396 - val_loss: 0.1978 - val_accuracy: 0.9309\n",
            "Epoch 50/100\n",
            "12/12 [==============================] - 0s 5ms/step - loss: 0.1932 - accuracy: 0.9396 - val_loss: 0.1948 - val_accuracy: 0.9362\n",
            "Epoch 51/100\n",
            "12/12 [==============================] - 0s 5ms/step - loss: 0.1903 - accuracy: 0.9423 - val_loss: 0.1918 - val_accuracy: 0.9415\n",
            "Epoch 52/100\n",
            "12/12 [==============================] - 0s 4ms/step - loss: 0.1874 - accuracy: 0.9423 - val_loss: 0.1889 - val_accuracy: 0.9415\n",
            "Epoch 53/100\n",
            "12/12 [==============================] - 0s 5ms/step - loss: 0.1846 - accuracy: 0.9449 - val_loss: 0.1862 - val_accuracy: 0.9415\n",
            "Epoch 54/100\n",
            "12/12 [==============================] - 0s 4ms/step - loss: 0.1820 - accuracy: 0.9449 - val_loss: 0.1834 - val_accuracy: 0.9415\n",
            "Epoch 55/100\n",
            "12/12 [==============================] - 0s 4ms/step - loss: 0.1795 - accuracy: 0.9449 - val_loss: 0.1807 - val_accuracy: 0.9415\n",
            "Epoch 56/100\n",
            "12/12 [==============================] - 0s 5ms/step - loss: 0.1770 - accuracy: 0.9475 - val_loss: 0.1782 - val_accuracy: 0.9415\n",
            "Epoch 57/100\n",
            "12/12 [==============================] - 0s 4ms/step - loss: 0.1747 - accuracy: 0.9475 - val_loss: 0.1758 - val_accuracy: 0.9415\n",
            "Epoch 58/100\n",
            "12/12 [==============================] - 0s 5ms/step - loss: 0.1724 - accuracy: 0.9475 - val_loss: 0.1734 - val_accuracy: 0.9415\n",
            "Epoch 59/100\n",
            "12/12 [==============================] - 0s 4ms/step - loss: 0.1702 - accuracy: 0.9475 - val_loss: 0.1711 - val_accuracy: 0.9415\n",
            "Epoch 60/100\n",
            "12/12 [==============================] - 0s 4ms/step - loss: 0.1681 - accuracy: 0.9475 - val_loss: 0.1689 - val_accuracy: 0.9415\n",
            "Epoch 61/100\n",
            "12/12 [==============================] - 0s 4ms/step - loss: 0.1660 - accuracy: 0.9501 - val_loss: 0.1668 - val_accuracy: 0.9415\n",
            "Epoch 62/100\n",
            "12/12 [==============================] - 0s 4ms/step - loss: 0.1641 - accuracy: 0.9501 - val_loss: 0.1646 - val_accuracy: 0.9468\n",
            "Epoch 63/100\n",
            "12/12 [==============================] - 0s 4ms/step - loss: 0.1621 - accuracy: 0.9528 - val_loss: 0.1627 - val_accuracy: 0.9468\n",
            "Epoch 64/100\n",
            "12/12 [==============================] - 0s 4ms/step - loss: 0.1604 - accuracy: 0.9528 - val_loss: 0.1607 - val_accuracy: 0.9468\n",
            "Epoch 65/100\n",
            "12/12 [==============================] - 0s 6ms/step - loss: 0.1585 - accuracy: 0.9528 - val_loss: 0.1589 - val_accuracy: 0.9468\n",
            "Epoch 66/100\n",
            "12/12 [==============================] - 0s 4ms/step - loss: 0.1568 - accuracy: 0.9528 - val_loss: 0.1571 - val_accuracy: 0.9468\n",
            "Epoch 67/100\n",
            "12/12 [==============================] - 0s 4ms/step - loss: 0.1552 - accuracy: 0.9528 - val_loss: 0.1553 - val_accuracy: 0.9468\n",
            "Epoch 68/100\n",
            "12/12 [==============================] - 0s 5ms/step - loss: 0.1536 - accuracy: 0.9528 - val_loss: 0.1535 - val_accuracy: 0.9468\n",
            "Epoch 69/100\n",
            "12/12 [==============================] - 0s 5ms/step - loss: 0.1520 - accuracy: 0.9554 - val_loss: 0.1519 - val_accuracy: 0.9468\n",
            "Epoch 70/100\n",
            "12/12 [==============================] - 0s 4ms/step - loss: 0.1504 - accuracy: 0.9554 - val_loss: 0.1503 - val_accuracy: 0.9521\n",
            "Epoch 71/100\n",
            "12/12 [==============================] - 0s 4ms/step - loss: 0.1490 - accuracy: 0.9580 - val_loss: 0.1487 - val_accuracy: 0.9521\n",
            "Epoch 72/100\n",
            "12/12 [==============================] - 0s 4ms/step - loss: 0.1476 - accuracy: 0.9580 - val_loss: 0.1471 - val_accuracy: 0.9521\n",
            "Epoch 73/100\n",
            "12/12 [==============================] - 0s 4ms/step - loss: 0.1461 - accuracy: 0.9580 - val_loss: 0.1457 - val_accuracy: 0.9521\n",
            "Epoch 74/100\n",
            "12/12 [==============================] - 0s 5ms/step - loss: 0.1448 - accuracy: 0.9580 - val_loss: 0.1441 - val_accuracy: 0.9521\n",
            "Epoch 75/100\n",
            "12/12 [==============================] - 0s 4ms/step - loss: 0.1435 - accuracy: 0.9606 - val_loss: 0.1427 - val_accuracy: 0.9521\n",
            "Epoch 76/100\n",
            "12/12 [==============================] - 0s 4ms/step - loss: 0.1422 - accuracy: 0.9606 - val_loss: 0.1414 - val_accuracy: 0.9521\n",
            "Epoch 77/100\n",
            "12/12 [==============================] - 0s 4ms/step - loss: 0.1410 - accuracy: 0.9633 - val_loss: 0.1401 - val_accuracy: 0.9521\n",
            "Epoch 78/100\n",
            "12/12 [==============================] - 0s 4ms/step - loss: 0.1398 - accuracy: 0.9633 - val_loss: 0.1388 - val_accuracy: 0.9521\n",
            "Epoch 79/100\n",
            "12/12 [==============================] - 0s 6ms/step - loss: 0.1386 - accuracy: 0.9659 - val_loss: 0.1375 - val_accuracy: 0.9521\n",
            "Epoch 80/100\n",
            "12/12 [==============================] - 0s 4ms/step - loss: 0.1375 - accuracy: 0.9685 - val_loss: 0.1363 - val_accuracy: 0.9574\n",
            "Epoch 81/100\n",
            "12/12 [==============================] - 0s 4ms/step - loss: 0.1363 - accuracy: 0.9685 - val_loss: 0.1351 - val_accuracy: 0.9574\n",
            "Epoch 82/100\n",
            "12/12 [==============================] - 0s 4ms/step - loss: 0.1352 - accuracy: 0.9685 - val_loss: 0.1339 - val_accuracy: 0.9574\n",
            "Epoch 83/100\n",
            "12/12 [==============================] - 0s 4ms/step - loss: 0.1342 - accuracy: 0.9685 - val_loss: 0.1327 - val_accuracy: 0.9628\n",
            "Epoch 84/100\n",
            "12/12 [==============================] - 0s 4ms/step - loss: 0.1331 - accuracy: 0.9685 - val_loss: 0.1316 - val_accuracy: 0.9628\n",
            "Epoch 85/100\n",
            "12/12 [==============================] - 0s 5ms/step - loss: 0.1321 - accuracy: 0.9711 - val_loss: 0.1306 - val_accuracy: 0.9628\n",
            "Epoch 86/100\n",
            "12/12 [==============================] - 0s 6ms/step - loss: 0.1311 - accuracy: 0.9711 - val_loss: 0.1295 - val_accuracy: 0.9628\n",
            "Epoch 87/100\n",
            "12/12 [==============================] - 0s 4ms/step - loss: 0.1301 - accuracy: 0.9738 - val_loss: 0.1284 - val_accuracy: 0.9628\n",
            "Epoch 88/100\n",
            "12/12 [==============================] - 0s 4ms/step - loss: 0.1292 - accuracy: 0.9738 - val_loss: 0.1275 - val_accuracy: 0.9628\n",
            "Epoch 89/100\n",
            "12/12 [==============================] - 0s 5ms/step - loss: 0.1283 - accuracy: 0.9738 - val_loss: 0.1264 - val_accuracy: 0.9628\n",
            "Epoch 90/100\n",
            "12/12 [==============================] - 0s 4ms/step - loss: 0.1274 - accuracy: 0.9738 - val_loss: 0.1254 - val_accuracy: 0.9628\n",
            "Epoch 91/100\n",
            "12/12 [==============================] - 0s 5ms/step - loss: 0.1265 - accuracy: 0.9738 - val_loss: 0.1244 - val_accuracy: 0.9628\n",
            "Epoch 92/100\n",
            "12/12 [==============================] - 0s 5ms/step - loss: 0.1256 - accuracy: 0.9738 - val_loss: 0.1235 - val_accuracy: 0.9628\n",
            "Epoch 93/100\n",
            "12/12 [==============================] - 0s 4ms/step - loss: 0.1248 - accuracy: 0.9738 - val_loss: 0.1226 - val_accuracy: 0.9681\n",
            "Epoch 94/100\n",
            "12/12 [==============================] - 0s 5ms/step - loss: 0.1239 - accuracy: 0.9738 - val_loss: 0.1217 - val_accuracy: 0.9681\n",
            "Epoch 95/100\n",
            "12/12 [==============================] - 0s 5ms/step - loss: 0.1232 - accuracy: 0.9738 - val_loss: 0.1208 - val_accuracy: 0.9681\n",
            "Epoch 96/100\n",
            "12/12 [==============================] - 0s 9ms/step - loss: 0.1223 - accuracy: 0.9738 - val_loss: 0.1200 - val_accuracy: 0.9681\n",
            "Epoch 97/100\n",
            "12/12 [==============================] - 0s 16ms/step - loss: 0.1216 - accuracy: 0.9738 - val_loss: 0.1192 - val_accuracy: 0.9681\n",
            "Epoch 98/100\n",
            "12/12 [==============================] - 0s 7ms/step - loss: 0.1208 - accuracy: 0.9738 - val_loss: 0.1183 - val_accuracy: 0.9681\n",
            "Epoch 99/100\n",
            "12/12 [==============================] - 0s 7ms/step - loss: 0.1201 - accuracy: 0.9711 - val_loss: 0.1175 - val_accuracy: 0.9681\n",
            "Epoch 100/100\n",
            "12/12 [==============================] - 0s 7ms/step - loss: 0.1194 - accuracy: 0.9711 - val_loss: 0.1167 - val_accuracy: 0.9681\n",
            "12/12 [==============================] - 0s 2ms/step - loss: 0.1189 - accuracy: 0.9711\n",
            "Train score:  [0.11891201138496399, 0.9711285829544067]\n",
            "6/6 [==============================] - 0s 3ms/step - loss: 0.1167 - accuracy: 0.9681\n",
            "Test score:  [0.11667805165052414, 0.9680851101875305]\n"
          ]
        }
      ]
    },
    {
      "cell_type": "code",
      "source": [
        "# Plot what's returned by model.fit()\n",
        "\n",
        "import matplotlib.pyplot as plt\n",
        "plt.plot(r.history['loss'], label='loss')\n",
        "plt.plot(r.history['val_loss'], label='val_loss')\n",
        "plt.legend()"
      ],
      "metadata": {
        "colab": {
          "base_uri": "https://localhost:8080/",
          "height": 285
        },
        "id": "vw44XD-UPBVj",
        "outputId": "efa9ad5b-a7af-4049-9ee3-3633f0ce79c8"
      },
      "execution_count": 37,
      "outputs": [
        {
          "output_type": "execute_result",
          "data": {
            "text/plain": [
              "<matplotlib.legend.Legend at 0x7fe8f4ea81d0>"
            ]
          },
          "metadata": {},
          "execution_count": 37
        },
        {
          "output_type": "display_data",
          "data": {
            "text/plain": [
              "<Figure size 432x288 with 1 Axes>"
            ],
            "image/png": "[encoded data removed]"
          },
          "metadata": {
            "needs_background": "light"
          }
        }
      ]
    },
    {
      "cell_type": "code",
      "source": [
        "plt.plot(r.history['accuracy'], label='acc')\n",
        "plt.plot(r.history['val_accuracy'], label='val_acc')\n",
        "plt.legend()"
      ],
      "metadata": {
        "colab": {
          "base_uri": "https://localhost:8080/",
          "height": 285
        },
        "id": "NL75dwg_RQSa",
        "outputId": "06c66579-f671-4525-9159-2c7ce591614f"
      },
      "execution_count": 38,
      "outputs": [
        {
          "output_type": "execute_result",
          "data": {
            "text/plain": [
              "<matplotlib.legend.Legend at 0x7fe8f2a99990>"
            ]
          },
          "metadata": {},
          "execution_count": 38
        },
        {
          "output_type": "display_data",
          "data": {
            "text/plain": [
              "<Figure size 432x288 with 1 Axes>"
            ],
            "image/png": "[encoded data removed]"
          },
          "metadata": {
            "needs_background": "light"
          }
        }
      ]
    },
    {
      "cell_type": "markdown",
      "source": [
        "# Making Predictions"
      ],
      "metadata": {
        "id": "9ux4ruZPJfpF"
      }
    },
    {
      "cell_type": "code",
      "source": [
        "# Make predictions\n",
        "p = model.predict(X_test)\n",
        "print(p) # They are outputs of the sigmoid, interpreted as probabilities p(y =1 | x)"
      ],
      "metadata": {
        "colab": {
          "base_uri": "https://localhost:8080/"
        },
        "id": "sweOX50jJeud",
        "outputId": "95e35532-2340-4688-9678-10d00bf9090e"
      },
      "execution_count": 39,
      "outputs": [
        {
          "output_type": "stream",
          "name": "stdout",
          "text": [
            "[[9.06921148e-01]\n",
            " [9.94233489e-01]\n",
            " [4.56568271e-01]\n",
            " [3.31878662e-04]\n",
            " [9.65184093e-01]\n",
            " [8.96624804e-01]\n",
            " [9.78623152e-01]\n",
            " [4.61846590e-04]\n",
            " [3.34775448e-03]\n",
            " [9.26506817e-01]\n",
            " [3.00621986e-03]\n",
            " [8.38890672e-03]\n",
            " [3.77511382e-02]\n",
            " [9.07005370e-02]\n",
            " [9.78452086e-01]\n",
            " [9.17350769e-01]\n",
            " [9.46702957e-01]\n",
            " [9.91685033e-01]\n",
            " [9.96101022e-01]\n",
            " [6.13046348e-01]\n",
            " [4.91750541e-07]\n",
            " [3.89585376e-01]\n",
            " [9.83758211e-01]\n",
            " [9.98382747e-01]\n",
            " [1.66438609e-01]\n",
            " [9.06129479e-01]\n",
            " [9.22617912e-01]\n",
            " [9.02179599e-01]\n",
            " [9.86821890e-01]\n",
            " [9.35615778e-01]\n",
            " [9.95773911e-01]\n",
            " [9.82862115e-01]\n",
            " [6.38261795e-01]\n",
            " [9.92704272e-01]\n",
            " [2.15818584e-02]\n",
            " [1.23288759e-04]\n",
            " [7.54920363e-01]\n",
            " [9.93595243e-01]\n",
            " [9.33790803e-01]\n",
            " [6.79242611e-03]\n",
            " [7.62433052e-01]\n",
            " [9.86224771e-01]\n",
            " [7.95300722e-01]\n",
            " [8.76809716e-01]\n",
            " [9.95331526e-01]\n",
            " [8.65820050e-03]\n",
            " [9.92845535e-01]\n",
            " [9.99490738e-01]\n",
            " [2.63411462e-01]\n",
            " [9.92396653e-01]\n",
            " [9.87284005e-01]\n",
            " [3.11487317e-02]\n",
            " [9.97523129e-01]\n",
            " [6.37747435e-05]\n",
            " [4.85241413e-04]\n",
            " [1.17139429e-01]\n",
            " [3.25179100e-03]\n",
            " [3.38211298e-01]\n",
            " [9.68707919e-01]\n",
            " [7.20973253e-01]\n",
            " [1.45100653e-01]\n",
            " [9.18643594e-01]\n",
            " [8.88019800e-04]\n",
            " [8.82662296e-01]\n",
            " [9.80621338e-01]\n",
            " [2.19794512e-02]\n",
            " [9.94302034e-01]\n",
            " [9.18887377e-01]\n",
            " [9.83006597e-01]\n",
            " [1.14608854e-01]\n",
            " [8.47628474e-01]\n",
            " [9.99737024e-01]\n",
            " [9.22109127e-01]\n",
            " [9.71096516e-01]\n",
            " [2.88372099e-01]\n",
            " [9.44773018e-01]\n",
            " [2.80770957e-02]\n",
            " [9.15706635e-01]\n",
            " [7.90050387e-01]\n",
            " [9.49907005e-02]\n",
            " [8.35872293e-01]\n",
            " [3.15710902e-03]\n",
            " [6.35226071e-02]\n",
            " [5.29985428e-02]\n",
            " [9.99579430e-01]\n",
            " [9.45833802e-01]\n",
            " [9.89675701e-01]\n",
            " [4.91151750e-01]\n",
            " [9.81590271e-01]\n",
            " [9.08482015e-01]\n",
            " [9.89510298e-01]\n",
            " [7.80476987e-01]\n",
            " [9.57363963e-01]\n",
            " [9.52030182e-01]\n",
            " [7.04631984e-01]\n",
            " [9.63121653e-04]\n",
            " [1.37373805e-03]\n",
            " [4.60091233e-03]\n",
            " [7.07244873e-03]\n",
            " [2.63679326e-01]\n",
            " [8.11356902e-01]\n",
            " [9.03137326e-01]\n",
            " [4.41729862e-05]\n",
            " [9.62402940e-01]\n",
            " [8.56859207e-01]\n",
            " [3.60790282e-01]\n",
            " [3.50869358e-01]\n",
            " [3.03590298e-03]\n",
            " [6.67589784e-01]\n",
            " [9.82442021e-01]\n",
            " [1.43402815e-03]\n",
            " [9.97270465e-01]\n",
            " [8.89654160e-02]\n",
            " [2.65306234e-03]\n",
            " [9.95257974e-01]\n",
            " [9.94567215e-01]\n",
            " [9.91534352e-01]\n",
            " [9.55444574e-01]\n",
            " [9.57343400e-01]\n",
            " [9.56674695e-01]\n",
            " [9.82505083e-01]\n",
            " [9.74431396e-01]\n",
            " [9.85479474e-01]\n",
            " [6.60300255e-04]\n",
            " [9.25999284e-01]\n",
            " [1.91913247e-02]\n",
            " [1.20413303e-02]\n",
            " [6.02457464e-01]\n",
            " [9.42711830e-01]\n",
            " [5.30681014e-03]\n",
            " [9.60154712e-01]\n",
            " [9.22137737e-01]\n",
            " [4.79325682e-01]\n",
            " [9.41880941e-01]\n",
            " [6.87847435e-01]\n",
            " [9.68023658e-01]\n",
            " [9.48441088e-01]\n",
            " [9.80949044e-01]\n",
            " [8.11525524e-01]\n",
            " [9.22769308e-04]\n",
            " [1.07812554e-01]\n",
            " [9.98326421e-01]\n",
            " [5.23790121e-02]\n",
            " [8.88317585e-01]\n",
            " [1.76678041e-05]\n",
            " [4.11048949e-01]\n",
            " [9.67537999e-01]\n",
            " [4.57721949e-01]\n",
            " [9.28363204e-03]\n",
            " [8.16475153e-02]\n",
            " [9.54246998e-01]\n",
            " [9.56002831e-01]\n",
            " [9.95860100e-01]\n",
            " [9.56052065e-01]\n",
            " [9.99662101e-01]\n",
            " [1.45231187e-02]\n",
            " [9.95575190e-01]\n",
            " [8.83456469e-01]\n",
            " [3.88565660e-03]\n",
            " [9.70405936e-01]\n",
            " [1.14147663e-02]\n",
            " [9.43088651e-01]\n",
            " [8.30163717e-01]\n",
            " [9.94506896e-01]\n",
            " [1.33906901e-01]\n",
            " [6.25053048e-03]\n",
            " [9.96011615e-01]\n",
            " [1.78939104e-03]\n",
            " [9.02420461e-01]\n",
            " [6.68761909e-01]\n",
            " [8.89962912e-01]\n",
            " [9.61885452e-01]\n",
            " [9.98828351e-01]\n",
            " [9.31165397e-01]\n",
            " [8.62944663e-01]\n",
            " [9.60403085e-01]\n",
            " [4.59414721e-03]\n",
            " [4.30749863e-01]\n",
            " [3.34427357e-02]\n",
            " [9.52309012e-01]\n",
            " [9.14589047e-01]\n",
            " [8.98809671e-01]\n",
            " [9.66531157e-01]\n",
            " [9.95075226e-01]\n",
            " [4.22592819e-01]\n",
            " [8.93596590e-01]\n",
            " [9.86868978e-01]\n",
            " [9.94115591e-01]]\n"
          ]
        }
      ]
    },
    {
      "cell_type": "code",
      "source": [
        "# Round to get the actual predictions\n",
        "import numpy as np\n",
        "p = np.round(p).flatten()\n",
        "print(p)"
      ],
      "metadata": {
        "colab": {
          "base_uri": "https://localhost:8080/"
        },
        "id": "39hOLdIgKceH",
        "outputId": "66d347ee-fd11-464c-f260-d4dbbd2b051a"
      },
      "execution_count": 40,
      "outputs": [
        {
          "output_type": "stream",
          "name": "stdout",
          "text": [
            "[1. 1. 0. 0. 1. 1. 1. 0. 0. 1. 0. 0. 0. 0. 1. 1. 1. 1. 1. 1. 0. 0. 1. 1.\n",
            " 0. 1. 1. 1. 1. 1. 1. 1. 1. 1. 0. 0. 1. 1. 1. 0. 1. 1. 1. 1. 1. 0. 1. 1.\n",
            " 0. 1. 1. 0. 1. 0. 0. 0. 0. 0. 1. 1. 0. 1. 0. 1. 1. 0. 1. 1. 1. 0. 1. 1.\n",
            " 1. 1. 0. 1. 0. 1. 1. 0. 1. 0. 0. 0. 1. 1. 1. 0. 1. 1. 1. 1. 1. 1. 1. 0.\n",
            " 0. 0. 0. 0. 1. 1. 0. 1. 1. 0. 0. 0. 1. 1. 0. 1. 0. 0. 1. 1. 1. 1. 1. 1.\n",
            " 1. 1. 1. 0. 1. 0. 0. 1. 1. 0. 1. 1. 0. 1. 1. 1. 1. 1. 1. 0. 0. 1. 0. 1.\n",
            " 0. 0. 1. 0. 0. 0. 1. 1. 1. 1. 1. 0. 1. 1. 0. 1. 0. 1. 1. 1. 0. 0. 1. 0.\n",
            " 1. 1. 1. 1. 1. 1. 1. 1. 0. 0. 0. 1. 1. 1. 1. 1. 0. 1. 1. 1.]\n"
          ]
        }
      ]
    },
    {
      "cell_type": "code",
      "source": [
        "# Calculate the accuracy, compare it to evaluate() output\n",
        "print(\"Manually calculated accuracy: \", np.mean(p == y_test))\n",
        "print(\"Evaluate output: \", model.evaluate(X_test, y_test))"
      ],
      "metadata": {
        "colab": {
          "base_uri": "https://localhost:8080/"
        },
        "id": "0lqdx74MLntm",
        "outputId": "a1c43035-425f-48e1-8f02-86a6446069f8"
      },
      "execution_count": 41,
      "outputs": [
        {
          "output_type": "stream",
          "name": "stdout",
          "text": [
            "Manually calculated accuracy:  0.9680851063829787\n",
            "6/6 [==============================] - 0s 4ms/step - loss: 0.1167 - accuracy: 0.9681\n",
            "Evaluate output:  [0.11667805165052414, 0.9680851101875305]\n"
          ]
        }
      ]
    },
    {
      "cell_type": "code",
      "source": [
        ""
      ],
      "metadata": {
        "id": "Fcp_TKC7NdH6"
      },
      "execution_count": 41,
      "outputs": []
    }
  ]
}