{
  "cells": [
    {
      "cell_type": "markdown",
      "metadata": {
        "id": "view-in-github",
        "colab_type": "text"
      },
      "source": [
        "<a href=\"https://colab.research.google.com/github/meliy-meyada/Tensorflow-Deep-Learning-and-Artificial-Intelligence/blob/main/TF2_0_CIFAR_Improved.ipynb\" target=\"_parent\"><img src=\"https://colab.research.google.com/assets/colab-badge.svg\" alt=\"Open In Colab\"/></a>"
      ]
    },
    {
      "cell_type": "code",
      "execution_count": 1,
      "metadata": {
        "colab": {
          "base_uri": "https://localhost:8080/"
        },
        "id": "_Nqt3Otnt13u",
        "outputId": "16298b1d-562e-4f8c-cc1b-8cb3ab04c3d8"
      },
      "outputs": [
        {
          "output_type": "stream",
          "name": "stdout",
          "text": [
            "2.9.1\n"
          ]
        }
      ],
      "source": [
        "# Install Tensorflow\n",
        "!pip install -q tensorflow\n",
        "import tensorflow as tf\n",
        "print(tf.__version__)"
      ]
    },
    {
      "cell_type": "code",
      "execution_count": 2,
      "metadata": {
        "id": "gkT7uCVquJoA"
      },
      "outputs": [],
      "source": [
        "# Additional imports\n",
        "\n",
        "import numpy as np\n",
        "import matplotlib.pyplot as plt\n",
        "from tensorflow.keras.layers import Input, Conv2D, Dense, Flatten, Dropout, GlobalAveragePooling2D, MaxPooling2D, BatchNormalization\n",
        "from tensorflow.keras.models import Model"
      ]
    },
    {
      "cell_type": "code",
      "execution_count": 3,
      "metadata": {
        "colab": {
          "base_uri": "https://localhost:8080/"
        },
        "id": "R50SKeg2u8w3",
        "outputId": "66338fa3-a03d-4cd9-d8c9-bbe63cb1fe52"
      },
      "outputs": [
        {
          "output_type": "stream",
          "name": "stdout",
          "text": [
            "x_train.shape:  (50000, 32, 32, 3)\n",
            "y_train.shape:  (50000,)\n"
          ]
        }
      ],
      "source": [
        "# Load in the data\n",
        "cifar10 = tf.keras.datasets.cifar10\n",
        "\n",
        "(x_train, y_train), (x_test, y_test) = cifar10.load_data()\n",
        "x_train, x_test = x_train / 255.0, x_test / 255.0\n",
        "y_train, y_test = y_train.flatten(), y_test.flatten()\n",
        "print(\"x_train.shape: \", x_train.shape)\n",
        "print(\"y_train.shape: \", y_train.shape)"
      ]
    },
    {
      "cell_type": "code",
      "execution_count": 4,
      "metadata": {
        "colab": {
          "base_uri": "https://localhost:8080/"
        },
        "id": "qY_aOmZKvfa-",
        "outputId": "e9c1f1b6-9118-48d6-970a-a0702a881638"
      },
      "outputs": [
        {
          "output_type": "stream",
          "name": "stdout",
          "text": [
            "Number of classes:  10\n"
          ]
        }
      ],
      "source": [
        "# Number of classes\n",
        "K = len(set(y_train))\n",
        "print(\"Number of classes: \", K)"
      ]
    },
    {
      "cell_type": "code",
      "execution_count": 5,
      "metadata": {
        "id": "nJayuTinvoTD"
      },
      "outputs": [],
      "source": [
        "# Build th model using the functional API\n",
        "\n",
        "i = Input(shape=x_train[0].shape)\n",
        "# x = Conv2D(32, (3, 3), strides=2, activation='relu')(i)\n",
        "# x = Conv2D(64, (3, 3), strides=2, activation='relu')(x)\n",
        "# x = Conv2D(128, (3, 3), strides=2, activation='relu')(x)\n",
        "\n",
        "x = Conv2D(32, (3, 3), activation='relu', padding='same')(i)\n",
        "x = BatchNormalization()(x)\n",
        "x = Conv2D(32, (3, 3), activation='relu', padding='same')(x)\n",
        "x = BatchNormalization()(x)\n",
        "x = MaxPooling2D((2, 2))(x)\n",
        "# x = Dropout(0.2)(x)\n",
        "x = Conv2D(64, (3, 3), activation='relu', padding='same')(x)\n",
        "x = BatchNormalization()(x)\n",
        "x = Conv2D(64, (3, 3), activation='relu', padding='same')(x)\n",
        "x = BatchNormalization()(x)\n",
        "x = MaxPooling2D((2, 2))(x)\n",
        "# x = Dropout(0.2)(x)\n",
        "x = Conv2D(128, (3, 3), activation='relu', padding='same')(x)\n",
        "x = BatchNormalization()(x)\n",
        "x = Conv2D(128, (3, 3), activation='relu', padding='same')(x)\n",
        "x = BatchNormalization()(x)\n",
        "x = MaxPooling2D((2, 2))(x)\n",
        "# x = Dropout(0.2)(x)\n",
        "\n",
        "# x = GlobalMaxPooling2D()(x)\n",
        "x = Flatten()(x)\n",
        "x = Dropout(0.2)(x)\n",
        "x = Dense(1024, activation='relu')(x)\n",
        "x = Dropout(0.2)(x)\n",
        "x = Dense(K, activation='softmax')(x)\n",
        "\n",
        "model = Model(i, x)"
      ]
    },
    {
      "cell_type": "code",
      "execution_count": 6,
      "metadata": {
        "id": "zuvv-eoZza2U"
      },
      "outputs": [],
      "source": [
        "# Compile \n",
        "model.compile(optimizer='adam',\n",
        "              loss='sparse_categorical_crossentropy',\n",
        "              metrics=['accuracy'])"
      ]
    },
    {
      "cell_type": "code",
      "source": [
        "# Fit\n",
        "r = model.fit(x_train, y_train, validation_data=(x_test, y_test), epochs=50)"
      ],
      "metadata": {
        "colab": {
          "base_uri": "https://localhost:8080/"
        },
        "id": "oOg2ygiOTecp",
        "outputId": "7c842135-882a-4a3b-a865-b334b9001f38"
      },
      "execution_count": 7,
      "outputs": [
        {
          "output_type": "stream",
          "name": "stdout",
          "text": [
            "Epoch 1/50\n",
            "1563/1563 [==============================] - 15s 7ms/step - loss: 1.2933 - accuracy: 0.5512 - val_loss: 0.9619 - val_accuracy: 0.6592\n",
            "Epoch 2/50\n",
            "1563/1563 [==============================] - 10s 6ms/step - loss: 0.8318 - accuracy: 0.7116 - val_loss: 0.7678 - val_accuracy: 0.7369\n",
            "Epoch 3/50\n",
            "1563/1563 [==============================] - 10s 6ms/step - loss: 0.6798 - accuracy: 0.7661 - val_loss: 0.7834 - val_accuracy: 0.7344\n",
            "Epoch 4/50\n",
            "1563/1563 [==============================] - 10s 6ms/step - loss: 0.5753 - accuracy: 0.8043 - val_loss: 0.7719 - val_accuracy: 0.7539\n",
            "Epoch 5/50\n",
            "1563/1563 [==============================] - 10s 6ms/step - loss: 0.4841 - accuracy: 0.8336 - val_loss: 0.7126 - val_accuracy: 0.7655\n",
            "Epoch 6/50\n",
            "1563/1563 [==============================] - 10s 6ms/step - loss: 0.4102 - accuracy: 0.8569 - val_loss: 0.6619 - val_accuracy: 0.7959\n",
            "Epoch 7/50\n",
            "1563/1563 [==============================] - 10s 6ms/step - loss: 0.3531 - accuracy: 0.8776 - val_loss: 0.6397 - val_accuracy: 0.8005\n",
            "Epoch 8/50\n",
            "1563/1563 [==============================] - 10s 6ms/step - loss: 0.3035 - accuracy: 0.8962 - val_loss: 0.5976 - val_accuracy: 0.8149\n",
            "Epoch 9/50\n",
            "1563/1563 [==============================] - 10s 6ms/step - loss: 0.2557 - accuracy: 0.9123 - val_loss: 0.6507 - val_accuracy: 0.8156\n",
            "Epoch 10/50\n",
            "1563/1563 [==============================] - 10s 6ms/step - loss: 0.2191 - accuracy: 0.9242 - val_loss: 0.7309 - val_accuracy: 0.7939\n",
            "Epoch 11/50\n",
            "1563/1563 [==============================] - 10s 6ms/step - loss: 0.1969 - accuracy: 0.9327 - val_loss: 0.6785 - val_accuracy: 0.8260\n",
            "Epoch 12/50\n",
            "1563/1563 [==============================] - 10s 6ms/step - loss: 0.1705 - accuracy: 0.9412 - val_loss: 0.6481 - val_accuracy: 0.8231\n",
            "Epoch 13/50\n",
            "1563/1563 [==============================] - 10s 6ms/step - loss: 0.1558 - accuracy: 0.9473 - val_loss: 0.8596 - val_accuracy: 0.7864\n",
            "Epoch 14/50\n",
            "1563/1563 [==============================] - 10s 6ms/step - loss: 0.1416 - accuracy: 0.9527 - val_loss: 0.7968 - val_accuracy: 0.8120\n",
            "Epoch 15/50\n",
            "1563/1563 [==============================] - 10s 6ms/step - loss: 0.1380 - accuracy: 0.9541 - val_loss: 0.7233 - val_accuracy: 0.8224\n",
            "Epoch 16/50\n",
            "1563/1563 [==============================] - 10s 6ms/step - loss: 0.1209 - accuracy: 0.9603 - val_loss: 0.7223 - val_accuracy: 0.8354\n",
            "Epoch 17/50\n",
            "1563/1563 [==============================] - 10s 6ms/step - loss: 0.1207 - accuracy: 0.9601 - val_loss: 0.7784 - val_accuracy: 0.8158\n",
            "Epoch 18/50\n",
            "1563/1563 [==============================] - 10s 6ms/step - loss: 0.1074 - accuracy: 0.9639 - val_loss: 0.8605 - val_accuracy: 0.8163\n",
            "Epoch 19/50\n",
            "1563/1563 [==============================] - 10s 6ms/step - loss: 0.0994 - accuracy: 0.9664 - val_loss: 0.8476 - val_accuracy: 0.8172\n",
            "Epoch 20/50\n",
            "1563/1563 [==============================] - 10s 6ms/step - loss: 0.0966 - accuracy: 0.9682 - val_loss: 0.7502 - val_accuracy: 0.8321\n",
            "Epoch 21/50\n",
            "1563/1563 [==============================] - 10s 6ms/step - loss: 0.0890 - accuracy: 0.9712 - val_loss: 0.7873 - val_accuracy: 0.8337\n",
            "Epoch 22/50\n",
            "1563/1563 [==============================] - 10s 6ms/step - loss: 0.0912 - accuracy: 0.9704 - val_loss: 0.7988 - val_accuracy: 0.8325\n",
            "Epoch 23/50\n",
            "1563/1563 [==============================] - 10s 6ms/step - loss: 0.0790 - accuracy: 0.9735 - val_loss: 0.8088 - val_accuracy: 0.8342\n",
            "Epoch 24/50\n",
            "1563/1563 [==============================] - 10s 6ms/step - loss: 0.0819 - accuracy: 0.9729 - val_loss: 0.6937 - val_accuracy: 0.8338\n",
            "Epoch 25/50\n",
            "1563/1563 [==============================] - 10s 6ms/step - loss: 0.0733 - accuracy: 0.9769 - val_loss: 0.8386 - val_accuracy: 0.8308\n",
            "Epoch 26/50\n",
            "1563/1563 [==============================] - 10s 6ms/step - loss: 0.0744 - accuracy: 0.9751 - val_loss: 0.7690 - val_accuracy: 0.8316\n",
            "Epoch 27/50\n",
            "1563/1563 [==============================] - 10s 6ms/step - loss: 0.0680 - accuracy: 0.9780 - val_loss: 0.8303 - val_accuracy: 0.8364\n",
            "Epoch 28/50\n",
            "1563/1563 [==============================] - 10s 6ms/step - loss: 0.0698 - accuracy: 0.9772 - val_loss: 0.7699 - val_accuracy: 0.8331\n",
            "Epoch 29/50\n",
            "1563/1563 [==============================] - 10s 6ms/step - loss: 0.0671 - accuracy: 0.9780 - val_loss: 0.8498 - val_accuracy: 0.8377\n",
            "Epoch 30/50\n",
            "1563/1563 [==============================] - 10s 6ms/step - loss: 0.0603 - accuracy: 0.9802 - val_loss: 0.8175 - val_accuracy: 0.8334\n",
            "Epoch 31/50\n",
            "1563/1563 [==============================] - 10s 6ms/step - loss: 0.0629 - accuracy: 0.9795 - val_loss: 0.7862 - val_accuracy: 0.8359\n",
            "Epoch 32/50\n",
            "1563/1563 [==============================] - 10s 6ms/step - loss: 0.0568 - accuracy: 0.9818 - val_loss: 0.7672 - val_accuracy: 0.8287\n",
            "Epoch 33/50\n",
            "1563/1563 [==============================] - 10s 6ms/step - loss: 0.0538 - accuracy: 0.9831 - val_loss: 0.8559 - val_accuracy: 0.8317\n",
            "Epoch 34/50\n",
            "1563/1563 [==============================] - 10s 6ms/step - loss: 0.0582 - accuracy: 0.9807 - val_loss: 0.9159 - val_accuracy: 0.8387\n",
            "Epoch 35/50\n",
            "1563/1563 [==============================] - 10s 6ms/step - loss: 0.0554 - accuracy: 0.9819 - val_loss: 0.8675 - val_accuracy: 0.8381\n",
            "Epoch 36/50\n",
            "1563/1563 [==============================] - 10s 6ms/step - loss: 0.0551 - accuracy: 0.9821 - val_loss: 0.8643 - val_accuracy: 0.8299\n",
            "Epoch 37/50\n",
            "1563/1563 [==============================] - 10s 6ms/step - loss: 0.0532 - accuracy: 0.9822 - val_loss: 0.8536 - val_accuracy: 0.8286\n",
            "Epoch 38/50\n",
            "1563/1563 [==============================] - 10s 6ms/step - loss: 0.0521 - accuracy: 0.9822 - val_loss: 0.7876 - val_accuracy: 0.8409\n",
            "Epoch 39/50\n",
            "1563/1563 [==============================] - 10s 6ms/step - loss: 0.0505 - accuracy: 0.9843 - val_loss: 1.0037 - val_accuracy: 0.8348\n",
            "Epoch 40/50\n",
            "1563/1563 [==============================] - 10s 6ms/step - loss: 0.0480 - accuracy: 0.9847 - val_loss: 0.8523 - val_accuracy: 0.8416\n",
            "Epoch 41/50\n",
            "1563/1563 [==============================] - 10s 6ms/step - loss: 0.0462 - accuracy: 0.9852 - val_loss: 0.8598 - val_accuracy: 0.8391\n",
            "Epoch 42/50\n",
            "1563/1563 [==============================] - 10s 6ms/step - loss: 0.0416 - accuracy: 0.9862 - val_loss: 0.8384 - val_accuracy: 0.8433\n",
            "Epoch 43/50\n",
            "1563/1563 [==============================] - 10s 6ms/step - loss: 0.0480 - accuracy: 0.9847 - val_loss: 0.8901 - val_accuracy: 0.8415\n",
            "Epoch 44/50\n",
            "1563/1563 [==============================] - 10s 6ms/step - loss: 0.0454 - accuracy: 0.9855 - val_loss: 0.8916 - val_accuracy: 0.8361\n",
            "Epoch 45/50\n",
            "1563/1563 [==============================] - 10s 6ms/step - loss: 0.0424 - accuracy: 0.9857 - val_loss: 0.9657 - val_accuracy: 0.8390\n",
            "Epoch 46/50\n",
            "1563/1563 [==============================] - 10s 6ms/step - loss: 0.0445 - accuracy: 0.9859 - val_loss: 0.8972 - val_accuracy: 0.8335\n",
            "Epoch 47/50\n",
            "1563/1563 [==============================] - 10s 6ms/step - loss: 0.0424 - accuracy: 0.9863 - val_loss: 0.9213 - val_accuracy: 0.8366\n",
            "Epoch 48/50\n",
            "1563/1563 [==============================] - 10s 6ms/step - loss: 0.0473 - accuracy: 0.9853 - val_loss: 0.8836 - val_accuracy: 0.8431\n",
            "Epoch 49/50\n",
            "1563/1563 [==============================] - 10s 6ms/step - loss: 0.0387 - accuracy: 0.9876 - val_loss: 0.8418 - val_accuracy: 0.8385\n",
            "Epoch 50/50\n",
            "1563/1563 [==============================] - 10s 6ms/step - loss: 0.0416 - accuracy: 0.9861 - val_loss: 0.9340 - val_accuracy: 0.8436\n"
          ]
        }
      ]
    },
    {
      "cell_type": "code",
      "execution_count": 9,
      "metadata": {
        "id": "NocWxylH4Wqi",
        "colab": {
          "base_uri": "https://localhost:8080/"
        },
        "outputId": "83bc2370-de1a-4e40-ef99-f23362568a73"
      },
      "outputs": [
        {
          "output_type": "stream",
          "name": "stdout",
          "text": [
            "Epoch 1/50\n"
          ]
        },
        {
          "output_type": "stream",
          "name": "stderr",
          "text": [
            "/usr/local/lib/python3.7/dist-packages/ipykernel_launcher.py:7: UserWarning: `Model.fit_generator` is deprecated and will be removed in a future version. Please use `Model.fit`, which supports generators.\n",
            "  import sys\n"
          ]
        },
        {
          "output_type": "stream",
          "name": "stdout",
          "text": [
            "1562/1562 [==============================] - 26s 17ms/step - loss: 0.5507 - accuracy: 0.8259 - val_loss: 0.5172 - val_accuracy: 0.8371\n",
            "Epoch 2/50\n",
            "1562/1562 [==============================] - 26s 16ms/step - loss: 0.4402 - accuracy: 0.8551 - val_loss: 0.4866 - val_accuracy: 0.8467\n",
            "Epoch 3/50\n",
            "1562/1562 [==============================] - 26s 16ms/step - loss: 0.4109 - accuracy: 0.8642 - val_loss: 0.4713 - val_accuracy: 0.8485\n",
            "Epoch 4/50\n",
            "1562/1562 [==============================] - 26s 17ms/step - loss: 0.3919 - accuracy: 0.8696 - val_loss: 0.5000 - val_accuracy: 0.8453\n",
            "Epoch 5/50\n",
            "1562/1562 [==============================] - 26s 16ms/step - loss: 0.3791 - accuracy: 0.8730 - val_loss: 0.4296 - val_accuracy: 0.8582\n",
            "Epoch 6/50\n",
            "1562/1562 [==============================] - 26s 16ms/step - loss: 0.3559 - accuracy: 0.8821 - val_loss: 0.4247 - val_accuracy: 0.8591\n",
            "Epoch 7/50\n",
            "1562/1562 [==============================] - 26s 17ms/step - loss: 0.3433 - accuracy: 0.8856 - val_loss: 0.4406 - val_accuracy: 0.8539\n",
            "Epoch 8/50\n",
            "1562/1562 [==============================] - 26s 16ms/step - loss: 0.3276 - accuracy: 0.8901 - val_loss: 0.4293 - val_accuracy: 0.8609\n",
            "Epoch 9/50\n",
            "1562/1562 [==============================] - 26s 16ms/step - loss: 0.3177 - accuracy: 0.8927 - val_loss: 0.4622 - val_accuracy: 0.8616\n",
            "Epoch 10/50\n",
            "1562/1562 [==============================] - 26s 16ms/step - loss: 0.3126 - accuracy: 0.8939 - val_loss: 0.4579 - val_accuracy: 0.8584\n",
            "Epoch 11/50\n",
            "1562/1562 [==============================] - 26s 17ms/step - loss: 0.2992 - accuracy: 0.8993 - val_loss: 0.4576 - val_accuracy: 0.8547\n",
            "Epoch 12/50\n",
            "1562/1562 [==============================] - 26s 16ms/step - loss: 0.2943 - accuracy: 0.9021 - val_loss: 0.4247 - val_accuracy: 0.8646\n",
            "Epoch 13/50\n",
            "1562/1562 [==============================] - 25s 16ms/step - loss: 0.2873 - accuracy: 0.9022 - val_loss: 0.4757 - val_accuracy: 0.8583\n",
            "Epoch 14/50\n",
            "1562/1562 [==============================] - 26s 17ms/step - loss: 0.2792 - accuracy: 0.9057 - val_loss: 0.4253 - val_accuracy: 0.8746\n",
            "Epoch 15/50\n",
            "1562/1562 [==============================] - 26s 16ms/step - loss: 0.2748 - accuracy: 0.9057 - val_loss: 0.4391 - val_accuracy: 0.8665\n",
            "Epoch 16/50\n",
            "1562/1562 [==============================] - 26s 16ms/step - loss: 0.2683 - accuracy: 0.9083 - val_loss: 0.4338 - val_accuracy: 0.8648\n",
            "Epoch 17/50\n",
            "1562/1562 [==============================] - 26s 16ms/step - loss: 0.2636 - accuracy: 0.9106 - val_loss: 0.4089 - val_accuracy: 0.8681\n",
            "Epoch 18/50\n",
            "1562/1562 [==============================] - 26s 17ms/step - loss: 0.2539 - accuracy: 0.9142 - val_loss: 0.4135 - val_accuracy: 0.8640\n",
            "Epoch 19/50\n",
            "1562/1562 [==============================] - 26s 16ms/step - loss: 0.2551 - accuracy: 0.9135 - val_loss: 0.4131 - val_accuracy: 0.8692\n",
            "Epoch 20/50\n",
            "1562/1562 [==============================] - 26s 16ms/step - loss: 0.2520 - accuracy: 0.9154 - val_loss: 0.4137 - val_accuracy: 0.8738\n",
            "Epoch 21/50\n",
            "1562/1562 [==============================] - 26s 17ms/step - loss: 0.2418 - accuracy: 0.9167 - val_loss: 0.4450 - val_accuracy: 0.8618\n",
            "Epoch 22/50\n",
            "1562/1562 [==============================] - 25s 16ms/step - loss: 0.2361 - accuracy: 0.9201 - val_loss: 0.4081 - val_accuracy: 0.8735\n",
            "Epoch 23/50\n",
            "1562/1562 [==============================] - 25s 16ms/step - loss: 0.2336 - accuracy: 0.9211 - val_loss: 0.4319 - val_accuracy: 0.8784\n",
            "Epoch 24/50\n",
            "1562/1562 [==============================] - 26s 16ms/step - loss: 0.2313 - accuracy: 0.9227 - val_loss: 0.4325 - val_accuracy: 0.8721\n",
            "Epoch 25/50\n",
            "1562/1562 [==============================] - 26s 16ms/step - loss: 0.2249 - accuracy: 0.9242 - val_loss: 0.4824 - val_accuracy: 0.8614\n",
            "Epoch 26/50\n",
            "1562/1562 [==============================] - 25s 16ms/step - loss: 0.2187 - accuracy: 0.9259 - val_loss: 0.4127 - val_accuracy: 0.8756\n",
            "Epoch 27/50\n",
            "1562/1562 [==============================] - 25s 16ms/step - loss: 0.2201 - accuracy: 0.9261 - val_loss: 0.4340 - val_accuracy: 0.8747\n",
            "Epoch 28/50\n",
            "1562/1562 [==============================] - 26s 17ms/step - loss: 0.2151 - accuracy: 0.9263 - val_loss: 0.4125 - val_accuracy: 0.8808\n",
            "Epoch 29/50\n",
            "1562/1562 [==============================] - 26s 16ms/step - loss: 0.2165 - accuracy: 0.9263 - val_loss: 0.4378 - val_accuracy: 0.8710\n",
            "Epoch 30/50\n",
            "1562/1562 [==============================] - 25s 16ms/step - loss: 0.2020 - accuracy: 0.9312 - val_loss: 0.4156 - val_accuracy: 0.8784\n",
            "Epoch 31/50\n",
            "1562/1562 [==============================] - 26s 16ms/step - loss: 0.2092 - accuracy: 0.9278 - val_loss: 0.4252 - val_accuracy: 0.8836\n",
            "Epoch 32/50\n",
            "1562/1562 [==============================] - 25s 16ms/step - loss: 0.2020 - accuracy: 0.9326 - val_loss: 0.4154 - val_accuracy: 0.8773\n",
            "Epoch 33/50\n",
            "1562/1562 [==============================] - 25s 16ms/step - loss: 0.2029 - accuracy: 0.9314 - val_loss: 0.3906 - val_accuracy: 0.8764\n",
            "Epoch 34/50\n",
            "1562/1562 [==============================] - 25s 16ms/step - loss: 0.1967 - accuracy: 0.9335 - val_loss: 0.4085 - val_accuracy: 0.8784\n",
            "Epoch 35/50\n",
            "1562/1562 [==============================] - 26s 16ms/step - loss: 0.1951 - accuracy: 0.9335 - val_loss: 0.4103 - val_accuracy: 0.8808\n",
            "Epoch 36/50\n",
            "1562/1562 [==============================] - 25s 16ms/step - loss: 0.1962 - accuracy: 0.9328 - val_loss: 0.4678 - val_accuracy: 0.8734\n",
            "Epoch 37/50\n",
            "1562/1562 [==============================] - 25s 16ms/step - loss: 0.1896 - accuracy: 0.9350 - val_loss: 0.4184 - val_accuracy: 0.8814\n",
            "Epoch 38/50\n",
            "1562/1562 [==============================] - 26s 16ms/step - loss: 0.1902 - accuracy: 0.9357 - val_loss: 0.3974 - val_accuracy: 0.8817\n",
            "Epoch 39/50\n",
            "1562/1562 [==============================] - 25s 16ms/step - loss: 0.1855 - accuracy: 0.9369 - val_loss: 0.4203 - val_accuracy: 0.8777\n",
            "Epoch 40/50\n",
            "1562/1562 [==============================] - 26s 16ms/step - loss: 0.1792 - accuracy: 0.9383 - val_loss: 0.4865 - val_accuracy: 0.8622\n",
            "Epoch 41/50\n",
            "1562/1562 [==============================] - 26s 16ms/step - loss: 0.1835 - accuracy: 0.9367 - val_loss: 0.3918 - val_accuracy: 0.8836\n",
            "Epoch 42/50\n",
            "1562/1562 [==============================] - 26s 16ms/step - loss: 0.1781 - accuracy: 0.9392 - val_loss: 0.4387 - val_accuracy: 0.8862\n",
            "Epoch 43/50\n",
            "1562/1562 [==============================] - 26s 16ms/step - loss: 0.1784 - accuracy: 0.9407 - val_loss: 0.4171 - val_accuracy: 0.8855\n",
            "Epoch 44/50\n",
            "1562/1562 [==============================] - 26s 16ms/step - loss: 0.1760 - accuracy: 0.9410 - val_loss: 0.4570 - val_accuracy: 0.8831\n",
            "Epoch 45/50\n",
            "1562/1562 [==============================] - 26s 17ms/step - loss: 0.1744 - accuracy: 0.9402 - val_loss: 0.3969 - val_accuracy: 0.8850\n",
            "Epoch 46/50\n",
            "1562/1562 [==============================] - 26s 16ms/step - loss: 0.1735 - accuracy: 0.9429 - val_loss: 0.3963 - val_accuracy: 0.8835\n",
            "Epoch 47/50\n",
            "1562/1562 [==============================] - 25s 16ms/step - loss: 0.1732 - accuracy: 0.9416 - val_loss: 0.4756 - val_accuracy: 0.8710\n",
            "Epoch 48/50\n",
            "1562/1562 [==============================] - 25s 16ms/step - loss: 0.1675 - accuracy: 0.9429 - val_loss: 0.4260 - val_accuracy: 0.8785\n",
            "Epoch 49/50\n",
            "1562/1562 [==============================] - 26s 16ms/step - loss: 0.1641 - accuracy: 0.9445 - val_loss: 0.4198 - val_accuracy: 0.8830\n",
            "Epoch 50/50\n",
            "1562/1562 [==============================] - 26s 16ms/step - loss: 0.1670 - accuracy: 0.9437 - val_loss: 0.4526 - val_accuracy: 0.8769\n"
          ]
        }
      ],
      "source": [
        "# Fit with data augmentation\n",
        "\n",
        "batch_size = 32\n",
        "data_generator = tf.keras.preprocessing.image.ImageDataGenerator(width_shift_range=0.1, height_shift_range=0.1, horizontal_flip=True)\n",
        "train_generator = data_generator.flow(x_train, y_train, batch_size)\n",
        "steps_per_epoch = x_train.shape[0] // batch_size\n",
        "r = model.fit_generator(train_generator, validation_data=(x_test, y_test), steps_per_epoch=steps_per_epoch, epochs=50)"
      ]
    },
    {
      "cell_type": "code",
      "source": [
        "# Plot loss per iteration\n",
        "import matplotlib.pyplot as plt\n",
        "plt.plot(r.history['loss'], label='loss')\n",
        "plt.plot(r.history['val_loss'], label='val_loss')\n",
        "plt.legend()"
      ],
      "metadata": {
        "colab": {
          "base_uri": "https://localhost:8080/",
          "height": 283
        },
        "id": "TiKO5pc7pIk3",
        "outputId": "0e575ab6-52f1-4d40-b7a3-f057fdd8c72f"
      },
      "execution_count": 10,
      "outputs": [
        {
          "output_type": "execute_result",
          "data": {
            "text/plain": [
              "<matplotlib.legend.Legend at 0x7f4b992f92d0>"
            ]
          },
          "metadata": {},
          "execution_count": 10
        },
        {
          "output_type": "display_data",
          "data": {
            "text/plain": [
              "<Figure size 432x288 with 1 Axes>"
            ],
            "image/png": "[encoded data removed]"
          },
          "metadata": {
            "needs_background": "light"
          }
        }
      ]
    },
    {
      "cell_type": "code",
      "source": [
        "# Plot accuracy per iteration\n",
        "plt.plot(r.history['accuracy'], label='acc')\n",
        "plt.plot(r.history['val_accuracy'], label='val_acc')\n",
        "plt.legend()"
      ],
      "metadata": {
        "colab": {
          "base_uri": "https://localhost:8080/",
          "height": 283
        },
        "id": "YKxa_qBXtgn2",
        "outputId": "f2821abe-8fb3-459f-8a48-e37d1da03205"
      },
      "execution_count": 11,
      "outputs": [
        {
          "output_type": "execute_result",
          "data": {
            "text/plain": [
              "<matplotlib.legend.Legend at 0x7f4b98d92950>"
            ]
          },
          "metadata": {},
          "execution_count": 11
        },
        {
          "output_type": "display_data",
          "data": {
            "text/plain": [
              "<Figure size 432x288 with 1 Axes>"
            ],
            "image/png": "[encoded data removed]"
          },
          "metadata": {
            "needs_background": "light"
          }
        }
      ]
    },
    {
      "cell_type": "code",
      "source": [
        "# Plot confusion matrix\n",
        "from sklearn.metrics import confusion_matrix\n",
        "import itertools\n",
        "\n",
        "def plot_confusion_matrix(cm, classes,\n",
        "                          normalize=False,\n",
        "                          title=\"Confusion matrix\",\n",
        "                          cmap=plt.cm.Blues):\n",
        "  \"\"\"\n",
        "  This function prints and plots the confusion matrix.\n",
        "  Normalization can be applied by setting normalize=True \n",
        "  \"\"\"\n",
        "  if normalize:\n",
        "    cm = cm.astype('float') / cm.sum(axis=1)[:, np.newaxis]\n",
        "    print(\"Normalized confusion matrix\")\n",
        "  else:\n",
        "    print(\"Confusion matrix, without normalization\")\n",
        "  \n",
        "  print(cm)\n",
        "\n",
        "  plt.imshow(cm, interpolation='nearest', cmap=cmap)\n",
        "  plt.title(title)\n",
        "  plt.colorbar()\n",
        "  tick_marks = np.arange(len(classes))\n",
        "  plt.xticks(tick_marks, classes, rotation=45)\n",
        "  plt.yticks(tick_marks, classes)\n",
        "  \n",
        "  fmt = '.2f' if normalize else 'd'\n",
        "  thresh = cm.max() / 2\n",
        "  for i, j in itertools.product(range(cm.shape[0]), range(cm.shape[1])):\n",
        "    plt.text(j, i, format(cm[i, j], fmt),\n",
        "             horizontalalignment=\"center\",\n",
        "             color=\"white\" if cm[i, j] > thresh else \"black\")\n",
        "  plt.tight_layout()\n",
        "  plt.ylabel('True label')\n",
        "  plt.xlabel('Predicted label')\n",
        "  plt.show()\n",
        "\n",
        "p_test = model.predict(x_test).argmax(axis=1)\n",
        "cm = confusion_matrix(y_test, p_test)\n",
        "plot_confusion_matrix(cm, list(range(10)))"
      ],
      "metadata": {
        "colab": {
          "base_uri": "https://localhost:8080/",
          "height": 530
        },
        "id": "D60HvAMsuLiR",
        "outputId": "adfd8a0f-5a14-43c0-fa38-99276a6f7220"
      },
      "execution_count": 12,
      "outputs": [
        {
          "output_type": "stream",
          "name": "stdout",
          "text": [
            "313/313 [==============================] - 1s 2ms/step\n",
            "Confusion matrix, without normalization\n",
            "[[942   8  17   5   3   0   5   2  11   7]\n",
            " [  8 967   0   2   1   0   1   0   1  20]\n",
            " [ 29   2 865  28  28  13  22   6   2   5]\n",
            " [ 18   3  50 778  35  40  37  17  10  12]\n",
            " [ 14   2  50  25 857   9  21  21   1   0]\n",
            " [ 10   5  36 142  31 729  18  26   1   2]\n",
            " [  8   3  31  27   5   2 919   3   2   0]\n",
            " [ 16   1  18  23  19  10   4 905   1   3]\n",
            " [ 74  11   7   3   1   1   1   1 886  15]\n",
            " [ 18  41   2   6   1   0   2   2   7 921]]\n"
          ]
        },
        {
          "output_type": "display_data",
          "data": {
            "text/plain": [
              "<Figure size 432x288 with 2 Axes>"
            ],
            "image/png": "[encoded data removed]"
          },
          "metadata": {
            "needs_background": "light"
          }
        }
      ]
    },
    {
      "cell_type": "code",
      "source": [
        "# Labels mapping\n",
        "labels = '''airplane\n",
        "automobile\n",
        "bird\n",
        "cat\n",
        "deer\n",
        "dog\n",
        "frong\n",
        "horse\n",
        "ship\n",
        "truck'''.split()"
      ],
      "metadata": {
        "id": "3zZbReM2ukNL"
      },
      "execution_count": 13,
      "outputs": []
    },
    {
      "cell_type": "code",
      "source": [
        "# Show some misclassified \n",
        "misclassified_idx = np.where(p_test != y_test)[0]\n",
        "i = np.random.choice(misclassified_idx)\n",
        "plt.imshow(x_test[i], cmap='gray')\n",
        "plt.title(\"True label: %s Predicted: %s \" % (labels[y_test[i]], labels[p_test[i]]));"
      ],
      "metadata": {
        "colab": {
          "base_uri": "https://localhost:8080/",
          "height": 281
        },
        "id": "bSiei8OMunuY",
        "outputId": "7643ce9f-a0bc-4997-df33-f6278444e4c5"
      },
      "execution_count": 17,
      "outputs": [
        {
          "output_type": "display_data",
          "data": {
            "text/plain": [
              "<Figure size 432x288 with 1 Axes>"
            ],
            "image/png": "[encoded data removed]"
          },
          "metadata": {
            "needs_background": "light"
          }
        }
      ]
    }
  ],
  "metadata": {
    "accelerator": "GPU",
    "colab": {
      "collapsed_sections": [],
      "name": "TF2.0 CIFAR Improved.ipynb",
      "provenance": [],
      "machine_shape": "hm",
      "authorship_tag": "ABX9TyN1SJBE2jXpkWQxRQgAmyaL",
      "include_colab_link": true
    },
    "gpuClass": "standard",
    "kernelspec": {
      "display_name": "Python 3",
      "name": "python3"
    },
    "language_info": {
      "name": "python"
    }
  },
  "nbformat": 4,
  "nbformat_minor": 0
}